{
 "cells": [
  {
   "cell_type": "code",
   "execution_count": 3,
   "metadata": {},
   "outputs": [
    {
     "name": "stdout",
     "output_type": "stream",
     "text": [
      "A number from 0 to 100 is proposed\n"
     ]
    }
   ],
   "source": [
    "import numpy as np\n",
    "\n",
    "number = np.random.randint(1,101)      # setting a number\n",
    "print (\"A number from 0 to 100 is proposed\")"
   ]
  },
  {
   "cell_type": "code",
   "execution_count": 4,
   "metadata": {},
   "outputs": [],
   "source": [
    " \n",
    "def game_core(number):\n",
    "    '''Binary search: function divides in two the area of possible answers\n",
    "    with each step changing top and bottom limits. '''\n",
    "    count = 1\n",
    "    top = 100\n",
    "    bottom = 0\n",
    "    predict = 50\n",
    "    while number != predict:\n",
    "        count += 1        \n",
    "        if predict > number:\n",
    "            top = predict\n",
    "        elif predict < number:\n",
    "            bottom = predict + 1\n",
    "        predict = (top + bottom)//2    \n",
    "    return(count)\n",
    "\n"
   ]
  },
  {
   "cell_type": "code",
   "execution_count": 5,
   "metadata": {},
   "outputs": [
    {
     "name": "stdout",
     "output_type": "stream",
     "text": [
      "You've guessed 54 in 5 attempts.\n"
     ]
    }
   ],
   "source": [
    "game_core(number)\n",
    "\n",
    "print('''You've guessed''',number, 'in', game_core(number), 'attempts.')\n"
   ]
  },
  {
   "cell_type": "code",
   "execution_count": 9,
   "metadata": {},
   "outputs": [
    {
     "name": "stdout",
     "output_type": "stream",
     "text": [
      "Your algorithm guesses the number in 5 attempts in average\n",
      "5\n"
     ]
    }
   ],
   "source": [
    "def score_game(game_core):\n",
    "    '''repeating our algorithm 1000 times to estimate the mean of attempts we need to guess'''\n",
    "    count_ls = []\n",
    "    np.random.seed(1)  \n",
    "    random_array = np.random.randint(1,101, size=(1000))\n",
    "    for number in random_array:\n",
    "        count_ls.append(game_core(number))\n",
    "    score = int(np.mean(count_ls))\n",
    "    print(f\"Your algorithm guesses the number in {score} attempts in average\")\n",
    "    return(score)\n",
    "print(score_game(game_core))"
   ]
  },
  {
   "cell_type": "code",
   "execution_count": null,
   "metadata": {},
   "outputs": [],
   "source": []
  }
 ],
 "metadata": {
  "interpreter": {
   "hash": "39a1ec8548627b06bc939a5f75c92d65951c0c1aa2bf848463d186c5025fa361"
  },
  "kernelspec": {
   "display_name": "Python 3.8.5 64-bit ('base': conda)",
   "name": "python3"
  },
  "language_info": {
   "codemirror_mode": {
    "name": "ipython",
    "version": 3
   },
   "file_extension": ".py",
   "mimetype": "text/x-python",
   "name": "python",
   "nbconvert_exporter": "python",
   "pygments_lexer": "ipython3",
   "version": "3.8.5"
  }
 },
 "nbformat": 4,
 "nbformat_minor": 4
}
