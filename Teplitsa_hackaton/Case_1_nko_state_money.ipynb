{
 "cells": [
  {
   "cell_type": "markdown",
   "metadata": {},
   "source": [
    "Есть дамп данных о всех НКО в России, содержится информация о получении государственных грантов, госконтрактов и субсидий, регионе и дате регистрации и ОКВЭД (классификатор экономической деятельности).\n",
    "\n",
    "- Проверить, есть ли зависимость вероятности получения грантов от государства / госконтрактов от региона регистрации организации\n",
    "- Проверить, есть ли зависимость вероятности получения грантов от государства / госконтрактов от возраста организации\n",
    "- Проверить, есть ли зависимость вероятности получения грантов от государства / госконтрактов от экономической деятельности\n",
    "- Любые дополнительные выводы и проверки"
   ]
  },
  {
   "cell_type": "markdown",
   "metadata": {},
   "source": [
    "1) Что значит \"вероятности получения грантов от государства\"  - Дада\n",
    "\n",
    "Предположение: 1: на основании predict proba попадение в класс \"получает грант\"\n",
    "        2: ОКОГУ - общероссийкий классификатор органов госвласти и управления может быть присвоен и ИП и ЮЛ. \n",
    "Проверим на корреляцию с получением госзаказов и грантов.\n",
    "    \n",
    "    \n",
    "2) Какие организации вообще могут претендовать на получение гранта или госконтракта: влияет ли на это слудующее:\n",
    "    ЮЛ может быть в статусе \"зарегистрирован\", но находиться под конкурсным управлением или в реогранизации. \n",
    "    Насколько на это смотрят при заключении госконтракта? Поля minjustStatus и statusDetail.\n",
    "\n",
    "3) Детализация по полям: incomeDetail  - насколько интресна разбивка по суммам: гранты и отдельно по каждому закону? \n",
    "        Нужна ли разбивка по годам? \n",
    "    \n",
    "    \n",
    "распределение ролей:\n",
    "    Оля Белоглазова  -тимлид \n",
    "    все остальные разрабы\n",
    "    \n",
    "в пятинцу miro -чекпойнт визитка команды, план работ. роли и фотки Оля Белоглазозва\n",
    "\n",
    "\n",
    "    \n",
    "    \n",
    "\n"
   ]
  },
  {
   "cell_type": "code",
   "execution_count": 1,
   "metadata": {
    "scrolled": true
   },
   "outputs": [],
   "source": [
    "import pandas as pd"
   ]
  },
  {
   "cell_type": "code",
   "execution_count": 2,
   "metadata": {
    "scrolled": false
   },
   "outputs": [
    {
     "name": "stderr",
     "output_type": "stream",
     "text": [
      "C:\\Users\\ElenaS\\anaconda3\\lib\\site-packages\\IPython\\core\\interactiveshell.py:3146: DtypeWarning: Columns (1) have mixed types.Specify dtype option on import or set low_memory=False.\n",
      "  has_raised = await self.run_ast_nodes(code_ast.body, cell_name,\n"
     ]
    },
    {
     "data": {
      "text/html": [
       "<div>\n",
       "<style scoped>\n",
       "    .dataframe tbody tr th:only-of-type {\n",
       "        vertical-align: middle;\n",
       "    }\n",
       "\n",
       "    .dataframe tbody tr th {\n",
       "        vertical-align: top;\n",
       "    }\n",
       "\n",
       "    .dataframe thead th {\n",
       "        text-align: right;\n",
       "    }\n",
       "</style>\n",
       "<table border=\"1\" class=\"dataframe\">\n",
       "  <thead>\n",
       "    <tr style=\"text-align: right;\">\n",
       "      <th></th>\n",
       "      <th>Unnamed: 0</th>\n",
       "      <th>minjustRegNum</th>\n",
       "      <th>regionName</th>\n",
       "      <th>logo</th>\n",
       "      <th>statusDetail</th>\n",
       "      <th>fullName</th>\n",
       "      <th>dateReg</th>\n",
       "      <th>minjustForm</th>\n",
       "      <th>charter</th>\n",
       "      <th>minjustStatus</th>\n",
       "      <th>...</th>\n",
       "      <th>hasRegionalSupport</th>\n",
       "      <th>addOkved</th>\n",
       "      <th>okato</th>\n",
       "      <th>okfs</th>\n",
       "      <th>website_punycode</th>\n",
       "      <th>shortName</th>\n",
       "      <th>dateOgrn</th>\n",
       "      <th>predecessors</th>\n",
       "      <th>socialMedia</th>\n",
       "      <th>reports</th>\n",
       "    </tr>\n",
       "  </thead>\n",
       "  <tbody>\n",
       "    <tr>\n",
       "      <th>0</th>\n",
       "      <td>0</td>\n",
       "      <td>7.81406e+09</td>\n",
       "      <td>Санкт-Петербург</td>\n",
       "      <td>NaN</td>\n",
       "      <td>{'name': None, 'code': None, 'shortName': 'Дей...</td>\n",
       "      <td>МЕЖРЕГИОНАЛЬНАЯ АНТРОПОСОФСКАЯ МЕДИЦИНСКАЯ АСС...</td>\n",
       "      <td>NaN</td>\n",
       "      <td>Объединения (союз, ассоциация) юридических лиц</td>\n",
       "      <td>NaN</td>\n",
       "      <td>Зарегистрирована</td>\n",
       "      <td>...</td>\n",
       "      <td>False</td>\n",
       "      <td>[]</td>\n",
       "      <td>{'name': None, 'code': None}</td>\n",
       "      <td>{'name': None, 'code': None}</td>\n",
       "      <td>NaN</td>\n",
       "      <td>\"АМА\"</td>\n",
       "      <td>{'$date': '2020-10-30T00:00:00.000Z'}</td>\n",
       "      <td>[]</td>\n",
       "      <td>{'youtube': None, 'vk': None, 'facebook': None...</td>\n",
       "      <td>[]</td>\n",
       "    </tr>\n",
       "    <tr>\n",
       "      <th>1</th>\n",
       "      <td>1</td>\n",
       "      <td>7.71402e+09</td>\n",
       "      <td>Москва</td>\n",
       "      <td>NaN</td>\n",
       "      <td>{'name': None, 'code': None, 'shortName': 'Дей...</td>\n",
       "      <td>ФОНД \"СОДЕЙСТВИЕ ДУХОВНОМУ РАЗВИТИЮ ЧЕЛОВЕКА \"...</td>\n",
       "      <td>NaN</td>\n",
       "      <td>Некоммерческий фонд</td>\n",
       "      <td>NaN</td>\n",
       "      <td>Зарегистрирована</td>\n",
       "      <td>...</td>\n",
       "      <td>False</td>\n",
       "      <td>[{'name': 'Издание книг', 'code': '58.11', 've...</td>\n",
       "      <td>{'name': None, 'code': None}</td>\n",
       "      <td>{'name': None, 'code': None}</td>\n",
       "      <td>NaN</td>\n",
       "      <td>ФОНД \"УНИВЕРСАЛИСТ М\"</td>\n",
       "      <td>{'$date': '2020-09-23T00:00:00.000Z'}</td>\n",
       "      <td>[]</td>\n",
       "      <td>{'youtube': None, 'vk': None, 'facebook': None...</td>\n",
       "      <td>[{'localUrl': 'http://cdnx.h5.crftr.net/f/4,18...</td>\n",
       "    </tr>\n",
       "    <tr>\n",
       "      <th>2</th>\n",
       "      <td>2</td>\n",
       "      <td>7.81417e+09</td>\n",
       "      <td>Санкт-Петербург</td>\n",
       "      <td>NaN</td>\n",
       "      <td>{'name': None, 'code': None, 'shortName': 'Дей...</td>\n",
       "      <td>КОЛЛЕГИЯ АДВОКАТОВ \"САНКТ-ПЕТЕРБУРГСКАЯ КОЛЛЕГ...</td>\n",
       "      <td>NaN</td>\n",
       "      <td>Коллегия адвокатов</td>\n",
       "      <td>NaN</td>\n",
       "      <td>Зарегистрирована</td>\n",
       "      <td>...</td>\n",
       "      <td>False</td>\n",
       "      <td>[]</td>\n",
       "      <td>{'name': None, 'code': None}</td>\n",
       "      <td>{'name': None, 'code': None}</td>\n",
       "      <td>NaN</td>\n",
       "      <td>NaN</td>\n",
       "      <td>{'$date': '2020-02-03T00:00:00.000Z'}</td>\n",
       "      <td>[]</td>\n",
       "      <td>{'youtube': None, 'vk': None, 'facebook': None...</td>\n",
       "      <td>[]</td>\n",
       "    </tr>\n",
       "    <tr>\n",
       "      <th>3</th>\n",
       "      <td>3</td>\n",
       "      <td>NaN</td>\n",
       "      <td>Москва</td>\n",
       "      <td>NaN</td>\n",
       "      <td>{'name': None, 'code': None, 'shortName': 'Дей...</td>\n",
       "      <td>ТОВАРИЩЕСТВО СОБСТВЕННИКОВ НЕДВИЖИМОСТИ \"ЛУГИН...</td>\n",
       "      <td>NaN</td>\n",
       "      <td>NaN</td>\n",
       "      <td>NaN</td>\n",
       "      <td>NaN</td>\n",
       "      <td>...</td>\n",
       "      <td>False</td>\n",
       "      <td>[{'name': 'Аренда и управление собственным или...</td>\n",
       "      <td>{'name': None, 'code': None}</td>\n",
       "      <td>{'name': None, 'code': None}</td>\n",
       "      <td>NaN</td>\n",
       "      <td>ТСН \"ЛУГИНИНО ПАРК\"</td>\n",
       "      <td>{'$date': '2020-09-23T00:00:00.000Z'}</td>\n",
       "      <td>[]</td>\n",
       "      <td>{'youtube': None, 'vk': None, 'facebook': None...</td>\n",
       "      <td>[]</td>\n",
       "    </tr>\n",
       "    <tr>\n",
       "      <th>4</th>\n",
       "      <td>4</td>\n",
       "      <td>7.81405e+09</td>\n",
       "      <td>Санкт-Петербург</td>\n",
       "      <td>NaN</td>\n",
       "      <td>{'name': None, 'code': None, 'shortName': 'Дей...</td>\n",
       "      <td>АВТОНОМНАЯ НЕКОММЕРЧЕСКАЯ ОРГАНИЗАЦИЯ \"ЦЕНТР С...</td>\n",
       "      <td>NaN</td>\n",
       "      <td>Автономная некоммерческая организация</td>\n",
       "      <td>NaN</td>\n",
       "      <td>Зарегистрирована</td>\n",
       "      <td>...</td>\n",
       "      <td>False</td>\n",
       "      <td>[{'name': 'Исследование конъюнктуры рынка и из...</td>\n",
       "      <td>{'name': None, 'code': None}</td>\n",
       "      <td>{'name': None, 'code': None}</td>\n",
       "      <td>NaN</td>\n",
       "      <td>АНО \"ЦЕНТР \"ПЕТЕРБУРГФОРУМ\"</td>\n",
       "      <td>{'$date': '2020-07-08T00:00:00.000Z'}</td>\n",
       "      <td>[]</td>\n",
       "      <td>{'youtube': None, 'vk': None, 'facebook': None...</td>\n",
       "      <td>[]</td>\n",
       "    </tr>\n",
       "  </tbody>\n",
       "</table>\n",
       "<p>5 rows × 39 columns</p>\n",
       "</div>"
      ],
      "text/plain": [
       "   Unnamed: 0 minjustRegNum       regionName  logo  \\\n",
       "0           0   7.81406e+09  Санкт-Петербург   NaN   \n",
       "1           1   7.71402e+09           Москва   NaN   \n",
       "2           2   7.81417e+09  Санкт-Петербург   NaN   \n",
       "3           3           NaN           Москва   NaN   \n",
       "4           4   7.81405e+09  Санкт-Петербург   NaN   \n",
       "\n",
       "                                        statusDetail  \\\n",
       "0  {'name': None, 'code': None, 'shortName': 'Дей...   \n",
       "1  {'name': None, 'code': None, 'shortName': 'Дей...   \n",
       "2  {'name': None, 'code': None, 'shortName': 'Дей...   \n",
       "3  {'name': None, 'code': None, 'shortName': 'Дей...   \n",
       "4  {'name': None, 'code': None, 'shortName': 'Дей...   \n",
       "\n",
       "                                            fullName dateReg  \\\n",
       "0  МЕЖРЕГИОНАЛЬНАЯ АНТРОПОСОФСКАЯ МЕДИЦИНСКАЯ АСС...     NaN   \n",
       "1  ФОНД \"СОДЕЙСТВИЕ ДУХОВНОМУ РАЗВИТИЮ ЧЕЛОВЕКА \"...     NaN   \n",
       "2  КОЛЛЕГИЯ АДВОКАТОВ \"САНКТ-ПЕТЕРБУРГСКАЯ КОЛЛЕГ...     NaN   \n",
       "3  ТОВАРИЩЕСТВО СОБСТВЕННИКОВ НЕДВИЖИМОСТИ \"ЛУГИН...     NaN   \n",
       "4  АВТОНОМНАЯ НЕКОММЕРЧЕСКАЯ ОРГАНИЗАЦИЯ \"ЦЕНТР С...     NaN   \n",
       "\n",
       "                                      minjustForm  charter     minjustStatus  \\\n",
       "0  Объединения (союз, ассоциация) юридических лиц      NaN  Зарегистрирована   \n",
       "1                             Некоммерческий фонд      NaN  Зарегистрирована   \n",
       "2                              Коллегия адвокатов      NaN  Зарегистрирована   \n",
       "3                                             NaN      NaN               NaN   \n",
       "4           Автономная некоммерческая организация      NaN  Зарегистрирована   \n",
       "\n",
       "   ...  hasRegionalSupport                                           addOkved  \\\n",
       "0  ...               False                                                 []   \n",
       "1  ...               False  [{'name': 'Издание книг', 'code': '58.11', 've...   \n",
       "2  ...               False                                                 []   \n",
       "3  ...               False  [{'name': 'Аренда и управление собственным или...   \n",
       "4  ...               False  [{'name': 'Исследование конъюнктуры рынка и из...   \n",
       "\n",
       "                          okato                          okfs  \\\n",
       "0  {'name': None, 'code': None}  {'name': None, 'code': None}   \n",
       "1  {'name': None, 'code': None}  {'name': None, 'code': None}   \n",
       "2  {'name': None, 'code': None}  {'name': None, 'code': None}   \n",
       "3  {'name': None, 'code': None}  {'name': None, 'code': None}   \n",
       "4  {'name': None, 'code': None}  {'name': None, 'code': None}   \n",
       "\n",
       "  website_punycode                    shortName  \\\n",
       "0              NaN                        \"АМА\"   \n",
       "1              NaN        ФОНД \"УНИВЕРСАЛИСТ М\"   \n",
       "2              NaN                          NaN   \n",
       "3              NaN          ТСН \"ЛУГИНИНО ПАРК\"   \n",
       "4              NaN  АНО \"ЦЕНТР \"ПЕТЕРБУРГФОРУМ\"   \n",
       "\n",
       "                                dateOgrn predecessors  \\\n",
       "0  {'$date': '2020-10-30T00:00:00.000Z'}           []   \n",
       "1  {'$date': '2020-09-23T00:00:00.000Z'}           []   \n",
       "2  {'$date': '2020-02-03T00:00:00.000Z'}           []   \n",
       "3  {'$date': '2020-09-23T00:00:00.000Z'}           []   \n",
       "4  {'$date': '2020-07-08T00:00:00.000Z'}           []   \n",
       "\n",
       "                                         socialMedia  \\\n",
       "0  {'youtube': None, 'vk': None, 'facebook': None...   \n",
       "1  {'youtube': None, 'vk': None, 'facebook': None...   \n",
       "2  {'youtube': None, 'vk': None, 'facebook': None...   \n",
       "3  {'youtube': None, 'vk': None, 'facebook': None...   \n",
       "4  {'youtube': None, 'vk': None, 'facebook': None...   \n",
       "\n",
       "                                             reports  \n",
       "0                                                 []  \n",
       "1  [{'localUrl': 'http://cdnx.h5.crftr.net/f/4,18...  \n",
       "2                                                 []  \n",
       "3                                                 []  \n",
       "4                                                 []  \n",
       "\n",
       "[5 rows x 39 columns]"
      ]
     },
     "execution_count": 2,
     "metadata": {},
     "output_type": "execute_result"
    }
   ],
   "source": [
    "data = pd.read_csv('full_dump_1.csv', encoding='utf8', sep = ';')\n",
    "data.head()"
   ]
  },
  {
   "cell_type": "code",
   "execution_count": 3,
   "metadata": {
    "scrolled": true
   },
   "outputs": [
    {
     "name": "stdout",
     "output_type": "stream",
     "text": [
      "<class 'pandas.core.frame.DataFrame'>\n",
      "RangeIndex: 747034 entries, 0 to 747033\n",
      "Data columns (total 39 columns):\n",
      " #   Column              Non-Null Count   Dtype  \n",
      "---  ------              --------------   -----  \n",
      " 0   Unnamed: 0          747034 non-null  int64  \n",
      " 1   minjustRegNum       462067 non-null  object \n",
      " 2   regionName          747009 non-null  object \n",
      " 3   logo                0 non-null       float64\n",
      " 4   statusDetail        747034 non-null  object \n",
      " 5   fullName            747034 non-null  object \n",
      " 6   dateReg             321416 non-null  object \n",
      " 7   minjustForm         461073 non-null  object \n",
      " 8   charter             0 non-null       float64\n",
      " 9   minjustStatus       462302 non-null  object \n",
      " 10  ogrn                747034 non-null  int64  \n",
      " 11  opf                 747034 non-null  object \n",
      " 12  oktmo               747034 non-null  object \n",
      " 13  egrulStatus         747034 non-null  object \n",
      " 14  mainOkved           747034 non-null  object \n",
      " 15  regionCode          747034 non-null  int64  \n",
      " 16  incomeTotal         747034 non-null  float64\n",
      " 17  email               8158 non-null    object \n",
      " 18  incomeDetail        747034 non-null  object \n",
      " 19  administrators      747034 non-null  object \n",
      " 20  inn                 744430 non-null  float64\n",
      " 21  okpo                347437 non-null  float64\n",
      " 22  originDate          747034 non-null  object \n",
      " 23  website             5286 non-null    object \n",
      " 24  dateLiquid          399961 non-null  object \n",
      " 25  address             747034 non-null  object \n",
      " 26  successors          747034 non-null  object \n",
      " 27  okogu               747034 non-null  object \n",
      " 28  kpp                 743372 non-null  float64\n",
      " 29  hasRegionalSupport  747034 non-null  bool   \n",
      " 30  addOkved            747034 non-null  object \n",
      " 31  okato               747034 non-null  object \n",
      " 32  okfs                747034 non-null  object \n",
      " 33  website_punycode    5286 non-null    object \n",
      " 34  shortName           597793 non-null  object \n",
      " 35  dateOgrn            747034 non-null  object \n",
      " 36  predecessors        747034 non-null  object \n",
      " 37  socialMedia         747034 non-null  object \n",
      " 38  reports             747034 non-null  object \n",
      "dtypes: bool(1), float64(6), int64(3), object(29)\n",
      "memory usage: 217.3+ MB\n"
     ]
    }
   ],
   "source": [
    "data.info()"
   ]
  },
  {
   "cell_type": "code",
   "execution_count": 14,
   "metadata": {},
   "outputs": [],
   "source": [
    "data.drop('Unnamed: 0', axis=1, inplace=True)"
   ]
  },
  {
   "cell_type": "code",
   "execution_count": 42,
   "metadata": {},
   "outputs": [],
   "source": [
    "data.drop_duplicates(inplace=True)"
   ]
  },
  {
   "cell_type": "code",
   "execution_count": 27,
   "metadata": {},
   "outputs": [],
   "source": [
    "drop_cols = []"
   ]
  },
  {
   "cell_type": "code",
   "execution_count": 15,
   "metadata": {
    "scrolled": true
   },
   "outputs": [
    {
     "data": {
      "text/plain": [
       "Index(['minjustRegNum', 'regionName', 'logo', 'statusDetail', 'fullName',\n",
       "       'dateReg', 'minjustForm', 'charter', 'minjustStatus', 'ogrn', 'opf',\n",
       "       'oktmo', 'egrulStatus', 'mainOkved', 'regionCode', 'incomeTotal',\n",
       "       'email', 'incomeDetail', 'administrators', 'inn', 'okpo', 'originDate',\n",
       "       'website', 'dateLiquid', 'address', 'successors', 'okogu', 'kpp',\n",
       "       'hasRegionalSupport', 'addOkved', 'okato', 'okfs', 'website_punycode',\n",
       "       'shortName', 'dateOgrn', 'predecessors', 'socialMedia', 'reports'],\n",
       "      dtype='object')"
      ]
     },
     "execution_count": 15,
     "metadata": {},
     "output_type": "execute_result"
    }
   ],
   "source": [
    "list_cols"
   ]
  },
  {
   "cell_type": "markdown",
   "metadata": {},
   "source": [
    "#### minjustRegNum\n",
    "minjustRegNum: реестровый номер НКО в системе Минюста РФ - УНРО (тип: string, null)"
   ]
  },
  {
   "cell_type": "code",
   "execution_count": 25,
   "metadata": {},
   "outputs": [
    {
     "data": {
      "text/plain": [
       "3.912012e+09    2\n",
       "1.120102e+08    2\n",
       "1.140100e+08    2\n",
       "1.120102e+08    2\n",
       "1.140100e+08    2\n",
       "               ..\n",
       "3.914010e+09    1\n",
       "3.914010e+09    1\n",
       "3.914010e+09    1\n",
       "3.914010e+09    1\n",
       "2.312110e+09    1\n",
       "Name: minjustRegNum, Length: 461813, dtype: int64"
      ]
     },
     "execution_count": 25,
     "metadata": {},
     "output_type": "execute_result"
    }
   ],
   "source": [
    "data.minjustRegNum.value_counts()"
   ]
  },
  {
   "cell_type": "code",
   "execution_count": 28,
   "metadata": {
    "scrolled": true
   },
   "outputs": [
    {
     "data": {
      "text/plain": [
       "['minjustRegNum']"
      ]
     },
     "execution_count": 28,
     "metadata": {},
     "output_type": "execute_result"
    }
   ],
   "source": [
    "drop_cols.append('minjustRegNum')\n",
    "drop_cols"
   ]
  },
  {
   "cell_type": "markdown",
   "metadata": {},
   "source": [
    "#### regionName"
   ]
  },
  {
   "cell_type": "code",
   "execution_count": 29,
   "metadata": {
    "scrolled": true
   },
   "outputs": [
    {
     "data": {
      "text/plain": [
       "Москва                          80178\n",
       "Московская область              37927\n",
       "Санкт-Петербург                 31767\n",
       "Краснодарский край              23337\n",
       "Свердловская область            23030\n",
       "                                ...  \n",
       "Республика Ингушетия             1249\n",
       "Еврейская автономная область     1197\n",
       "Чукотский автономный округ        505\n",
       "Ненецкий автономный округ         398\n",
       "Не определено                      91\n",
       "Name: regionName, Length: 86, dtype: int64"
      ]
     },
     "execution_count": 29,
     "metadata": {},
     "output_type": "execute_result"
    }
   ],
   "source": [
    "data.regionName.value_counts()"
   ]
  },
  {
   "cell_type": "markdown",
   "metadata": {},
   "source": [
    "#### logo "
   ]
  },
  {
   "cell_type": "code",
   "execution_count": 31,
   "metadata": {},
   "outputs": [
    {
     "data": {
      "text/plain": [
       "['minjustRegNum', 'logo']"
      ]
     },
     "execution_count": 31,
     "metadata": {},
     "output_type": "execute_result"
    }
   ],
   "source": [
    "drop_cols.append('logo')\n",
    "drop_cols"
   ]
  },
  {
   "cell_type": "markdown",
   "metadata": {},
   "source": [
    "#### statusDetail\n"
   ]
  },
  {
   "cell_type": "code",
   "execution_count": 33,
   "metadata": {},
   "outputs": [
    {
     "data": {
      "text/plain": [
       "{'name': None, 'code': None, 'shortName': 'Действующая'}                                                                                                                                                                                                   729781\n",
       "{'name': 'Находится в стадии ликвидации', 'code': '101', 'shortName': 'Ликвидируется'}                                                                                                                                                                       6489\n",
       "{'name': 'Регистрация признана ошибочной по решению регоргана', 'code': '801', 'shortName': 'Недействующая'}                                                                                                                                                 3458\n",
       "{'name': 'Регистрирующим органом принято решение о предстоящем исключении юридического лица из ЕГРЮЛ (недействующее юридическое лицо)', 'code': '105', 'shortName': 'Недействующая'}                                                                         3268\n",
       "{'name': 'Регистрирующим органом принято решение о предстоящем исключении юридического лица из ЕГРЮЛ (наличие в ЕГРЮЛ сведений о юридическом лице, в отношении которых внесена запись о недостоверности)', 'code': '107', 'shortName': 'Недействующая'}      1376\n",
       "{'name': 'Юридическим лицом принято решение об изменении места нахождения', 'code': '112', 'shortName': 'Действующая'}                                                                                                                                        909\n",
       "{'name': 'Юридическое лицо признано несостоятельным (банкротом) и в отношении него открыто конкурсное производство', 'code': '117', 'shortName': 'В состоянии банкротства'}                                                                                   616\n",
       "{'name': 'Находится в процессе реорганизации в форме преобразования', 'code': '121', 'shortName': 'Реорганизуется'}                                                                                                                                           358\n",
       "{'name': 'Регистрация признана недействительной по решению суда', 'code': '701', 'shortName': 'Недействующая'}                                                                                                                                                299\n",
       "{'name': 'В отношении юридического лица в деле о несостоятельности (банкротстве) введено наблюдение', 'code': '114', 'shortName': 'В состоянии банкротства'}                                                                                                  141\n",
       "{'name': 'Находится в процессе реорганизации в форме присоединения к другому ЮЛ', 'code': '124', 'shortName': 'Реорганизуется'}                                                                                                                               121\n",
       "{'name': 'Находится в процессе реорганизации в форме присоединения к нему других ЮЛ', 'code': '132', 'shortName': 'Реорганизуется'}                                                                                                                           117\n",
       "{'name': 'Находится в процессе реорганизации в форме выделения', 'code': '131', 'shortName': 'Реорганизуется'}                                                                                                                                                 55\n",
       "{'name': 'В отношении юридического лица возбуждено производство по делу о несостоятельности (банкротстве)', 'code': '113', 'shortName': 'В состоянии банкротства'}                                                                                             19\n",
       "{'name': 'В отношении юридического лица в деле о несостоятельности (банкротстве) введено внешнее управление', 'code': '116', 'shortName': 'В состоянии банкротства'}                                                                                            7\n",
       "{'name': 'Юридическое лицо находится в процессе уменьшения уставного капитала', 'code': '111', 'shortName': 'Действующая'}                                                                                                                                      7\n",
       "{'name': 'Находится в процессе реорганизации в форме разделения', 'code': '123', 'shortName': 'Реорганизуется'}                                                                                                                                                 6\n",
       "{'name': 'Находится в процессе реорганизации в форме слияния', 'code': '122', 'shortName': 'Реорганизуется'}                                                                                                                                                    5\n",
       "{'name': 'Внесение в ЕГРЮЛ сведений о ЮЛ, созданном до 01.07.2002, признано недействительным по решению суда', 'code': '702', 'shortName': 'Недействующая'}                                                                                                     2\n",
       "Name: statusDetail, dtype: int64"
      ]
     },
     "execution_count": 33,
     "metadata": {},
     "output_type": "execute_result"
    }
   ],
   "source": [
    "data.statusDetail.value_counts()"
   ]
  },
  {
   "cell_type": "code",
   "execution_count": 34,
   "metadata": {},
   "outputs": [
    {
     "data": {
      "text/plain": [
       "['minjustRegNum', 'logo', 'statusDetail']"
      ]
     },
     "execution_count": 34,
     "metadata": {},
     "output_type": "execute_result"
    }
   ],
   "source": [
    "drop_cols.append('statusDetail')\n",
    "drop_cols"
   ]
  },
  {
   "cell_type": "markdown",
   "metadata": {},
   "source": [
    "#### fullName"
   ]
  },
  {
   "cell_type": "code",
   "execution_count": 36,
   "metadata": {},
   "outputs": [
    {
     "data": {
      "text/plain": [
       "0         МЕЖРЕГИОНАЛЬНАЯ АНТРОПОСОФСКАЯ МЕДИЦИНСКАЯ АСС...\n",
       "1         ФОНД \"СОДЕЙСТВИЕ ДУХОВНОМУ РАЗВИТИЮ ЧЕЛОВЕКА \"...\n",
       "2         КОЛЛЕГИЯ АДВОКАТОВ \"САНКТ-ПЕТЕРБУРГСКАЯ КОЛЛЕГ...\n",
       "3         ТОВАРИЩЕСТВО СОБСТВЕННИКОВ НЕДВИЖИМОСТИ \"ЛУГИН...\n",
       "4         АВТОНОМНАЯ НЕКОММЕРЧЕСКАЯ ОРГАНИЗАЦИЯ \"ЦЕНТР С...\n",
       "                                ...                        \n",
       "747029    ТОВАРИЩЕСТВО СОБСТВЕННИКОВ ЖИЛЬЯ \"БОЛЬШОЙ ХАРИ...\n",
       "747030    НЕКОММЕРЧЕСКАЯ ОРГАНИЗАЦИЯ МЕЖРЕГИОНАЛЬНЫЙ ФОН...\n",
       "747031                 СОВЕТ САМОУПРАВЛЕНИЯ МИКРОРАЙОНА \"А\"\n",
       "747032    КООПЕРАТИВ РИТУАЛ ПО ОКАЗАНИЮ РИТУАЛЬНЫХ УСЛУГ...\n",
       "747033                              КООПЕРАТИВ ТРАНСПОРТНИК\n",
       "Name: fullName, Length: 747034, dtype: object"
      ]
     },
     "execution_count": 36,
     "metadata": {},
     "output_type": "execute_result"
    }
   ],
   "source": [
    "data.fullName"
   ]
  },
  {
   "cell_type": "code",
   "execution_count": 37,
   "metadata": {},
   "outputs": [],
   "source": [
    "# оставим для читабельности"
   ]
  },
  {
   "cell_type": "markdown",
   "metadata": {},
   "source": [
    "#### dateReg\n",
    "dateReg: дата регистрации организаций - указывается только для организаций, зарегистрированных до 2002 года (тип: string, null)"
   ]
  },
  {
   "cell_type": "code",
   "execution_count": 39,
   "metadata": {},
   "outputs": [
    {
     "data": {
      "text/plain": [
       "425618"
      ]
     },
     "execution_count": 39,
     "metadata": {},
     "output_type": "execute_result"
    }
   ],
   "source": [
    "data.dateReg.isnull().sum()"
   ]
  },
  {
   "cell_type": "code",
   "execution_count": null,
   "metadata": {},
   "outputs": [],
   "source": [
    "# Такие организации могут обладать большим авторитетом и надежностью"
   ]
  },
  {
   "cell_type": "markdown",
   "metadata": {},
   "source": [
    "#### minjustForm\n",
    "minjustForm: форма НКО, согласно системе Минюста РФ - УНРО (тип: string, null)"
   ]
  },
  {
   "cell_type": "code",
   "execution_count": 41,
   "metadata": {},
   "outputs": [
    {
     "data": {
      "text/plain": [
       "Общественная организация                                                    121679\n",
       "Профессиональный союз                                                        52118\n",
       "Автономная некоммерческая организация                                        51497\n",
       "Некоммерческий фонд                                                          36325\n",
       "Религиозная организация                                                      35915\n",
       "Некоммерческое партнерство                                                   31086\n",
       "Учреждение                                                                   26558\n",
       "Садоводческие, огороднические, дачные и иные некоммерческие товарищества     24832\n",
       "Товарищество собственников жилья                                             18628\n",
       "Объединения (союз, ассоциация) юридических лиц                               18133\n",
       "Общественный фонд                                                             8388\n",
       "Политическая партия                                                           8005\n",
       "Общественное движение                                                         4498\n",
       "Казачье общество                                                              3698\n",
       "Коллегия адвокатов                                                            3689\n",
       "Община малочисленных народов                                                  2745\n",
       "Территориальное общественное самоуправление                                   2291\n",
       "Национально-культурная автономия                                              2059\n",
       "Общественное учреждение                                                       1425\n",
       "Адвокатское бюро                                                              1097\n",
       "Союз (ассоциация) общественных объединений                                     896\n",
       "Общественно-государственное общественное объединение                           887\n",
       "Садоводческое, огородническое, дачное некоммерческое партнерство               853\n",
       "Иные некоммерческие организации                                                848\n",
       "Объединение работодателей                                                      673\n",
       "Ассоциация крестьянских (фермерских) хозяйств                                  667\n",
       "Орган общественной самодеятельности                                            318\n",
       "Негосударственный пенсионный фонд                                              296\n",
       "Ассоциация экономического развития                                             204\n",
       "Объединения адвокатов                                                          178\n",
       "Государственно-общественное объединение                                        130\n",
       "Садоводческое, огородническое, дачное некоммерческое объединение               123\n",
       "Адвокатские палаты субъектов РФ                                                 92\n",
       "Нотариальная палата                                                             74\n",
       "Торгово-промышленная палата                                                     70\n",
       "Организация                                                                     45\n",
       "Совет муниципальных образований                                                 27\n",
       "Фонд                                                                             9\n",
       "Государственная корпорация                                                       8\n",
       "Союз                                                                             7\n",
       "Ассоциация                                                                       1\n",
       "Движение                                                                         1\n",
       "Name: minjustForm, dtype: int64"
      ]
     },
     "execution_count": 41,
     "metadata": {},
     "output_type": "execute_result"
    }
   ],
   "source": [
    "data.minjustForm.value_counts()"
   ]
  },
  {
   "cell_type": "code",
   "execution_count": 44,
   "metadata": {},
   "outputs": [],
   "source": [
    "# Отсюда удалим те формы, что точно не будут претендовать на гранты и госконтракты "
   ]
  },
  {
   "cell_type": "markdown",
   "metadata": {},
   "source": [
    "#### charter\n",
    "charter: ссылка на устав организации (тип: string, null)"
   ]
  },
  {
   "cell_type": "code",
   "execution_count": 45,
   "metadata": {},
   "outputs": [
    {
     "data": {
      "text/plain": [
       "['minjustRegNum', 'logo', 'statusDetail', 'charter']"
      ]
     },
     "execution_count": 45,
     "metadata": {},
     "output_type": "execute_result"
    }
   ],
   "source": [
    "drop_cols.append('charter')\n",
    "drop_cols"
   ]
  },
  {
   "cell_type": "markdown",
   "metadata": {},
   "source": [
    "#### minjustStatus\n",
    " minjustStatus: статус НКО в системе Минюста РФ - УНРО. Варианты: Исключена, Действует (тип: string, null)"
   ]
  },
  {
   "cell_type": "code",
   "execution_count": 47,
   "metadata": {},
   "outputs": [
    {
     "data": {
      "text/plain": [
       "Исключена           255865\n",
       "Зарегистрирована    206437\n",
       "Name: minjustStatus, dtype: int64"
      ]
     },
     "execution_count": 47,
     "metadata": {},
     "output_type": "execute_result"
    }
   ],
   "source": [
    "data.minjustStatus.value_counts()\n"
   ]
  },
  {
   "cell_type": "code",
   "execution_count": 46,
   "metadata": {},
   "outputs": [
    {
     "data": {
      "text/plain": [
       "['minjustRegNum', 'logo', 'statusDetail', 'charter', 'minjustStatus']"
      ]
     },
     "execution_count": 46,
     "metadata": {},
     "output_type": "execute_result"
    }
   ],
   "source": [
    "# Для поставленных задач неинтересна\n",
    "drop_cols.append('minjustStatus')\n",
    "drop_cols"
   ]
  },
  {
   "cell_type": "markdown",
   "metadata": {},
   "source": [
    "#### ogrn\n",
    "ogrn: Основной Государственный Регистрационный Номер организации (тип: string)\n"
   ]
  },
  {
   "cell_type": "code",
   "execution_count": 49,
   "metadata": {},
   "outputs": [
    {
     "data": {
      "text/plain": [
       "747034"
      ]
     },
     "execution_count": 49,
     "metadata": {},
     "output_type": "execute_result"
    }
   ],
   "source": [
    "data.ogrn.nunique()"
   ]
  },
  {
   "cell_type": "code",
   "execution_count": 50,
   "metadata": {},
   "outputs": [],
   "source": [
    "# уникальное поле, подходит как идентификатор НКО"
   ]
  },
  {
   "cell_type": "markdown",
   "metadata": {},
   "source": [
    "#### 'opf'\n",
    "opf: сведения об организационно-правовой форме (ОПФ) организации на основании данных ЕГРЮЛ (тип: object)"
   ]
  },
  {
   "cell_type": "code",
   "execution_count": 51,
   "metadata": {},
   "outputs": [
    {
     "data": {
      "text/plain": [
       "{'name': 'Общественные организации', 'code': '20200', 'version': 'okopf'}                               75444\n",
       "{'name': 'Общественная или религиозная организация (объединение)', 'code': '83', 'version': 'okopf'}    72798\n",
       "{'name': 'Гаражные и гаражно-строительные кооперативы', 'code': '20101', 'version': 'okopf'}            49868\n",
       "{'name': 'Автономные некоммерческие организации', 'code': '71400', 'version': 'okopf'}                  46107\n",
       "{'name': 'Потребительский кооператив', 'code': '85', 'version': 'okopf'}                                39622\n",
       "                                                                                                        ...  \n",
       "{'name': 'Учреждения, созданные Российской Федерацией', 'code': '75100', 'version': 'okopf'}                1\n",
       "{'name': 'Межхозяйственное предприятие (организация)', 'code': '56', 'version': 'kopf'}                     1\n",
       "{'name': 'Акционерные общества', 'code': '12200', 'version': 'okopf'}                                       1\n",
       "{'name': 'НЕГОСУДАРСТВЕННАЯ , НЕКОМЕРЧЕСКАЯ ОРГАНИЗАЦИЯ', 'code': None, 'version': 'raw_opf'}               1\n",
       "{'name': 'МЕЖРЕГИОНАЛЬНАЯ ОБЩЕСТВЕННАЯ ОРГАНИЗАЦИЯ', 'code': None, 'version': 'raw_opf'}                    1\n",
       "Name: opf, Length: 291, dtype: int64"
      ]
     },
     "execution_count": 51,
     "metadata": {},
     "output_type": "execute_result"
    }
   ],
   "source": [
    "data.opf.value_counts()"
   ]
  },
  {
   "cell_type": "markdown",
   "metadata": {},
   "source": [
    "#### 'oktmo'\n",
    "ОКТМО — это Общероссийский классификатор территорий муниципальных образований ОК — 033-2013. А код ОКТМО указывает, к какому муниципальному образованию (городу, внутригородскому району, поселку, деревне) относится организация или ИП."
   ]
  },
  {
   "cell_type": "code",
   "execution_count": 54,
   "metadata": {},
   "outputs": [
    {
     "data": {
      "text/plain": [
       "{'name': None, 'code': None}                            399597\n",
       "{'name': 'г Новосибирск', 'code': '50701000001'}          6174\n",
       "{'name': 'г Екатеринбург', 'code': '65701000001'}         4936\n",
       "{'name': 'г Пермь', 'code': '57701000001'}                4244\n",
       "{'name': 'г Казань', 'code': '92701000001'}               3730\n",
       "                                                         ...  \n",
       "{'name': 'с Малые Меми', 'code': '92629428101'}              1\n",
       "{'name': 'с Чувашская Майна', 'code': '92606460106'}         1\n",
       "{'name': None, 'code': '05650425118'}                        1\n",
       "{'name': 'с Наканно', 'code': '25616404111'}                 1\n",
       "{'name': 'д Актанышбаш', 'code': '92605408101'}              1\n",
       "Name: oktmo, Length: 27898, dtype: int64"
      ]
     },
     "execution_count": 54,
     "metadata": {},
     "output_type": "execute_result"
    }
   ],
   "source": [
    "data.oktmo.value_counts()"
   ]
  },
  {
   "cell_type": "code",
   "execution_count": 55,
   "metadata": {},
   "outputs": [
    {
     "data": {
      "text/plain": [
       "['minjustRegNum', 'logo', 'statusDetail', 'charter', 'minjustStatus', 'oktmo']"
      ]
     },
     "execution_count": 55,
     "metadata": {},
     "output_type": "execute_result"
    }
   ],
   "source": [
    "drop_cols.append('oktmo')\n",
    "drop_cols\n"
   ]
  },
  {
   "cell_type": "markdown",
   "metadata": {},
   "source": [
    "#### 'egrulStatus'\n",
    "egrulStatus: статус организации на основании данных ЕГРЮЛ. Варианты: Действует, Ликвидирована (тип: string)"
   ]
  },
  {
   "cell_type": "code",
   "execution_count": 56,
   "metadata": {},
   "outputs": [
    {
     "data": {
      "text/plain": [
       "Ликвидирована    406134\n",
       "Действует        340900\n",
       "Name: egrulStatus, dtype: int64"
      ]
     },
     "execution_count": 56,
     "metadata": {},
     "output_type": "execute_result"
    }
   ],
   "source": [
    "data.egrulStatus.value_counts()"
   ]
  },
  {
   "cell_type": "code",
   "execution_count": null,
   "metadata": {},
   "outputs": [],
   "source": [
    "# надо проверить, нет ли дубля этой инфы в др стлб\n",
    "# грант может быть получен до момента ликвидации,"
   ]
  },
  {
   "cell_type": "markdown",
   "metadata": {},
   "source": [
    "#### 'mainOkved'\n",
    "mainOkved: сведения об основном ОКВЭД (тип: object)"
   ]
  },
  {
   "cell_type": "code",
   "execution_count": 57,
   "metadata": {},
   "outputs": [
    {
     "data": {
      "text/plain": [
       "{'name': None, 'code': None, 'version': 'ОК 029-2001 (КДЕС Ред. 1)'}                                                                                                                                          204681\n",
       "{'name': 'Деятельность прочих общественных организаций, не включенных в другие группировки', 'code': '94.99', 'version': 'ОК 029-2014 (КДЕС Ред. 2)'}                                                          76871\n",
       "{'name': 'Деятельность стоянок для транспортных средств', 'code': '52.21.24', 'version': 'ОК 029-2014 (КДЕС Ред. 2)'}                                                                                          38247\n",
       "{'name': 'Деятельность религиозных организаций', 'code': '94.91', 'version': 'ОК 029-2014 (КДЕС Ред. 2)'}                                                                                                      31456\n",
       "{'name': 'Управление эксплуатацией жилого фонда за вознаграждение или на договорной основе', 'code': '68.32.1', 'version': 'ОК 029-2014 (КДЕС Ред. 2)'}                                                        29643\n",
       "                                                                                                                                                                                                               ...  \n",
       "{'name': 'Оценка уязвимости объектов транспортной инфраструктуры и транспортных средств от актов незаконного вмешательства', 'code': '74.60.1', 'version': 'ОК 029-2001 (КДЕС Ред. 1)'}                            1\n",
       "{'name': 'Производство прочих основных органических химических веществ, не включенных в другие группировки', 'code': '24.14.2', 'version': 'ОК 029-2001 (КДЕС Ред. 1)'}                                            1\n",
       "{'name': 'Деятельность агентов по оптовой торговле вычислительной техникой, телекоммуникационным оборудованием и прочим офисным оборудованием', 'code': '46.14.1', 'version': 'ОК 029-2014 (КДЕС Ред. 2)'}         1\n",
       "{'name': 'Торговля оптовая консервами из мяса и мяса птицы', 'code': '46.32.3', 'version': 'ОК 029-2014 (КДЕС Ред. 2)'}                                                                                            1\n",
       "{'name': 'Производство пищевых субпродуктов в охлажденном виде', 'code': '10.11.2', 'version': 'ОК 029-2014 (КДЕС Ред. 2)'}                                                                                        1\n",
       "Name: mainOkved, Length: 2209, dtype: int64"
      ]
     },
     "execution_count": 57,
     "metadata": {},
     "output_type": "execute_result"
    }
   ],
   "source": [
    "data.mainOkved.value_counts()"
   ]
  },
  {
   "cell_type": "code",
   "execution_count": 58,
   "metadata": {},
   "outputs": [],
   "source": [
    "#  нужен будет для проверки зависимости получения грантов от экономической деятельности"
   ]
  },
  {
   "cell_type": "markdown",
   "metadata": {},
   "source": [
    "#### 'regionCode'\n",
    "regionCode: код региона организации (тип: string)\n"
   ]
  },
  {
   "cell_type": "code",
   "execution_count": 59,
   "metadata": {},
   "outputs": [
    {
     "data": {
      "text/plain": [
       "77    80178\n",
       "50    37927\n",
       "78    31767\n",
       "23    23337\n",
       "66    23030\n",
       "      ...  \n",
       "99       91\n",
       "81       84\n",
       "88       65\n",
       "82       31\n",
       "0        25\n",
       "Name: regionCode, Length: 93, dtype: int64"
      ]
     },
     "execution_count": 59,
     "metadata": {},
     "output_type": "execute_result"
    }
   ],
   "source": [
    "data.regionCode.value_counts()"
   ]
  },
  {
   "cell_type": "code",
   "execution_count": 60,
   "metadata": {},
   "outputs": [],
   "source": [
    "# заполнить пропуски на основе ИНН: первые 4 цифры ИНН -- это код ФНС с кодом региона внутри "
   ]
  },
  {
   "cell_type": "markdown",
   "metadata": {},
   "source": [
    "#### 'incomeTotal'\n",
    "incomeTotal: общая сумма доходов из известных источников - контрактов, договоров, президентских грантов, федеральных субсидий (тип: number)"
   ]
  },
  {
   "cell_type": "code",
   "execution_count": 64,
   "metadata": {},
   "outputs": [
    {
     "data": {
      "text/plain": [
       "34305"
      ]
     },
     "execution_count": 64,
     "metadata": {},
     "output_type": "execute_result"
    }
   ],
   "source": [
    "# посмотрим количество ненулевых по приходу нко \n",
    "len(data.incomeTotal[data.incomeTotal > 0]) "
   ]
  },
  {
   "cell_type": "code",
   "execution_count": null,
   "metadata": {},
   "outputs": [],
   "source": [
    "# признак заменит детализацию дохода в incomeDetail"
   ]
  },
  {
   "cell_type": "markdown",
   "metadata": {},
   "source": [
    "#### 'email'\n"
   ]
  },
  {
   "cell_type": "code",
   "execution_count": 65,
   "metadata": {},
   "outputs": [
    {
     "data": {
      "text/plain": [
       "['minjustRegNum',\n",
       " 'logo',\n",
       " 'statusDetail',\n",
       " 'charter',\n",
       " 'minjustStatus',\n",
       " 'oktmo',\n",
       " 'email']"
      ]
     },
     "execution_count": 65,
     "metadata": {},
     "output_type": "execute_result"
    }
   ],
   "source": [
    "drop_cols.append('email')\n",
    "drop_cols"
   ]
  },
  {
   "cell_type": "markdown",
   "metadata": {},
   "source": [
    "#### incomeDetail\n",
    "incomeDetail: детализация сведений о доходах (тип: object)"
   ]
  },
  {
   "cell_type": "raw",
   "metadata": {},
   "source": [
    "Olga Beloglazova, [27.07.2022 19:48]\n",
    "list_to_dir = []\n",
    "\n",
    "for series in list_to_dir:\n",
    "    data[series] = data[series].apply(lambda x: eval(x))"
   ]
  },
  {
   "cell_type": "code",
   "execution_count": 77,
   "metadata": {},
   "outputs": [
    {
     "data": {
      "text/plain": [
       "{'grants': {'totalCount': 0, 'totalSum': 0}, 'fedSubsidies': {'totalCount': 0, 'totalSum': 0}, 'contracts44': {'totalCount': 0, 'totalSum': 0}, 'contracts223': {'totalCount': 0, 'totalSum': 0}, 'contracts94': {'totalCount': 0, 'totalSum': 0}}                                                                                                                                                                                                                                                                                                        712637\n",
       "{'grants': {'totalCount': 1, 'totalSum': 2000000.0, '2016': {'sum': 2000000.0, 'count': 1}}, 'fedSubsidies': {'totalCount': 0, 'totalSum': 0}, 'contracts44': {'totalCount': 0, 'totalSum': 0}, 'contracts223': {'totalCount': 0, 'totalSum': 0}, 'contracts94': {'totalCount': 0, 'totalSum': 0}}                                                                                                                                                                                                                                                            42\n",
       "{'grants': {'totalCount': 0, 'totalSum': 0}, 'fedSubsidies': {'totalCount': 0, 'totalSum': 0}, 'contracts44': {'totalCount': 0, 'totalSum': 0}, 'contracts223': {'2015': {'sum': 0.0, 'count': 1}, 'totalSum': 0.0, 'totalCount': 1}, 'contracts94': {'totalCount': 0, 'totalSum': 0}}                                                                                                                                                                                                                                                                        31\n",
       "{'grants': {'totalCount': 1, 'totalSum': 1000000.0, '2013': {'sum': 1000000.0, 'count': 1}}, 'fedSubsidies': {'totalCount': 0, 'totalSum': 0}, 'contracts44': {'totalCount': 0, 'totalSum': 0}, 'contracts223': {'totalCount': 0, 'totalSum': 0}, 'contracts94': {'totalCount': 0, 'totalSum': 0}}                                                                                                                                                                                                                                                            30\n",
       "{'grants': {'totalCount': 1, 'totalSum': 1500000.0, '2013': {'sum': 1500000.0, 'count': 1}}, 'fedSubsidies': {'totalCount': 0, 'totalSum': 0}, 'contracts44': {'totalCount': 0, 'totalSum': 0}, 'contracts223': {'totalCount': 0, 'totalSum': 0}, 'contracts94': {'totalCount': 0, 'totalSum': 0}}                                                                                                                                                                                                                                                            26\n",
       "                                                                                                                                                                                                                                                                                                                                                                                                                                                                                                                                                           ...  \n",
       "{'grants': {'totalCount': 0, 'totalSum': 0}, 'fedSubsidies': {'totalCount': 0, 'totalSum': 0}, 'contracts44': {'2015': {'sum': 13151.5, 'count': 1}, 'totalSum': 13151.5, 'totalCount': 1}, 'contracts223': {'totalCount': 0, 'totalSum': 0}, 'contracts94': {'totalCount': 0, 'totalSum': 0}}                                                                                                                                                                                                                                                                 1\n",
       "{'grants': {'totalCount': 0, 'totalSum': 0}, 'fedSubsidies': {'totalCount': 0, 'totalSum': 0}, 'contracts44': {'totalCount': 6, '2015': {'sum': 137970.68, 'count': 1}, 'totalSum': 759833.25, '2019': {'sum': 252690.0, 'count': 2}, '2014': {'sum': 117950.0, 'count': 1}, '2017': {'sum': 251222.57, 'count': 2}}, 'contracts223': {'totalCount': 0, 'totalSum': 0}, 'contracts94': {'totalCount': 22, 'totalSum': 1389190.0, '2013': {'sum': 704640.0, 'count': 9}, '2011': {'sum': 295750.0, 'count': 6}, '2012': {'sum': 388800.0, 'count': 7}}}         1\n",
       "{'grants': {'totalCount': 0, 'totalSum': 0}, 'fedSubsidies': {'totalCount': 0, 'totalSum': 0}, 'contracts44': {'totalCount': 1, 'totalSum': 40920.0, '2018': {'sum': 40920.0, 'count': 1}}, 'contracts223': {'totalCount': 0, 'totalSum': 0}, 'contracts94': {'totalCount': 0, 'totalSum': 0}}                                                                                                                                                                                                                                                                 1\n",
       "{'grants': {'totalCount': 0, 'totalSum': 0}, 'fedSubsidies': {'totalCount': 0, 'totalSum': 0}, 'contracts44': {'totalCount': 0, 'totalSum': 0}, 'contracts223': {'2017': {'sum': 2100000.0, 'count': 1}, 'totalSum': 2100000.0, 'totalCount': 1}, 'contracts94': {'totalCount': 0, 'totalSum': 0}}                                                                                                                                                                                                                                                             1\n",
       "{'grants': {'totalCount': 0, 'totalSum': 0}, 'fedSubsidies': {'totalCount': 0, 'totalSum': 0}, 'contracts44': {'2019': {'sum': 3384.0, 'count': 1}, 'totalCount': 1, 'totalSum': 3384.0}, 'contracts223': {'totalCount': 0, 'totalSum': 0}, 'contracts94': {'totalCount': 0, 'totalSum': 0}}                                                                                                                                                                                                                                                                   1\n",
       "Name: incomeDetail, Length: 32302, dtype: int64"
      ]
     },
     "execution_count": 77,
     "metadata": {},
     "output_type": "execute_result"
    }
   ],
   "source": [
    "data.incomeDetail.value_counts()"
   ]
  },
  {
   "cell_type": "code",
   "execution_count": 67,
   "metadata": {},
   "outputs": [
    {
     "data": {
      "text/plain": [
       "['minjustRegNum',\n",
       " 'logo',\n",
       " 'statusDetail',\n",
       " 'charter',\n",
       " 'minjustStatus',\n",
       " 'oktmo',\n",
       " 'email',\n",
       " 'incomeDetail']"
      ]
     },
     "execution_count": 67,
     "metadata": {},
     "output_type": "execute_result"
    }
   ],
   "source": [
    "drop_cols.append('incomeDetail')\n",
    "drop_cols"
   ]
  },
  {
   "cell_type": "markdown",
   "metadata": {},
   "source": [
    "#### 'administrators'\n",
    "administrators: руководители организации (тип: array, содержит элементы типа object)"
   ]
  },
  {
   "cell_type": "code",
   "execution_count": 68,
   "metadata": {},
   "outputs": [
    {
     "data": {
      "text/plain": [
       "0         [{'name': 'КОШЕЧКИН ДЕНИС ВИКТОРОВИЧ', 'title'...\n",
       "1         [{'name': 'НИЗАМИЕВ РУСЛАН ВИЛЬДАНОВИЧ', 'titl...\n",
       "2         [{'name': 'САМОЙЛОВА АНЖЕЛА ВАСИЛЬЕВНА', 'titl...\n",
       "3         [{'name': 'ГЕЛЬДТ ВЛАДИМИР АНДРЕЕВИЧ', 'title'...\n",
       "4         [{'name': 'ПРИВАЛОВА ЮЛИЯ АНАТОЛЬЕВНА', 'title...\n",
       "                                ...                        \n",
       "747029    [{'name': 'КАЗАНЧЕВА ИРЕНА ГЕНРИКОВНА', 'title...\n",
       "747030    [{'name': 'ЯНКУС ЮРИЙ АРКАДЬЕВИЧ', 'title': 'Д...\n",
       "747031                                                   []\n",
       "747032                                                   []\n",
       "747033                                                   []\n",
       "Name: administrators, Length: 747034, dtype: object"
      ]
     },
     "execution_count": 68,
     "metadata": {},
     "output_type": "execute_result"
    }
   ],
   "source": [
    "data.administrators"
   ]
  },
  {
   "cell_type": "code",
   "execution_count": 71,
   "metadata": {},
   "outputs": [
    {
     "data": {
      "text/plain": [
       "['minjustRegNum',\n",
       " 'logo',\n",
       " 'statusDetail',\n",
       " 'charter',\n",
       " 'minjustStatus',\n",
       " 'oktmo',\n",
       " 'email',\n",
       " 'incomeDetail',\n",
       " 'administrators']"
      ]
     },
     "execution_count": 71,
     "metadata": {},
     "output_type": "execute_result"
    }
   ],
   "source": [
    "drop_cols.append('administrators')\n",
    "drop_cols"
   ]
  },
  {
   "cell_type": "markdown",
   "metadata": {},
   "source": [
    "#### 'inn'\n",
    "inn: ИНН организации (тип: string, null)\n",
    "Идентификационный номер налогоплательщика (сокр. ИНН) — цифровой код, упорядочивающий учёт налогоплательщиков в Российской Федерации. "
   ]
  },
  {
   "cell_type": "code",
   "execution_count": 86,
   "metadata": {},
   "outputs": [
    {
     "data": {
      "text/plain": [
       "742240"
      ]
     },
     "execution_count": 86,
     "metadata": {},
     "output_type": "execute_result"
    }
   ],
   "source": [
    "data.inn.nunique()"
   ]
  },
  {
   "cell_type": "code",
   "execution_count": 84,
   "metadata": {},
   "outputs": [
    {
     "data": {
      "text/plain": [
       "2604"
      ]
     },
     "execution_count": 84,
     "metadata": {},
     "output_type": "execute_result"
    }
   ],
   "source": [
    "data.inn.isnull().sum()\n"
   ]
  },
  {
   "cell_type": "code",
   "execution_count": 85,
   "metadata": {},
   "outputs": [],
   "source": [
    "#  что делать с ИНН-пропусками и дубликатами? по идее, ИНН не может быть дублирован\n"
   ]
  },
  {
   "cell_type": "markdown",
   "metadata": {},
   "source": [
    "#### 'okpo'\n",
    "okpo: ОКПО (тип: string, null)\n",
    "Для идентификации организаций есть множество кодов. Один из них ОКПО — общероссийский классификатор предприятий и организаций. Состоит он из 8 или 10 цифр. Каждой фирме Росстат присваивает уникальный ОКПО, его обязана иметь любая организация"
   ]
  },
  {
   "cell_type": "code",
   "execution_count": 88,
   "metadata": {},
   "outputs": [
    {
     "data": {
      "text/plain": [
       "33554179.0    1\n",
       "53279462.0    1\n",
       "53277859.0    1\n",
       "13319476.0    1\n",
       "39542734.0    1\n",
       "             ..\n",
       "34470310.0    1\n",
       "20854402.0    1\n",
       "20854454.0    1\n",
       "20854483.0    1\n",
       "33554469.0    1\n",
       "Name: okpo, Length: 347437, dtype: int64"
      ]
     },
     "execution_count": 88,
     "metadata": {},
     "output_type": "execute_result"
    }
   ],
   "source": [
    "data.okpo.value_counts()"
   ]
  },
  {
   "cell_type": "code",
   "execution_count": 89,
   "metadata": {},
   "outputs": [
    {
     "data": {
      "text/plain": [
       "399597"
      ]
     },
     "execution_count": 89,
     "metadata": {},
     "output_type": "execute_result"
    }
   ],
   "source": [
    "data.okpo.isnull().sum()"
   ]
  },
  {
   "cell_type": "code",
   "execution_count": 92,
   "metadata": {},
   "outputs": [
    {
     "data": {
      "text/plain": [
       "['minjustRegNum',\n",
       " 'logo',\n",
       " 'statusDetail',\n",
       " 'charter',\n",
       " 'minjustStatus',\n",
       " 'oktmo',\n",
       " 'email',\n",
       " 'incomeDetail',\n",
       " 'administrators',\n",
       " 'okpo']"
      ]
     },
     "execution_count": 92,
     "metadata": {},
     "output_type": "execute_result"
    }
   ],
   "source": [
    "# можно было бы взять в качестве идентификатора. Но слишком много пропусков. Сам по себе - стат. номер.\n",
    "drop_cols.append('okpo')\n",
    "drop_cols"
   ]
  },
  {
   "cell_type": "markdown",
   "metadata": {},
   "source": [
    "#### 'originDate'"
   ]
  },
  {
   "cell_type": "code",
   "execution_count": 95,
   "metadata": {},
   "outputs": [
    {
     "data": {
      "text/plain": [
       "0"
      ]
     },
     "execution_count": 95,
     "metadata": {},
     "output_type": "execute_result"
    }
   ],
   "source": [
    "data.originDate.isnull().sum()\n"
   ]
  },
  {
   "cell_type": "code",
   "execution_count": 96,
   "metadata": {},
   "outputs": [],
   "source": [
    "# оставляем для оценки влияния возраста на вероятность получения гранта"
   ]
  },
  {
   "cell_type": "markdown",
   "metadata": {},
   "source": [
    "#### 'website'"
   ]
  },
  {
   "cell_type": "code",
   "execution_count": 97,
   "metadata": {},
   "outputs": [
    {
     "data": {
      "text/plain": [
       "['minjustRegNum',\n",
       " 'logo',\n",
       " 'statusDetail',\n",
       " 'charter',\n",
       " 'minjustStatus',\n",
       " 'oktmo',\n",
       " 'email',\n",
       " 'incomeDetail',\n",
       " 'administrators',\n",
       " 'okpo',\n",
       " 'website']"
      ]
     },
     "execution_count": 97,
     "metadata": {},
     "output_type": "execute_result"
    }
   ],
   "source": [
    "drop_cols.append('website')\n",
    "drop_cols"
   ]
  },
  {
   "cell_type": "markdown",
   "metadata": {},
   "source": [
    "#### 'dateLiquid'\n",
    "дата ликвиации нко \n"
   ]
  },
  {
   "cell_type": "code",
   "execution_count": 98,
   "metadata": {},
   "outputs": [
    {
     "data": {
      "text/plain": [
       "347073"
      ]
     },
     "execution_count": 98,
     "metadata": {},
     "output_type": "execute_result"
    }
   ],
   "source": [
    "data.dateLiquid.isnull().sum()"
   ]
  },
  {
   "cell_type": "code",
   "execution_count": null,
   "metadata": {},
   "outputs": [],
   "source": [
    "# для вычисления возраста нко будем сортировать \n",
    "#  если dateLiquid is null  и minjustStatus \"Действующая\" - живет до сих пор "
   ]
  },
  {
   "cell_type": "markdown",
   "metadata": {},
   "source": [
    "#### 'address'"
   ]
  },
  {
   "cell_type": "code",
   "execution_count": 99,
   "metadata": {},
   "outputs": [
    {
     "data": {
      "text/plain": [
       "0         191186, ГОРОД САНКТ-ПЕТЕРБУРГ, УЛИЦА ИТАЛЬЯНСК...\n",
       "1         111395, ГОРОД МОСКВА, УЛИЦА МОЛДАГУЛОВОЙ, ДОМ ...\n",
       "2         197198, ГОРОД САНКТ-ПЕТЕРБУРГ, УЛИЦА БОЛЬШАЯ П...\n",
       "3         125424, ГОРОД МОСКВА, ШОССЕ ВОЛОКОЛАМСКОЕ, ДОМ...\n",
       "4         197198, ГОРОД САНКТ-ПЕТЕРБУРГ, УЛИЦА ЗВЕРИНСКА...\n",
       "                                ...                        \n",
       "747029    101000, ГОРОД МОСКВА, ПЕРЕУЛОК ХАРИТОНЬЕВСКИЙ ...\n",
       "747030    620026, ОБЛАСТЬ СВЕРДЛОВСКАЯ, ГОРОД ЕКАТЕРИНБУ...\n",
       "747031    628422, АВТОНОМНЫЙ ОКРУГ ХАНТЫ-МАНСИЙСКИЙ АВТО...\n",
       "747032    652615, ОБЛАСТЬ КЕМЕРОВСКАЯ, ГОРОД БЕЛОВО, УЛИ...\n",
       "747033    630009, ОБЛАСТЬ НОВОСИБИРСКАЯ, ГОРОД НОВОСИБИР...\n",
       "Name: address, Length: 747034, dtype: object"
      ]
     },
     "execution_count": 99,
     "metadata": {},
     "output_type": "execute_result"
    }
   ],
   "source": [
    "data.address"
   ]
  },
  {
   "cell_type": "code",
   "execution_count": 100,
   "metadata": {},
   "outputs": [
    {
     "data": {
      "text/plain": [
       "0"
      ]
     },
     "execution_count": 100,
     "metadata": {},
     "output_type": "execute_result"
    }
   ],
   "source": [
    "data.address.isnull().sum()\n"
   ]
  },
  {
   "cell_type": "code",
   "execution_count": null,
   "metadata": {},
   "outputs": [],
   "source": [
    "# можно вытащить почтовые индексы и заполнить регионы"
   ]
  },
  {
   "cell_type": "markdown",
   "metadata": {},
   "source": [
    "#### 'successors'"
   ]
  },
  {
   "cell_type": "code",
   "execution_count": 105,
   "metadata": {},
   "outputs": [
    {
     "data": {
      "text/plain": [
       "[]                                                                                                                                                                                                                                                                                               732281\n",
       "[{'fullName': 'ОБЩЕРОССИЙСКОЕ ОБЩЕСТВЕННОЕ ДВИЖЕНИЕ \"РОССИЙСКИЙ ОБЩЕНАРОДНЫЙ СОЮЗ\"', 'ogrn': '1057700013788', 'inn': '7710474914'}]                                                                                                                                                                  55\n",
       "[{'fullName': 'НОВГОРОДСКАЯ ОБЛАСТНАЯ ОРГАНИЗАЦИЯ ОБЩЕСТВЕННОЙ ОРГАНИЗАЦИИ ОБЩЕРОССИЙСКОГО ПРОФЕССИОНАЛЬНОГО СОЮЗА РАБОТНИКОВ ЖИЗНЕОБЕСПЕЧЕНИЯ', 'ogrn': '1025300000296', 'inn': '5321039104'}]                                                                                                      48\n",
       "[{'fullName': 'ПЕРВИЧНАЯ ПРОФСОЮЗНАЯ ОРГАНИЗАЦИЯ ФЕДЕРАЛЬНОГО ГОСУДАРСТВЕННОГО УЧРЕЖДЕНИЯ ЗДРАВООХРАНЕНИЯ \"ЦЕНТР ГИГИЕНЫ И ЭПИДЕМИОЛОГИИ В РЕСПУБЛИКЕ ТАТАРСТАН\" ТАТАРСТАНСКОЙ ОРГАНИЗАЦИИ ПРОФСОЮЗА РАБОТНИКОВ ЗДРАВООХРАНЕНИЯ РОССИЙСКОЙ ФЕДЕРАЦИИ', 'ogrn': '1051664046290', 'inn': None}]        38\n",
       "[{'fullName': 'ДАЧНОЕ НЕКОММЕРЧЕСКОЕ ПАРТНЕРСТВО \"ЖЕМЧУЖИНА\"', 'ogrn': '1095017003113', 'inn': '5017083967'}]                                                                                                                                                                                        34\n",
       "                                                                                                                                                                                                                                                                                                  ...  \n",
       "[{'fullName': 'ОБЩЕСТВО С ОГРАНИЧЕННОЙ ОТВЕТСТВЕННОСТЬЮ \"МАЯК\"', 'ogrn': '1057200332892', 'inn': None}]                                                                                                                                                                                               1\n",
       "[{'fullName': 'ТОВАРИЩЕСТВО СОБСТВЕННИКОВ ЖИЛЬЯ \"ТРУД 16\"', 'ogrn': '1067602029197', 'inn': None}]                                                                                                                                                                                                    1\n",
       "[{'fullName': 'ТОВАРИЩЕСТВО СОБСТВЕННИКОВ ЖИЛЬЯ № 5', 'ogrn': '1036301266231', 'inn': None}]                                                                                                                                                                                                          1\n",
       "[{'fullName': 'ТОВАРИЩЕСТВО СОБСТВЕННИКОВ ЖИЛЬЯ № 1 \"ЭКИПАЖ\"', 'ogrn': '1085246000927', 'inn': None}]                                                                                                                                                                                                 1\n",
       "[{'fullName': 'НЕГОСУДАРСТВЕННОЕ УЧРЕЖДЕНИЕ \"БАШКИРСКАЯ РЕСПУБЛИКАНСКАЯ КОЛЛЕГИЯ АДВОКАТОВ\"', 'ogrn': '1020202560223', 'inn': '0274035703'}]                                                                                                                                                          1\n",
       "Name: successors, Length: 12541, dtype: int64"
      ]
     },
     "execution_count": 105,
     "metadata": {},
     "output_type": "execute_result"
    }
   ],
   "source": [
    "data.successors.value_counts()"
   ]
  },
  {
   "cell_type": "code",
   "execution_count": 106,
   "metadata": {},
   "outputs": [
    {
     "data": {
      "text/plain": [
       "['minjustRegNum',\n",
       " 'logo',\n",
       " 'statusDetail',\n",
       " 'charter',\n",
       " 'minjustStatus',\n",
       " 'oktmo',\n",
       " 'email',\n",
       " 'incomeDetail',\n",
       " 'administrators',\n",
       " 'okpo',\n",
       " 'website',\n",
       " 'successors']"
      ]
     },
     "execution_count": 106,
     "metadata": {},
     "output_type": "execute_result"
    }
   ],
   "source": [
    "drop_cols.append('successors')\n",
    "drop_cols"
   ]
  },
  {
   "cell_type": "markdown",
   "metadata": {},
   "source": [
    "#### 'okogu'\n",
    "ОКОГУ — это общероссийский классификатор органов государственной власти и управления. Классификатор включает коды всех органов госвласти. Коды ОКОГУ нужны для идентификации государственных органов, но это не значит, что ИП и юрлица не могут его получить."
   ]
  },
  {
   "cell_type": "code",
   "execution_count": 107,
   "metadata": {},
   "outputs": [],
   "source": [
    "# НКО  таким признаком могут обладать административным ресурсом в органах власти и лоббировать свои интересы.\n",
    "#  в feature engineering  можно заменить флагом есть/нет"
   ]
  },
  {
   "cell_type": "markdown",
   "metadata": {},
   "source": [
    "#### 'kpp' \n",
    "КПП - код причины постановки на учет в налоговой. \n"
   ]
  },
  {
   "cell_type": "code",
   "execution_count": 108,
   "metadata": {},
   "outputs": [
    {
     "data": {
      "text/plain": [
       "['minjustRegNum',\n",
       " 'logo',\n",
       " 'statusDetail',\n",
       " 'charter',\n",
       " 'minjustStatus',\n",
       " 'oktmo',\n",
       " 'email',\n",
       " 'incomeDetail',\n",
       " 'administrators',\n",
       " 'okpo',\n",
       " 'website',\n",
       " 'successors',\n",
       " 'kpp']"
      ]
     },
     "execution_count": 108,
     "metadata": {},
     "output_type": "execute_result"
    }
   ],
   "source": [
    "drop_cols.append('kpp')\n",
    "drop_cols\n"
   ]
  },
  {
   "cell_type": "markdown",
   "metadata": {},
   "source": [
    "#### 'hasRegionalSupport'\n",
    "hasRegionalSupport: наличие сведений о том, что организация была получателем региональной поддержки в качестве СО НКО (тип: boolean)"
   ]
  },
  {
   "cell_type": "code",
   "execution_count": 109,
   "metadata": {},
   "outputs": [
    {
     "data": {
      "text/plain": [
       "False    735769\n",
       "True      11265\n",
       "Name: hasRegionalSupport, dtype: int64"
      ]
     },
     "execution_count": 109,
     "metadata": {},
     "output_type": "execute_result"
    }
   ],
   "source": [
    "data.hasRegionalSupport.value_counts()"
   ]
  },
  {
   "cell_type": "code",
   "execution_count": 110,
   "metadata": {},
   "outputs": [
    {
     "data": {
      "text/plain": [
       "0"
      ]
     },
     "execution_count": 110,
     "metadata": {},
     "output_type": "execute_result"
    }
   ],
   "source": [
    "data.hasRegionalSupport.isnull().sum()"
   ]
  },
  {
   "cell_type": "code",
   "execution_count": null,
   "metadata": {},
   "outputs": [],
   "source": []
  },
  {
   "cell_type": "markdown",
   "metadata": {},
   "source": [
    "#### 'addOkved'\n",
    "addOkved: дополнительный ОКВЭД (тип: array, содержит элементы типа object)"
   ]
  },
  {
   "cell_type": "code",
   "execution_count": 111,
   "metadata": {},
   "outputs": [
    {
     "data": {
      "text/plain": [
       "[]                                                                                                                                                                                                                                                                                                                                                                                                                                                                                                                                                                                                                                                                                                                                                                                                                                                                                                                                                                                                                                                                                                                                                                                                                                                                                                                                                                                                                                                                                                                                                                                                                                                                                                                                                                                                                                                                                                                                                                                                                                                                                                                                                                                                                                                                                                                                                                                                                                                                                                                                                                                                                                                                                                                                                                                                                                                                                                                 474366\n",
       "[{'name': 'Управление эксплуатацией нежилого фонда', 'code': '70.32.2', 'version': 'ОК 029-2001 (КДЕС Ред. 1)'}]                                                                                                                                                                                                                                                                                                                                                                                                                                                                                                                                                                                                                                                                                                                                                                                                                                                                                                                                                                                                                                                                                                                                                                                                                                                                                                                                                                                                                                                                                                                                                                                                                                                                                                                                                                                                                                                                                                                                                                                                                                                                                                                                                                                                                                                                                                                                                                                                                                                                                                                                                                                                                                                                                                                                                                                                     6553\n",
       "[{'name': 'Деятельность в области спорта прочая', 'code': '93.19', 'version': 'ОК 029-2014 (КДЕС Ред. 2)'}]                                                                                                                                                                                                                                                                                                                                                                                                                                                                                                                                                                                                                                                                                                                                                                                                                                                                                                                                                                                                                                                                                                                                                                                                                                                                                                                                                                                                                                                                                                                                                                                                                                                                                                                                                                                                                                                                                                                                                                                                                                                                                                                                                                                                                                                                                                                                                                                                                                                                                                                                                                                                                                                                                                                                                                                                          5210\n",
       "[{'name': 'Управление эксплуатацией нежилого фонда за вознаграждение или на договорной основе', 'code': '68.32.2', 'version': 'ОК 029-2014 (КДЕС Ред. 2)'}]                                                                                                                                                                                                                                                                                                                                                                                                                                                                                                                                                                                                                                                                                                                                                                                                                                                                                                                                                                                                                                                                                                                                                                                                                                                                                                                                                                                                                                                                                                                                                                                                                                                                                                                                                                                                                                                                                                                                                                                                                                                                                                                                                                                                                                                                                                                                                                                                                                                                                                                                                                                                                                                                                                                                                          4234\n",
       "[{'name': 'Деятельность прочих общественных организаций, не включенных в другие группировки', 'code': '94.99', 'version': 'ОК 029-2014 (КДЕС Ред. 2)'}]                                                                                                                                                                                                                                                                                                                                                                                                                                                                                                                                                                                                                                                                                                                                                                                                                                                                                                                                                                                                                                                                                                                                                                                                                                                                                                                                                                                                                                                                                                                                                                                                                                                                                                                                                                                                                                                                                                                                                                                                                                                                                                                                                                                                                                                                                                                                                                                                                                                                                                                                                                                                                                                                                                                                                              2265\n",
       "                                                                                                                                                                                                                                                                                                                                                                                                                                                                                                                                                                                                                                                                                                                                                                                                                                                                                                                                                                                                                                                                                                                                                                                                                                                                                                                                                                                                                                                                                                                                                                                                                                                                                                                                                                                                                                                                                                                                                                                                                                                                                                                                                                                                                                                                                                                                                                                                                                                                                                                                                                                                                                                                                                                                                                                                                                                                                                                    ...  \n",
       "[{'name': 'Организация перевозок грузов', 'code': '63.40', 'version': 'ОК 029-2001 (КДЕС Ред. 1)'}, {'name': 'Прочая оптовая торговля', 'code': '51.70', 'version': 'ОК 029-2001 (КДЕС Ред. 1)'}, {'name': 'Прочая розничная торговля в неспециализированных магазинах', 'code': '52.12', 'version': 'ОК 029-2001 (КДЕС Ред. 1)'}, {'name': 'Лесозаготовки', 'code': '02.01.1', 'version': 'ОК 029-2001 (КДЕС Ред. 1)'}, {'name': 'Производство пиломатериалов, кроме профилированных, толщиной более 6 мм; производство непропитанных железнодорожных и трамвайных шпал из древесины', 'code': '20.10.1', 'version': 'ОК 029-2001 (КДЕС Ред. 1)'}, {'name': 'Деятельность агентов по оптовой торговле универсальным ассортиментом товаров', 'code': '51.19', 'version': 'ОК 029-2001 (КДЕС Ред. 1)'}, {'name': 'Деятельность ресторанов и кафе', 'code': '55.30', 'version': 'ОК 029-2001 (КДЕС Ред. 1)'}, {'name': 'Производство деревянных строительных конструкций и столярных изделий', 'code': '20.30.1', 'version': 'ОК 029-2001 (КДЕС Ред. 1)'}, {'name': 'Физкультурно-оздоровительная деятельность', 'code': '93.04', 'version': 'ОК 029-2001 (КДЕС Ред. 1)'}, {'name': 'Деятельность по организации азартных игр', 'code': '92.71', 'version': 'ОК 029-2001 (КДЕС Ред. 1)'}, {'name': 'Предоставление ломбардами краткосрочных кредитов под залог движимого имущества', 'code': '65.22.6', 'version': 'ОК 029-2001 (КДЕС Ред. 1)'}, {'name': 'Производство пиломатериалов, профилированных по кромке или по пласти; производство древесной шерсти, древесной муки; производство технологической щепы или стружки', 'code': '20.10.2', 'version': 'ОК 029-2001 (КДЕС Ред. 1)'}, {'name': 'Производство модифицированной древесины', 'code': '20.20.22', 'version': 'ОК 029-2001 (КДЕС Ред. 1)'}, {'name': 'Производство древесины, пропитанной или обработанной консервантами или другими веществами', 'code': '20.10.3', 'version': 'ОК 029-2001 (КДЕС Ред. 1)'}, {'name': 'Предоставление услуг по пропитке древесины', 'code': '20.10.9', 'version': 'ОК 029-2001 (КДЕС Ред. 1)'}]                                                                                                                                                                                                                                                                                                                                                                                                                                                                                                                                                                                                                                                                                                                                                                                                                         1\n",
       "[{'name': 'Торговля розничная преимущественно пищевыми продуктами, включая напитки, и табачными изделиями в неспециализированных магазинах', 'code': '47.11', 'version': 'ОК 029-2014 (КДЕС Ред. 2)'}, {'name': 'Торговля розничная фруктами и овощами в специализированных магазинах', 'code': '47.21', 'version': 'ОК 029-2014 (КДЕС Ред. 2)'}, {'name': 'Выращивание овощей', 'code': '01.13.1', 'version': 'ОК 029-2014 (КДЕС Ред. 2)'}]                                                                                                                                                                                                                                                                                                                                                                                                                                                                                                                                                                                                                                                                                                                                                                                                                                                                                                                                                                                                                                                                                                                                                                                                                                                                                                                                                                                                                                                                                                                                                                                                                                                                                                                                                                                                                                                                                                                                                                                                                                                                                                                                                                                                                                                                                                                                                                                                                                                                            1\n",
       "[{'name': 'Торговля оптовая за вознаграждение или на договорной основе', 'code': '46.1', 'version': 'ОК 029-2014 (КДЕС Ред. 2)'}, {'name': 'Деятельность в области архитектуры, инженерных изысканий и предоставление технических консультаций в этих областях', 'code': '71.1', 'version': 'ОК 029-2014 (КДЕС Ред. 2)'}, {'name': 'Деятельность в области гидрометеорологии и смежных с ней областях, мониторинга состояния окружающей среды, ее загрязнения', 'code': '71.12.5', 'version': 'ОК 029-2014 (КДЕС Ред. 2)'}, {'name': 'Деятельность в области технического регулирования, стандартизации, метрологии, аккредитации, каталогизации продукции', 'code': '71.12.6', 'version': 'ОК 029-2014 (КДЕС Ред. 2)'}, {'name': 'Деятельность по дополнительному профессиональному образованию прочая, не включенная в другие группировки', 'code': '85.42.9', 'version': 'ОК 029-2014 (КДЕС Ред. 2)'}, {'name': 'Образование дополнительное детей и взрослых', 'code': '85.41', 'version': 'ОК 029-2014 (КДЕС Ред. 2)'}, {'name': 'Строительство жилых и нежилых зданий', 'code': '41.2', 'version': 'ОК 029-2014 (КДЕС Ред. 2)'}, {'name': 'Производство электромонтажных, санитарно-технических и прочих строительно-монтажных работ', 'code': '43.2', 'version': 'ОК 029-2014 (КДЕС Ред. 2)'}, {'name': 'Подготовка строительной площадки', 'code': '43.12', 'version': 'ОК 029-2014 (КДЕС Ред. 2)'}, {'name': 'Работы строительные отделочные', 'code': '43.3', 'version': 'ОК 029-2014 (КДЕС Ред. 2)'}, {'name': 'Деятельность издательская', 'code': '58', 'version': 'ОК 029-2014 (КДЕС Ред. 2)'}, {'name': 'Деятельность рекламная', 'code': '73.1', 'version': 'ОК 029-2014 (КДЕС Ред. 2)'}, {'name': 'Покупка и продажа собственного недвижимого имущества', 'code': '68.1', 'version': 'ОК 029-2014 (КДЕС Ред. 2)'}, {'name': 'Деятельность в области права и бухгалтерского учета', 'code': '69', 'version': 'ОК 029-2014 (КДЕС Ред. 2)'}, {'name': 'Разработка компьютерного программного обеспечения, консультационные услуги в данной области и другие сопутствующие услуги', 'code': '62.0', 'version': 'ОК 029-2014 (КДЕС Ред. 2)'}, {'name': 'Деятельность в области здравоохранения', 'code': '86', 'version': 'ОК 029-2014 (КДЕС Ред. 2)'}, {'name': 'Деятельность по предоставлению прочих персональных услуг', 'code': '96.0', 'version': 'ОК 029-2014 (КДЕС Ред. 2)'}, {'name': 'Аренда и управление собственным или арендованным недвижимым имуществом', 'code': '68.2', 'version': 'ОК 029-2014 (КДЕС Ред. 2)'}, {'name': 'Деятельность по предоставлению мест для краткосрочного проживания', 'code': '55.2', 'version': 'ОК 029-2014 (КДЕС Ред. 2)'}, {'name': 'Деятельность в области отдыха и развлечений', 'code': '93.2', 'version': 'ОК 029-2014 (КДЕС Ред. 2)'}, {'name': 'Образование профессиональное среднее', 'code': '85.21', 'version': 'ОК 029-2014 (КДЕС Ред. 2)'}]         1\n",
       "[{'name': 'Операции с недвижимым имуществом за вознаграждение или на договорной основе', 'code': '68.3', 'version': 'ОК 029-2014 (КДЕС Ред. 2)'}, {'name': 'Сбор и обработка сточных вод', 'code': '37.00', 'version': 'ОК 029-2014 (КДЕС Ред. 2)'}]                                                                                                                                                                                                                                                                                                                                                                                                                                                                                                                                                                                                                                                                                                                                                                                                                                                                                                                                                                                                                                                                                                                                                                                                                                                                                                                                                                                                                                                                                                                                                                                                                                                                                                                                                                                                                                                                                                                                                                                                                                                                                                                                                                                                                                                                                                                                                                                                                                                                                                                                                                                                                                                                    1\n",
       "[{'name': 'Деятельность в области спорта прочая', 'code': '93.19', 'version': 'ОК 029-2014 (КДЕС Ред. 2)'}, {'name': 'Деятельность спортивных клубов', 'code': '93.12', 'version': 'ОК 029-2014 (КДЕС Ред. 2)'}, {'name': 'Образование в области спорта и отдыха', 'code': '85.41.1', 'version': 'ОК 029-2014 (КДЕС Ред. 2)'}, {'name': 'Деятельность пассажирского воздушного транспорта', 'code': '51.10', 'version': 'ОК 029-2014 (КДЕС Ред. 2)'}]                                                                                                                                                                                                                                                                                                                                                                                                                                                                                                                                                                                                                                                                                                                                                                                                                                                                                                                                                                                                                                                                                                                                                                                                                                                                                                                                                                                                                                                                                                                                                                                                                                                                                                                                                                                                                                                                                                                                                                                                                                                                                                                                                                                                                                                                                                                                                                                                                                                                   1\n",
       "Name: addOkved, Length: 127443, dtype: int64"
      ]
     },
     "execution_count": 111,
     "metadata": {},
     "output_type": "execute_result"
    }
   ],
   "source": [
    "data.addOkved.value_counts()\n",
    "# "
   ]
  },
  {
   "cell_type": "markdown",
   "metadata": {},
   "source": [
    "#### 'okato' \n",
    "ОКАТО — это общероссийский классификатор объектов административно-территориального деления. Объекты классификации по ОКАТО — административные единицы. К ним относятся республики, края, области, районы и города, поселки."
   ]
  },
  {
   "cell_type": "code",
   "execution_count": 112,
   "metadata": {},
   "outputs": [
    {
     "data": {
      "text/plain": [
       "['minjustRegNum',\n",
       " 'logo',\n",
       " 'statusDetail',\n",
       " 'charter',\n",
       " 'minjustStatus',\n",
       " 'oktmo',\n",
       " 'email',\n",
       " 'incomeDetail',\n",
       " 'administrators',\n",
       " 'okpo',\n",
       " 'website',\n",
       " 'successors',\n",
       " 'kpp',\n",
       " 'okato']"
      ]
     },
     "execution_count": 112,
     "metadata": {},
     "output_type": "execute_result"
    }
   ],
   "source": [
    "drop_cols.append('okato')\n",
    "drop_cols"
   ]
  },
  {
   "cell_type": "markdown",
   "metadata": {},
   "source": [
    "#### 'okfs'\n",
    "ОКФС — это общероссийский классификатор форм собственности, входящий в Единую систему кодирования РФ. Его название раскрывает содержание — он содержит информацию о форме собственности и владельцах предприятия. Зная код, можно узнать, является ли контрагент юрлицом, ИП или государственным учреждением."
   ]
  },
  {
   "cell_type": "code",
   "execution_count": 114,
   "metadata": {},
   "outputs": [
    {
     "data": {
      "text/plain": [
       "['minjustRegNum',\n",
       " 'logo',\n",
       " 'statusDetail',\n",
       " 'charter',\n",
       " 'minjustStatus',\n",
       " 'oktmo',\n",
       " 'email',\n",
       " 'incomeDetail',\n",
       " 'administrators',\n",
       " 'okpo',\n",
       " 'website',\n",
       " 'successors',\n",
       " 'kpp',\n",
       " 'okato',\n",
       " 'okfs']"
      ]
     },
     "execution_count": 114,
     "metadata": {},
     "output_type": "execute_result"
    }
   ],
   "source": [
    "drop_cols.append('okfs')\n",
    "drop_cols"
   ]
  },
  {
   "cell_type": "markdown",
   "metadata": {},
   "source": [
    "#### 'website_punycode'"
   ]
  },
  {
   "cell_type": "code",
   "execution_count": 115,
   "metadata": {},
   "outputs": [
    {
     "data": {
      "text/plain": [
       "['minjustRegNum',\n",
       " 'logo',\n",
       " 'statusDetail',\n",
       " 'charter',\n",
       " 'minjustStatus',\n",
       " 'oktmo',\n",
       " 'email',\n",
       " 'incomeDetail',\n",
       " 'administrators',\n",
       " 'okpo',\n",
       " 'website',\n",
       " 'successors',\n",
       " 'kpp',\n",
       " 'okato',\n",
       " 'okfs',\n",
       " 'website_punycode']"
      ]
     },
     "execution_count": 115,
     "metadata": {},
     "output_type": "execute_result"
    }
   ],
   "source": [
    "drop_cols.append('website_punycode')\n",
    "drop_cols"
   ]
  },
  {
   "cell_type": "markdown",
   "metadata": {},
   "source": [
    "#### 'shortName'"
   ]
  },
  {
   "cell_type": "code",
   "execution_count": 116,
   "metadata": {},
   "outputs": [
    {
     "data": {
      "text/plain": [
       "['minjustRegNum',\n",
       " 'logo',\n",
       " 'statusDetail',\n",
       " 'charter',\n",
       " 'minjustStatus',\n",
       " 'oktmo',\n",
       " 'email',\n",
       " 'incomeDetail',\n",
       " 'administrators',\n",
       " 'okpo',\n",
       " 'website',\n",
       " 'successors',\n",
       " 'kpp',\n",
       " 'okato',\n",
       " 'okfs',\n",
       " 'website_punycode',\n",
       " 'shortName']"
      ]
     },
     "execution_count": 116,
     "metadata": {},
     "output_type": "execute_result"
    }
   ],
   "source": [
    "drop_cols.append('shortName')\n",
    "drop_cols"
   ]
  },
  {
   "cell_type": "markdown",
   "metadata": {},
   "source": [
    "#### 'dateOgrn'\n",
    "dateOgrn: дата присвоения ОГРН - начиная с 2002 года (тип: string)"
   ]
  },
  {
   "cell_type": "code",
   "execution_count": null,
   "metadata": {},
   "outputs": [],
   "source": [
    "#надо слить с dateReg"
   ]
  },
  {
   "cell_type": "markdown",
   "metadata": {},
   "source": [
    "#### 'predecessors'\n"
   ]
  },
  {
   "cell_type": "code",
   "execution_count": 120,
   "metadata": {},
   "outputs": [
    {
     "data": {
      "text/plain": [
       "[]                                                                                                                                                                                                                                                                                                                                                                                                                                                                   735550\n",
       "[{'fullName': 'КЕМЕРОВСКАЯ ОБЛАСТНАЯ КОЛЛЕГИЯ АДВОКАТОВ', 'ogrn': '1034200005146', 'inn': '4209013633'}]                                                                                                                                                                                                                                                                                                                                                                 48\n",
       "[{'fullName': 'КОЛЛЕГИЯ АДВОКАТОВ ХАБАРОВСКОГО КРАЯ', 'ogrn': '1022700004480', 'inn': '2721027108'}]                                                                                                                                                                                                                                                                                                                                                                     40\n",
       "[{'fullName': 'ЧЕЛЯБИНСКАЯ ОБЛАСТНАЯ КОЛЛЕГИЯ АДВОКАТОВ', 'ogrn': '1027400008393', 'inn': '7451031692'}]                                                                                                                                                                                                                                                                                                                                                                 26\n",
       "[{'fullName': 'КОМИ РЕСПУБЛИКАНСКАЯ КОЛЛЕГИЯ АДВОКАТОВ', 'ogrn': '1021100520748', 'inn': '1101482095'}]                                                                                                                                                                                                                                                                                                                                                                  24\n",
       "                                                                                                                                                                                                                                                                                                                                                                                                                                                                      ...  \n",
       "[{'fullName': 'НЕКОММЕРЧЕСКОЕ ПАРТНЕРСТВО \"НЕЗАВИСИМАЯ АССОЦИАЦИЯ СПЕЦИАЛИСТОВ СЕРВИСНОГО ОБСЛУЖИВАНИЯ\"', 'ogrn': '1064221005397', 'inn': '4221019166'}]                                                                                                                                                                                                                                                                                                                  1\n",
       "[{'fullName': 'НЕГОСУДАРСТВЕННОЕ ОБРАЗОВАТЕЛЬНОЕ УЧРЕЖДЕНИЕ \"МЕЖДУНАРОДНАЯ ШКОЛА ДИЗАЙНА (САНКТ-ПЕТЕРБУРГ)\"', 'ogrn': '1047836002752', 'inn': '7839010235'}]                                                                                                                                                                                                                                                                                                              1\n",
       "[{'fullName': 'САДОВОДЧЕСКИЙ КООПЕРАТИВ \"МАЯК\"', 'ogrn': '1073808009000', 'inn': '3809019064'}]                                                                                                                                                                                                                                                                                                                                                                           1\n",
       "[{'fullName': 'МУНИЦИПАОЛЬНОЕ ДОШКОЛЬНОЕ ОБРАЗОВАТЕЛЬНОЕ УЧРЕЖДЕНИЕ ДЕТСКИЙ САД № 103 ОБЩЕРАЗВИВАЮЩЕГО ВИДА', 'ogrn': '1027200841876', 'inn': '7203069000'}, {'fullName': 'АВТОНОМНАЯ НЕКОММЕРЧЕСКАЯ ОБРАЗОВАТЕЛЬНАЯ ОРГАНИЗАЦИЯ ДОШКОЛЬНОГО ОБРАЗОВАНИЯ ДЕТСКИЙ САД №8', 'ogrn': '1057200735734', 'inn': '7203163740'}]                                                                                                                                                  1\n",
       "[{'fullName': 'ПЕРВИЧНАЯ ПРОФСОЮЗНАЯ ОРГАНИЗАЦИЯ ЦЕНТРА ГОССАНЭПИДНАДЗОРА В УСТЬ-ДОНЕЦКОМ РАЙОНЕ РОСТОВСКОЙ ОБЛАСТНОЙ ОРГАНИЗАЦИИ ПРОФСОЮЗА РАБОТНИКОВ ЗДРАВООХРАНЕНИЯ РФ', 'ogrn': '1026100022805', 'inn': '6135005861'}, {'fullName': 'ПЕРВИЧНАЯ ПРОФСОЮЗНАЯ ОРГАНИЗАЦИЯ ЦЕНТРА ГОССАНЭПИДНАДЗОРА В ШАХТИНСКОЙ ЗОНЕ РОСТОВСКОЙ ОБЛАСТНОЙ ОРГАНИЗАЦИИ ПРОФСОЮЗА РАБОТНИКОВ ЗДРАВООХРАНЕНИЯ РОССИЙСКОЙ ФЕДЕРАЦИИ', 'ogrn': '1026100023388', 'inn': '6155012426'}]         1\n",
       "Name: predecessors, Length: 10744, dtype: int64"
      ]
     },
     "execution_count": 120,
     "metadata": {},
     "output_type": "execute_result"
    }
   ],
   "source": [
    "data.predecessors.value_counts()"
   ]
  },
  {
   "cell_type": "code",
   "execution_count": 121,
   "metadata": {},
   "outputs": [
    {
     "data": {
      "text/plain": [
       "['minjustRegNum',\n",
       " 'logo',\n",
       " 'statusDetail',\n",
       " 'charter',\n",
       " 'minjustStatus',\n",
       " 'oktmo',\n",
       " 'email',\n",
       " 'incomeDetail',\n",
       " 'administrators',\n",
       " 'okpo',\n",
       " 'website',\n",
       " 'successors',\n",
       " 'kpp',\n",
       " 'okato',\n",
       " 'okfs',\n",
       " 'website_punycode',\n",
       " 'shortName',\n",
       " 'predecessors']"
      ]
     },
     "execution_count": 121,
     "metadata": {},
     "output_type": "execute_result"
    }
   ],
   "source": [
    "drop_cols.append('predecessors')\n",
    "drop_cols"
   ]
  },
  {
   "cell_type": "markdown",
   "metadata": {},
   "source": [
    "#### 'socialMedia'"
   ]
  },
  {
   "cell_type": "code",
   "execution_count": 122,
   "metadata": {},
   "outputs": [],
   "source": [
    "drop_cols.append('socialMedia')\n"
   ]
  },
  {
   "cell_type": "markdown",
   "metadata": {},
   "source": [
    "#### 'reports'"
   ]
  },
  {
   "cell_type": "code",
   "execution_count": 124,
   "metadata": {},
   "outputs": [
    {
     "data": {
      "text/plain": [
       "['minjustRegNum',\n",
       " 'logo',\n",
       " 'statusDetail',\n",
       " 'charter',\n",
       " 'minjustStatus',\n",
       " 'oktmo',\n",
       " 'email',\n",
       " 'incomeDetail',\n",
       " 'administrators',\n",
       " 'okpo',\n",
       " 'website',\n",
       " 'successors',\n",
       " 'kpp',\n",
       " 'okato',\n",
       " 'okfs',\n",
       " 'website_punycode',\n",
       " 'shortName',\n",
       " 'predecessors',\n",
       " 'socialMedia',\n",
       " 'reports',\n",
       " 'reports']"
      ]
     },
     "execution_count": 124,
     "metadata": {},
     "output_type": "execute_result"
    }
   ],
   "source": [
    "drop_cols.append('reports')\n",
    "drop_cols\n"
   ]
  },
  {
   "cell_type": "markdown",
   "metadata": {},
   "source": [
    "#### Droping "
   ]
  },
  {
   "cell_type": "code",
   "execution_count": 126,
   "metadata": {},
   "outputs": [],
   "source": [
    "data.drop(columns=drop_cols, inplace=True)"
   ]
  },
  {
   "cell_type": "code",
   "execution_count": 127,
   "metadata": {},
   "outputs": [
    {
     "name": "stdout",
     "output_type": "stream",
     "text": [
      "<class 'pandas.core.frame.DataFrame'>\n",
      "Int64Index: 747034 entries, 0 to 747033\n",
      "Data columns (total 18 columns):\n",
      " #   Column              Non-Null Count   Dtype  \n",
      "---  ------              --------------   -----  \n",
      " 0   regionName          747009 non-null  object \n",
      " 1   fullName            747034 non-null  object \n",
      " 2   dateReg             321416 non-null  object \n",
      " 3   minjustForm         461073 non-null  object \n",
      " 4   ogrn                747034 non-null  int64  \n",
      " 5   opf                 747034 non-null  object \n",
      " 6   egrulStatus         747034 non-null  object \n",
      " 7   mainOkved           747034 non-null  object \n",
      " 8   regionCode          747034 non-null  int64  \n",
      " 9   incomeTotal         747034 non-null  float64\n",
      " 10  inn                 744430 non-null  float64\n",
      " 11  originDate          747034 non-null  object \n",
      " 12  dateLiquid          399961 non-null  object \n",
      " 13  address             747034 non-null  object \n",
      " 14  okogu               747034 non-null  object \n",
      " 15  hasRegionalSupport  747034 non-null  bool   \n",
      " 16  addOkved            747034 non-null  object \n",
      " 17  dateOgrn            747034 non-null  object \n",
      "dtypes: bool(1), float64(2), int64(2), object(13)\n",
      "memory usage: 123.3+ MB\n"
     ]
    }
   ],
   "source": [
    "data.info()"
   ]
  },
  {
   "cell_type": "code",
   "execution_count": 129,
   "metadata": {
    "scrolled": true
   },
   "outputs": [],
   "source": [
    "data.to_csv('nko_dropped.csv')"
   ]
  },
  {
   "cell_type": "code",
   "execution_count": null,
   "metadata": {},
   "outputs": [],
   "source": []
  }
 ],
 "metadata": {
  "kernelspec": {
   "display_name": "Python 3",
   "language": "python",
   "name": "python3"
  },
  "language_info": {
   "codemirror_mode": {
    "name": "ipython",
    "version": 3
   },
   "file_extension": ".py",
   "mimetype": "text/x-python",
   "name": "python",
   "nbconvert_exporter": "python",
   "pygments_lexer": "ipython3",
   "version": "3.8.5"
  }
 },
 "nbformat": 4,
 "nbformat_minor": 4
}
