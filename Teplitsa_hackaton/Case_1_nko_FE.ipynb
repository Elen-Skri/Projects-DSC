{
 "cells": [
  {
   "cell_type": "code",
   "execution_count": 1,
   "metadata": {},
   "outputs": [],
   "source": [
    "import pandas as pd\n",
    "import numpy as np\n",
    "\n",
    "# visualisation libraries:\n",
    "import matplotlib.pyplot as plt  # 2-d graphics\n",
    "import seaborn as sns  # graphics for statistics\n",
    "%matplotlib inline\n",
    "\n",
    "# timeworks\n",
    "import datetime \n",
    "\n",
    "# encoding \n",
    "from sklearn.preprocessing import OneHotEncoder "
   ]
  },
  {
   "cell_type": "code",
   "execution_count": null,
   "metadata": {},
   "outputs": [],
   "source": []
  },
  {
   "cell_type": "code",
   "execution_count": 2,
   "metadata": {},
   "outputs": [
    {
     "data": {
      "text/html": [
       "<div>\n",
       "<style scoped>\n",
       "    .dataframe tbody tr th:only-of-type {\n",
       "        vertical-align: middle;\n",
       "    }\n",
       "\n",
       "    .dataframe tbody tr th {\n",
       "        vertical-align: top;\n",
       "    }\n",
       "\n",
       "    .dataframe thead th {\n",
       "        text-align: right;\n",
       "    }\n",
       "</style>\n",
       "<table border=\"1\" class=\"dataframe\">\n",
       "  <thead>\n",
       "    <tr style=\"text-align: right;\">\n",
       "      <th></th>\n",
       "      <th>Unnamed: 0</th>\n",
       "      <th>regionName</th>\n",
       "      <th>fullName</th>\n",
       "      <th>dateReg</th>\n",
       "      <th>minjustForm</th>\n",
       "      <th>ogrn</th>\n",
       "      <th>opf</th>\n",
       "      <th>egrulStatus</th>\n",
       "      <th>mainOkved</th>\n",
       "      <th>regionCode</th>\n",
       "      <th>incomeTotal</th>\n",
       "      <th>inn</th>\n",
       "      <th>originDate</th>\n",
       "      <th>dateLiquid</th>\n",
       "      <th>address</th>\n",
       "      <th>okogu</th>\n",
       "      <th>hasRegionalSupport</th>\n",
       "      <th>addOkved</th>\n",
       "      <th>dateOgrn</th>\n",
       "    </tr>\n",
       "  </thead>\n",
       "  <tbody>\n",
       "    <tr>\n",
       "      <th>0</th>\n",
       "      <td>0</td>\n",
       "      <td>Санкт-Петербург</td>\n",
       "      <td>МЕЖРЕГИОНАЛЬНАЯ АНТРОПОСОФСКАЯ МЕДИЦИНСКАЯ АСС...</td>\n",
       "      <td>NaN</td>\n",
       "      <td>Объединения (союз, ассоциация) юридических лиц</td>\n",
       "      <td>1207800141790</td>\n",
       "      <td>{'name': 'Ассоциации (союзы)', 'code': '20600'...</td>\n",
       "      <td>Действует</td>\n",
       "      <td>{'name': 'Деятельность профессиональных членск...</td>\n",
       "      <td>78</td>\n",
       "      <td>0.0</td>\n",
       "      <td>7.841091e+09</td>\n",
       "      <td>{'$date': '2020-10-30T00:00:00.000Z'}</td>\n",
       "      <td>NaN</td>\n",
       "      <td>191186, ГОРОД САНКТ-ПЕТЕРБУРГ, УЛИЦА ИТАЛЬЯНСК...</td>\n",
       "      <td>{'name': None, 'code': None}</td>\n",
       "      <td>False</td>\n",
       "      <td>[]</td>\n",
       "      <td>{'$date': '2020-10-30T00:00:00.000Z'}</td>\n",
       "    </tr>\n",
       "    <tr>\n",
       "      <th>1</th>\n",
       "      <td>1</td>\n",
       "      <td>Москва</td>\n",
       "      <td>ФОНД \"СОДЕЙСТВИЕ ДУХОВНОМУ РАЗВИТИЮ ЧЕЛОВЕКА \"...</td>\n",
       "      <td>NaN</td>\n",
       "      <td>Некоммерческий фонд</td>\n",
       "      <td>1207700349152</td>\n",
       "      <td>{'name': 'Фонды', 'code': '70400', 'version': ...</td>\n",
       "      <td>Действует</td>\n",
       "      <td>{'name': 'Предоставление прочих финансовых усл...</td>\n",
       "      <td>77</td>\n",
       "      <td>0.0</td>\n",
       "      <td>7.720647e+09</td>\n",
       "      <td>{'$date': '2020-09-23T00:00:00.000Z'}</td>\n",
       "      <td>NaN</td>\n",
       "      <td>111395, ГОРОД МОСКВА, УЛИЦА МОЛДАГУЛОВОЙ, ДОМ ...</td>\n",
       "      <td>{'name': None, 'code': None}</td>\n",
       "      <td>False</td>\n",
       "      <td>[{'name': 'Издание книг', 'code': '58.11', 've...</td>\n",
       "      <td>{'$date': '2020-09-23T00:00:00.000Z'}</td>\n",
       "    </tr>\n",
       "    <tr>\n",
       "      <th>2</th>\n",
       "      <td>2</td>\n",
       "      <td>Санкт-Петербург</td>\n",
       "      <td>КОЛЛЕГИЯ АДВОКАТОВ \"САНКТ-ПЕТЕРБУРГСКАЯ КОЛЛЕГ...</td>\n",
       "      <td>NaN</td>\n",
       "      <td>Коллегия адвокатов</td>\n",
       "      <td>1207800011430</td>\n",
       "      <td>{'name': 'Коллегии адвокатов', 'code': '20616'...</td>\n",
       "      <td>Действует</td>\n",
       "      <td>{'name': 'Деятельность в области права', 'code...</td>\n",
       "      <td>78</td>\n",
       "      <td>0.0</td>\n",
       "      <td>7.813643e+09</td>\n",
       "      <td>{'$date': '2020-02-03T00:00:00.000Z'}</td>\n",
       "      <td>NaN</td>\n",
       "      <td>197198, ГОРОД САНКТ-ПЕТЕРБУРГ, УЛИЦА БОЛЬШАЯ П...</td>\n",
       "      <td>{'name': None, 'code': None}</td>\n",
       "      <td>False</td>\n",
       "      <td>[]</td>\n",
       "      <td>{'$date': '2020-02-03T00:00:00.000Z'}</td>\n",
       "    </tr>\n",
       "    <tr>\n",
       "      <th>3</th>\n",
       "      <td>3</td>\n",
       "      <td>Москва</td>\n",
       "      <td>ТОВАРИЩЕСТВО СОБСТВЕННИКОВ НЕДВИЖИМОСТИ \"ЛУГИН...</td>\n",
       "      <td>NaN</td>\n",
       "      <td>NaN</td>\n",
       "      <td>1207700348976</td>\n",
       "      <td>{'name': 'Товарищества собственников недвижимо...</td>\n",
       "      <td>Действует</td>\n",
       "      <td>{'name': 'Управление недвижимым имуществом за ...</td>\n",
       "      <td>77</td>\n",
       "      <td>0.0</td>\n",
       "      <td>7.733360e+09</td>\n",
       "      <td>{'$date': '2020-09-23T00:00:00.000Z'}</td>\n",
       "      <td>NaN</td>\n",
       "      <td>125424, ГОРОД МОСКВА, ШОССЕ ВОЛОКОЛАМСКОЕ, ДОМ...</td>\n",
       "      <td>{'name': None, 'code': None}</td>\n",
       "      <td>False</td>\n",
       "      <td>[{'name': 'Аренда и управление собственным или...</td>\n",
       "      <td>{'$date': '2020-09-23T00:00:00.000Z'}</td>\n",
       "    </tr>\n",
       "    <tr>\n",
       "      <th>4</th>\n",
       "      <td>4</td>\n",
       "      <td>Санкт-Петербург</td>\n",
       "      <td>АВТОНОМНАЯ НЕКОММЕРЧЕСКАЯ ОРГАНИЗАЦИЯ \"ЦЕНТР С...</td>\n",
       "      <td>NaN</td>\n",
       "      <td>Автономная некоммерческая организация</td>\n",
       "      <td>1207800081500</td>\n",
       "      <td>{'name': 'Автономные некоммерческие организаци...</td>\n",
       "      <td>Действует</td>\n",
       "      <td>{'name': 'Деятельность по организации конферен...</td>\n",
       "      <td>78</td>\n",
       "      <td>0.0</td>\n",
       "      <td>7.813645e+09</td>\n",
       "      <td>{'$date': '2020-07-08T00:00:00.000Z'}</td>\n",
       "      <td>NaN</td>\n",
       "      <td>197198, ГОРОД САНКТ-ПЕТЕРБУРГ, УЛИЦА ЗВЕРИНСКА...</td>\n",
       "      <td>{'name': None, 'code': None}</td>\n",
       "      <td>False</td>\n",
       "      <td>[{'name': 'Исследование конъюнктуры рынка и из...</td>\n",
       "      <td>{'$date': '2020-07-08T00:00:00.000Z'}</td>\n",
       "    </tr>\n",
       "  </tbody>\n",
       "</table>\n",
       "</div>"
      ],
      "text/plain": [
       "   Unnamed: 0       regionName  \\\n",
       "0           0  Санкт-Петербург   \n",
       "1           1           Москва   \n",
       "2           2  Санкт-Петербург   \n",
       "3           3           Москва   \n",
       "4           4  Санкт-Петербург   \n",
       "\n",
       "                                            fullName dateReg  \\\n",
       "0  МЕЖРЕГИОНАЛЬНАЯ АНТРОПОСОФСКАЯ МЕДИЦИНСКАЯ АСС...     NaN   \n",
       "1  ФОНД \"СОДЕЙСТВИЕ ДУХОВНОМУ РАЗВИТИЮ ЧЕЛОВЕКА \"...     NaN   \n",
       "2  КОЛЛЕГИЯ АДВОКАТОВ \"САНКТ-ПЕТЕРБУРГСКАЯ КОЛЛЕГ...     NaN   \n",
       "3  ТОВАРИЩЕСТВО СОБСТВЕННИКОВ НЕДВИЖИМОСТИ \"ЛУГИН...     NaN   \n",
       "4  АВТОНОМНАЯ НЕКОММЕРЧЕСКАЯ ОРГАНИЗАЦИЯ \"ЦЕНТР С...     NaN   \n",
       "\n",
       "                                      minjustForm           ogrn  \\\n",
       "0  Объединения (союз, ассоциация) юридических лиц  1207800141790   \n",
       "1                             Некоммерческий фонд  1207700349152   \n",
       "2                              Коллегия адвокатов  1207800011430   \n",
       "3                                             NaN  1207700348976   \n",
       "4           Автономная некоммерческая организация  1207800081500   \n",
       "\n",
       "                                                 opf egrulStatus  \\\n",
       "0  {'name': 'Ассоциации (союзы)', 'code': '20600'...   Действует   \n",
       "1  {'name': 'Фонды', 'code': '70400', 'version': ...   Действует   \n",
       "2  {'name': 'Коллегии адвокатов', 'code': '20616'...   Действует   \n",
       "3  {'name': 'Товарищества собственников недвижимо...   Действует   \n",
       "4  {'name': 'Автономные некоммерческие организаци...   Действует   \n",
       "\n",
       "                                           mainOkved  regionCode  incomeTotal  \\\n",
       "0  {'name': 'Деятельность профессиональных членск...          78          0.0   \n",
       "1  {'name': 'Предоставление прочих финансовых усл...          77          0.0   \n",
       "2  {'name': 'Деятельность в области права', 'code...          78          0.0   \n",
       "3  {'name': 'Управление недвижимым имуществом за ...          77          0.0   \n",
       "4  {'name': 'Деятельность по организации конферен...          78          0.0   \n",
       "\n",
       "            inn                             originDate dateLiquid  \\\n",
       "0  7.841091e+09  {'$date': '2020-10-30T00:00:00.000Z'}        NaN   \n",
       "1  7.720647e+09  {'$date': '2020-09-23T00:00:00.000Z'}        NaN   \n",
       "2  7.813643e+09  {'$date': '2020-02-03T00:00:00.000Z'}        NaN   \n",
       "3  7.733360e+09  {'$date': '2020-09-23T00:00:00.000Z'}        NaN   \n",
       "4  7.813645e+09  {'$date': '2020-07-08T00:00:00.000Z'}        NaN   \n",
       "\n",
       "                                             address  \\\n",
       "0  191186, ГОРОД САНКТ-ПЕТЕРБУРГ, УЛИЦА ИТАЛЬЯНСК...   \n",
       "1  111395, ГОРОД МОСКВА, УЛИЦА МОЛДАГУЛОВОЙ, ДОМ ...   \n",
       "2  197198, ГОРОД САНКТ-ПЕТЕРБУРГ, УЛИЦА БОЛЬШАЯ П...   \n",
       "3  125424, ГОРОД МОСКВА, ШОССЕ ВОЛОКОЛАМСКОЕ, ДОМ...   \n",
       "4  197198, ГОРОД САНКТ-ПЕТЕРБУРГ, УЛИЦА ЗВЕРИНСКА...   \n",
       "\n",
       "                          okogu  hasRegionalSupport  \\\n",
       "0  {'name': None, 'code': None}               False   \n",
       "1  {'name': None, 'code': None}               False   \n",
       "2  {'name': None, 'code': None}               False   \n",
       "3  {'name': None, 'code': None}               False   \n",
       "4  {'name': None, 'code': None}               False   \n",
       "\n",
       "                                            addOkved  \\\n",
       "0                                                 []   \n",
       "1  [{'name': 'Издание книг', 'code': '58.11', 've...   \n",
       "2                                                 []   \n",
       "3  [{'name': 'Аренда и управление собственным или...   \n",
       "4  [{'name': 'Исследование конъюнктуры рынка и из...   \n",
       "\n",
       "                                dateOgrn  \n",
       "0  {'$date': '2020-10-30T00:00:00.000Z'}  \n",
       "1  {'$date': '2020-09-23T00:00:00.000Z'}  \n",
       "2  {'$date': '2020-02-03T00:00:00.000Z'}  \n",
       "3  {'$date': '2020-09-23T00:00:00.000Z'}  \n",
       "4  {'$date': '2020-07-08T00:00:00.000Z'}  "
      ]
     },
     "execution_count": 2,
     "metadata": {},
     "output_type": "execute_result"
    }
   ],
   "source": [
    "data = pd.read_csv('nko_dropped.csv')\n",
    "data.head()"
   ]
  },
  {
   "cell_type": "code",
   "execution_count": 3,
   "metadata": {
    "scrolled": true
   },
   "outputs": [
    {
     "data": {
      "text/html": [
       "<div>\n",
       "<style scoped>\n",
       "    .dataframe tbody tr th:only-of-type {\n",
       "        vertical-align: middle;\n",
       "    }\n",
       "\n",
       "    .dataframe tbody tr th {\n",
       "        vertical-align: top;\n",
       "    }\n",
       "\n",
       "    .dataframe thead th {\n",
       "        text-align: right;\n",
       "    }\n",
       "</style>\n",
       "<table border=\"1\" class=\"dataframe\">\n",
       "  <thead>\n",
       "    <tr style=\"text-align: right;\">\n",
       "      <th></th>\n",
       "      <th>&lt;lambda&gt;</th>\n",
       "      <th>nunique</th>\n",
       "      <th>null</th>\n",
       "      <th>dtype</th>\n",
       "    </tr>\n",
       "  </thead>\n",
       "  <tbody>\n",
       "    <tr>\n",
       "      <th>Unnamed: 0</th>\n",
       "      <td>[0, 1, 2, 3, 4, 5, 6, 7, 8, 9]</td>\n",
       "      <td>747034</td>\n",
       "      <td>0</td>\n",
       "      <td>int64</td>\n",
       "    </tr>\n",
       "    <tr>\n",
       "      <th>regionName</th>\n",
       "      <td>[Санкт-Петербург, Москва, Республика Марий Эл,...</td>\n",
       "      <td>86</td>\n",
       "      <td>25</td>\n",
       "      <td>object</td>\n",
       "    </tr>\n",
       "    <tr>\n",
       "      <th>fullName</th>\n",
       "      <td>[МЕЖРЕГИОНАЛЬНАЯ АНТРОПОСОФСКАЯ МЕДИЦИНСКАЯ АС...</td>\n",
       "      <td>665787</td>\n",
       "      <td>0</td>\n",
       "      <td>object</td>\n",
       "    </tr>\n",
       "    <tr>\n",
       "      <th>dateReg</th>\n",
       "      <td>[nan, {'$date': '1991-04-12T00:00:00.000Z'}, {...</td>\n",
       "      <td>12927</td>\n",
       "      <td>425618</td>\n",
       "      <td>object</td>\n",
       "    </tr>\n",
       "    <tr>\n",
       "      <th>minjustForm</th>\n",
       "      <td>[Объединения (союз, ассоциация) юридических ли...</td>\n",
       "      <td>42</td>\n",
       "      <td>285961</td>\n",
       "      <td>object</td>\n",
       "    </tr>\n",
       "    <tr>\n",
       "      <th>ogrn</th>\n",
       "      <td>[1207800141790, 1207700349152, 1207800011430, ...</td>\n",
       "      <td>747034</td>\n",
       "      <td>0</td>\n",
       "      <td>int64</td>\n",
       "    </tr>\n",
       "    <tr>\n",
       "      <th>opf</th>\n",
       "      <td>[{'name': 'Ассоциации (союзы)', 'code': '20600...</td>\n",
       "      <td>291</td>\n",
       "      <td>0</td>\n",
       "      <td>object</td>\n",
       "    </tr>\n",
       "    <tr>\n",
       "      <th>egrulStatus</th>\n",
       "      <td>[Действует, Ликвидирована]</td>\n",
       "      <td>2</td>\n",
       "      <td>0</td>\n",
       "      <td>object</td>\n",
       "    </tr>\n",
       "    <tr>\n",
       "      <th>mainOkved</th>\n",
       "      <td>[{'name': 'Деятельность профессиональных членс...</td>\n",
       "      <td>2209</td>\n",
       "      <td>0</td>\n",
       "      <td>object</td>\n",
       "    </tr>\n",
       "    <tr>\n",
       "      <th>regionCode</th>\n",
       "      <td>[78, 77, 12, 75, 23, 43, 30, 4, 50, 58]</td>\n",
       "      <td>93</td>\n",
       "      <td>0</td>\n",
       "      <td>int64</td>\n",
       "    </tr>\n",
       "    <tr>\n",
       "      <th>incomeTotal</th>\n",
       "      <td>[0.0, 11464477.21, 1096727.62, 235672.5, 10607...</td>\n",
       "      <td>28326</td>\n",
       "      <td>0</td>\n",
       "      <td>float64</td>\n",
       "    </tr>\n",
       "    <tr>\n",
       "      <th>inn</th>\n",
       "      <td>[7841091168.0, 7720646827.0, 7813642543.0, 773...</td>\n",
       "      <td>742240</td>\n",
       "      <td>2604</td>\n",
       "      <td>float64</td>\n",
       "    </tr>\n",
       "    <tr>\n",
       "      <th>originDate</th>\n",
       "      <td>[{'$date': '2020-10-30T00:00:00.000Z'}, {'$dat...</td>\n",
       "      <td>17004</td>\n",
       "      <td>0</td>\n",
       "      <td>object</td>\n",
       "    </tr>\n",
       "    <tr>\n",
       "      <th>dateLiquid</th>\n",
       "      <td>[nan, {'$date': '2021-07-16T00:00:00.000Z'}, {...</td>\n",
       "      <td>5453</td>\n",
       "      <td>347073</td>\n",
       "      <td>object</td>\n",
       "    </tr>\n",
       "    <tr>\n",
       "      <th>address</th>\n",
       "      <td>[191186, ГОРОД САНКТ-ПЕТЕРБУРГ, УЛИЦА ИТАЛЬЯНС...</td>\n",
       "      <td>632856</td>\n",
       "      <td>0</td>\n",
       "      <td>object</td>\n",
       "    </tr>\n",
       "    <tr>\n",
       "      <th>okogu</th>\n",
       "      <td>[{'name': None, 'code': None}, {'name': 'Орган...</td>\n",
       "      <td>77</td>\n",
       "      <td>0</td>\n",
       "      <td>object</td>\n",
       "    </tr>\n",
       "    <tr>\n",
       "      <th>hasRegionalSupport</th>\n",
       "      <td>[False, True]</td>\n",
       "      <td>2</td>\n",
       "      <td>0</td>\n",
       "      <td>bool</td>\n",
       "    </tr>\n",
       "    <tr>\n",
       "      <th>addOkved</th>\n",
       "      <td>[[], [{'name': 'Издание книг', 'code': '58.11'...</td>\n",
       "      <td>127443</td>\n",
       "      <td>0</td>\n",
       "      <td>object</td>\n",
       "    </tr>\n",
       "    <tr>\n",
       "      <th>dateOgrn</th>\n",
       "      <td>[{'$date': '2020-10-30T00:00:00.000Z'}, {'$dat...</td>\n",
       "      <td>5610</td>\n",
       "      <td>0</td>\n",
       "      <td>object</td>\n",
       "    </tr>\n",
       "  </tbody>\n",
       "</table>\n",
       "</div>"
      ],
      "text/plain": [
       "                                                             <lambda> nunique  \\\n",
       "Unnamed: 0                             [0, 1, 2, 3, 4, 5, 6, 7, 8, 9]  747034   \n",
       "regionName          [Санкт-Петербург, Москва, Республика Марий Эл,...      86   \n",
       "fullName            [МЕЖРЕГИОНАЛЬНАЯ АНТРОПОСОФСКАЯ МЕДИЦИНСКАЯ АС...  665787   \n",
       "dateReg             [nan, {'$date': '1991-04-12T00:00:00.000Z'}, {...   12927   \n",
       "minjustForm         [Объединения (союз, ассоциация) юридических ли...      42   \n",
       "ogrn                [1207800141790, 1207700349152, 1207800011430, ...  747034   \n",
       "opf                 [{'name': 'Ассоциации (союзы)', 'code': '20600...     291   \n",
       "egrulStatus                                [Действует, Ликвидирована]       2   \n",
       "mainOkved           [{'name': 'Деятельность профессиональных членс...    2209   \n",
       "regionCode                    [78, 77, 12, 75, 23, 43, 30, 4, 50, 58]      93   \n",
       "incomeTotal         [0.0, 11464477.21, 1096727.62, 235672.5, 10607...   28326   \n",
       "inn                 [7841091168.0, 7720646827.0, 7813642543.0, 773...  742240   \n",
       "originDate          [{'$date': '2020-10-30T00:00:00.000Z'}, {'$dat...   17004   \n",
       "dateLiquid          [nan, {'$date': '2021-07-16T00:00:00.000Z'}, {...    5453   \n",
       "address             [191186, ГОРОД САНКТ-ПЕТЕРБУРГ, УЛИЦА ИТАЛЬЯНС...  632856   \n",
       "okogu               [{'name': None, 'code': None}, {'name': 'Орган...      77   \n",
       "hasRegionalSupport                                      [False, True]       2   \n",
       "addOkved            [[], [{'name': 'Издание книг', 'code': '58.11'...  127443   \n",
       "dateOgrn            [{'$date': '2020-10-30T00:00:00.000Z'}, {'$dat...    5610   \n",
       "\n",
       "                      null    dtype  \n",
       "Unnamed: 0               0    int64  \n",
       "regionName              25   object  \n",
       "fullName                 0   object  \n",
       "dateReg             425618   object  \n",
       "minjustForm         285961   object  \n",
       "ogrn                     0    int64  \n",
       "opf                      0   object  \n",
       "egrulStatus              0   object  \n",
       "mainOkved                0   object  \n",
       "regionCode               0    int64  \n",
       "incomeTotal              0  float64  \n",
       "inn                   2604  float64  \n",
       "originDate               0   object  \n",
       "dateLiquid          347073   object  \n",
       "address                  0   object  \n",
       "okogu                    0   object  \n",
       "hasRegionalSupport       0     bool  \n",
       "addOkved                 0   object  \n",
       "dateOgrn                 0   object  "
      ]
     },
     "execution_count": 3,
     "metadata": {},
     "output_type": "execute_result"
    }
   ],
   "source": [
    "# Табличка признаков \n",
    "data_agg = data.agg({'nunique', lambda s: s.unique()[:10]})\\\n",
    "    .append(pd.Series(data.isnull().sum(), name='null'))\\\n",
    "    .append(pd.Series(data.dtypes, name='dtype'))\\\n",
    "    .transpose()\n",
    "data_agg"
   ]
  },
  {
   "cell_type": "code",
   "execution_count": 4,
   "metadata": {},
   "outputs": [],
   "source": [
    "drop_cols = []"
   ]
  },
  {
   "cell_type": "code",
   "execution_count": 5,
   "metadata": {},
   "outputs": [],
   "source": [
    "drop_cols.append('Unnamed: 0')"
   ]
  },
  {
   "cell_type": "code",
   "execution_count": 6,
   "metadata": {},
   "outputs": [],
   "source": [
    "data.drop(columns = drop_cols, inplace = True )"
   ]
  },
  {
   "cell_type": "code",
   "execution_count": 7,
   "metadata": {},
   "outputs": [
    {
     "name": "stdout",
     "output_type": "stream",
     "text": [
      "Misses detected: 1061281\n"
     ]
    },
    {
     "data": {
      "text/plain": [
       "<AxesSubplot:>"
      ]
     },
     "execution_count": 7,
     "metadata": {},
     "output_type": "execute_result"
    },
    {
     "data": {
      "image/png": "[encoded data removed]",
      "text/plain": [
       "<Figure size 1080x360 with 2 Axes>"
      ]
     },
     "metadata": {
      "needs_background": "light"
     },
     "output_type": "display_data"
    }
   ],
   "source": [
    "print('Misses detected:', data.isnull().sum().sum())\n",
    "\n",
    "plt.subplots(figsize=(15, 5))\n",
    "sns.heatmap(data.isnull())"
   ]
  },
  {
   "cell_type": "markdown",
   "metadata": {},
   "source": [
    "Гипотезы: \n",
    "        \n",
    "        НКО с с положительным флагом по hasRegionalSupport  будут иметь меньше шансов на грант. ДБ соцориентрованы, получают приоритетную поддержку от региона."
   ]
  },
  {
   "cell_type": "markdown",
   "metadata": {},
   "source": [
    "####  Target\n",
    "назанчим флаг target  по уровню дохода из открытых источников: 1 если такие поступления есть, 0 - если нет. "
   ]
  },
  {
   "cell_type": "code",
   "execution_count": 8,
   "metadata": {},
   "outputs": [],
   "source": [
    "data['target'] = np.nan"
   ]
  },
  {
   "cell_type": "code",
   "execution_count": 9,
   "metadata": {},
   "outputs": [],
   "source": [
    "data.loc[data['incomeTotal'] > 0, 'target'] = 1 "
   ]
  },
  {
   "cell_type": "code",
   "execution_count": 10,
   "metadata": {},
   "outputs": [],
   "source": [
    "data.target.fillna(0, inplace = True)"
   ]
  },
  {
   "cell_type": "code",
   "execution_count": 11,
   "metadata": {},
   "outputs": [
    {
     "data": {
      "text/plain": [
       "0.0    712729\n",
       "1.0     34305\n",
       "Name: target, dtype: int64"
      ]
     },
     "execution_count": 11,
     "metadata": {},
     "output_type": "execute_result"
    }
   ],
   "source": [
    "data.target.value_counts()\n"
   ]
  },
  {
   "cell_type": "markdown",
   "metadata": {},
   "source": [
    "##  OPF "
   ]
  },
  {
   "cell_type": "code",
   "execution_count": 12,
   "metadata": {},
   "outputs": [
    {
     "data": {
      "text/plain": [
       "285961"
      ]
     },
     "execution_count": 12,
     "metadata": {},
     "output_type": "execute_result"
    }
   ],
   "source": [
    "data.minjustForm.isnull().sum()"
   ]
  },
  {
   "cell_type": "code",
   "execution_count": 13,
   "metadata": {},
   "outputs": [
    {
     "data": {
      "text/html": [
       "<div>\n",
       "<style scoped>\n",
       "    .dataframe tbody tr th:only-of-type {\n",
       "        vertical-align: middle;\n",
       "    }\n",
       "\n",
       "    .dataframe tbody tr th {\n",
       "        vertical-align: top;\n",
       "    }\n",
       "\n",
       "    .dataframe thead th {\n",
       "        text-align: right;\n",
       "    }\n",
       "</style>\n",
       "<table border=\"1\" class=\"dataframe\">\n",
       "  <thead>\n",
       "    <tr style=\"text-align: right;\">\n",
       "      <th></th>\n",
       "      <th>granted</th>\n",
       "      <th>nongranted</th>\n",
       "      <th>total_count</th>\n",
       "    </tr>\n",
       "    <tr>\n",
       "      <th>minjustForm</th>\n",
       "      <th></th>\n",
       "      <th></th>\n",
       "      <th></th>\n",
       "    </tr>\n",
       "  </thead>\n",
       "  <tbody>\n",
       "    <tr>\n",
       "      <th>Автономная некоммерческая организация</th>\n",
       "      <td>44606</td>\n",
       "      <td>6891.0</td>\n",
       "      <td>51497</td>\n",
       "    </tr>\n",
       "    <tr>\n",
       "      <th>Адвокатские палаты субъектов РФ</th>\n",
       "      <td>89</td>\n",
       "      <td>3.0</td>\n",
       "      <td>92</td>\n",
       "    </tr>\n",
       "    <tr>\n",
       "      <th>Адвокатское бюро</th>\n",
       "      <td>1013</td>\n",
       "      <td>84.0</td>\n",
       "      <td>1097</td>\n",
       "    </tr>\n",
       "    <tr>\n",
       "      <th>Ассоциация</th>\n",
       "      <td>1</td>\n",
       "      <td>NaN</td>\n",
       "      <td>1</td>\n",
       "    </tr>\n",
       "    <tr>\n",
       "      <th>Ассоциация крестьянских (фермерских) хозяйств</th>\n",
       "      <td>660</td>\n",
       "      <td>7.0</td>\n",
       "      <td>667</td>\n",
       "    </tr>\n",
       "    <tr>\n",
       "      <th>Ассоциация экономического развития</th>\n",
       "      <td>197</td>\n",
       "      <td>7.0</td>\n",
       "      <td>204</td>\n",
       "    </tr>\n",
       "    <tr>\n",
       "      <th>Государственная корпорация</th>\n",
       "      <td>1</td>\n",
       "      <td>7.0</td>\n",
       "      <td>8</td>\n",
       "    </tr>\n",
       "    <tr>\n",
       "      <th>Государственно-общественное объединение</th>\n",
       "      <td>122</td>\n",
       "      <td>8.0</td>\n",
       "      <td>130</td>\n",
       "    </tr>\n",
       "    <tr>\n",
       "      <th>Иные некоммерческие организации</th>\n",
       "      <td>817</td>\n",
       "      <td>31.0</td>\n",
       "      <td>848</td>\n",
       "    </tr>\n",
       "    <tr>\n",
       "      <th>Казачье общество</th>\n",
       "      <td>3474</td>\n",
       "      <td>224.0</td>\n",
       "      <td>3698</td>\n",
       "    </tr>\n",
       "    <tr>\n",
       "      <th>Коллегия адвокатов</th>\n",
       "      <td>3515</td>\n",
       "      <td>174.0</td>\n",
       "      <td>3689</td>\n",
       "    </tr>\n",
       "    <tr>\n",
       "      <th>Национально-культурная автономия</th>\n",
       "      <td>1943</td>\n",
       "      <td>116.0</td>\n",
       "      <td>2059</td>\n",
       "    </tr>\n",
       "    <tr>\n",
       "      <th>Негосударственный пенсионный фонд</th>\n",
       "      <td>285</td>\n",
       "      <td>11.0</td>\n",
       "      <td>296</td>\n",
       "    </tr>\n",
       "    <tr>\n",
       "      <th>Некоммерческий фонд</th>\n",
       "      <td>33588</td>\n",
       "      <td>2737.0</td>\n",
       "      <td>36325</td>\n",
       "    </tr>\n",
       "    <tr>\n",
       "      <th>Некоммерческое партнерство</th>\n",
       "      <td>29717</td>\n",
       "      <td>1369.0</td>\n",
       "      <td>31086</td>\n",
       "    </tr>\n",
       "    <tr>\n",
       "      <th>Нотариальная палата</th>\n",
       "      <td>72</td>\n",
       "      <td>2.0</td>\n",
       "      <td>74</td>\n",
       "    </tr>\n",
       "    <tr>\n",
       "      <th>Общественная организация</th>\n",
       "      <td>113586</td>\n",
       "      <td>8093.0</td>\n",
       "      <td>121679</td>\n",
       "    </tr>\n",
       "    <tr>\n",
       "      <th>Общественно-государственное общественное объединение</th>\n",
       "      <td>618</td>\n",
       "      <td>269.0</td>\n",
       "      <td>887</td>\n",
       "    </tr>\n",
       "    <tr>\n",
       "      <th>Общественное движение</th>\n",
       "      <td>4246</td>\n",
       "      <td>252.0</td>\n",
       "      <td>4498</td>\n",
       "    </tr>\n",
       "    <tr>\n",
       "      <th>Общественное учреждение</th>\n",
       "      <td>1333</td>\n",
       "      <td>92.0</td>\n",
       "      <td>1425</td>\n",
       "    </tr>\n",
       "    <tr>\n",
       "      <th>Общественный фонд</th>\n",
       "      <td>8031</td>\n",
       "      <td>357.0</td>\n",
       "      <td>8388</td>\n",
       "    </tr>\n",
       "    <tr>\n",
       "      <th>Община малочисленных народов</th>\n",
       "      <td>2663</td>\n",
       "      <td>82.0</td>\n",
       "      <td>2745</td>\n",
       "    </tr>\n",
       "    <tr>\n",
       "      <th>Объединение работодателей</th>\n",
       "      <td>657</td>\n",
       "      <td>16.0</td>\n",
       "      <td>673</td>\n",
       "    </tr>\n",
       "    <tr>\n",
       "      <th>Объединения (союз, ассоциация) юридических лиц</th>\n",
       "      <td>16934</td>\n",
       "      <td>1199.0</td>\n",
       "      <td>18133</td>\n",
       "    </tr>\n",
       "    <tr>\n",
       "      <th>Объединения адвокатов</th>\n",
       "      <td>173</td>\n",
       "      <td>5.0</td>\n",
       "      <td>178</td>\n",
       "    </tr>\n",
       "    <tr>\n",
       "      <th>Орган общественной самодеятельности</th>\n",
       "      <td>303</td>\n",
       "      <td>15.0</td>\n",
       "      <td>318</td>\n",
       "    </tr>\n",
       "    <tr>\n",
       "      <th>Организация</th>\n",
       "      <td>42</td>\n",
       "      <td>3.0</td>\n",
       "      <td>45</td>\n",
       "    </tr>\n",
       "    <tr>\n",
       "      <th>Политическая партия</th>\n",
       "      <td>7987</td>\n",
       "      <td>18.0</td>\n",
       "      <td>8005</td>\n",
       "    </tr>\n",
       "    <tr>\n",
       "      <th>Профессиональный союз</th>\n",
       "      <td>51661</td>\n",
       "      <td>457.0</td>\n",
       "      <td>52118</td>\n",
       "    </tr>\n",
       "    <tr>\n",
       "      <th>Религиозная организация</th>\n",
       "      <td>35402</td>\n",
       "      <td>513.0</td>\n",
       "      <td>35915</td>\n",
       "    </tr>\n",
       "    <tr>\n",
       "      <th>Садоводческие, огороднические, дачные и иные некоммерческие товарищества</th>\n",
       "      <td>24757</td>\n",
       "      <td>75.0</td>\n",
       "      <td>24832</td>\n",
       "    </tr>\n",
       "    <tr>\n",
       "      <th>Садоводческое, огородническое, дачное некоммерческое объединение</th>\n",
       "      <td>123</td>\n",
       "      <td>NaN</td>\n",
       "      <td>123</td>\n",
       "    </tr>\n",
       "    <tr>\n",
       "      <th>Садоводческое, огородническое, дачное некоммерческое партнерство</th>\n",
       "      <td>852</td>\n",
       "      <td>1.0</td>\n",
       "      <td>853</td>\n",
       "    </tr>\n",
       "    <tr>\n",
       "      <th>Совет муниципальных образований</th>\n",
       "      <td>24</td>\n",
       "      <td>3.0</td>\n",
       "      <td>27</td>\n",
       "    </tr>\n",
       "    <tr>\n",
       "      <th>Союз</th>\n",
       "      <td>7</td>\n",
       "      <td>NaN</td>\n",
       "      <td>7</td>\n",
       "    </tr>\n",
       "    <tr>\n",
       "      <th>Союз (ассоциация) общественных объединений</th>\n",
       "      <td>802</td>\n",
       "      <td>94.0</td>\n",
       "      <td>896</td>\n",
       "    </tr>\n",
       "    <tr>\n",
       "      <th>Территориальное общественное самоуправление</th>\n",
       "      <td>2165</td>\n",
       "      <td>126.0</td>\n",
       "      <td>2291</td>\n",
       "    </tr>\n",
       "    <tr>\n",
       "      <th>Товарищество собственников жилья</th>\n",
       "      <td>17507</td>\n",
       "      <td>1121.0</td>\n",
       "      <td>18628</td>\n",
       "    </tr>\n",
       "    <tr>\n",
       "      <th>Торгово-промышленная палата</th>\n",
       "      <td>30</td>\n",
       "      <td>40.0</td>\n",
       "      <td>70</td>\n",
       "    </tr>\n",
       "    <tr>\n",
       "      <th>Учреждение</th>\n",
       "      <td>21591</td>\n",
       "      <td>4967.0</td>\n",
       "      <td>26558</td>\n",
       "    </tr>\n",
       "    <tr>\n",
       "      <th>Фонд</th>\n",
       "      <td>9</td>\n",
       "      <td>NaN</td>\n",
       "      <td>9</td>\n",
       "    </tr>\n",
       "  </tbody>\n",
       "</table>\n",
       "</div>"
      ],
      "text/plain": [
       "                                                    granted  nongranted  \\\n",
       "minjustForm                                                               \n",
       "Автономная некоммерческая организация                 44606      6891.0   \n",
       "Адвокатские палаты субъектов РФ                          89         3.0   \n",
       "Адвокатское бюро                                       1013        84.0   \n",
       "Ассоциация                                                1         NaN   \n",
       "Ассоциация крестьянских (фермерских) хозяйств           660         7.0   \n",
       "Ассоциация экономического развития                      197         7.0   \n",
       "Государственная корпорация                                1         7.0   \n",
       "Государственно-общественное объединение                 122         8.0   \n",
       "Иные некоммерческие организации                         817        31.0   \n",
       "Казачье общество                                       3474       224.0   \n",
       "Коллегия адвокатов                                     3515       174.0   \n",
       "Национально-культурная автономия                       1943       116.0   \n",
       "Негосударственный пенсионный фонд                       285        11.0   \n",
       "Некоммерческий фонд                                   33588      2737.0   \n",
       "Некоммерческое партнерство                            29717      1369.0   \n",
       "Нотариальная палата                                      72         2.0   \n",
       "Общественная организация                             113586      8093.0   \n",
       "Общественно-государственное общественное объеди...      618       269.0   \n",
       "Общественное движение                                  4246       252.0   \n",
       "Общественное учреждение                                1333        92.0   \n",
       "Общественный фонд                                      8031       357.0   \n",
       "Община малочисленных народов                           2663        82.0   \n",
       "Объединение работодателей                               657        16.0   \n",
       "Объединения (союз, ассоциация) юридических лиц        16934      1199.0   \n",
       "Объединения адвокатов                                   173         5.0   \n",
       "Орган общественной самодеятельности                     303        15.0   \n",
       "Организация                                              42         3.0   \n",
       "Политическая партия                                    7987        18.0   \n",
       "Профессиональный союз                                 51661       457.0   \n",
       "Религиозная организация                               35402       513.0   \n",
       "Садоводческие, огороднические, дачные и иные не...    24757        75.0   \n",
       "Садоводческое, огородническое, дачное некоммерч...      123         NaN   \n",
       "Садоводческое, огородническое, дачное некоммерч...      852         1.0   \n",
       "Совет муниципальных образований                          24         3.0   \n",
       "Союз                                                      7         NaN   \n",
       "Союз (ассоциация) общественных объединений              802        94.0   \n",
       "Территориальное общественное самоуправление            2165       126.0   \n",
       "Товарищество собственников жилья                      17507      1121.0   \n",
       "Торгово-промышленная палата                              30        40.0   \n",
       "Учреждение                                            21591      4967.0   \n",
       "Фонд                                                      9         NaN   \n",
       "\n",
       "                                                    total_count  \n",
       "minjustForm                                                      \n",
       "Автономная некоммерческая организация                     51497  \n",
       "Адвокатские палаты субъектов РФ                              92  \n",
       "Адвокатское бюро                                           1097  \n",
       "Ассоциация                                                    1  \n",
       "Ассоциация крестьянских (фермерских) хозяйств               667  \n",
       "Ассоциация экономического развития                          204  \n",
       "Государственная корпорация                                    8  \n",
       "Государственно-общественное объединение                     130  \n",
       "Иные некоммерческие организации                             848  \n",
       "Казачье общество                                           3698  \n",
       "Коллегия адвокатов                                         3689  \n",
       "Национально-культурная автономия                           2059  \n",
       "Негосударственный пенсионный фонд                           296  \n",
       "Некоммерческий фонд                                       36325  \n",
       "Некоммерческое партнерство                                31086  \n",
       "Нотариальная палата                                          74  \n",
       "Общественная организация                                 121679  \n",
       "Общественно-государственное общественное объеди...          887  \n",
       "Общественное движение                                      4498  \n",
       "Общественное учреждение                                    1425  \n",
       "Общественный фонд                                          8388  \n",
       "Община малочисленных народов                               2745  \n",
       "Объединение работодателей                                   673  \n",
       "Объединения (союз, ассоциация) юридических лиц            18133  \n",
       "Объединения адвокатов                                       178  \n",
       "Орган общественной самодеятельности                         318  \n",
       "Организация                                                  45  \n",
       "Политическая партия                                        8005  \n",
       "Профессиональный союз                                     52118  \n",
       "Религиозная организация                                   35915  \n",
       "Садоводческие, огороднические, дачные и иные не...        24832  \n",
       "Садоводческое, огородническое, дачное некоммерч...          123  \n",
       "Садоводческое, огородническое, дачное некоммерч...          853  \n",
       "Совет муниципальных образований                              27  \n",
       "Союз                                                          7  \n",
       "Союз (ассоциация) общественных объединений                  896  \n",
       "Территориальное общественное самоуправление                2291  \n",
       "Товарищество собственников жилья                          18628  \n",
       "Торгово-промышленная палата                                  70  \n",
       "Учреждение                                                26558  \n",
       "Фонд                                                          9  "
      ]
     },
     "execution_count": 13,
     "metadata": {},
     "output_type": "execute_result"
    }
   ],
   "source": [
    "df = pd.DataFrame()\n",
    "df['granted']= data[data.target == 0].groupby('minjustForm')['ogrn'].count()\n",
    "df['nongranted'] = data[data.target == 1].groupby('minjustForm')['ogrn'].count()\n",
    "df['total_count'] = data.groupby('minjustForm')['ogrn'].count()\n",
    "df"
   ]
  },
  {
   "cell_type": "markdown",
   "metadata": {},
   "source": [
    "Сведения о правовой форме НКО в системе классификации минюста показывает, что нет такой формы, которая никогда бы не получала финансирования. "
   ]
  },
  {
   "cell_type": "code",
   "execution_count": 14,
   "metadata": {},
   "outputs": [
    {
     "data": {
      "text/plain": [
       "0"
      ]
     },
     "execution_count": 14,
     "metadata": {},
     "output_type": "execute_result"
    }
   ],
   "source": [
    "data.dateOgrn.isnull().sum()\n",
    "# огрн уникален и поэтому попробую восстановить опф формы для пропусков используя доп данные "
   ]
  },
  {
   "cell_type": "markdown",
   "metadata": {},
   "source": [
    "## Geo "
   ]
  },
  {
   "cell_type": "markdown",
   "metadata": {},
   "source": [
    "####  Region code "
   ]
  },
  {
   "cell_type": "code",
   "execution_count": 15,
   "metadata": {},
   "outputs": [
    {
     "data": {
      "text/plain": [
       "77    80178\n",
       "50    37927\n",
       "78    31767\n",
       "23    23337\n",
       "66    23030\n",
       "      ...  \n",
       "99       91\n",
       "81       84\n",
       "88       65\n",
       "82       31\n",
       "0        25\n",
       "Name: regionCode, Length: 93, dtype: int64"
      ]
     },
     "execution_count": 15,
     "metadata": {},
     "output_type": "execute_result"
    }
   ],
   "source": [
    "data.regionCode.value_counts()"
   ]
  },
  {
   "cell_type": "code",
   "execution_count": 16,
   "metadata": {},
   "outputs": [
    {
     "data": {
      "text/plain": [
       "31530     420015, РЕСПУБЛИКА Татарстан, УЛИЦА К.МАРКСА, ...\n",
       "46886     420100, РЕСПУБЛИКА ТАТАРСТАН, УЛИЦА ПРОСПЕКТ П...\n",
       "51173     420140, РЕСПУБЛИКА ТАТАРСТАН, УЛИЦА КАРАТАУ, Д...\n",
       "53316     420101, РЕСПУБЛИКА ТАТАРСТАН, УЛИЦА МАВЛЮТОВА,...\n",
       "53323     РЕСПУБЛИКА ТАТАРСТАН, УЛИЦА Н.ЕРШОВА, ДОМ 28, ...\n",
       "53841     420021, РЕСПУБЛИКА ТАТАРСТАН, УЛИЦА КАМАЛА ГАЛ...\n",
       "54766     420044, РЕСПУБЛИКА ТАТАРСТАН, УЛИЦА ЯМАШЕВА, Д...\n",
       "61942     420133, РЕСПУБЛИКА ТАТАРСТАН, УЛИЦА ЛАВРЕНТЬЕВ...\n",
       "62898     420015, РЕСПУБЛИКА ТАТАРСТАН, УЛИЦА К.МАРКСА, ...\n",
       "68375           РЕСПУБЛИКА ТАТАРСТАН, УЛИЦА ПРОСПЕКТ ПОБЕДЫ\n",
       "69775     420045, РЕСПУБЛИКА ТАТАРСТАН, УЛИЦА Н.ЕРШОВА, ...\n",
       "69901     420021, РЕСПУБЛИКА ТАТАРСТАН, УЛИЦА К.ТИНЧУРИН...\n",
       "192669    420111, РЕСПУБЛИКА ТАТАРСТАН, УЛИЦА М.ДЖАЛИЛЯ,...\n",
       "196977       РЕСПУБЛИКА ТАТАРСТАН, УЛИЦА К.ТИНЧУРИНА, ДОМ 3\n",
       "499182    420140, РЕСПУБЛИКА ТАТАРСТАН, УЛИЦА ПРОСПЕКТ П...\n",
       "615405    420103, РЕСПУБЛИКА ТАТАРСТАН, УЛИЦА АМИРХАНА, ...\n",
       "618062    420111, РЕСПУБЛИКА ТАТАРСТАН, УЛИЦА АМИРХАНА, ...\n",
       "629021    420111, РЕСПУБЛИКА ТАТАРСТАН, УЛИЦА ПРАВОБУЛАЧ...\n",
       "631662    420138, РЕСПУБЛИКА ТАТАРСТАН, УЛИЦА ПРОСПЕКТ П...\n",
       "632623    420108, РЕСПУБЛИКА ТАТАРСТАН, УЛИЦА АМИРХАНА, ...\n",
       "632809    420087, РЕСПУБЛИКА ТАТАРСТАН, УЛИЦА Р.ЗОРГЕ, Д...\n",
       "633399    420140, РЕСПУБЛИКА ТАТАРСТАН, УЛИЦА Ю.ФУЧИКА, ...\n",
       "633714    420104, РЕСПУБЛИКА ТАТАРСТАН, УЛИЦА Р.ЗОРГЕ, Д...\n",
       "633758    420138, РЕСПУБЛИКА ТАТАРСТАН, УЛИЦА ПРОСПЕКТ П...\n",
       "634735         РЕСПУБЛИКА ТАТАРСТАН, УЛИЦА М.ДЖАЛИЛЯ, ДОМ 3\n",
       "Name: address, dtype: object"
      ]
     },
     "execution_count": 16,
     "metadata": {},
     "output_type": "execute_result"
    }
   ],
   "source": [
    "data[data.regionCode == 0]['address']"
   ]
  },
  {
   "cell_type": "code",
   "execution_count": 17,
   "metadata": {},
   "outputs": [
    {
     "data": {
      "text/plain": [
       "17103"
      ]
     },
     "execution_count": 17,
     "metadata": {},
     "output_type": "execute_result"
    }
   ],
   "source": [
    "data[data.regionCode == 16]['ogrn'].count()"
   ]
  },
  {
   "cell_type": "code",
   "execution_count": 18,
   "metadata": {},
   "outputs": [],
   "source": [
    "data.loc[data.regionCode == 0, 'regionCode'] = 16\n"
   ]
  },
  {
   "cell_type": "code",
   "execution_count": 19,
   "metadata": {},
   "outputs": [
    {
     "data": {
      "text/plain": [
       "77    80178\n",
       "50    37927\n",
       "78    31767\n",
       "23    23337\n",
       "66    23030\n",
       "      ...  \n",
       "80      105\n",
       "99       91\n",
       "81       84\n",
       "88       65\n",
       "82       31\n",
       "Name: regionCode, Length: 92, dtype: int64"
      ]
     },
     "execution_count": 19,
     "metadata": {},
     "output_type": "execute_result"
    }
   ],
   "source": [
    "data.regionCode.value_counts()"
   ]
  },
  {
   "cell_type": "markdown",
   "metadata": {},
   "source": [
    "Посмотрим на региональные коды в свзяке с target "
   ]
  },
  {
   "cell_type": "code",
   "execution_count": 20,
   "metadata": {},
   "outputs": [
    {
     "data": {
      "text/html": [
       "<div>\n",
       "<style scoped>\n",
       "    .dataframe tbody tr th:only-of-type {\n",
       "        vertical-align: middle;\n",
       "    }\n",
       "\n",
       "    .dataframe tbody tr th {\n",
       "        vertical-align: top;\n",
       "    }\n",
       "\n",
       "    .dataframe thead th {\n",
       "        text-align: right;\n",
       "    }\n",
       "</style>\n",
       "<table border=\"1\" class=\"dataframe\">\n",
       "  <thead>\n",
       "    <tr style=\"text-align: right;\">\n",
       "      <th></th>\n",
       "      <th>granted</th>\n",
       "      <th>nongranted</th>\n",
       "      <th>total_count</th>\n",
       "    </tr>\n",
       "    <tr>\n",
       "      <th>regionCode</th>\n",
       "      <th></th>\n",
       "      <th></th>\n",
       "      <th></th>\n",
       "    </tr>\n",
       "  </thead>\n",
       "  <tbody>\n",
       "    <tr>\n",
       "      <th>1</th>\n",
       "      <td>64</td>\n",
       "      <td>1616</td>\n",
       "      <td>1680</td>\n",
       "    </tr>\n",
       "    <tr>\n",
       "      <th>2</th>\n",
       "      <td>706</td>\n",
       "      <td>15835</td>\n",
       "      <td>16541</td>\n",
       "    </tr>\n",
       "    <tr>\n",
       "      <th>3</th>\n",
       "      <td>259</td>\n",
       "      <td>4835</td>\n",
       "      <td>5094</td>\n",
       "    </tr>\n",
       "    <tr>\n",
       "      <th>4</th>\n",
       "      <td>137</td>\n",
       "      <td>1810</td>\n",
       "      <td>1947</td>\n",
       "    </tr>\n",
       "    <tr>\n",
       "      <th>5</th>\n",
       "      <td>188</td>\n",
       "      <td>6762</td>\n",
       "      <td>6950</td>\n",
       "    </tr>\n",
       "    <tr>\n",
       "      <th>...</th>\n",
       "      <td>...</td>\n",
       "      <td>...</td>\n",
       "      <td>...</td>\n",
       "    </tr>\n",
       "    <tr>\n",
       "      <th>86</th>\n",
       "      <td>520</td>\n",
       "      <td>7063</td>\n",
       "      <td>7583</td>\n",
       "    </tr>\n",
       "    <tr>\n",
       "      <th>87</th>\n",
       "      <td>19</td>\n",
       "      <td>486</td>\n",
       "      <td>505</td>\n",
       "    </tr>\n",
       "    <tr>\n",
       "      <th>89</th>\n",
       "      <td>174</td>\n",
       "      <td>2589</td>\n",
       "      <td>2763</td>\n",
       "    </tr>\n",
       "    <tr>\n",
       "      <th>91</th>\n",
       "      <td>157</td>\n",
       "      <td>6633</td>\n",
       "      <td>6790</td>\n",
       "    </tr>\n",
       "    <tr>\n",
       "      <th>92</th>\n",
       "      <td>79</td>\n",
       "      <td>2474</td>\n",
       "      <td>2553</td>\n",
       "    </tr>\n",
       "  </tbody>\n",
       "</table>\n",
       "<p>87 rows × 3 columns</p>\n",
       "</div>"
      ],
      "text/plain": [
       "            granted  nongranted  total_count\n",
       "regionCode                                  \n",
       "1                64        1616         1680\n",
       "2               706       15835        16541\n",
       "3               259        4835         5094\n",
       "4               137        1810         1947\n",
       "5               188        6762         6950\n",
       "...             ...         ...          ...\n",
       "86              520        7063         7583\n",
       "87               19         486          505\n",
       "89              174        2589         2763\n",
       "91              157        6633         6790\n",
       "92               79        2474         2553\n",
       "\n",
       "[87 rows x 3 columns]"
      ]
     },
     "execution_count": 20,
     "metadata": {},
     "output_type": "execute_result"
    }
   ],
   "source": [
    "df_reg_code = pd.DataFrame()\n",
    "df_reg_code['granted']= data[data.target == 1].groupby('regionCode')['ogrn'].count() # получившие доход\n",
    "df_reg_code['nongranted'] = data[data.target == 0].groupby('regionCode')['ogrn'].count() # неполучившие доход \n",
    "df_reg_code['total_count'] = data.groupby('regionCode')['ogrn'].count() # всего зарегистрированных огрн в регион_коде\n",
    "df_reg_code"
   ]
  },
  {
   "cell_type": "code",
   "execution_count": 21,
   "metadata": {},
   "outputs": [
    {
     "data": {
      "text/html": [
       "<div>\n",
       "<style scoped>\n",
       "    .dataframe tbody tr th:only-of-type {\n",
       "        vertical-align: middle;\n",
       "    }\n",
       "\n",
       "    .dataframe tbody tr th {\n",
       "        vertical-align: top;\n",
       "    }\n",
       "\n",
       "    .dataframe thead th {\n",
       "        text-align: right;\n",
       "    }\n",
       "</style>\n",
       "<table border=\"1\" class=\"dataframe\">\n",
       "  <thead>\n",
       "    <tr style=\"text-align: right;\">\n",
       "      <th></th>\n",
       "      <th>granted</th>\n",
       "      <th>nongranted</th>\n",
       "      <th>total_count</th>\n",
       "    </tr>\n",
       "    <tr>\n",
       "      <th>regionCode</th>\n",
       "      <th></th>\n",
       "      <th></th>\n",
       "      <th></th>\n",
       "    </tr>\n",
       "  </thead>\n",
       "  <tbody>\n",
       "  </tbody>\n",
       "</table>\n",
       "</div>"
      ],
      "text/plain": [
       "Empty DataFrame\n",
       "Columns: [granted, nongranted, total_count]\n",
       "Index: []"
      ]
     },
     "execution_count": 21,
     "metadata": {},
     "output_type": "execute_result"
    }
   ],
   "source": [
    "df_reg_code[df_reg_code.granted == df_reg_code.total_count]"
   ]
  },
  {
   "cell_type": "code",
   "execution_count": 22,
   "metadata": {},
   "outputs": [
    {
     "data": {
      "text/html": [
       "<div>\n",
       "<style scoped>\n",
       "    .dataframe tbody tr th:only-of-type {\n",
       "        vertical-align: middle;\n",
       "    }\n",
       "\n",
       "    .dataframe tbody tr th {\n",
       "        vertical-align: top;\n",
       "    }\n",
       "\n",
       "    .dataframe thead th {\n",
       "        text-align: right;\n",
       "    }\n",
       "</style>\n",
       "<table border=\"1\" class=\"dataframe\">\n",
       "  <thead>\n",
       "    <tr style=\"text-align: right;\">\n",
       "      <th></th>\n",
       "      <th>granted</th>\n",
       "      <th>nongranted</th>\n",
       "      <th>total_count</th>\n",
       "    </tr>\n",
       "    <tr>\n",
       "      <th>regionCode</th>\n",
       "      <th></th>\n",
       "      <th></th>\n",
       "      <th></th>\n",
       "    </tr>\n",
       "  </thead>\n",
       "  <tbody>\n",
       "  </tbody>\n",
       "</table>\n",
       "</div>"
      ],
      "text/plain": [
       "Empty DataFrame\n",
       "Columns: [granted, nongranted, total_count]\n",
       "Index: []"
      ]
     },
     "execution_count": 22,
     "metadata": {},
     "output_type": "execute_result"
    }
   ],
   "source": [
    "df_reg_code[df_reg_code.nongranted == df_reg_code.total_count]"
   ]
  },
  {
   "cell_type": "code",
   "execution_count": 23,
   "metadata": {},
   "outputs": [
    {
     "name": "stderr",
     "output_type": "stream",
     "text": [
      "<ipython-input-23-a1fa5269c3f8>:1: UserWarning: Boolean Series key will be reindexed to match DataFrame index.\n",
      "  data[data.regionCode==99][data.target == 0].ogrn.count()\n"
     ]
    },
    {
     "data": {
      "text/plain": [
       "91"
      ]
     },
     "execution_count": 23,
     "metadata": {},
     "output_type": "execute_result"
    }
   ],
   "source": [
    "data[data.regionCode==99][data.target == 0].ogrn.count()"
   ]
  },
  {
   "cell_type": "code",
   "execution_count": 24,
   "metadata": {},
   "outputs": [],
   "source": [
    "# если ты на Байконуре - шансов нет..."
   ]
  },
  {
   "cell_type": "markdown",
   "metadata": {},
   "source": [
    "## Date works"
   ]
  },
  {
   "cell_type": "markdown",
   "metadata": {},
   "source": [
    "dateReg\n",
    "dateReg: дата регистрации организаций - указывается только для организаций, зарегистрированных до 2002 года (тип: string, null)"
   ]
  },
  {
   "cell_type": "code",
   "execution_count": 25,
   "metadata": {},
   "outputs": [
    {
     "data": {
      "text/plain": [
       "0"
      ]
     },
     "execution_count": 25,
     "metadata": {},
     "output_type": "execute_result"
    }
   ],
   "source": [
    "data.originDate.isnull().sum()"
   ]
  },
  {
   "cell_type": "code",
   "execution_count": 26,
   "metadata": {},
   "outputs": [
    {
     "data": {
      "text/plain": [
       "0"
      ]
     },
     "execution_count": 26,
     "metadata": {},
     "output_type": "execute_result"
    }
   ],
   "source": [
    "data.originDate.isnull().sum()"
   ]
  },
  {
   "cell_type": "code",
   "execution_count": 27,
   "metadata": {
    "scrolled": true
   },
   "outputs": [
    {
     "data": {
      "text/plain": [
       "{'$date': '1996-02-26T00:00:00.000Z'}    3638\n",
       "{'$date': '2002-06-28T00:00:00.000Z'}    1338\n",
       "{'$date': '1996-01-29T00:00:00.000Z'}    1269\n",
       "{'$date': '1995-06-16T00:00:00.000Z'}    1259\n",
       "{'$date': '1999-06-30T00:00:00.000Z'}    1045\n",
       "                                         ... \n",
       "{'$date': '1977-06-18T00:00:00.000Z'}       1\n",
       "{'$date': '1983-12-07T00:00:00.000Z'}       1\n",
       "{'$date': '1983-11-28T00:00:00.000Z'}       1\n",
       "{'$date': '1972-02-01T00:00:00.000Z'}       1\n",
       "{'$date': '1967-10-20T00:00:00.000Z'}       1\n",
       "Name: originDate, Length: 17004, dtype: int64"
      ]
     },
     "execution_count": 27,
     "metadata": {},
     "output_type": "execute_result"
    }
   ],
   "source": [
    "data.originDate.value_counts()"
   ]
  },
  {
   "cell_type": "code",
   "execution_count": 28,
   "metadata": {},
   "outputs": [],
   "source": [
    "data['datebeg'] = data.originDate.apply(lambda x: eval(x)['$date'])\n",
    "data['datebeg'] = pd.to_datetime(data.datebeg)\n",
    "data.datebeg = data.datebeg.apply(lambda x: datetime.datetime.date(x))\n",
    "data.dateLiquid.fillna(0, inplace=True)\n",
    "data.dateLiquid = data.dateLiquid.apply(lambda x: datetime.datetime.today() if x == 0 else eval(x)['$date'])\n",
    "data.dateLiquid = data.dateLiquid.apply(lambda x: datetime.datetime.date(x))"
   ]
  },
  {
   "cell_type": "code",
   "execution_count": 29,
   "metadata": {},
   "outputs": [
    {
     "data": {
      "text/plain": [
       "Index(['regionName', 'fullName', 'dateReg', 'minjustForm', 'ogrn', 'opf',\n",
       "       'egrulStatus', 'mainOkved', 'regionCode', 'incomeTotal', 'inn',\n",
       "       'originDate', 'dateLiquid', 'address', 'okogu', 'hasRegionalSupport',\n",
       "       'addOkved', 'dateOgrn', 'target', 'datebeg'],\n",
       "      dtype='object')"
      ]
     },
     "execution_count": 29,
     "metadata": {},
     "output_type": "execute_result"
    }
   ],
   "source": [
    "data.columns"
   ]
  },
  {
   "cell_type": "code",
   "execution_count": 30,
   "metadata": {},
   "outputs": [
    {
     "data": {
      "text/plain": [
       "0         2020-10-30\n",
       "1         2020-09-23\n",
       "2         2020-02-03\n",
       "3         2020-09-23\n",
       "4         2020-07-08\n",
       "             ...    \n",
       "747029    2006-03-29\n",
       "747030    2006-08-09\n",
       "747031    1998-01-01\n",
       "747032    1987-12-05\n",
       "747033    1990-10-23\n",
       "Name: datebeg, Length: 747034, dtype: object"
      ]
     },
     "execution_count": 30,
     "metadata": {},
     "output_type": "execute_result"
    }
   ],
   "source": [
    "data.datebeg"
   ]
  },
  {
   "cell_type": "code",
   "execution_count": 31,
   "metadata": {},
   "outputs": [
    {
     "data": {
      "text/html": [
       "<div>\n",
       "<style scoped>\n",
       "    .dataframe tbody tr th:only-of-type {\n",
       "        vertical-align: middle;\n",
       "    }\n",
       "\n",
       "    .dataframe tbody tr th {\n",
       "        vertical-align: top;\n",
       "    }\n",
       "\n",
       "    .dataframe thead th {\n",
       "        text-align: right;\n",
       "    }\n",
       "</style>\n",
       "<table border=\"1\" class=\"dataframe\">\n",
       "  <thead>\n",
       "    <tr style=\"text-align: right;\">\n",
       "      <th></th>\n",
       "      <th>born</th>\n",
       "      <th>liquidated</th>\n",
       "      <th>lifetime</th>\n",
       "    </tr>\n",
       "  </thead>\n",
       "  <tbody>\n",
       "    <tr>\n",
       "      <th>0</th>\n",
       "      <td>2020-10-30</td>\n",
       "      <td>2022-07-30</td>\n",
       "      <td>638 days</td>\n",
       "    </tr>\n",
       "    <tr>\n",
       "      <th>1</th>\n",
       "      <td>2020-09-23</td>\n",
       "      <td>2022-07-30</td>\n",
       "      <td>675 days</td>\n",
       "    </tr>\n",
       "    <tr>\n",
       "      <th>2</th>\n",
       "      <td>2020-02-03</td>\n",
       "      <td>2022-07-30</td>\n",
       "      <td>908 days</td>\n",
       "    </tr>\n",
       "    <tr>\n",
       "      <th>3</th>\n",
       "      <td>2020-09-23</td>\n",
       "      <td>2022-07-30</td>\n",
       "      <td>675 days</td>\n",
       "    </tr>\n",
       "    <tr>\n",
       "      <th>4</th>\n",
       "      <td>2020-07-08</td>\n",
       "      <td>2022-07-30</td>\n",
       "      <td>752 days</td>\n",
       "    </tr>\n",
       "    <tr>\n",
       "      <th>...</th>\n",
       "      <td>...</td>\n",
       "      <td>...</td>\n",
       "      <td>...</td>\n",
       "    </tr>\n",
       "    <tr>\n",
       "      <th>747029</th>\n",
       "      <td>2006-03-29</td>\n",
       "      <td>2009-01-12</td>\n",
       "      <td>1020 days</td>\n",
       "    </tr>\n",
       "    <tr>\n",
       "      <th>747030</th>\n",
       "      <td>2006-08-09</td>\n",
       "      <td>2012-08-15</td>\n",
       "      <td>2198 days</td>\n",
       "    </tr>\n",
       "    <tr>\n",
       "      <th>747031</th>\n",
       "      <td>1998-01-01</td>\n",
       "      <td>2006-10-11</td>\n",
       "      <td>3205 days</td>\n",
       "    </tr>\n",
       "    <tr>\n",
       "      <th>747032</th>\n",
       "      <td>1987-12-05</td>\n",
       "      <td>2006-06-05</td>\n",
       "      <td>6757 days</td>\n",
       "    </tr>\n",
       "    <tr>\n",
       "      <th>747033</th>\n",
       "      <td>1990-10-23</td>\n",
       "      <td>2006-07-05</td>\n",
       "      <td>5734 days</td>\n",
       "    </tr>\n",
       "  </tbody>\n",
       "</table>\n",
       "<p>747034 rows × 3 columns</p>\n",
       "</div>"
      ],
      "text/plain": [
       "              born  liquidated  lifetime\n",
       "0       2020-10-30  2022-07-30  638 days\n",
       "1       2020-09-23  2022-07-30  675 days\n",
       "2       2020-02-03  2022-07-30  908 days\n",
       "3       2020-09-23  2022-07-30  675 days\n",
       "4       2020-07-08  2022-07-30  752 days\n",
       "...            ...         ...       ...\n",
       "747029  2006-03-29  2009-01-12 1020 days\n",
       "747030  2006-08-09  2012-08-15 2198 days\n",
       "747031  1998-01-01  2006-10-11 3205 days\n",
       "747032  1987-12-05  2006-06-05 6757 days\n",
       "747033  1990-10-23  2006-07-05 5734 days\n",
       "\n",
       "[747034 rows x 3 columns]"
      ]
     },
     "execution_count": 31,
     "metadata": {},
     "output_type": "execute_result"
    }
   ],
   "source": [
    "life_nko = pd.DataFrame() \n",
    "life_nko['born'] = data.datebeg\n",
    "life_nko['liquidated'] = data.dateLiquid\n",
    "life_nko['lifetime'] = data.dateLiquid -data.datebeg\n",
    "life_nko"
   ]
  },
  {
   "cell_type": "code",
   "execution_count": 32,
   "metadata": {},
   "outputs": [],
   "source": [
    "data['lifetime'] = data.dateLiquid - data.datebeg"
   ]
  },
  {
   "cell_type": "code",
   "execution_count": 33,
   "metadata": {},
   "outputs": [
    {
     "data": {
      "text/plain": [
       "0"
      ]
     },
     "execution_count": 33,
     "metadata": {},
     "output_type": "execute_result"
    }
   ],
   "source": [
    "data.lifetime.isnull().sum()"
   ]
  },
  {
   "cell_type": "code",
   "execution_count": 34,
   "metadata": {},
   "outputs": [
    {
     "data": {
      "text/plain": [
       "0 days        2251\n",
       "7337 days      509\n",
       "9906 days      391\n",
       "9613 days      388\n",
       "8431 days      369\n",
       "              ... \n",
       "18187 days       1\n",
       "13823 days       1\n",
       "19205 days       1\n",
       "15224 days       1\n",
       "17396 days       1\n",
       "Name: lifetime, Length: 18948, dtype: int64"
      ]
     },
     "execution_count": 34,
     "metadata": {},
     "output_type": "execute_result"
    }
   ],
   "source": [
    "data.lifetime.value_counts()"
   ]
  },
  {
   "cell_type": "code",
   "execution_count": 35,
   "metadata": {},
   "outputs": [],
   "source": [
    "# есть ряд НКО, срок жизни которых составил 0. Удалим их.\n",
    "data = data.drop(data[data.lifetime == 0].index)"
   ]
  },
  {
   "cell_type": "markdown",
   "metadata": {},
   "source": [
    "##  Economics & okopf"
   ]
  },
  {
   "cell_type": "markdown",
   "metadata": {},
   "source": [
    "ОКОПФ  - общероссийский классификатор организационно-правовой формы"
   ]
  },
  {
   "cell_type": "raw",
   "metadata": {},
   "source": [
    "data_opf= pd.read_csv('foundations_codes.csv')"
   ]
  },
  {
   "cell_type": "raw",
   "metadata": {},
   "source": [
    "data_opf.okopf.value_counts()"
   ]
  },
  {
   "cell_type": "raw",
   "metadata": {},
   "source": [
    "data[data.minjustForm.isnull()].fullName"
   ]
  },
  {
   "cell_type": "code",
   "execution_count": 57,
   "metadata": {},
   "outputs": [
    {
     "data": {
      "text/plain": [
       "\"{'name': 'Деятельность профессиональных членских организаций', 'code': '94.12', 'version': 'ОК 029-2014 (КДЕС Ред. 2)'}\""
      ]
     },
     "execution_count": 57,
     "metadata": {},
     "output_type": "execute_result"
    }
   ],
   "source": [
    "data.mainOkved[0]"
   ]
  },
  {
   "cell_type": "code",
   "execution_count": 58,
   "metadata": {},
   "outputs": [
    {
     "data": {
      "text/plain": [
       "'[]'"
      ]
     },
     "execution_count": 58,
     "metadata": {},
     "output_type": "execute_result"
    }
   ],
   "source": [
    "data.addOkved[0]"
   ]
  },
  {
   "cell_type": "markdown",
   "metadata": {},
   "source": [
    "#### вар1 \n",
    "    попоробуем просто вытащить код оквэд из словаря "
   ]
  },
  {
   "cell_type": "code",
   "execution_count": 59,
   "metadata": {},
   "outputs": [
    {
     "data": {
      "text/plain": [
       "94.99       76871\n",
       "52.21.24    38247\n",
       "94.91       31456\n",
       "68.32.1     29643\n",
       "91.33       24328\n",
       "            ...  \n",
       "51.66.1         1\n",
       "51.32.12        1\n",
       "01.11.14        1\n",
       "36.30           1\n",
       "46.48.2         1\n",
       "Name: okved_main, Length: 2040, dtype: int64"
      ]
     },
     "execution_count": 59,
     "metadata": {},
     "output_type": "execute_result"
    }
   ],
   "source": [
    "data['okved_main'] = data['mainOkved'].apply(lambda x: eval(x)['code'])\n",
    "data.okved_main.value_counts()"
   ]
  },
  {
   "cell_type": "code",
   "execution_count": 63,
   "metadata": {},
   "outputs": [
    {
     "data": {
      "text/plain": [
       "Деятельность прочих общественных организаций, не включенных в другие группировки                                                    101190\n",
       "Деятельность стоянок для транспортных средств                                                                                        38247\n",
       "Деятельность религиозных организаций                                                                                                 32517\n",
       "Управление эксплуатацией жилого фонда за вознаграждение или на договорной основе                                                     29643\n",
       "Деятельность профессиональных союзов                                                                                                 25243\n",
       "Управление эксплуатацией нежилого фонда за вознаграждение или на договорной основе                                                   22989\n",
       "Управление недвижимым имуществом за вознаграждение или на договорной основе                                                          20858\n",
       "Управление эксплуатацией жилого фонда                                                                                                19125\n",
       "Предоставление прочих финансовых услуг, кроме услуг по страхованию и пенсионному обеспечению, не включенных в другие группировки     11600\n",
       "Деятельность в области спорта прочая                                                                                                  9555\n",
       "Name: okved_main_name, dtype: int64"
      ]
     },
     "execution_count": 63,
     "metadata": {},
     "output_type": "execute_result"
    }
   ],
   "source": [
    "# выведем названия \n",
    "data['okved_main_name'] = data['mainOkved'].apply(lambda x: eval(x)['name'])\n",
    "data.okved_main_name.value_counts()[:10]"
   ]
  },
  {
   "cell_type": "code",
   "execution_count": 70,
   "metadata": {},
   "outputs": [
    {
     "data": {
      "text/html": [
       "<div>\n",
       "<style scoped>\n",
       "    .dataframe tbody tr th:only-of-type {\n",
       "        vertical-align: middle;\n",
       "    }\n",
       "\n",
       "    .dataframe tbody tr th {\n",
       "        vertical-align: top;\n",
       "    }\n",
       "\n",
       "    .dataframe thead th {\n",
       "        text-align: right;\n",
       "    }\n",
       "</style>\n",
       "<table border=\"1\" class=\"dataframe\">\n",
       "  <thead>\n",
       "    <tr style=\"text-align: right;\">\n",
       "      <th></th>\n",
       "      <th>okved_name</th>\n",
       "    </tr>\n",
       "    <tr>\n",
       "      <th>okved_main_name</th>\n",
       "      <th></th>\n",
       "    </tr>\n",
       "  </thead>\n",
       "  <tbody>\n",
       "    <tr>\n",
       "      <th>Деятельность прочих общественных организаций, не включенных в другие группировки</th>\n",
       "      <td>8358</td>\n",
       "    </tr>\n",
       "    <tr>\n",
       "      <th>Образование профессиональное дополнительное</th>\n",
       "      <td>1904</td>\n",
       "    </tr>\n",
       "    <tr>\n",
       "      <th>Управление эксплуатацией жилого фонда за вознаграждение или на договорной основе</th>\n",
       "      <td>1448</td>\n",
       "    </tr>\n",
       "    <tr>\n",
       "      <th>Деятельность по дополнительному профессиональному образованию прочая, не включенная в другие группировки</th>\n",
       "      <td>1207</td>\n",
       "    </tr>\n",
       "    <tr>\n",
       "      <th>Предоставление прочих финансовых услуг, кроме услуг по страхованию и пенсионному обеспечению, не включенных в другие группировки</th>\n",
       "      <td>1061</td>\n",
       "    </tr>\n",
       "    <tr>\n",
       "      <th>...</th>\n",
       "      <td>...</td>\n",
       "    </tr>\n",
       "    <tr>\n",
       "      <th>Производство разных машин специального назначения и их составных частей</th>\n",
       "      <td>1</td>\n",
       "    </tr>\n",
       "    <tr>\n",
       "      <th>Производство соковой продукции из фруктов и овощей</th>\n",
       "      <td>1</td>\n",
       "    </tr>\n",
       "    <tr>\n",
       "      <th>Производство статуэток, рам для фотографий, картин, зеркал и прочих декоративных изделий из недрагоценных металлов</th>\n",
       "      <td>1</td>\n",
       "    </tr>\n",
       "    <tr>\n",
       "      <th>Производство сухарей, печенья и прочих сухарных хлебобулочных изделий, производство мучных кондитерских изделий, тортов, пирожных, пирогов и бисквитов, предназначенных для длительного хранения</th>\n",
       "      <td>1</td>\n",
       "    </tr>\n",
       "    <tr>\n",
       "      <th>Аренда и лизинг железнодорожного транспорта и оборудования</th>\n",
       "      <td>1</td>\n",
       "    </tr>\n",
       "  </tbody>\n",
       "</table>\n",
       "<p>695 rows × 1 columns</p>\n",
       "</div>"
      ],
      "text/plain": [
       "                                                    okved_name\n",
       "okved_main_name                                               \n",
       "Деятельность прочих общественных организаций, н...        8358\n",
       "Образование профессиональное дополнительное               1904\n",
       "Управление эксплуатацией жилого фонда за вознаг...        1448\n",
       "Деятельность по дополнительному профессионально...        1207\n",
       "Предоставление прочих финансовых услуг, кроме у...        1061\n",
       "...                                                        ...\n",
       "Производство разных машин специального назначен...           1\n",
       "Производство соковой продукции из фруктов и овощей           1\n",
       "Производство статуэток, рам для фотографий, кар...           1\n",
       "Производство сухарей, печенья и прочих сухарных...           1\n",
       "Аренда и лизинг железнодорожного транспорта и о...           1\n",
       "\n",
       "[695 rows x 1 columns]"
      ]
     },
     "execution_count": 70,
     "metadata": {},
     "output_type": "execute_result"
    }
   ],
   "source": [
    "okved_granted = pd.DataFrame()\n",
    "okved_granted['okved_name'] = data[data.target == 1].groupby('okved_main_name')['ogrn'].count().sort_values(ascending=False)\n",
    "okved_granted"
   ]
  },
  {
   "cell_type": "code",
   "execution_count": 71,
   "metadata": {},
   "outputs": [
    {
     "data": {
      "text/html": [
       "<div>\n",
       "<style scoped>\n",
       "    .dataframe tbody tr th:only-of-type {\n",
       "        vertical-align: middle;\n",
       "    }\n",
       "\n",
       "    .dataframe tbody tr th {\n",
       "        vertical-align: top;\n",
       "    }\n",
       "\n",
       "    .dataframe thead th {\n",
       "        text-align: right;\n",
       "    }\n",
       "</style>\n",
       "<table border=\"1\" class=\"dataframe\">\n",
       "  <thead>\n",
       "    <tr style=\"text-align: right;\">\n",
       "      <th></th>\n",
       "      <th>granted</th>\n",
       "      <th>non_granted</th>\n",
       "      <th>total</th>\n",
       "    </tr>\n",
       "    <tr>\n",
       "      <th>okved_main_name</th>\n",
       "      <th></th>\n",
       "      <th></th>\n",
       "      <th></th>\n",
       "    </tr>\n",
       "  </thead>\n",
       "  <tbody>\n",
       "    <tr>\n",
       "      <th>Аренда и лизинг железнодорожного транспорта и оборудования</th>\n",
       "      <td>1</td>\n",
       "      <td>NaN</td>\n",
       "      <td>1</td>\n",
       "    </tr>\n",
       "    <tr>\n",
       "      <th>Аренда и лизинг легковых автомобилей и легких автотранспортных средств</th>\n",
       "      <td>2</td>\n",
       "      <td>18.0</td>\n",
       "      <td>20</td>\n",
       "    </tr>\n",
       "    <tr>\n",
       "      <th>Аренда и лизинг прочих видов транспорта, оборудования и материальных средств, не включенных в другие группировки</th>\n",
       "      <td>1</td>\n",
       "      <td>6.0</td>\n",
       "      <td>7</td>\n",
       "    </tr>\n",
       "    <tr>\n",
       "      <th>Аренда и лизинг прочих сухопутных транспортных средств и оборудования</th>\n",
       "      <td>1</td>\n",
       "      <td>5.0</td>\n",
       "      <td>6</td>\n",
       "    </tr>\n",
       "    <tr>\n",
       "      <th>Аренда и управление собственным или арендованным жилым недвижимым имуществом</th>\n",
       "      <td>3</td>\n",
       "      <td>150.0</td>\n",
       "      <td>153</td>\n",
       "    </tr>\n",
       "    <tr>\n",
       "      <th>...</th>\n",
       "      <td>...</td>\n",
       "      <td>...</td>\n",
       "      <td>...</td>\n",
       "    </tr>\n",
       "    <tr>\n",
       "      <th>Физкультурно-оздоровительная деятельность</th>\n",
       "      <td>3</td>\n",
       "      <td>431.0</td>\n",
       "      <td>434</td>\n",
       "    </tr>\n",
       "    <tr>\n",
       "      <th>Финансовое посредничество, не включенное в другие группировки</th>\n",
       "      <td>7</td>\n",
       "      <td>1128.0</td>\n",
       "      <td>1135</td>\n",
       "    </tr>\n",
       "    <tr>\n",
       "      <th>ЭКСПЛУАТАЦИЯ ГАРАЖЕЙ, СТОЯНОК ДЛЯ АВТОТРАНСПОРТНЫХ СРЕДСТВ, ВЕЛОСИПЕДОВ И Т.П.</th>\n",
       "      <td>1</td>\n",
       "      <td>12.0</td>\n",
       "      <td>13</td>\n",
       "    </tr>\n",
       "    <tr>\n",
       "      <th>Экспертиза проектной документации и результатов инженерных изысканий негосударственная</th>\n",
       "      <td>1</td>\n",
       "      <td>6.0</td>\n",
       "      <td>7</td>\n",
       "    </tr>\n",
       "    <tr>\n",
       "      <th>Эксплуатация гаражей, стоянок для автотранспортных средств, велосипедов и т.п.</th>\n",
       "      <td>2</td>\n",
       "      <td>4749.0</td>\n",
       "      <td>4751</td>\n",
       "    </tr>\n",
       "  </tbody>\n",
       "</table>\n",
       "<p>695 rows × 3 columns</p>\n",
       "</div>"
      ],
      "text/plain": [
       "                                                    granted  non_granted  \\\n",
       "okved_main_name                                                            \n",
       "Аренда и лизинг железнодорожного транспорта и о...        1          NaN   \n",
       "Аренда и лизинг легковых автомобилей и легких а...        2         18.0   \n",
       "Аренда и лизинг прочих видов транспорта, оборуд...        1          6.0   \n",
       "Аренда и лизинг прочих сухопутных транспортных ...        1          5.0   \n",
       "Аренда и управление собственным или арендованны...        3        150.0   \n",
       "...                                                     ...          ...   \n",
       "Физкультурно-оздоровительная деятельность                 3        431.0   \n",
       "Финансовое посредничество, не включенное в друг...        7       1128.0   \n",
       "ЭКСПЛУАТАЦИЯ ГАРАЖЕЙ, СТОЯНОК ДЛЯ АВТОТРАНСПОРТ...        1         12.0   \n",
       "Экспертиза проектной документации и результатов...        1          6.0   \n",
       "Эксплуатация гаражей, стоянок для автотранспорт...        2       4749.0   \n",
       "\n",
       "                                                    total  \n",
       "okved_main_name                                            \n",
       "Аренда и лизинг железнодорожного транспорта и о...      1  \n",
       "Аренда и лизинг легковых автомобилей и легких а...     20  \n",
       "Аренда и лизинг прочих видов транспорта, оборуд...      7  \n",
       "Аренда и лизинг прочих сухопутных транспортных ...      6  \n",
       "Аренда и управление собственным или арендованны...    153  \n",
       "...                                                   ...  \n",
       "Физкультурно-оздоровительная деятельность             434  \n",
       "Финансовое посредничество, не включенное в друг...   1135  \n",
       "ЭКСПЛУАТАЦИЯ ГАРАЖЕЙ, СТОЯНОК ДЛЯ АВТОТРАНСПОРТ...     13  \n",
       "Экспертиза проектной документации и результатов...      7  \n",
       "Эксплуатация гаражей, стоянок для автотранспорт...   4751  \n",
       "\n",
       "[695 rows x 3 columns]"
      ]
     },
     "execution_count": 71,
     "metadata": {},
     "output_type": "execute_result"
    }
   ],
   "source": [
    "okved_target = pd.DataFrame()\n",
    "okved_target['granted'] = data[data.target == 1].groupby('okved_main_name')['ogrn'].count()\n",
    "okved_target['non_granted'] = data[data.target == 0].groupby('okved_main_name')['ogrn'].count() \n",
    "okved_target['total'] = data.groupby('okved_main_name').ogrn.count()\n",
    "okved_target"
   ]
  },
  {
   "cell_type": "code",
   "execution_count": 74,
   "metadata": {},
   "outputs": [
    {
     "data": {
      "text/html": [
       "<div>\n",
       "<style scoped>\n",
       "    .dataframe tbody tr th:only-of-type {\n",
       "        vertical-align: middle;\n",
       "    }\n",
       "\n",
       "    .dataframe tbody tr th {\n",
       "        vertical-align: top;\n",
       "    }\n",
       "\n",
       "    .dataframe thead th {\n",
       "        text-align: right;\n",
       "    }\n",
       "</style>\n",
       "<table border=\"1\" class=\"dataframe\">\n",
       "  <thead>\n",
       "    <tr style=\"text-align: right;\">\n",
       "      <th></th>\n",
       "      <th>granted</th>\n",
       "      <th>non_granted</th>\n",
       "      <th>total</th>\n",
       "    </tr>\n",
       "    <tr>\n",
       "      <th>okved_main_name</th>\n",
       "      <th></th>\n",
       "      <th></th>\n",
       "      <th></th>\n",
       "    </tr>\n",
       "  </thead>\n",
       "  <tbody>\n",
       "    <tr>\n",
       "      <th>Аренда и лизинг железнодорожного транспорта и оборудования</th>\n",
       "      <td>1</td>\n",
       "      <td>NaN</td>\n",
       "      <td>1</td>\n",
       "    </tr>\n",
       "    <tr>\n",
       "      <th>ДЕЯТЕЛЬНОСТЬ, СВЯЗАННАЯ С ИСПОЛЬЗОВАНИЕМ ВЫЧИСЛИТЕЛЬНОЙ ТЕХНИКИ И ИНФОРМАЦИОННЫХ ТЕХНОЛОГИЙ</th>\n",
       "      <td>1</td>\n",
       "      <td>NaN</td>\n",
       "      <td>1</td>\n",
       "    </tr>\n",
       "    <tr>\n",
       "      <th>Деятельность аэропортовая</th>\n",
       "      <td>1</td>\n",
       "      <td>NaN</td>\n",
       "      <td>1</td>\n",
       "    </tr>\n",
       "    <tr>\n",
       "      <th>Деятельность в области метрологии</th>\n",
       "      <td>1</td>\n",
       "      <td>NaN</td>\n",
       "      <td>1</td>\n",
       "    </tr>\n",
       "    <tr>\n",
       "      <th>Деятельность вспомогательная прочая, связанная с железнодорожным транспортом</th>\n",
       "      <td>1</td>\n",
       "      <td>NaN</td>\n",
       "      <td>1</td>\n",
       "    </tr>\n",
       "    <tr>\n",
       "      <th>Деятельность казино</th>\n",
       "      <td>1</td>\n",
       "      <td>NaN</td>\n",
       "      <td>1</td>\n",
       "    </tr>\n",
       "    <tr>\n",
       "      <th>Деятельность по обеспечению безопасности в области использования атомной энергии</th>\n",
       "      <td>1</td>\n",
       "      <td>NaN</td>\n",
       "      <td>1</td>\n",
       "    </tr>\n",
       "    <tr>\n",
       "      <th>Деятельность по управлению компьютерным оборудованием прочая, не включенная в другие группировки</th>\n",
       "      <td>1</td>\n",
       "      <td>NaN</td>\n",
       "      <td>1</td>\n",
       "    </tr>\n",
       "    <tr>\n",
       "      <th>Обработка металлических изделий механическая</th>\n",
       "      <td>1</td>\n",
       "      <td>NaN</td>\n",
       "      <td>1</td>\n",
       "    </tr>\n",
       "    <tr>\n",
       "      <th>Образование высшее - специалитет</th>\n",
       "      <td>1</td>\n",
       "      <td>NaN</td>\n",
       "      <td>1</td>\n",
       "    </tr>\n",
       "    <tr>\n",
       "      <th>Производство дренажных работ на сельскохозяйственных землях, землях лесных территорий, а также на строительных площадках</th>\n",
       "      <td>1</td>\n",
       "      <td>NaN</td>\n",
       "      <td>1</td>\n",
       "    </tr>\n",
       "    <tr>\n",
       "      <th>Производство инструментов и приборов для измерения, тестирования и навигации</th>\n",
       "      <td>2</td>\n",
       "      <td>NaN</td>\n",
       "      <td>2</td>\n",
       "    </tr>\n",
       "    <tr>\n",
       "      <th>Производство летательных аппаратов, включая космические, и соответствующего оборудования</th>\n",
       "      <td>1</td>\n",
       "      <td>NaN</td>\n",
       "      <td>1</td>\n",
       "    </tr>\n",
       "    <tr>\n",
       "      <th>Производство музыкальных инструментов</th>\n",
       "      <td>1</td>\n",
       "      <td>NaN</td>\n",
       "      <td>1</td>\n",
       "    </tr>\n",
       "    <tr>\n",
       "      <th>Производство одежды из фетра, нетканых материалов, из текстильных материалов с пропиткой или покрытием</th>\n",
       "      <td>1</td>\n",
       "      <td>NaN</td>\n",
       "      <td>1</td>\n",
       "    </tr>\n",
       "    <tr>\n",
       "      <th>Производство пиломатериалов, профилированных по кромке; производство древесного полотна, древесной муки; производство технологической щепы или стружки</th>\n",
       "      <td>1</td>\n",
       "      <td>NaN</td>\n",
       "      <td>1</td>\n",
       "    </tr>\n",
       "    <tr>\n",
       "      <th>Производство пищевых субпродуктов в охлажденном виде</th>\n",
       "      <td>1</td>\n",
       "      <td>NaN</td>\n",
       "      <td>1</td>\n",
       "    </tr>\n",
       "    <tr>\n",
       "      <th>Производство разных машин специального назначения и их составных частей</th>\n",
       "      <td>1</td>\n",
       "      <td>NaN</td>\n",
       "      <td>1</td>\n",
       "    </tr>\n",
       "    <tr>\n",
       "      <th>Производство статуэток, рам для фотографий, картин, зеркал и прочих декоративных изделий из недрагоценных металлов</th>\n",
       "      <td>1</td>\n",
       "      <td>NaN</td>\n",
       "      <td>1</td>\n",
       "    </tr>\n",
       "    <tr>\n",
       "      <th>Производство фетра и войлока</th>\n",
       "      <td>1</td>\n",
       "      <td>NaN</td>\n",
       "      <td>1</td>\n",
       "    </tr>\n",
       "    <tr>\n",
       "      <th>Производство ювелирных изделий и аналогичных изделий</th>\n",
       "      <td>1</td>\n",
       "      <td>NaN</td>\n",
       "      <td>1</td>\n",
       "    </tr>\n",
       "    <tr>\n",
       "      <th>Торговля оптовая яйцами</th>\n",
       "      <td>1</td>\n",
       "      <td>NaN</td>\n",
       "      <td>1</td>\n",
       "    </tr>\n",
       "    <tr>\n",
       "      <th>Торговля розничная галантерейными изделиями в специализированных магазинах</th>\n",
       "      <td>1</td>\n",
       "      <td>NaN</td>\n",
       "      <td>1</td>\n",
       "    </tr>\n",
       "  </tbody>\n",
       "</table>\n",
       "</div>"
      ],
      "text/plain": [
       "                                                    granted  non_granted  \\\n",
       "okved_main_name                                                            \n",
       "Аренда и лизинг железнодорожного транспорта и о...        1          NaN   \n",
       "ДЕЯТЕЛЬНОСТЬ, СВЯЗАННАЯ С ИСПОЛЬЗОВАНИЕМ ВЫЧИСЛ...        1          NaN   \n",
       "Деятельность аэропортовая                                 1          NaN   \n",
       "Деятельность в области метрологии                         1          NaN   \n",
       "Деятельность вспомогательная прочая, связанная ...        1          NaN   \n",
       "Деятельность казино                                       1          NaN   \n",
       "Деятельность по обеспечению безопасности в обла...        1          NaN   \n",
       "Деятельность по управлению компьютерным оборудо...        1          NaN   \n",
       "Обработка металлических изделий механическая              1          NaN   \n",
       "Образование высшее - специалитет                          1          NaN   \n",
       "Производство дренажных работ на сельскохозяйств...        1          NaN   \n",
       "Производство инструментов и приборов для измере...        2          NaN   \n",
       "Производство летательных аппаратов, включая кос...        1          NaN   \n",
       "Производство музыкальных инструментов                     1          NaN   \n",
       "Производство одежды из фетра, нетканых материал...        1          NaN   \n",
       "Производство пиломатериалов, профилированных по...        1          NaN   \n",
       "Производство пищевых субпродуктов в охлажденном...        1          NaN   \n",
       "Производство разных машин специального назначен...        1          NaN   \n",
       "Производство статуэток, рам для фотографий, кар...        1          NaN   \n",
       "Производство фетра и войлока                              1          NaN   \n",
       "Производство ювелирных изделий и аналогичных из...        1          NaN   \n",
       "Торговля оптовая яйцами                                   1          NaN   \n",
       "Торговля розничная галантерейными изделиями в с...        1          NaN   \n",
       "\n",
       "                                                    total  \n",
       "okved_main_name                                            \n",
       "Аренда и лизинг железнодорожного транспорта и о...      1  \n",
       "ДЕЯТЕЛЬНОСТЬ, СВЯЗАННАЯ С ИСПОЛЬЗОВАНИЕМ ВЫЧИСЛ...      1  \n",
       "Деятельность аэропортовая                               1  \n",
       "Деятельность в области метрологии                       1  \n",
       "Деятельность вспомогательная прочая, связанная ...      1  \n",
       "Деятельность казино                                     1  \n",
       "Деятельность по обеспечению безопасности в обла...      1  \n",
       "Деятельность по управлению компьютерным оборудо...      1  \n",
       "Обработка металлических изделий механическая            1  \n",
       "Образование высшее - специалитет                        1  \n",
       "Производство дренажных работ на сельскохозяйств...      1  \n",
       "Производство инструментов и приборов для измере...      2  \n",
       "Производство летательных аппаратов, включая кос...      1  \n",
       "Производство музыкальных инструментов                   1  \n",
       "Производство одежды из фетра, нетканых материал...      1  \n",
       "Производство пиломатериалов, профилированных по...      1  \n",
       "Производство пищевых субпродуктов в охлажденном...      1  \n",
       "Производство разных машин специального назначен...      1  \n",
       "Производство статуэток, рам для фотографий, кар...      1  \n",
       "Производство фетра и войлока                            1  \n",
       "Производство ювелирных изделий и аналогичных из...      1  \n",
       "Торговля оптовая яйцами                                 1  \n",
       "Торговля розничная галантерейными изделиями в с...      1  "
      ]
     },
     "execution_count": 74,
     "metadata": {},
     "output_type": "execute_result"
    }
   ],
   "source": [
    "happy = okved_target[okved_target.granted == okved_target.total]\n",
    "happy"
   ]
  },
  {
   "cell_type": "markdown",
   "metadata": {},
   "source": [
    "### Labelencoding\n"
   ]
  },
  {
   "cell_type": "raw",
   "metadata": {},
   "source": [
    "#okogu \n",
    "dlist_to_dir = []\n",
    "\n",
    "for series in list_to_dir: \n",
    "\tdata[series] = data[series].apply(lambda x: eval(x))\n",
    "data['datebeg'] = data.originDate.apply(lambda x: eval(x)['$date'])\n",
    "    \n",
    "    "
   ]
  },
  {
   "cell_type": "code",
   "execution_count": 39,
   "metadata": {},
   "outputs": [
    {
     "data": {
      "text/plain": [
       "\"{'name': None, 'code': None}\""
      ]
     },
     "execution_count": 39,
     "metadata": {},
     "output_type": "execute_result"
    }
   ],
   "source": [
    "data.okogu[0]"
   ]
  },
  {
   "cell_type": "code",
   "execution_count": 40,
   "metadata": {},
   "outputs": [],
   "source": [
    "# заменим в окогу словарь на код \n",
    "data.okogu = data.okogu.apply(lambda x:eval(x)['code']) "
   ]
  },
  {
   "cell_type": "code",
   "execution_count": 41,
   "metadata": {},
   "outputs": [
    {
     "data": {
      "text/plain": [
       "399597"
      ]
     },
     "execution_count": 41,
     "metadata": {},
     "output_type": "execute_result"
    }
   ],
   "source": [
    "data.okogu.isnull().sum()\n"
   ]
  },
  {
   "cell_type": "code",
   "execution_count": 48,
   "metadata": {},
   "outputs": [
    {
     "data": {
      "text/plain": [
       "0    399597\n",
       "1    347437\n",
       "Name: okogu, dtype: int64"
      ]
     },
     "execution_count": 48,
     "metadata": {},
     "output_type": "execute_result"
    }
   ],
   "source": [
    "# заменим коды окогу просто признаком наличия: 1 или отсутствия:0\n",
    "\n",
    "data.okogu = data.okogu.apply(lambda x: 0 if x == None else 1)\n",
    "data.okogu.value_counts()"
   ]
  },
  {
   "cell_type": "code",
   "execution_count": 53,
   "metadata": {},
   "outputs": [
    {
     "data": {
      "text/plain": [
       "0    406134\n",
       "1    340900\n",
       "Name: egrulStatus, dtype: int64"
      ]
     },
     "execution_count": 53,
     "metadata": {},
     "output_type": "execute_result"
    }
   ],
   "source": [
    "# заменим статусы ЕГРЮЛ: 1: действующая организация, 0: недействующая\n",
    "\n",
    "data.egrulStatus = data.egrulStatus.apply(lambda x: 1 if x == 'Действует' else 0)\n",
    "data.egrulStatus.value_counts() "
   ]
  },
  {
   "cell_type": "code",
   "execution_count": 54,
   "metadata": {},
   "outputs": [
    {
     "data": {
      "text/plain": [
       "False    735769\n",
       "True      11265\n",
       "Name: hasRegionalSupport, dtype: int64"
      ]
     },
     "execution_count": 54,
     "metadata": {},
     "output_type": "execute_result"
    }
   ],
   "source": [
    "data.hasRegionalSupport.value_counts()"
   ]
  },
  {
   "cell_type": "code",
   "execution_count": 55,
   "metadata": {},
   "outputs": [
    {
     "data": {
      "text/plain": [
       "0    735769\n",
       "1     11265\n",
       "Name: hasRegionalSupport, dtype: int64"
      ]
     },
     "execution_count": 55,
     "metadata": {},
     "output_type": "execute_result"
    }
   ],
   "source": [
    "# закодируем признак социальноориентированных НКО, имеющих региональную поддержку \n",
    "data.hasRegionalSupport = data.hasRegionalSupport.apply(lambda x: 1 if x==True else 0)\n",
    "data.hasRegionalSupport.value_counts()"
   ]
  },
  {
   "cell_type": "code",
   "execution_count": 44,
   "metadata": {},
   "outputs": [],
   "source": [
    "label_cols = ['egrulStatus', 'okogu', 'hasRegionalSupport']"
   ]
  },
  {
   "cell_type": "code",
   "execution_count": null,
   "metadata": {},
   "outputs": [],
   "source": []
  },
  {
   "cell_type": "markdown",
   "metadata": {},
   "source": [
    "## Naive Model"
   ]
  },
  {
   "cell_type": "raw",
   "metadata": {},
   "source": [
    "drop_cols = ['fullName', 'dateReg', 'minjustForm', 'inn', 'originDate', 'dateLiquid', 'address', 'dateOgrn', 'datebeg']"
   ]
  }
 ],
 "metadata": {
  "kernelspec": {
   "display_name": "Python 3",
   "language": "python",
   "name": "python3"
  },
  "language_info": {
   "codemirror_mode": {
    "name": "ipython",
    "version": 3
   },
   "file_extension": ".py",
   "mimetype": "text/x-python",
   "name": "python",
   "nbconvert_exporter": "python",
   "pygments_lexer": "ipython3",
   "version": "3.8.5"
  }
 },
 "nbformat": 4,
 "nbformat_minor": 4
}
