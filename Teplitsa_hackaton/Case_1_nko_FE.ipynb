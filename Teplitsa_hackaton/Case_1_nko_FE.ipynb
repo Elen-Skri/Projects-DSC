{
 "cells": [
  {
   "cell_type": "code",
   "execution_count": 1,
   "metadata": {},
   "outputs": [],
   "source": [
    "import pandas as pd\n",
    "import numpy as np\n",
    "\n",
    "# visualisation libraries:\n",
    "import matplotlib.pyplot as plt  # 2-d graphics\n",
    "import seaborn as sns  # graphics for statistics\n",
    "%matplotlib inline\n",
    "\n",
    "# timeworks\n",
    "import datetime \n",
    "\n",
    "# encoding \n",
    "from sklearn.preprocessing import OneHotEncoder \n",
    "\n",
    "import matplotlib.pyplot as plt\n",
    "import seaborn as sn\n",
    "\n",
    "from sklearn.metrics import mean_squared_error, f1_score, accuracy_score, roc_curve, roc_auc_score\n",
    "from sklearn.model_selection import train_test_split\n",
    "\n",
    "###\n",
    "# Импорт всех нужных библиотек\n",
    "\n",
    "from sklearn.metrics import classification_report\n",
    "from sklearn.ensemble import RandomForestRegressor\n",
    "\n",
    "from sklearn import metrics"
   ]
  },
  {
   "cell_type": "markdown",
   "metadata": {},
   "source": [
    "## Data\n"
   ]
  },
  {
   "cell_type": "code",
   "execution_count": 2,
   "metadata": {},
   "outputs": [
    {
     "data": {
      "text/html": [
       "<div>\n",
       "<style scoped>\n",
       "    .dataframe tbody tr th:only-of-type {\n",
       "        vertical-align: middle;\n",
       "    }\n",
       "\n",
       "    .dataframe tbody tr th {\n",
       "        vertical-align: top;\n",
       "    }\n",
       "\n",
       "    .dataframe thead th {\n",
       "        text-align: right;\n",
       "    }\n",
       "</style>\n",
       "<table border=\"1\" class=\"dataframe\">\n",
       "  <thead>\n",
       "    <tr style=\"text-align: right;\">\n",
       "      <th></th>\n",
       "      <th>Unnamed: 0</th>\n",
       "      <th>regionName</th>\n",
       "      <th>fullName</th>\n",
       "      <th>dateReg</th>\n",
       "      <th>minjustForm</th>\n",
       "      <th>ogrn</th>\n",
       "      <th>opf</th>\n",
       "      <th>egrulStatus</th>\n",
       "      <th>mainOkved</th>\n",
       "      <th>regionCode</th>\n",
       "      <th>incomeTotal</th>\n",
       "      <th>inn</th>\n",
       "      <th>originDate</th>\n",
       "      <th>dateLiquid</th>\n",
       "      <th>address</th>\n",
       "      <th>okogu</th>\n",
       "      <th>hasRegionalSupport</th>\n",
       "      <th>addOkved</th>\n",
       "      <th>dateOgrn</th>\n",
       "    </tr>\n",
       "  </thead>\n",
       "  <tbody>\n",
       "    <tr>\n",
       "      <th>0</th>\n",
       "      <td>0</td>\n",
       "      <td>Санкт-Петербург</td>\n",
       "      <td>МЕЖРЕГИОНАЛЬНАЯ АНТРОПОСОФСКАЯ МЕДИЦИНСКАЯ АСС...</td>\n",
       "      <td>NaN</td>\n",
       "      <td>Объединения (союз, ассоциация) юридических лиц</td>\n",
       "      <td>1207800141790</td>\n",
       "      <td>{'name': 'Ассоциации (союзы)', 'code': '20600'...</td>\n",
       "      <td>Действует</td>\n",
       "      <td>{'name': 'Деятельность профессиональных членск...</td>\n",
       "      <td>78</td>\n",
       "      <td>0.0</td>\n",
       "      <td>7.841091e+09</td>\n",
       "      <td>{'$date': '2020-10-30T00:00:00.000Z'}</td>\n",
       "      <td>NaN</td>\n",
       "      <td>191186, ГОРОД САНКТ-ПЕТЕРБУРГ, УЛИЦА ИТАЛЬЯНСК...</td>\n",
       "      <td>{'name': None, 'code': None}</td>\n",
       "      <td>False</td>\n",
       "      <td>[]</td>\n",
       "      <td>{'$date': '2020-10-30T00:00:00.000Z'}</td>\n",
       "    </tr>\n",
       "    <tr>\n",
       "      <th>1</th>\n",
       "      <td>1</td>\n",
       "      <td>Москва</td>\n",
       "      <td>ФОНД \"СОДЕЙСТВИЕ ДУХОВНОМУ РАЗВИТИЮ ЧЕЛОВЕКА \"...</td>\n",
       "      <td>NaN</td>\n",
       "      <td>Некоммерческий фонд</td>\n",
       "      <td>1207700349152</td>\n",
       "      <td>{'name': 'Фонды', 'code': '70400', 'version': ...</td>\n",
       "      <td>Действует</td>\n",
       "      <td>{'name': 'Предоставление прочих финансовых усл...</td>\n",
       "      <td>77</td>\n",
       "      <td>0.0</td>\n",
       "      <td>7.720647e+09</td>\n",
       "      <td>{'$date': '2020-09-23T00:00:00.000Z'}</td>\n",
       "      <td>NaN</td>\n",
       "      <td>111395, ГОРОД МОСКВА, УЛИЦА МОЛДАГУЛОВОЙ, ДОМ ...</td>\n",
       "      <td>{'name': None, 'code': None}</td>\n",
       "      <td>False</td>\n",
       "      <td>[{'name': 'Издание книг', 'code': '58.11', 've...</td>\n",
       "      <td>{'$date': '2020-09-23T00:00:00.000Z'}</td>\n",
       "    </tr>\n",
       "    <tr>\n",
       "      <th>2</th>\n",
       "      <td>2</td>\n",
       "      <td>Санкт-Петербург</td>\n",
       "      <td>КОЛЛЕГИЯ АДВОКАТОВ \"САНКТ-ПЕТЕРБУРГСКАЯ КОЛЛЕГ...</td>\n",
       "      <td>NaN</td>\n",
       "      <td>Коллегия адвокатов</td>\n",
       "      <td>1207800011430</td>\n",
       "      <td>{'name': 'Коллегии адвокатов', 'code': '20616'...</td>\n",
       "      <td>Действует</td>\n",
       "      <td>{'name': 'Деятельность в области права', 'code...</td>\n",
       "      <td>78</td>\n",
       "      <td>0.0</td>\n",
       "      <td>7.813643e+09</td>\n",
       "      <td>{'$date': '2020-02-03T00:00:00.000Z'}</td>\n",
       "      <td>NaN</td>\n",
       "      <td>197198, ГОРОД САНКТ-ПЕТЕРБУРГ, УЛИЦА БОЛЬШАЯ П...</td>\n",
       "      <td>{'name': None, 'code': None}</td>\n",
       "      <td>False</td>\n",
       "      <td>[]</td>\n",
       "      <td>{'$date': '2020-02-03T00:00:00.000Z'}</td>\n",
       "    </tr>\n",
       "    <tr>\n",
       "      <th>3</th>\n",
       "      <td>3</td>\n",
       "      <td>Москва</td>\n",
       "      <td>ТОВАРИЩЕСТВО СОБСТВЕННИКОВ НЕДВИЖИМОСТИ \"ЛУГИН...</td>\n",
       "      <td>NaN</td>\n",
       "      <td>NaN</td>\n",
       "      <td>1207700348976</td>\n",
       "      <td>{'name': 'Товарищества собственников недвижимо...</td>\n",
       "      <td>Действует</td>\n",
       "      <td>{'name': 'Управление недвижимым имуществом за ...</td>\n",
       "      <td>77</td>\n",
       "      <td>0.0</td>\n",
       "      <td>7.733360e+09</td>\n",
       "      <td>{'$date': '2020-09-23T00:00:00.000Z'}</td>\n",
       "      <td>NaN</td>\n",
       "      <td>125424, ГОРОД МОСКВА, ШОССЕ ВОЛОКОЛАМСКОЕ, ДОМ...</td>\n",
       "      <td>{'name': None, 'code': None}</td>\n",
       "      <td>False</td>\n",
       "      <td>[{'name': 'Аренда и управление собственным или...</td>\n",
       "      <td>{'$date': '2020-09-23T00:00:00.000Z'}</td>\n",
       "    </tr>\n",
       "    <tr>\n",
       "      <th>4</th>\n",
       "      <td>4</td>\n",
       "      <td>Санкт-Петербург</td>\n",
       "      <td>АВТОНОМНАЯ НЕКОММЕРЧЕСКАЯ ОРГАНИЗАЦИЯ \"ЦЕНТР С...</td>\n",
       "      <td>NaN</td>\n",
       "      <td>Автономная некоммерческая организация</td>\n",
       "      <td>1207800081500</td>\n",
       "      <td>{'name': 'Автономные некоммерческие организаци...</td>\n",
       "      <td>Действует</td>\n",
       "      <td>{'name': 'Деятельность по организации конферен...</td>\n",
       "      <td>78</td>\n",
       "      <td>0.0</td>\n",
       "      <td>7.813645e+09</td>\n",
       "      <td>{'$date': '2020-07-08T00:00:00.000Z'}</td>\n",
       "      <td>NaN</td>\n",
       "      <td>197198, ГОРОД САНКТ-ПЕТЕРБУРГ, УЛИЦА ЗВЕРИНСКА...</td>\n",
       "      <td>{'name': None, 'code': None}</td>\n",
       "      <td>False</td>\n",
       "      <td>[{'name': 'Исследование конъюнктуры рынка и из...</td>\n",
       "      <td>{'$date': '2020-07-08T00:00:00.000Z'}</td>\n",
       "    </tr>\n",
       "  </tbody>\n",
       "</table>\n",
       "</div>"
      ],
      "text/plain": [
       "   Unnamed: 0       regionName  \\\n",
       "0           0  Санкт-Петербург   \n",
       "1           1           Москва   \n",
       "2           2  Санкт-Петербург   \n",
       "3           3           Москва   \n",
       "4           4  Санкт-Петербург   \n",
       "\n",
       "                                            fullName dateReg  \\\n",
       "0  МЕЖРЕГИОНАЛЬНАЯ АНТРОПОСОФСКАЯ МЕДИЦИНСКАЯ АСС...     NaN   \n",
       "1  ФОНД \"СОДЕЙСТВИЕ ДУХОВНОМУ РАЗВИТИЮ ЧЕЛОВЕКА \"...     NaN   \n",
       "2  КОЛЛЕГИЯ АДВОКАТОВ \"САНКТ-ПЕТЕРБУРГСКАЯ КОЛЛЕГ...     NaN   \n",
       "3  ТОВАРИЩЕСТВО СОБСТВЕННИКОВ НЕДВИЖИМОСТИ \"ЛУГИН...     NaN   \n",
       "4  АВТОНОМНАЯ НЕКОММЕРЧЕСКАЯ ОРГАНИЗАЦИЯ \"ЦЕНТР С...     NaN   \n",
       "\n",
       "                                      minjustForm           ogrn  \\\n",
       "0  Объединения (союз, ассоциация) юридических лиц  1207800141790   \n",
       "1                             Некоммерческий фонд  1207700349152   \n",
       "2                              Коллегия адвокатов  1207800011430   \n",
       "3                                             NaN  1207700348976   \n",
       "4           Автономная некоммерческая организация  1207800081500   \n",
       "\n",
       "                                                 opf egrulStatus  \\\n",
       "0  {'name': 'Ассоциации (союзы)', 'code': '20600'...   Действует   \n",
       "1  {'name': 'Фонды', 'code': '70400', 'version': ...   Действует   \n",
       "2  {'name': 'Коллегии адвокатов', 'code': '20616'...   Действует   \n",
       "3  {'name': 'Товарищества собственников недвижимо...   Действует   \n",
       "4  {'name': 'Автономные некоммерческие организаци...   Действует   \n",
       "\n",
       "                                           mainOkved  regionCode  incomeTotal  \\\n",
       "0  {'name': 'Деятельность профессиональных членск...          78          0.0   \n",
       "1  {'name': 'Предоставление прочих финансовых усл...          77          0.0   \n",
       "2  {'name': 'Деятельность в области права', 'code...          78          0.0   \n",
       "3  {'name': 'Управление недвижимым имуществом за ...          77          0.0   \n",
       "4  {'name': 'Деятельность по организации конферен...          78          0.0   \n",
       "\n",
       "            inn                             originDate dateLiquid  \\\n",
       "0  7.841091e+09  {'$date': '2020-10-30T00:00:00.000Z'}        NaN   \n",
       "1  7.720647e+09  {'$date': '2020-09-23T00:00:00.000Z'}        NaN   \n",
       "2  7.813643e+09  {'$date': '2020-02-03T00:00:00.000Z'}        NaN   \n",
       "3  7.733360e+09  {'$date': '2020-09-23T00:00:00.000Z'}        NaN   \n",
       "4  7.813645e+09  {'$date': '2020-07-08T00:00:00.000Z'}        NaN   \n",
       "\n",
       "                                             address  \\\n",
       "0  191186, ГОРОД САНКТ-ПЕТЕРБУРГ, УЛИЦА ИТАЛЬЯНСК...   \n",
       "1  111395, ГОРОД МОСКВА, УЛИЦА МОЛДАГУЛОВОЙ, ДОМ ...   \n",
       "2  197198, ГОРОД САНКТ-ПЕТЕРБУРГ, УЛИЦА БОЛЬШАЯ П...   \n",
       "3  125424, ГОРОД МОСКВА, ШОССЕ ВОЛОКОЛАМСКОЕ, ДОМ...   \n",
       "4  197198, ГОРОД САНКТ-ПЕТЕРБУРГ, УЛИЦА ЗВЕРИНСКА...   \n",
       "\n",
       "                          okogu  hasRegionalSupport  \\\n",
       "0  {'name': None, 'code': None}               False   \n",
       "1  {'name': None, 'code': None}               False   \n",
       "2  {'name': None, 'code': None}               False   \n",
       "3  {'name': None, 'code': None}               False   \n",
       "4  {'name': None, 'code': None}               False   \n",
       "\n",
       "                                            addOkved  \\\n",
       "0                                                 []   \n",
       "1  [{'name': 'Издание книг', 'code': '58.11', 've...   \n",
       "2                                                 []   \n",
       "3  [{'name': 'Аренда и управление собственным или...   \n",
       "4  [{'name': 'Исследование конъюнктуры рынка и из...   \n",
       "\n",
       "                                dateOgrn  \n",
       "0  {'$date': '2020-10-30T00:00:00.000Z'}  \n",
       "1  {'$date': '2020-09-23T00:00:00.000Z'}  \n",
       "2  {'$date': '2020-02-03T00:00:00.000Z'}  \n",
       "3  {'$date': '2020-09-23T00:00:00.000Z'}  \n",
       "4  {'$date': '2020-07-08T00:00:00.000Z'}  "
      ]
     },
     "execution_count": 2,
     "metadata": {},
     "output_type": "execute_result"
    }
   ],
   "source": [
    "data = pd.read_csv('nko_dropped.csv')\n",
    "data.head()"
   ]
  },
  {
   "cell_type": "code",
   "execution_count": 3,
   "metadata": {
    "scrolled": true
   },
   "outputs": [
    {
     "data": {
      "text/html": [
       "<div>\n",
       "<style scoped>\n",
       "    .dataframe tbody tr th:only-of-type {\n",
       "        vertical-align: middle;\n",
       "    }\n",
       "\n",
       "    .dataframe tbody tr th {\n",
       "        vertical-align: top;\n",
       "    }\n",
       "\n",
       "    .dataframe thead th {\n",
       "        text-align: right;\n",
       "    }\n",
       "</style>\n",
       "<table border=\"1\" class=\"dataframe\">\n",
       "  <thead>\n",
       "    <tr style=\"text-align: right;\">\n",
       "      <th></th>\n",
       "      <th>nunique</th>\n",
       "      <th>&lt;lambda&gt;</th>\n",
       "      <th>null</th>\n",
       "      <th>dtype</th>\n",
       "    </tr>\n",
       "  </thead>\n",
       "  <tbody>\n",
       "    <tr>\n",
       "      <th>Unnamed: 0</th>\n",
       "      <td>747034</td>\n",
       "      <td>[0, 1, 2, 3, 4, 5, 6, 7, 8, 9]</td>\n",
       "      <td>0</td>\n",
       "      <td>int64</td>\n",
       "    </tr>\n",
       "    <tr>\n",
       "      <th>regionName</th>\n",
       "      <td>86</td>\n",
       "      <td>[Санкт-Петербург, Москва, Республика Марий Эл,...</td>\n",
       "      <td>25</td>\n",
       "      <td>object</td>\n",
       "    </tr>\n",
       "    <tr>\n",
       "      <th>fullName</th>\n",
       "      <td>665787</td>\n",
       "      <td>[МЕЖРЕГИОНАЛЬНАЯ АНТРОПОСОФСКАЯ МЕДИЦИНСКАЯ АС...</td>\n",
       "      <td>0</td>\n",
       "      <td>object</td>\n",
       "    </tr>\n",
       "    <tr>\n",
       "      <th>dateReg</th>\n",
       "      <td>12927</td>\n",
       "      <td>[nan, {'$date': '1991-04-12T00:00:00.000Z'}, {...</td>\n",
       "      <td>425618</td>\n",
       "      <td>object</td>\n",
       "    </tr>\n",
       "    <tr>\n",
       "      <th>minjustForm</th>\n",
       "      <td>42</td>\n",
       "      <td>[Объединения (союз, ассоциация) юридических ли...</td>\n",
       "      <td>285961</td>\n",
       "      <td>object</td>\n",
       "    </tr>\n",
       "    <tr>\n",
       "      <th>ogrn</th>\n",
       "      <td>747034</td>\n",
       "      <td>[1207800141790, 1207700349152, 1207800011430, ...</td>\n",
       "      <td>0</td>\n",
       "      <td>int64</td>\n",
       "    </tr>\n",
       "    <tr>\n",
       "      <th>opf</th>\n",
       "      <td>291</td>\n",
       "      <td>[{'name': 'Ассоциации (союзы)', 'code': '20600...</td>\n",
       "      <td>0</td>\n",
       "      <td>object</td>\n",
       "    </tr>\n",
       "    <tr>\n",
       "      <th>egrulStatus</th>\n",
       "      <td>2</td>\n",
       "      <td>[Действует, Ликвидирована]</td>\n",
       "      <td>0</td>\n",
       "      <td>object</td>\n",
       "    </tr>\n",
       "    <tr>\n",
       "      <th>mainOkved</th>\n",
       "      <td>2209</td>\n",
       "      <td>[{'name': 'Деятельность профессиональных членс...</td>\n",
       "      <td>0</td>\n",
       "      <td>object</td>\n",
       "    </tr>\n",
       "    <tr>\n",
       "      <th>regionCode</th>\n",
       "      <td>93</td>\n",
       "      <td>[78, 77, 12, 75, 23, 43, 30, 4, 50, 58]</td>\n",
       "      <td>0</td>\n",
       "      <td>int64</td>\n",
       "    </tr>\n",
       "    <tr>\n",
       "      <th>incomeTotal</th>\n",
       "      <td>28326</td>\n",
       "      <td>[0.0, 11464477.21, 1096727.62, 235672.5, 10607...</td>\n",
       "      <td>0</td>\n",
       "      <td>float64</td>\n",
       "    </tr>\n",
       "    <tr>\n",
       "      <th>inn</th>\n",
       "      <td>742240</td>\n",
       "      <td>[7841091168.0, 7720646827.0, 7813642543.0, 773...</td>\n",
       "      <td>2604</td>\n",
       "      <td>float64</td>\n",
       "    </tr>\n",
       "    <tr>\n",
       "      <th>originDate</th>\n",
       "      <td>17004</td>\n",
       "      <td>[{'$date': '2020-10-30T00:00:00.000Z'}, {'$dat...</td>\n",
       "      <td>0</td>\n",
       "      <td>object</td>\n",
       "    </tr>\n",
       "    <tr>\n",
       "      <th>dateLiquid</th>\n",
       "      <td>5453</td>\n",
       "      <td>[nan, {'$date': '2021-07-16T00:00:00.000Z'}, {...</td>\n",
       "      <td>347073</td>\n",
       "      <td>object</td>\n",
       "    </tr>\n",
       "    <tr>\n",
       "      <th>address</th>\n",
       "      <td>632856</td>\n",
       "      <td>[191186, ГОРОД САНКТ-ПЕТЕРБУРГ, УЛИЦА ИТАЛЬЯНС...</td>\n",
       "      <td>0</td>\n",
       "      <td>object</td>\n",
       "    </tr>\n",
       "    <tr>\n",
       "      <th>okogu</th>\n",
       "      <td>77</td>\n",
       "      <td>[{'name': None, 'code': None}, {'name': 'Орган...</td>\n",
       "      <td>0</td>\n",
       "      <td>object</td>\n",
       "    </tr>\n",
       "    <tr>\n",
       "      <th>hasRegionalSupport</th>\n",
       "      <td>2</td>\n",
       "      <td>[False, True]</td>\n",
       "      <td>0</td>\n",
       "      <td>bool</td>\n",
       "    </tr>\n",
       "    <tr>\n",
       "      <th>addOkved</th>\n",
       "      <td>127443</td>\n",
       "      <td>[[], [{'name': 'Издание книг', 'code': '58.11'...</td>\n",
       "      <td>0</td>\n",
       "      <td>object</td>\n",
       "    </tr>\n",
       "    <tr>\n",
       "      <th>dateOgrn</th>\n",
       "      <td>5610</td>\n",
       "      <td>[{'$date': '2020-10-30T00:00:00.000Z'}, {'$dat...</td>\n",
       "      <td>0</td>\n",
       "      <td>object</td>\n",
       "    </tr>\n",
       "  </tbody>\n",
       "</table>\n",
       "</div>"
      ],
      "text/plain": [
       "                   nunique                                           <lambda>  \\\n",
       "Unnamed: 0          747034                     [0, 1, 2, 3, 4, 5, 6, 7, 8, 9]   \n",
       "regionName              86  [Санкт-Петербург, Москва, Республика Марий Эл,...   \n",
       "fullName            665787  [МЕЖРЕГИОНАЛЬНАЯ АНТРОПОСОФСКАЯ МЕДИЦИНСКАЯ АС...   \n",
       "dateReg              12927  [nan, {'$date': '1991-04-12T00:00:00.000Z'}, {...   \n",
       "minjustForm             42  [Объединения (союз, ассоциация) юридических ли...   \n",
       "ogrn                747034  [1207800141790, 1207700349152, 1207800011430, ...   \n",
       "opf                    291  [{'name': 'Ассоциации (союзы)', 'code': '20600...   \n",
       "egrulStatus              2                         [Действует, Ликвидирована]   \n",
       "mainOkved             2209  [{'name': 'Деятельность профессиональных членс...   \n",
       "regionCode              93            [78, 77, 12, 75, 23, 43, 30, 4, 50, 58]   \n",
       "incomeTotal          28326  [0.0, 11464477.21, 1096727.62, 235672.5, 10607...   \n",
       "inn                 742240  [7841091168.0, 7720646827.0, 7813642543.0, 773...   \n",
       "originDate           17004  [{'$date': '2020-10-30T00:00:00.000Z'}, {'$dat...   \n",
       "dateLiquid            5453  [nan, {'$date': '2021-07-16T00:00:00.000Z'}, {...   \n",
       "address             632856  [191186, ГОРОД САНКТ-ПЕТЕРБУРГ, УЛИЦА ИТАЛЬЯНС...   \n",
       "okogu                   77  [{'name': None, 'code': None}, {'name': 'Орган...   \n",
       "hasRegionalSupport       2                                      [False, True]   \n",
       "addOkved            127443  [[], [{'name': 'Издание книг', 'code': '58.11'...   \n",
       "dateOgrn              5610  [{'$date': '2020-10-30T00:00:00.000Z'}, {'$dat...   \n",
       "\n",
       "                      null    dtype  \n",
       "Unnamed: 0               0    int64  \n",
       "regionName              25   object  \n",
       "fullName                 0   object  \n",
       "dateReg             425618   object  \n",
       "minjustForm         285961   object  \n",
       "ogrn                     0    int64  \n",
       "opf                      0   object  \n",
       "egrulStatus              0   object  \n",
       "mainOkved                0   object  \n",
       "regionCode               0    int64  \n",
       "incomeTotal              0  float64  \n",
       "inn                   2604  float64  \n",
       "originDate               0   object  \n",
       "dateLiquid          347073   object  \n",
       "address                  0   object  \n",
       "okogu                    0   object  \n",
       "hasRegionalSupport       0     bool  \n",
       "addOkved                 0   object  \n",
       "dateOgrn                 0   object  "
      ]
     },
     "execution_count": 3,
     "metadata": {},
     "output_type": "execute_result"
    }
   ],
   "source": [
    "# Табличка признаков \n",
    "data_agg = data.agg({'nunique', lambda s: s.unique()[:10]})\\\n",
    "    .append(pd.Series(data.isnull().sum(), name='null'))\\\n",
    "    .append(pd.Series(data.dtypes, name='dtype'))\\\n",
    "    .transpose()\n",
    "data_agg"
   ]
  },
  {
   "cell_type": "code",
   "execution_count": 4,
   "metadata": {},
   "outputs": [],
   "source": [
    "drop_cols = []"
   ]
  },
  {
   "cell_type": "code",
   "execution_count": 5,
   "metadata": {},
   "outputs": [],
   "source": [
    "drop_cols.append('Unnamed: 0')"
   ]
  },
  {
   "cell_type": "code",
   "execution_count": 6,
   "metadata": {},
   "outputs": [],
   "source": [
    "data.drop(columns = drop_cols, inplace = True )"
   ]
  },
  {
   "cell_type": "code",
   "execution_count": 7,
   "metadata": {},
   "outputs": [
    {
     "name": "stdout",
     "output_type": "stream",
     "text": [
      "Misses detected: 1061281\n"
     ]
    },
    {
     "data": {
      "text/plain": [
       "<AxesSubplot:>"
      ]
     },
     "execution_count": 7,
     "metadata": {},
     "output_type": "execute_result"
    },
    {
     "data": {
      "image/png": "[encoded data removed]",
      "text/plain": [
       "<Figure size 1080x360 with 2 Axes>"
      ]
     },
     "metadata": {
      "needs_background": "light"
     },
     "output_type": "display_data"
    }
   ],
   "source": [
    "print('Misses detected:', data.isnull().sum().sum())\n",
    "\n",
    "plt.subplots(figsize=(15, 5))\n",
    "sns.heatmap(data.isnull())"
   ]
  },
  {
   "cell_type": "markdown",
   "metadata": {},
   "source": [
    "Гипотезы: \n",
    "        \n",
    "        НКО с с положительным флагом по hasRegionalSupport  будут иметь меньше шансов на грант. ДБ соцориентрованы, получают приоритетную поддержку от региона.\n",
    "        НКО с признаком ОКОГУ чаще получают финансирование, чем НКО не относящиеся к органам госвласти. \n",
    "        ОПФ НКО может однозначно определять неполучение финансирования. \n",
    "        Регион НКО будет оказывать сильное влияние на получение финансирования.\n",
    "        Срок жизни НКО будет оказывать сильное положительное влияние на вероятность получения финансирования. \n",
    "        "
   ]
  },
  {
   "cell_type": "code",
   "execution_count": 8,
   "metadata": {},
   "outputs": [],
   "source": [
    "conclusions = []"
   ]
  },
  {
   "cell_type": "markdown",
   "metadata": {},
   "source": [
    "####  Target\n",
    "назанчим флаг target  по уровню дохода из открытых источников: 1 если такие поступления есть, 0 - если нет. "
   ]
  },
  {
   "cell_type": "code",
   "execution_count": 9,
   "metadata": {},
   "outputs": [],
   "source": [
    "data['target'] = np.nan"
   ]
  },
  {
   "cell_type": "code",
   "execution_count": 10,
   "metadata": {},
   "outputs": [],
   "source": [
    "data.loc[data['incomeTotal'] > 0, 'target'] = 1 "
   ]
  },
  {
   "cell_type": "code",
   "execution_count": 11,
   "metadata": {},
   "outputs": [],
   "source": [
    "data.target.fillna(0, inplace = True)"
   ]
  },
  {
   "cell_type": "code",
   "execution_count": 12,
   "metadata": {},
   "outputs": [
    {
     "data": {
      "text/plain": [
       "0.0    712729\n",
       "1.0     34305\n",
       "Name: target, dtype: int64"
      ]
     },
     "execution_count": 12,
     "metadata": {},
     "output_type": "execute_result"
    }
   ],
   "source": [
    "data.target.value_counts()\n"
   ]
  },
  {
   "cell_type": "markdown",
   "metadata": {},
   "source": [
    "## Geo "
   ]
  },
  {
   "cell_type": "markdown",
   "metadata": {},
   "source": [
    "####  Region code "
   ]
  },
  {
   "cell_type": "markdown",
   "metadata": {},
   "source": [
    "Восстановим пропуски в кодахх региона"
   ]
  },
  {
   "cell_type": "code",
   "execution_count": 13,
   "metadata": {},
   "outputs": [
    {
     "data": {
      "text/plain": [
       "77    80178\n",
       "50    37927\n",
       "78    31767\n",
       "23    23337\n",
       "66    23030\n",
       "      ...  \n",
       "99       91\n",
       "81       84\n",
       "88       65\n",
       "82       31\n",
       "0        25\n",
       "Name: regionCode, Length: 93, dtype: int64"
      ]
     },
     "execution_count": 13,
     "metadata": {},
     "output_type": "execute_result"
    }
   ],
   "source": [
    "data.regionCode.value_counts()"
   ]
  },
  {
   "cell_type": "code",
   "execution_count": 14,
   "metadata": {},
   "outputs": [
    {
     "data": {
      "text/plain": [
       "31530     420015, РЕСПУБЛИКА Татарстан, УЛИЦА К.МАРКСА, ...\n",
       "46886     420100, РЕСПУБЛИКА ТАТАРСТАН, УЛИЦА ПРОСПЕКТ П...\n",
       "51173     420140, РЕСПУБЛИКА ТАТАРСТАН, УЛИЦА КАРАТАУ, Д...\n",
       "53316     420101, РЕСПУБЛИКА ТАТАРСТАН, УЛИЦА МАВЛЮТОВА,...\n",
       "53323     РЕСПУБЛИКА ТАТАРСТАН, УЛИЦА Н.ЕРШОВА, ДОМ 28, ...\n",
       "53841     420021, РЕСПУБЛИКА ТАТАРСТАН, УЛИЦА КАМАЛА ГАЛ...\n",
       "54766     420044, РЕСПУБЛИКА ТАТАРСТАН, УЛИЦА ЯМАШЕВА, Д...\n",
       "61942     420133, РЕСПУБЛИКА ТАТАРСТАН, УЛИЦА ЛАВРЕНТЬЕВ...\n",
       "62898     420015, РЕСПУБЛИКА ТАТАРСТАН, УЛИЦА К.МАРКСА, ...\n",
       "68375           РЕСПУБЛИКА ТАТАРСТАН, УЛИЦА ПРОСПЕКТ ПОБЕДЫ\n",
       "69775     420045, РЕСПУБЛИКА ТАТАРСТАН, УЛИЦА Н.ЕРШОВА, ...\n",
       "69901     420021, РЕСПУБЛИКА ТАТАРСТАН, УЛИЦА К.ТИНЧУРИН...\n",
       "192669    420111, РЕСПУБЛИКА ТАТАРСТАН, УЛИЦА М.ДЖАЛИЛЯ,...\n",
       "196977       РЕСПУБЛИКА ТАТАРСТАН, УЛИЦА К.ТИНЧУРИНА, ДОМ 3\n",
       "499182    420140, РЕСПУБЛИКА ТАТАРСТАН, УЛИЦА ПРОСПЕКТ П...\n",
       "615405    420103, РЕСПУБЛИКА ТАТАРСТАН, УЛИЦА АМИРХАНА, ...\n",
       "618062    420111, РЕСПУБЛИКА ТАТАРСТАН, УЛИЦА АМИРХАНА, ...\n",
       "629021    420111, РЕСПУБЛИКА ТАТАРСТАН, УЛИЦА ПРАВОБУЛАЧ...\n",
       "631662    420138, РЕСПУБЛИКА ТАТАРСТАН, УЛИЦА ПРОСПЕКТ П...\n",
       "632623    420108, РЕСПУБЛИКА ТАТАРСТАН, УЛИЦА АМИРХАНА, ...\n",
       "632809    420087, РЕСПУБЛИКА ТАТАРСТАН, УЛИЦА Р.ЗОРГЕ, Д...\n",
       "633399    420140, РЕСПУБЛИКА ТАТАРСТАН, УЛИЦА Ю.ФУЧИКА, ...\n",
       "633714    420104, РЕСПУБЛИКА ТАТАРСТАН, УЛИЦА Р.ЗОРГЕ, Д...\n",
       "633758    420138, РЕСПУБЛИКА ТАТАРСТАН, УЛИЦА ПРОСПЕКТ П...\n",
       "634735         РЕСПУБЛИКА ТАТАРСТАН, УЛИЦА М.ДЖАЛИЛЯ, ДОМ 3\n",
       "Name: address, dtype: object"
      ]
     },
     "execution_count": 14,
     "metadata": {},
     "output_type": "execute_result"
    }
   ],
   "source": [
    "data[data.regionCode == 0]['address']"
   ]
  },
  {
   "cell_type": "code",
   "execution_count": 15,
   "metadata": {},
   "outputs": [
    {
     "data": {
      "text/plain": [
       "17103"
      ]
     },
     "execution_count": 15,
     "metadata": {},
     "output_type": "execute_result"
    }
   ],
   "source": [
    "data[data.regionCode == 16]['ogrn'].count()"
   ]
  },
  {
   "cell_type": "code",
   "execution_count": 16,
   "metadata": {},
   "outputs": [],
   "source": [
    "data.loc[data.regionCode == 0, 'regionCode'] = 16\n"
   ]
  },
  {
   "cell_type": "code",
   "execution_count": 17,
   "metadata": {},
   "outputs": [
    {
     "data": {
      "text/plain": [
       "77    80178\n",
       "50    37927\n",
       "78    31767\n",
       "23    23337\n",
       "66    23030\n",
       "      ...  \n",
       "80      105\n",
       "99       91\n",
       "81       84\n",
       "88       65\n",
       "82       31\n",
       "Name: regionCode, Length: 92, dtype: int64"
      ]
     },
     "execution_count": 17,
     "metadata": {},
     "output_type": "execute_result"
    }
   ],
   "source": [
    "data.regionCode.value_counts()"
   ]
  },
  {
   "cell_type": "code",
   "execution_count": 27,
   "metadata": {},
   "outputs": [
    {
     "name": "stdout",
     "output_type": "stream",
     "text": [
      "1         Москва\n",
      "3         Москва\n",
      "5         Москва\n",
      "6         Москва\n",
      "7         Москва\n",
      "           ...  \n",
      "747006    Москва\n",
      "747016    Москва\n",
      "747020    Москва\n",
      "747022    Москва\n",
      "747029    Москва\n",
      "Name: regionName, Length: 80178, dtype: object\n",
      "18        Московская область\n",
      "69        Московская область\n",
      "71        Московская область\n",
      "75        Московская область\n",
      "76        Московская область\n",
      "                 ...        \n",
      "746969    Московская область\n",
      "746981    Московская область\n",
      "746988    Московская область\n",
      "746996    Московская область\n",
      "747015    Московская область\n",
      "Name: regionName, Length: 37927, dtype: object\n",
      "0         Санкт-Петербург\n",
      "2         Санкт-Петербург\n",
      "4         Санкт-Петербург\n",
      "15        Санкт-Петербург\n",
      "16        Санкт-Петербург\n",
      "               ...       \n",
      "746917    Санкт-Петербург\n",
      "746920    Санкт-Петербург\n",
      "746922    Санкт-Петербург\n",
      "746987    Санкт-Петербург\n",
      "746992    Санкт-Петербург\n",
      "Name: regionName, Length: 31767, dtype: object\n",
      "10        Краснодарский край\n",
      "124       Краснодарский край\n",
      "125       Краснодарский край\n",
      "185       Краснодарский край\n",
      "210       Краснодарский край\n",
      "                 ...        \n",
      "746585    Краснодарский край\n",
      "746587    Краснодарский край\n",
      "746670    Краснодарский край\n",
      "746714    Краснодарский край\n",
      "746972    Краснодарский край\n",
      "Name: regionName, Length: 23337, dtype: object\n",
      "31        Свердловская область\n",
      "34        Свердловская область\n",
      "43        Свердловская область\n",
      "79        Свердловская область\n",
      "130       Свердловская область\n",
      "                  ...         \n",
      "746975    Свердловская область\n",
      "746976    Свердловская область\n",
      "747012    Свердловская область\n",
      "747019    Свердловская область\n",
      "747030    Свердловская область\n",
      "Name: regionName, Length: 23030, dtype: object\n"
     ]
    }
   ],
   "source": [
    "codes = [77, 50, 78, 23, 66]\n",
    "for code in codes:\n",
    "    print(data[data.regionCode == code].regionName)"
   ]
  },
  {
   "cell_type": "code",
   "execution_count": 29,
   "metadata": {},
   "outputs": [],
   "source": [
    "conclusions.append('Топ-5 регионов, получающих финансирование: Москва, Московская область, Санкт-Петербург, Краснодарский край и Свердловская область.')"
   ]
  },
  {
   "cell_type": "markdown",
   "metadata": {},
   "source": [
    "Посмотрим на региональные коды в свзяке с target "
   ]
  },
  {
   "cell_type": "code",
   "execution_count": 43,
   "metadata": {},
   "outputs": [
    {
     "data": {
      "text/html": [
       "<div>\n",
       "<style scoped>\n",
       "    .dataframe tbody tr th:only-of-type {\n",
       "        vertical-align: middle;\n",
       "    }\n",
       "\n",
       "    .dataframe tbody tr th {\n",
       "        vertical-align: top;\n",
       "    }\n",
       "\n",
       "    .dataframe thead th {\n",
       "        text-align: right;\n",
       "    }\n",
       "</style>\n",
       "<table border=\"1\" class=\"dataframe\">\n",
       "  <thead>\n",
       "    <tr style=\"text-align: right;\">\n",
       "      <th></th>\n",
       "      <th>granted</th>\n",
       "    </tr>\n",
       "    <tr>\n",
       "      <th>regionCode</th>\n",
       "      <th></th>\n",
       "    </tr>\n",
       "  </thead>\n",
       "  <tbody>\n",
       "    <tr>\n",
       "      <th>1</th>\n",
       "      <td>64</td>\n",
       "    </tr>\n",
       "    <tr>\n",
       "      <th>2</th>\n",
       "      <td>706</td>\n",
       "    </tr>\n",
       "    <tr>\n",
       "      <th>3</th>\n",
       "      <td>259</td>\n",
       "    </tr>\n",
       "    <tr>\n",
       "      <th>4</th>\n",
       "      <td>137</td>\n",
       "    </tr>\n",
       "    <tr>\n",
       "      <th>5</th>\n",
       "      <td>188</td>\n",
       "    </tr>\n",
       "    <tr>\n",
       "      <th>...</th>\n",
       "      <td>...</td>\n",
       "    </tr>\n",
       "    <tr>\n",
       "      <th>86</th>\n",
       "      <td>520</td>\n",
       "    </tr>\n",
       "    <tr>\n",
       "      <th>87</th>\n",
       "      <td>19</td>\n",
       "    </tr>\n",
       "    <tr>\n",
       "      <th>89</th>\n",
       "      <td>174</td>\n",
       "    </tr>\n",
       "    <tr>\n",
       "      <th>91</th>\n",
       "      <td>157</td>\n",
       "    </tr>\n",
       "    <tr>\n",
       "      <th>92</th>\n",
       "      <td>79</td>\n",
       "    </tr>\n",
       "  </tbody>\n",
       "</table>\n",
       "<p>87 rows × 1 columns</p>\n",
       "</div>"
      ],
      "text/plain": [
       "            granted\n",
       "regionCode         \n",
       "1                64\n",
       "2               706\n",
       "3               259\n",
       "4               137\n",
       "5               188\n",
       "...             ...\n",
       "86              520\n",
       "87               19\n",
       "89              174\n",
       "91              157\n",
       "92               79\n",
       "\n",
       "[87 rows x 1 columns]"
      ]
     },
     "execution_count": 43,
     "metadata": {},
     "output_type": "execute_result"
    }
   ],
   "source": [
    "df_reg_code = pd.DataFrame()\n",
    "df_reg_code['granted']= data[data.target == 1].groupby('regionCode').ogrn.count() # получившие доход\n",
    "#df_reg_code['nongranted'] = data[data.target == 0].groupby('regionCode').count() # неполучившие доход \n",
    "#df_reg_code['total_count'] = data.groupby('regionCode')['ogrn'].count() # всего зарегистрированных огрн в регион_коде\n",
    "df_reg_code"
   ]
  },
  {
   "cell_type": "code",
   "execution_count": 34,
   "metadata": {},
   "outputs": [
    {
     "name": "stderr",
     "output_type": "stream",
     "text": [
      "<ipython-input-34-585f8c8e335a>:1: UserWarning: Boolean Series key will be reindexed to match DataFrame index.\n",
      "  data[data.regionCode==99][data.target == 0].ogrn.count() / data[data.regionCode == 99].ogrn.count()\n"
     ]
    },
    {
     "data": {
      "text/plain": [
       "1.0"
      ]
     },
     "execution_count": 34,
     "metadata": {},
     "output_type": "execute_result"
    }
   ],
   "source": [
    "data[data.regionCode==99][data.target == 0].ogrn.count() "
   ]
  },
  {
   "cell_type": "code",
   "execution_count": 37,
   "metadata": {},
   "outputs": [
    {
     "data": {
      "text/plain": [
       "91"
      ]
     },
     "execution_count": 37,
     "metadata": {},
     "output_type": "execute_result"
    }
   ],
   "source": [
    "data[data.regionCode == 99].ogrn.count()"
   ]
  },
  {
   "cell_type": "code",
   "execution_count": 36,
   "metadata": {},
   "outputs": [
    {
     "data": {
      "text/html": [
       "<div>\n",
       "<style scoped>\n",
       "    .dataframe tbody tr th:only-of-type {\n",
       "        vertical-align: middle;\n",
       "    }\n",
       "\n",
       "    .dataframe tbody tr th {\n",
       "        vertical-align: top;\n",
       "    }\n",
       "\n",
       "    .dataframe thead th {\n",
       "        text-align: right;\n",
       "    }\n",
       "</style>\n",
       "<table border=\"1\" class=\"dataframe\">\n",
       "  <thead>\n",
       "    <tr style=\"text-align: right;\">\n",
       "      <th></th>\n",
       "      <th>granted</th>\n",
       "      <th>nongranted</th>\n",
       "      <th>total_count</th>\n",
       "    </tr>\n",
       "    <tr>\n",
       "      <th>regionCode</th>\n",
       "      <th></th>\n",
       "      <th></th>\n",
       "      <th></th>\n",
       "    </tr>\n",
       "  </thead>\n",
       "  <tbody>\n",
       "    <tr>\n",
       "      <th>81</th>\n",
       "      <td>1</td>\n",
       "      <td>83</td>\n",
       "      <td>84</td>\n",
       "    </tr>\n",
       "    <tr>\n",
       "      <th>80</th>\n",
       "      <td>1</td>\n",
       "      <td>104</td>\n",
       "      <td>105</td>\n",
       "    </tr>\n",
       "    <tr>\n",
       "      <th>83</th>\n",
       "      <td>31</td>\n",
       "      <td>367</td>\n",
       "      <td>398</td>\n",
       "    </tr>\n",
       "    <tr>\n",
       "      <th>87</th>\n",
       "      <td>19</td>\n",
       "      <td>486</td>\n",
       "      <td>505</td>\n",
       "    </tr>\n",
       "    <tr>\n",
       "      <th>79</th>\n",
       "      <td>42</td>\n",
       "      <td>1155</td>\n",
       "      <td>1197</td>\n",
       "    </tr>\n",
       "    <tr>\n",
       "      <th>...</th>\n",
       "      <td>...</td>\n",
       "      <td>...</td>\n",
       "      <td>...</td>\n",
       "    </tr>\n",
       "    <tr>\n",
       "      <th>66</th>\n",
       "      <td>731</td>\n",
       "      <td>22299</td>\n",
       "      <td>23030</td>\n",
       "    </tr>\n",
       "    <tr>\n",
       "      <th>23</th>\n",
       "      <td>787</td>\n",
       "      <td>22550</td>\n",
       "      <td>23337</td>\n",
       "    </tr>\n",
       "    <tr>\n",
       "      <th>78</th>\n",
       "      <td>2286</td>\n",
       "      <td>29481</td>\n",
       "      <td>31767</td>\n",
       "    </tr>\n",
       "    <tr>\n",
       "      <th>50</th>\n",
       "      <td>1038</td>\n",
       "      <td>36889</td>\n",
       "      <td>37927</td>\n",
       "    </tr>\n",
       "    <tr>\n",
       "      <th>77</th>\n",
       "      <td>5586</td>\n",
       "      <td>74592</td>\n",
       "      <td>80178</td>\n",
       "    </tr>\n",
       "  </tbody>\n",
       "</table>\n",
       "<p>87 rows × 3 columns</p>\n",
       "</div>"
      ],
      "text/plain": [
       "            granted  nongranted  total_count\n",
       "regionCode                                  \n",
       "81                1          83           84\n",
       "80                1         104          105\n",
       "83               31         367          398\n",
       "87               19         486          505\n",
       "79               42        1155         1197\n",
       "...             ...         ...          ...\n",
       "66              731       22299        23030\n",
       "23              787       22550        23337\n",
       "78             2286       29481        31767\n",
       "50             1038       36889        37927\n",
       "77             5586       74592        80178\n",
       "\n",
       "[87 rows x 3 columns]"
      ]
     },
     "execution_count": 36,
     "metadata": {},
     "output_type": "execute_result"
    }
   ],
   "source": [
    "df_reg_code.sort_values(by='nongranted', ascending=True)"
   ]
  },
  {
   "cell_type": "code",
   "execution_count": 54,
   "metadata": {},
   "outputs": [],
   "source": [
    "codes =  list(set(data.regionCode))"
   ]
  },
  {
   "cell_type": "code",
   "execution_count": 55,
   "metadata": {},
   "outputs": [
    {
     "data": {
      "text/plain": [
       "[1,\n",
       " 2,\n",
       " 3,\n",
       " 4,\n",
       " 5,\n",
       " 6,\n",
       " 7,\n",
       " 8,\n",
       " 9,\n",
       " 10,\n",
       " 11,\n",
       " 12,\n",
       " 13,\n",
       " 14,\n",
       " 15,\n",
       " 16,\n",
       " 17,\n",
       " 18,\n",
       " 19,\n",
       " 20,\n",
       " 21,\n",
       " 22,\n",
       " 23,\n",
       " 24,\n",
       " 25,\n",
       " 26,\n",
       " 27,\n",
       " 28,\n",
       " 29,\n",
       " 30,\n",
       " 31,\n",
       " 32,\n",
       " 33,\n",
       " 34,\n",
       " 35,\n",
       " 36,\n",
       " 37,\n",
       " 38,\n",
       " 39,\n",
       " 40,\n",
       " 41,\n",
       " 42,\n",
       " 43,\n",
       " 44,\n",
       " 45,\n",
       " 46,\n",
       " 47,\n",
       " 48,\n",
       " 49,\n",
       " 50,\n",
       " 51,\n",
       " 52,\n",
       " 53,\n",
       " 54,\n",
       " 55,\n",
       " 56,\n",
       " 57,\n",
       " 58,\n",
       " 59,\n",
       " 60,\n",
       " 61,\n",
       " 62,\n",
       " 63,\n",
       " 64,\n",
       " 65,\n",
       " 66,\n",
       " 67,\n",
       " 68,\n",
       " 69,\n",
       " 70,\n",
       " 71,\n",
       " 72,\n",
       " 73,\n",
       " 74,\n",
       " 75,\n",
       " 76,\n",
       " 77,\n",
       " 78,\n",
       " 79,\n",
       " 80,\n",
       " 81,\n",
       " 82,\n",
       " 83,\n",
       " 84,\n",
       " 85,\n",
       " 86,\n",
       " 87,\n",
       " 88,\n",
       " 89,\n",
       " 91,\n",
       " 92,\n",
       " 99]"
      ]
     },
     "execution_count": 55,
     "metadata": {},
     "output_type": "execute_result"
    }
   ],
   "source": [
    "codes"
   ]
  },
  {
   "cell_type": "code",
   "execution_count": 58,
   "metadata": {},
   "outputs": [
    {
     "name": "stdout",
     "output_type": "stream",
     "text": [
      "1 target\n",
      "0.0    1616\n",
      "1.0      64\n",
      "Name: ogrn, dtype: int64\n",
      "2 target\n",
      "0.0    15835\n",
      "1.0      706\n",
      "Name: ogrn, dtype: int64\n",
      "3 target\n",
      "0.0    4835\n",
      "1.0     259\n",
      "Name: ogrn, dtype: int64\n",
      "4 target\n",
      "0.0    1810\n",
      "1.0     137\n",
      "Name: ogrn, dtype: int64\n",
      "5 target\n",
      "0.0    6762\n",
      "1.0     188\n",
      "Name: ogrn, dtype: int64\n",
      "6 target\n",
      "0.0    1172\n",
      "1.0      77\n",
      "Name: ogrn, dtype: int64\n",
      "7 target\n",
      "0.0    2435\n",
      "1.0      88\n",
      "Name: ogrn, dtype: int64\n",
      "8 target\n",
      "0.0    1695\n",
      "1.0      58\n",
      "Name: ogrn, dtype: int64\n",
      "9 target\n",
      "0.0    1831\n",
      "1.0      87\n",
      "Name: ogrn, dtype: int64\n",
      "10 target\n",
      "0.0    5746\n",
      "1.0     270\n",
      "Name: ogrn, dtype: int64\n",
      "11 target\n",
      "0.0    4149\n",
      "1.0     216\n",
      "Name: ogrn, dtype: int64\n",
      "12 target\n",
      "0.0    3818\n",
      "1.0     143\n",
      "Name: ogrn, dtype: int64\n",
      "13 target\n",
      "0.0    4091\n",
      "1.0     195\n",
      "Name: ogrn, dtype: int64\n",
      "14 target\n",
      "0.0    8346\n",
      "1.0     404\n",
      "Name: ogrn, dtype: int64\n",
      "15 target\n",
      "0.0    2575\n",
      "1.0     109\n",
      "Name: ogrn, dtype: int64\n",
      "16 target\n",
      "0.0    16297\n",
      "1.0      831\n",
      "Name: ogrn, dtype: int64\n",
      "17 target\n",
      "0.0    1305\n",
      "1.0      77\n",
      "Name: ogrn, dtype: int64\n",
      "18 target\n",
      "0.0    6925\n",
      "1.0     435\n",
      "Name: ogrn, dtype: int64\n",
      "19 target\n",
      "0.0    2059\n",
      "1.0     118\n",
      "Name: ogrn, dtype: int64\n",
      "20 target\n",
      "0.0    1711\n",
      "1.0      98\n",
      "Name: ogrn, dtype: int64\n",
      "21 target\n",
      "0.0    5256\n",
      "1.0     171\n",
      "Name: ogrn, dtype: int64\n",
      "22 target\n",
      "0.0    10464\n",
      "1.0      437\n",
      "Name: ogrn, dtype: int64\n",
      "23 target\n",
      "0.0    22550\n",
      "1.0      787\n",
      "Name: ogrn, dtype: int64\n",
      "24 target\n",
      "0.0    13816\n",
      "1.0      650\n",
      "Name: ogrn, dtype: int64\n",
      "25 target\n",
      "0.0    12210\n",
      "1.0      459\n",
      "Name: ogrn, dtype: int64\n",
      "26 target\n",
      "0.0    9355\n",
      "1.0     475\n",
      "Name: ogrn, dtype: int64\n",
      "27 target\n",
      "0.0    8356\n",
      "1.0     345\n",
      "Name: ogrn, dtype: int64\n",
      "28 target\n",
      "0.0    2696\n",
      "1.0     195\n",
      "Name: ogrn, dtype: int64\n",
      "29 target\n",
      "0.0    5536\n",
      "1.0     278\n",
      "Name: ogrn, dtype: int64\n",
      "30 target\n",
      "0.0    4104\n",
      "1.0     137\n",
      "Name: ogrn, dtype: int64\n",
      "31 target\n",
      "0.0    7673\n",
      "1.0     319\n",
      "Name: ogrn, dtype: int64\n",
      "32 target\n",
      "0.0    4063\n",
      "1.0     166\n",
      "Name: ogrn, dtype: int64\n",
      "33 target\n",
      "0.0    7059\n",
      "1.0     262\n",
      "Name: ogrn, dtype: int64\n",
      "34 target\n",
      "0.0    10972\n",
      "1.0      717\n",
      "Name: ogrn, dtype: int64\n",
      "35 target\n",
      "0.0    8045\n",
      "1.0     372\n",
      "Name: ogrn, dtype: int64\n",
      "36 target\n",
      "0.0    8781\n",
      "1.0     438\n",
      "Name: ogrn, dtype: int64\n",
      "37 target\n",
      "0.0    6628\n",
      "1.0     178\n",
      "Name: ogrn, dtype: int64\n",
      "38 target\n",
      "0.0    11797\n",
      "1.0      654\n",
      "Name: ogrn, dtype: int64\n",
      "39 target\n",
      "0.0    6609\n",
      "1.0     295\n",
      "Name: ogrn, dtype: int64\n",
      "40 target\n",
      "0.0    5231\n",
      "1.0     206\n",
      "Name: ogrn, dtype: int64\n",
      "41 target\n",
      "0.0    3675\n",
      "1.0     109\n",
      "Name: ogrn, dtype: int64\n",
      "42 target\n",
      "0.0    9782\n",
      "1.0     433\n",
      "Name: ogrn, dtype: int64\n",
      "43 target\n",
      "0.0    9642\n",
      "1.0     312\n",
      "Name: ogrn, dtype: int64\n",
      "44 target\n",
      "0.0    3148\n",
      "1.0     147\n",
      "Name: ogrn, dtype: int64\n",
      "45 target\n",
      "0.0    4491\n",
      "1.0     174\n",
      "Name: ogrn, dtype: int64\n",
      "46 target\n",
      "0.0    5534\n",
      "1.0     220\n",
      "Name: ogrn, dtype: int64\n",
      "47 target\n",
      "0.0    8729\n",
      "1.0     274\n",
      "Name: ogrn, dtype: int64\n",
      "48 target\n",
      "0.0    4398\n",
      "1.0     283\n",
      "Name: ogrn, dtype: int64\n",
      "49 target\n",
      "0.0    1490\n",
      "1.0      60\n",
      "Name: ogrn, dtype: int64\n",
      "50 target\n",
      "0.0    36889\n",
      "1.0     1038\n",
      "Name: ogrn, dtype: int64\n",
      "51 target\n",
      "0.0    4237\n",
      "1.0     176\n",
      "Name: ogrn, dtype: int64\n",
      "52 target\n",
      "0.0    16476\n",
      "1.0      617\n",
      "Name: ogrn, dtype: int64\n",
      "53 target\n",
      "0.0    3250\n",
      "1.0     167\n",
      "Name: ogrn, dtype: int64\n",
      "54 target\n",
      "0.0    16380\n",
      "1.0      790\n",
      "Name: ogrn, dtype: int64\n",
      "55 target\n",
      "0.0    10061\n",
      "1.0      436\n",
      "Name: ogrn, dtype: int64\n",
      "56 target\n",
      "0.0    9252\n",
      "1.0     290\n",
      "Name: ogrn, dtype: int64\n",
      "57 target\n",
      "0.0    3068\n",
      "1.0     138\n",
      "Name: ogrn, dtype: int64\n",
      "58 target\n",
      "0.0    8285\n",
      "1.0     287\n",
      "Name: ogrn, dtype: int64\n",
      "59 target\n",
      "0.0    13955\n",
      "1.0      985\n",
      "Name: ogrn, dtype: int64\n",
      "60 target\n",
      "0.0    3032\n",
      "1.0     185\n",
      "Name: ogrn, dtype: int64\n",
      "61 target\n",
      "0.0    17136\n",
      "1.0      740\n",
      "Name: ogrn, dtype: int64\n",
      "62 target\n",
      "0.0    5623\n",
      "1.0     221\n",
      "Name: ogrn, dtype: int64\n",
      "63 target\n",
      "0.0    14755\n",
      "1.0      745\n",
      "Name: ogrn, dtype: int64\n",
      "64 target\n",
      "0.0    13050\n",
      "1.0      470\n",
      "Name: ogrn, dtype: int64\n",
      "65 target\n",
      "0.0    3651\n",
      "1.0     179\n",
      "Name: ogrn, dtype: int64\n",
      "66 target\n",
      "0.0    22299\n",
      "1.0      731\n",
      "Name: ogrn, dtype: int64\n",
      "67 target\n",
      "0.0    5001\n",
      "1.0     178\n",
      "Name: ogrn, dtype: int64\n",
      "68 target\n",
      "0.0    4467\n",
      "1.0     153\n",
      "Name: ogrn, dtype: int64\n",
      "69 target\n",
      "0.0    8292\n",
      "1.0     277\n",
      "Name: ogrn, dtype: int64\n",
      "70 target\n",
      "0.0    6606\n",
      "1.0     402\n",
      "Name: ogrn, dtype: int64\n",
      "71 target\n",
      "0.0    6542\n",
      "1.0     252\n",
      "Name: ogrn, dtype: int64\n",
      "72 target\n",
      "0.0    7573\n",
      "1.0     473\n",
      "Name: ogrn, dtype: int64\n",
      "73 target\n",
      "0.0    6169\n",
      "1.0     275\n",
      "Name: ogrn, dtype: int64\n",
      "74 target\n",
      "0.0    12061\n",
      "1.0      614\n",
      "Name: ogrn, dtype: int64\n",
      "75 target\n",
      "0.0    4080\n",
      "1.0     181\n",
      "Name: ogrn, dtype: int64\n",
      "76 target\n",
      "0.0    7987\n",
      "1.0     296\n",
      "Name: ogrn, dtype: int64\n",
      "77 target\n",
      "0.0    74592\n",
      "1.0     5586\n",
      "Name: ogrn, dtype: int64\n",
      "78 target\n",
      "0.0    29481\n",
      "1.0     2286\n",
      "Name: ogrn, dtype: int64\n",
      "79 target\n",
      "0.0    1155\n",
      "1.0      42\n",
      "Name: ogrn, dtype: int64\n",
      "80 target\n",
      "0.0    104\n",
      "1.0      1\n",
      "Name: ogrn, dtype: int64\n",
      "81 target\n",
      "0.0    83\n",
      "1.0     1\n",
      "Name: ogrn, dtype: int64\n",
      "82 target\n",
      "0.0    31\n",
      "Name: ogrn, dtype: int64\n",
      "83 target\n",
      "0.0    367\n",
      "1.0     31\n",
      "Name: ogrn, dtype: int64\n",
      "84 target\n",
      "0.0    109\n",
      "Name: ogrn, dtype: int64\n",
      "85 target\n",
      "0.0    126\n",
      "Name: ogrn, dtype: int64\n",
      "86 target\n",
      "0.0    7063\n",
      "1.0     520\n",
      "Name: ogrn, dtype: int64\n",
      "87 target\n",
      "0.0    486\n",
      "1.0     19\n",
      "Name: ogrn, dtype: int64\n",
      "88 target\n",
      "0.0    65\n",
      "Name: ogrn, dtype: int64\n",
      "89 target\n",
      "0.0    2589\n",
      "1.0     174\n",
      "Name: ogrn, dtype: int64\n",
      "91 target\n",
      "0.0    6633\n",
      "1.0     157\n",
      "Name: ogrn, dtype: int64\n",
      "92 target\n",
      "0.0    2474\n",
      "1.0      79\n",
      "Name: ogrn, dtype: int64\n",
      "99 target\n",
      "0.0    91\n",
      "Name: ogrn, dtype: int64\n"
     ]
    }
   ],
   "source": [
    "for code in codes: \n",
    "    print(code, data[data.regionCode == code].groupby('target').ogrn.count())"
   ]
  },
  {
   "cell_type": "code",
   "execution_count": 59,
   "metadata": {},
   "outputs": [],
   "source": [
    "# если ты на Байконуре - шансов нет..."
   ]
  },
  {
   "cell_type": "code",
   "execution_count": 60,
   "metadata": {},
   "outputs": [],
   "source": [
    "conclusions.append('Есть ряд регионов, в которых ни одна НКО не получала финансирования из отрытых источников.')"
   ]
  },
  {
   "cell_type": "markdown",
   "metadata": {},
   "source": [
    "## Date works"
   ]
  },
  {
   "cell_type": "markdown",
   "metadata": {},
   "source": [
    "dateReg\n",
    "dateReg: дата регистрации организаций - указывается только для организаций, зарегистрированных до 2002 года (тип: string, null)"
   ]
  },
  {
   "cell_type": "code",
   "execution_count": 61,
   "metadata": {},
   "outputs": [
    {
     "data": {
      "text/plain": [
       "0"
      ]
     },
     "execution_count": 61,
     "metadata": {},
     "output_type": "execute_result"
    }
   ],
   "source": [
    "data.originDate.isnull().sum()"
   ]
  },
  {
   "cell_type": "code",
   "execution_count": 62,
   "metadata": {},
   "outputs": [
    {
     "data": {
      "text/plain": [
       "0"
      ]
     },
     "execution_count": 62,
     "metadata": {},
     "output_type": "execute_result"
    }
   ],
   "source": [
    "data.originDate.isnull().sum()"
   ]
  },
  {
   "cell_type": "code",
   "execution_count": 63,
   "metadata": {
    "scrolled": true
   },
   "outputs": [
    {
     "data": {
      "text/plain": [
       "{'$date': '1996-02-26T00:00:00.000Z'}    3638\n",
       "{'$date': '2002-06-28T00:00:00.000Z'}    1338\n",
       "{'$date': '1996-01-29T00:00:00.000Z'}    1269\n",
       "{'$date': '1995-06-16T00:00:00.000Z'}    1259\n",
       "{'$date': '1999-06-30T00:00:00.000Z'}    1045\n",
       "                                         ... \n",
       "{'$date': '1961-04-14T00:00:00.000Z'}       1\n",
       "{'$date': '1990-03-24T00:00:00.000Z'}       1\n",
       "{'$date': '2011-01-05T00:00:00.000Z'}       1\n",
       "{'$date': '1949-12-06T00:00:00.000Z'}       1\n",
       "{'$date': '1976-06-08T00:00:00.000Z'}       1\n",
       "Name: originDate, Length: 17004, dtype: int64"
      ]
     },
     "execution_count": 63,
     "metadata": {},
     "output_type": "execute_result"
    }
   ],
   "source": [
    "data.originDate.value_counts()"
   ]
  },
  {
   "cell_type": "code",
   "execution_count": 64,
   "metadata": {},
   "outputs": [],
   "source": [
    "data['datebeg'] = data.originDate.apply(lambda x: eval(x)['$date'])\n",
    "data['datebeg'] = pd.to_datetime(data.datebeg)\n",
    "data.datebeg = data.datebeg.apply(lambda x: datetime.datetime.date(x))\n",
    "data.dateLiquid.fillna(0, inplace=True)\n",
    "data.dateLiquid = data.dateLiquid.apply(lambda x: datetime.datetime.today() if x == 0 else eval(x)['$date'])\n",
    "data.dateLiquid = data.dateLiquid.apply(lambda x: datetime.datetime.date(x))"
   ]
  },
  {
   "cell_type": "code",
   "execution_count": 65,
   "metadata": {},
   "outputs": [
    {
     "data": {
      "text/plain": [
       "Index(['regionName', 'fullName', 'dateReg', 'minjustForm', 'ogrn', 'opf',\n",
       "       'egrulStatus', 'mainOkved', 'regionCode', 'incomeTotal', 'inn',\n",
       "       'originDate', 'dateLiquid', 'address', 'okogu', 'hasRegionalSupport',\n",
       "       'addOkved', 'dateOgrn', 'target', 'datebeg'],\n",
       "      dtype='object')"
      ]
     },
     "execution_count": 65,
     "metadata": {},
     "output_type": "execute_result"
    }
   ],
   "source": [
    "data.columns"
   ]
  },
  {
   "cell_type": "code",
   "execution_count": 66,
   "metadata": {},
   "outputs": [
    {
     "data": {
      "text/plain": [
       "0         2020-10-30\n",
       "1         2020-09-23\n",
       "2         2020-02-03\n",
       "3         2020-09-23\n",
       "4         2020-07-08\n",
       "             ...    \n",
       "747029    2006-03-29\n",
       "747030    2006-08-09\n",
       "747031    1998-01-01\n",
       "747032    1987-12-05\n",
       "747033    1990-10-23\n",
       "Name: datebeg, Length: 747034, dtype: object"
      ]
     },
     "execution_count": 66,
     "metadata": {},
     "output_type": "execute_result"
    }
   ],
   "source": [
    "data.datebeg"
   ]
  },
  {
   "cell_type": "code",
   "execution_count": 67,
   "metadata": {},
   "outputs": [
    {
     "data": {
      "text/html": [
       "<div>\n",
       "<style scoped>\n",
       "    .dataframe tbody tr th:only-of-type {\n",
       "        vertical-align: middle;\n",
       "    }\n",
       "\n",
       "    .dataframe tbody tr th {\n",
       "        vertical-align: top;\n",
       "    }\n",
       "\n",
       "    .dataframe thead th {\n",
       "        text-align: right;\n",
       "    }\n",
       "</style>\n",
       "<table border=\"1\" class=\"dataframe\">\n",
       "  <thead>\n",
       "    <tr style=\"text-align: right;\">\n",
       "      <th></th>\n",
       "      <th>born</th>\n",
       "      <th>liquidated</th>\n",
       "      <th>lifetime</th>\n",
       "    </tr>\n",
       "  </thead>\n",
       "  <tbody>\n",
       "    <tr>\n",
       "      <th>0</th>\n",
       "      <td>2020-10-30</td>\n",
       "      <td>2022-08-01</td>\n",
       "      <td>640 days</td>\n",
       "    </tr>\n",
       "    <tr>\n",
       "      <th>1</th>\n",
       "      <td>2020-09-23</td>\n",
       "      <td>2022-08-01</td>\n",
       "      <td>677 days</td>\n",
       "    </tr>\n",
       "    <tr>\n",
       "      <th>2</th>\n",
       "      <td>2020-02-03</td>\n",
       "      <td>2022-08-01</td>\n",
       "      <td>910 days</td>\n",
       "    </tr>\n",
       "    <tr>\n",
       "      <th>3</th>\n",
       "      <td>2020-09-23</td>\n",
       "      <td>2022-08-01</td>\n",
       "      <td>677 days</td>\n",
       "    </tr>\n",
       "    <tr>\n",
       "      <th>4</th>\n",
       "      <td>2020-07-08</td>\n",
       "      <td>2022-08-01</td>\n",
       "      <td>754 days</td>\n",
       "    </tr>\n",
       "    <tr>\n",
       "      <th>...</th>\n",
       "      <td>...</td>\n",
       "      <td>...</td>\n",
       "      <td>...</td>\n",
       "    </tr>\n",
       "    <tr>\n",
       "      <th>747029</th>\n",
       "      <td>2006-03-29</td>\n",
       "      <td>2009-01-12</td>\n",
       "      <td>1020 days</td>\n",
       "    </tr>\n",
       "    <tr>\n",
       "      <th>747030</th>\n",
       "      <td>2006-08-09</td>\n",
       "      <td>2012-08-15</td>\n",
       "      <td>2198 days</td>\n",
       "    </tr>\n",
       "    <tr>\n",
       "      <th>747031</th>\n",
       "      <td>1998-01-01</td>\n",
       "      <td>2006-10-11</td>\n",
       "      <td>3205 days</td>\n",
       "    </tr>\n",
       "    <tr>\n",
       "      <th>747032</th>\n",
       "      <td>1987-12-05</td>\n",
       "      <td>2006-06-05</td>\n",
       "      <td>6757 days</td>\n",
       "    </tr>\n",
       "    <tr>\n",
       "      <th>747033</th>\n",
       "      <td>1990-10-23</td>\n",
       "      <td>2006-07-05</td>\n",
       "      <td>5734 days</td>\n",
       "    </tr>\n",
       "  </tbody>\n",
       "</table>\n",
       "<p>747034 rows × 3 columns</p>\n",
       "</div>"
      ],
      "text/plain": [
       "              born  liquidated  lifetime\n",
       "0       2020-10-30  2022-08-01  640 days\n",
       "1       2020-09-23  2022-08-01  677 days\n",
       "2       2020-02-03  2022-08-01  910 days\n",
       "3       2020-09-23  2022-08-01  677 days\n",
       "4       2020-07-08  2022-08-01  754 days\n",
       "...            ...         ...       ...\n",
       "747029  2006-03-29  2009-01-12 1020 days\n",
       "747030  2006-08-09  2012-08-15 2198 days\n",
       "747031  1998-01-01  2006-10-11 3205 days\n",
       "747032  1987-12-05  2006-06-05 6757 days\n",
       "747033  1990-10-23  2006-07-05 5734 days\n",
       "\n",
       "[747034 rows x 3 columns]"
      ]
     },
     "execution_count": 67,
     "metadata": {},
     "output_type": "execute_result"
    }
   ],
   "source": [
    "life_nko = pd.DataFrame() \n",
    "life_nko['born'] = data.datebeg\n",
    "life_nko['liquidated'] = data.dateLiquid\n",
    "life_nko['lifetime'] = data.dateLiquid -data.datebeg\n",
    "life_nko"
   ]
  },
  {
   "cell_type": "code",
   "execution_count": 68,
   "metadata": {},
   "outputs": [],
   "source": [
    "data['lifetime'] = data.dateLiquid - data.datebeg"
   ]
  },
  {
   "cell_type": "code",
   "execution_count": 69,
   "metadata": {},
   "outputs": [
    {
     "data": {
      "text/plain": [
       "0"
      ]
     },
     "execution_count": 69,
     "metadata": {},
     "output_type": "execute_result"
    }
   ],
   "source": [
    "data.lifetime.isnull().sum()"
   ]
  },
  {
   "cell_type": "code",
   "execution_count": 70,
   "metadata": {},
   "outputs": [
    {
     "data": {
      "text/plain": [
       "0 days        2251\n",
       "7339 days      504\n",
       "9908 days      394\n",
       "9615 days      386\n",
       "8433 days      378\n",
       "              ... \n",
       "14653 days       1\n",
       "11335 days       1\n",
       "16769 days       1\n",
       "15316 days       1\n",
       "17729 days       1\n",
       "Name: lifetime, Length: 18859, dtype: int64"
      ]
     },
     "execution_count": 70,
     "metadata": {},
     "output_type": "execute_result"
    }
   ],
   "source": [
    "data.lifetime.value_counts()"
   ]
  },
  {
   "cell_type": "code",
   "execution_count": 71,
   "metadata": {},
   "outputs": [],
   "source": [
    "# есть ряд НКО, срок жизни которых составил 0. Удалим их.\n",
    "data = data.drop(data[data.lifetime == 0].index)"
   ]
  },
  {
   "cell_type": "markdown",
   "metadata": {},
   "source": [
    "##  Economics & opf"
   ]
  },
  {
   "cell_type": "markdown",
   "metadata": {},
   "source": [
    "#### minjustForm"
   ]
  },
  {
   "cell_type": "markdown",
   "metadata": {},
   "source": [
    "посмотрим на формы НКО"
   ]
  },
  {
   "cell_type": "code",
   "execution_count": 72,
   "metadata": {},
   "outputs": [
    {
     "data": {
      "text/plain": [
       "Общественная организация                                                    121679\n",
       "Профессиональный союз                                                        52118\n",
       "Автономная некоммерческая организация                                        51497\n",
       "Некоммерческий фонд                                                          36325\n",
       "Религиозная организация                                                      35915\n",
       "Некоммерческое партнерство                                                   31086\n",
       "Учреждение                                                                   26558\n",
       "Садоводческие, огороднические, дачные и иные некоммерческие товарищества     24832\n",
       "Товарищество собственников жилья                                             18628\n",
       "Объединения (союз, ассоциация) юридических лиц                               18133\n",
       "Общественный фонд                                                             8388\n",
       "Политическая партия                                                           8005\n",
       "Общественное движение                                                         4498\n",
       "Казачье общество                                                              3698\n",
       "Коллегия адвокатов                                                            3689\n",
       "Община малочисленных народов                                                  2745\n",
       "Территориальное общественное самоуправление                                   2291\n",
       "Национально-культурная автономия                                              2059\n",
       "Общественное учреждение                                                       1425\n",
       "Адвокатское бюро                                                              1097\n",
       "Союз (ассоциация) общественных объединений                                     896\n",
       "Общественно-государственное общественное объединение                           887\n",
       "Садоводческое, огородническое, дачное некоммерческое партнерство               853\n",
       "Иные некоммерческие организации                                                848\n",
       "Объединение работодателей                                                      673\n",
       "Ассоциация крестьянских (фермерских) хозяйств                                  667\n",
       "Орган общественной самодеятельности                                            318\n",
       "Негосударственный пенсионный фонд                                              296\n",
       "Ассоциация экономического развития                                             204\n",
       "Объединения адвокатов                                                          178\n",
       "Государственно-общественное объединение                                        130\n",
       "Садоводческое, огородническое, дачное некоммерческое объединение               123\n",
       "Адвокатские палаты субъектов РФ                                                 92\n",
       "Нотариальная палата                                                             74\n",
       "Торгово-промышленная палата                                                     70\n",
       "Организация                                                                     45\n",
       "Совет муниципальных образований                                                 27\n",
       "Фонд                                                                             9\n",
       "Государственная корпорация                                                       8\n",
       "Союз                                                                             7\n",
       "Ассоциация                                                                       1\n",
       "Движение                                                                         1\n",
       "Name: minjustForm, dtype: int64"
      ]
     },
     "execution_count": 72,
     "metadata": {},
     "output_type": "execute_result"
    }
   ],
   "source": [
    "data.minjustForm.value_counts()"
   ]
  },
  {
   "cell_type": "code",
   "execution_count": 73,
   "metadata": {},
   "outputs": [],
   "source": [
    "df_minjustForm = pd.DataFrame()\n",
    "df_minjustForm['granted'] = data[data.target == 1].groupby('minjustForm').ogrn.count()\n",
    "df_minjustForm['nongranted'] = data[data.target == 0].groupby('minjustForm').ogrn.count()\n",
    "df_minjustForm['total'] = data.groupby('minjustForm').ogrn.count()"
   ]
  },
  {
   "cell_type": "code",
   "execution_count": 74,
   "metadata": {},
   "outputs": [
    {
     "data": {
      "text/html": [
       "<div>\n",
       "<style scoped>\n",
       "    .dataframe tbody tr th:only-of-type {\n",
       "        vertical-align: middle;\n",
       "    }\n",
       "\n",
       "    .dataframe tbody tr th {\n",
       "        vertical-align: top;\n",
       "    }\n",
       "\n",
       "    .dataframe thead th {\n",
       "        text-align: right;\n",
       "    }\n",
       "</style>\n",
       "<table border=\"1\" class=\"dataframe\">\n",
       "  <thead>\n",
       "    <tr style=\"text-align: right;\">\n",
       "      <th></th>\n",
       "      <th>granted</th>\n",
       "      <th>nongranted</th>\n",
       "      <th>total</th>\n",
       "    </tr>\n",
       "    <tr>\n",
       "      <th>minjustForm</th>\n",
       "      <th></th>\n",
       "      <th></th>\n",
       "      <th></th>\n",
       "    </tr>\n",
       "  </thead>\n",
       "  <tbody>\n",
       "    <tr>\n",
       "      <th>Автономная некоммерческая организация</th>\n",
       "      <td>6891</td>\n",
       "      <td>44606.0</td>\n",
       "      <td>51497</td>\n",
       "    </tr>\n",
       "    <tr>\n",
       "      <th>Адвокатские палаты субъектов РФ</th>\n",
       "      <td>3</td>\n",
       "      <td>89.0</td>\n",
       "      <td>92</td>\n",
       "    </tr>\n",
       "    <tr>\n",
       "      <th>Адвокатское бюро</th>\n",
       "      <td>84</td>\n",
       "      <td>1013.0</td>\n",
       "      <td>1097</td>\n",
       "    </tr>\n",
       "    <tr>\n",
       "      <th>Ассоциация крестьянских (фермерских) хозяйств</th>\n",
       "      <td>7</td>\n",
       "      <td>660.0</td>\n",
       "      <td>667</td>\n",
       "    </tr>\n",
       "    <tr>\n",
       "      <th>Ассоциация экономического развития</th>\n",
       "      <td>7</td>\n",
       "      <td>197.0</td>\n",
       "      <td>204</td>\n",
       "    </tr>\n",
       "    <tr>\n",
       "      <th>Государственная корпорация</th>\n",
       "      <td>7</td>\n",
       "      <td>1.0</td>\n",
       "      <td>8</td>\n",
       "    </tr>\n",
       "    <tr>\n",
       "      <th>Государственно-общественное объединение</th>\n",
       "      <td>8</td>\n",
       "      <td>122.0</td>\n",
       "      <td>130</td>\n",
       "    </tr>\n",
       "    <tr>\n",
       "      <th>Движение</th>\n",
       "      <td>1</td>\n",
       "      <td>NaN</td>\n",
       "      <td>1</td>\n",
       "    </tr>\n",
       "    <tr>\n",
       "      <th>Иные некоммерческие организации</th>\n",
       "      <td>31</td>\n",
       "      <td>817.0</td>\n",
       "      <td>848</td>\n",
       "    </tr>\n",
       "    <tr>\n",
       "      <th>Казачье общество</th>\n",
       "      <td>224</td>\n",
       "      <td>3474.0</td>\n",
       "      <td>3698</td>\n",
       "    </tr>\n",
       "    <tr>\n",
       "      <th>Коллегия адвокатов</th>\n",
       "      <td>174</td>\n",
       "      <td>3515.0</td>\n",
       "      <td>3689</td>\n",
       "    </tr>\n",
       "    <tr>\n",
       "      <th>Национально-культурная автономия</th>\n",
       "      <td>116</td>\n",
       "      <td>1943.0</td>\n",
       "      <td>2059</td>\n",
       "    </tr>\n",
       "    <tr>\n",
       "      <th>Негосударственный пенсионный фонд</th>\n",
       "      <td>11</td>\n",
       "      <td>285.0</td>\n",
       "      <td>296</td>\n",
       "    </tr>\n",
       "    <tr>\n",
       "      <th>Некоммерческий фонд</th>\n",
       "      <td>2737</td>\n",
       "      <td>33588.0</td>\n",
       "      <td>36325</td>\n",
       "    </tr>\n",
       "    <tr>\n",
       "      <th>Некоммерческое партнерство</th>\n",
       "      <td>1369</td>\n",
       "      <td>29717.0</td>\n",
       "      <td>31086</td>\n",
       "    </tr>\n",
       "    <tr>\n",
       "      <th>Нотариальная палата</th>\n",
       "      <td>2</td>\n",
       "      <td>72.0</td>\n",
       "      <td>74</td>\n",
       "    </tr>\n",
       "    <tr>\n",
       "      <th>Общественная организация</th>\n",
       "      <td>8093</td>\n",
       "      <td>113586.0</td>\n",
       "      <td>121679</td>\n",
       "    </tr>\n",
       "    <tr>\n",
       "      <th>Общественно-государственное общественное объединение</th>\n",
       "      <td>269</td>\n",
       "      <td>618.0</td>\n",
       "      <td>887</td>\n",
       "    </tr>\n",
       "    <tr>\n",
       "      <th>Общественное движение</th>\n",
       "      <td>252</td>\n",
       "      <td>4246.0</td>\n",
       "      <td>4498</td>\n",
       "    </tr>\n",
       "    <tr>\n",
       "      <th>Общественное учреждение</th>\n",
       "      <td>92</td>\n",
       "      <td>1333.0</td>\n",
       "      <td>1425</td>\n",
       "    </tr>\n",
       "    <tr>\n",
       "      <th>Общественный фонд</th>\n",
       "      <td>357</td>\n",
       "      <td>8031.0</td>\n",
       "      <td>8388</td>\n",
       "    </tr>\n",
       "    <tr>\n",
       "      <th>Община малочисленных народов</th>\n",
       "      <td>82</td>\n",
       "      <td>2663.0</td>\n",
       "      <td>2745</td>\n",
       "    </tr>\n",
       "    <tr>\n",
       "      <th>Объединение работодателей</th>\n",
       "      <td>16</td>\n",
       "      <td>657.0</td>\n",
       "      <td>673</td>\n",
       "    </tr>\n",
       "    <tr>\n",
       "      <th>Объединения (союз, ассоциация) юридических лиц</th>\n",
       "      <td>1199</td>\n",
       "      <td>16934.0</td>\n",
       "      <td>18133</td>\n",
       "    </tr>\n",
       "    <tr>\n",
       "      <th>Объединения адвокатов</th>\n",
       "      <td>5</td>\n",
       "      <td>173.0</td>\n",
       "      <td>178</td>\n",
       "    </tr>\n",
       "    <tr>\n",
       "      <th>Орган общественной самодеятельности</th>\n",
       "      <td>15</td>\n",
       "      <td>303.0</td>\n",
       "      <td>318</td>\n",
       "    </tr>\n",
       "    <tr>\n",
       "      <th>Организация</th>\n",
       "      <td>3</td>\n",
       "      <td>42.0</td>\n",
       "      <td>45</td>\n",
       "    </tr>\n",
       "    <tr>\n",
       "      <th>Политическая партия</th>\n",
       "      <td>18</td>\n",
       "      <td>7987.0</td>\n",
       "      <td>8005</td>\n",
       "    </tr>\n",
       "    <tr>\n",
       "      <th>Профессиональный союз</th>\n",
       "      <td>457</td>\n",
       "      <td>51661.0</td>\n",
       "      <td>52118</td>\n",
       "    </tr>\n",
       "    <tr>\n",
       "      <th>Религиозная организация</th>\n",
       "      <td>513</td>\n",
       "      <td>35402.0</td>\n",
       "      <td>35915</td>\n",
       "    </tr>\n",
       "    <tr>\n",
       "      <th>Садоводческие, огороднические, дачные и иные некоммерческие товарищества</th>\n",
       "      <td>75</td>\n",
       "      <td>24757.0</td>\n",
       "      <td>24832</td>\n",
       "    </tr>\n",
       "    <tr>\n",
       "      <th>Садоводческое, огородническое, дачное некоммерческое партнерство</th>\n",
       "      <td>1</td>\n",
       "      <td>852.0</td>\n",
       "      <td>853</td>\n",
       "    </tr>\n",
       "    <tr>\n",
       "      <th>Совет муниципальных образований</th>\n",
       "      <td>3</td>\n",
       "      <td>24.0</td>\n",
       "      <td>27</td>\n",
       "    </tr>\n",
       "    <tr>\n",
       "      <th>Союз (ассоциация) общественных объединений</th>\n",
       "      <td>94</td>\n",
       "      <td>802.0</td>\n",
       "      <td>896</td>\n",
       "    </tr>\n",
       "    <tr>\n",
       "      <th>Территориальное общественное самоуправление</th>\n",
       "      <td>126</td>\n",
       "      <td>2165.0</td>\n",
       "      <td>2291</td>\n",
       "    </tr>\n",
       "    <tr>\n",
       "      <th>Товарищество собственников жилья</th>\n",
       "      <td>1121</td>\n",
       "      <td>17507.0</td>\n",
       "      <td>18628</td>\n",
       "    </tr>\n",
       "    <tr>\n",
       "      <th>Торгово-промышленная палата</th>\n",
       "      <td>40</td>\n",
       "      <td>30.0</td>\n",
       "      <td>70</td>\n",
       "    </tr>\n",
       "    <tr>\n",
       "      <th>Учреждение</th>\n",
       "      <td>4967</td>\n",
       "      <td>21591.0</td>\n",
       "      <td>26558</td>\n",
       "    </tr>\n",
       "  </tbody>\n",
       "</table>\n",
       "</div>"
      ],
      "text/plain": [
       "                                                    granted  nongranted  \\\n",
       "minjustForm                                                               \n",
       "Автономная некоммерческая организация                  6891     44606.0   \n",
       "Адвокатские палаты субъектов РФ                           3        89.0   \n",
       "Адвокатское бюро                                         84      1013.0   \n",
       "Ассоциация крестьянских (фермерских) хозяйств             7       660.0   \n",
       "Ассоциация экономического развития                        7       197.0   \n",
       "Государственная корпорация                                7         1.0   \n",
       "Государственно-общественное объединение                   8       122.0   \n",
       "Движение                                                  1         NaN   \n",
       "Иные некоммерческие организации                          31       817.0   \n",
       "Казачье общество                                        224      3474.0   \n",
       "Коллегия адвокатов                                      174      3515.0   \n",
       "Национально-культурная автономия                        116      1943.0   \n",
       "Негосударственный пенсионный фонд                        11       285.0   \n",
       "Некоммерческий фонд                                    2737     33588.0   \n",
       "Некоммерческое партнерство                             1369     29717.0   \n",
       "Нотариальная палата                                       2        72.0   \n",
       "Общественная организация                               8093    113586.0   \n",
       "Общественно-государственное общественное объеди...      269       618.0   \n",
       "Общественное движение                                   252      4246.0   \n",
       "Общественное учреждение                                  92      1333.0   \n",
       "Общественный фонд                                       357      8031.0   \n",
       "Община малочисленных народов                             82      2663.0   \n",
       "Объединение работодателей                                16       657.0   \n",
       "Объединения (союз, ассоциация) юридических лиц         1199     16934.0   \n",
       "Объединения адвокатов                                     5       173.0   \n",
       "Орган общественной самодеятельности                      15       303.0   \n",
       "Организация                                               3        42.0   \n",
       "Политическая партия                                      18      7987.0   \n",
       "Профессиональный союз                                   457     51661.0   \n",
       "Религиозная организация                                 513     35402.0   \n",
       "Садоводческие, огороднические, дачные и иные не...       75     24757.0   \n",
       "Садоводческое, огородническое, дачное некоммерч...        1       852.0   \n",
       "Совет муниципальных образований                           3        24.0   \n",
       "Союз (ассоциация) общественных объединений               94       802.0   \n",
       "Территориальное общественное самоуправление             126      2165.0   \n",
       "Товарищество собственников жилья                       1121     17507.0   \n",
       "Торгово-промышленная палата                              40        30.0   \n",
       "Учреждение                                             4967     21591.0   \n",
       "\n",
       "                                                     total  \n",
       "minjustForm                                                 \n",
       "Автономная некоммерческая организация                51497  \n",
       "Адвокатские палаты субъектов РФ                         92  \n",
       "Адвокатское бюро                                      1097  \n",
       "Ассоциация крестьянских (фермерских) хозяйств          667  \n",
       "Ассоциация экономического развития                     204  \n",
       "Государственная корпорация                               8  \n",
       "Государственно-общественное объединение                130  \n",
       "Движение                                                 1  \n",
       "Иные некоммерческие организации                        848  \n",
       "Казачье общество                                      3698  \n",
       "Коллегия адвокатов                                    3689  \n",
       "Национально-культурная автономия                      2059  \n",
       "Негосударственный пенсионный фонд                      296  \n",
       "Некоммерческий фонд                                  36325  \n",
       "Некоммерческое партнерство                           31086  \n",
       "Нотариальная палата                                     74  \n",
       "Общественная организация                            121679  \n",
       "Общественно-государственное общественное объеди...     887  \n",
       "Общественное движение                                 4498  \n",
       "Общественное учреждение                               1425  \n",
       "Общественный фонд                                     8388  \n",
       "Община малочисленных народов                          2745  \n",
       "Объединение работодателей                              673  \n",
       "Объединения (союз, ассоциация) юридических лиц       18133  \n",
       "Объединения адвокатов                                  178  \n",
       "Орган общественной самодеятельности                    318  \n",
       "Организация                                             45  \n",
       "Политическая партия                                   8005  \n",
       "Профессиональный союз                                52118  \n",
       "Религиозная организация                              35915  \n",
       "Садоводческие, огороднические, дачные и иные не...   24832  \n",
       "Садоводческое, огородническое, дачное некоммерч...     853  \n",
       "Совет муниципальных образований                         27  \n",
       "Союз (ассоциация) общественных объединений             896  \n",
       "Территориальное общественное самоуправление           2291  \n",
       "Товарищество собственников жилья                     18628  \n",
       "Торгово-промышленная палата                             70  \n",
       "Учреждение                                           26558  "
      ]
     },
     "execution_count": 74,
     "metadata": {},
     "output_type": "execute_result"
    }
   ],
   "source": [
    "df_minjustForm"
   ]
  },
  {
   "cell_type": "code",
   "execution_count": 76,
   "metadata": {},
   "outputs": [],
   "source": [
    "conclusions.append('Сведения о правовой форме НКО в системе классификации минюста показывает, что нет такой формы, которая никогда бы не получала финансирования.')"
   ]
  },
  {
   "cell_type": "code",
   "execution_count": 77,
   "metadata": {},
   "outputs": [
    {
     "data": {
      "text/plain": [
       "285961"
      ]
     },
     "execution_count": 77,
     "metadata": {},
     "output_type": "execute_result"
    }
   ],
   "source": [
    "data.minjustForm.isnull().sum()"
   ]
  },
  {
   "cell_type": "markdown",
   "metadata": {},
   "source": [
    "логично обоснованного и легкого способа восстаановить формы НКО по УНРО Минюста не нашла, так что попробую с кодами опф."
   ]
  },
  {
   "cell_type": "markdown",
   "metadata": {},
   "source": [
    "#### opf"
   ]
  },
  {
   "cell_type": "code",
   "execution_count": 78,
   "metadata": {},
   "outputs": [
    {
     "data": {
      "text/plain": [
       "0"
      ]
     },
     "execution_count": 78,
     "metadata": {},
     "output_type": "execute_result"
    }
   ],
   "source": [
    "data.opf.isnull().sum()"
   ]
  },
  {
   "cell_type": "code",
   "execution_count": 79,
   "metadata": {},
   "outputs": [
    {
     "data": {
      "text/plain": [
       "{'name': 'Общественные организации', 'code': '20200', 'version': 'okopf'}                               75444\n",
       "{'name': 'Общественная или религиозная организация (объединение)', 'code': '83', 'version': 'okopf'}    72798\n",
       "{'name': 'Гаражные и гаражно-строительные кооперативы', 'code': '20101', 'version': 'okopf'}            49868\n",
       "{'name': 'Автономные некоммерческие организации', 'code': '71400', 'version': 'okopf'}                  46107\n",
       "{'name': 'Потребительский кооператив', 'code': '85', 'version': 'okopf'}                                39622\n",
       "                                                                                                        ...  \n",
       "{'name': 'Акционерные общества', 'code': '12200', 'version': 'okopf'}                                       1\n",
       "{'name': 'МУНИЦИПАЛЬНАЯ НЕКОММЕРЧИСКАЯ ОРГАНИЗАЦИЯ', 'code': None, 'version': 'raw_opf'}                    1\n",
       "{'name': 'ИНОЕ', 'code': None, 'version': 'raw_opf'}                                                        1\n",
       "{'name': 'ТЕРРИТОРИАЛЬНЫЙ ОРГАН МЕСТНОГО САМОУПРАВЛЕНИЯ', 'code': None, 'version': 'raw_opf'}               1\n",
       "{'name': 'ДРУГИЕ НЕКООМЕРЧЕСКИЕ ОРГАНИЗАЦИИ', 'code': None, 'version': 'raw_opf'}                           1\n",
       "Name: opf, Length: 291, dtype: int64"
      ]
     },
     "execution_count": 79,
     "metadata": {},
     "output_type": "execute_result"
    }
   ],
   "source": [
    "data.opf.value_counts()"
   ]
  },
  {
   "cell_type": "code",
   "execution_count": 80,
   "metadata": {},
   "outputs": [
    {
     "data": {
      "text/plain": [
       "str"
      ]
     },
     "execution_count": 80,
     "metadata": {},
     "output_type": "execute_result"
    }
   ],
   "source": [
    "type(data.opf[0])"
   ]
  },
  {
   "cell_type": "code",
   "execution_count": 81,
   "metadata": {},
   "outputs": [],
   "source": [
    "# вытащим сам код опф \n",
    "data['opf_code'] = data.opf.apply(lambda x: eval(x)['code'])"
   ]
  },
  {
   "cell_type": "code",
   "execution_count": 82,
   "metadata": {},
   "outputs": [
    {
     "data": {
      "text/plain": [
       "20200    75444\n",
       "83       72798\n",
       "20101    49868\n",
       "71400    46107\n",
       "85       39622\n",
       "         ...  \n",
       "56           1\n",
       "14100        1\n",
       "92           1\n",
       "65000        1\n",
       "21002        1\n",
       "Name: opf_code, Length: 158, dtype: int64"
      ]
     },
     "execution_count": 82,
     "metadata": {},
     "output_type": "execute_result"
    }
   ],
   "source": [
    "data.opf_code.value_counts() \n"
   ]
  },
  {
   "cell_type": "code",
   "execution_count": 83,
   "metadata": {},
   "outputs": [
    {
     "data": {
      "text/plain": [
       "45209"
      ]
     },
     "execution_count": 83,
     "metadata": {},
     "output_type": "execute_result"
    }
   ],
   "source": [
    "data.opf_code.isnull().sum()"
   ]
  },
  {
   "cell_type": "code",
   "execution_count": 84,
   "metadata": {},
   "outputs": [],
   "source": [
    "# попробуем заменить на наиболее часто встречающееся \n",
    "data.opf_code.fillna(20200, inplace=True)"
   ]
  },
  {
   "cell_type": "code",
   "execution_count": 85,
   "metadata": {},
   "outputs": [
    {
     "data": {
      "text/plain": [
       "0"
      ]
     },
     "execution_count": 85,
     "metadata": {},
     "output_type": "execute_result"
    }
   ],
   "source": [
    "data.opf_code.isnull().sum()\n"
   ]
  },
  {
   "cell_type": "code",
   "execution_count": 86,
   "metadata": {},
   "outputs": [
    {
     "data": {
      "text/plain": [
       "0         13486\n",
       "1         10576\n",
       "2          3440\n",
       "3         26538\n",
       "4         46107\n",
       "          ...  \n",
       "747029    23801\n",
       "747030    16170\n",
       "747031     1065\n",
       "747032    39622\n",
       "747033    39622\n",
       "Name: opf_count, Length: 747034, dtype: int64"
      ]
     },
     "execution_count": 86,
     "metadata": {},
     "output_type": "execute_result"
    }
   ],
   "source": [
    "# теперь попробуем заменить сами коды - поскольку по смыслу они категориальны - количеством вхождений \n",
    "# data[newfeature] = data[feature].map(data.groupby(feature).size()). Dyakonov \n",
    "data['opf_count'] = data['opf_code'].map(data.groupby('opf_code')['ogrn'].count())\n",
    "data['opf_count']"
   ]
  },
  {
   "cell_type": "code",
   "execution_count": 87,
   "metadata": {},
   "outputs": [
    {
     "data": {
      "text/plain": [
       "0"
      ]
     },
     "execution_count": 87,
     "metadata": {},
     "output_type": "execute_result"
    }
   ],
   "source": [
    "data.opf_count.isnull().sum()"
   ]
  },
  {
   "cell_type": "markdown",
   "metadata": {},
   "source": [
    "#### okved"
   ]
  },
  {
   "cell_type": "markdown",
   "metadata": {},
   "source": [
    "##### mainOkved"
   ]
  },
  {
   "cell_type": "code",
   "execution_count": 88,
   "metadata": {},
   "outputs": [],
   "source": [
    "data['okved_main'] = data['mainOkved'].apply(lambda x: eval(x)['code'])"
   ]
  },
  {
   "cell_type": "code",
   "execution_count": 89,
   "metadata": {},
   "outputs": [
    {
     "data": {
      "text/plain": [
       "94.99       76871\n",
       "52.21.24    38247\n",
       "94.91       31456\n",
       "Name: okved_main, dtype: int64"
      ]
     },
     "execution_count": 89,
     "metadata": {},
     "output_type": "execute_result"
    }
   ],
   "source": [
    "data.okved_main.value_counts()[:3]"
   ]
  },
  {
   "cell_type": "code",
   "execution_count": 90,
   "metadata": {},
   "outputs": [],
   "source": [
    "# выведем названия \n",
    "data['okved_main_name'] = data['mainOkved'].apply(lambda x: eval(x)['name'])"
   ]
  },
  {
   "cell_type": "code",
   "execution_count": 91,
   "metadata": {},
   "outputs": [
    {
     "data": {
      "text/plain": [
       "Деятельность прочих общественных организаций, не включенных в другие группировки    101190\n",
       "Деятельность стоянок для транспортных средств                                        38247\n",
       "Деятельность религиозных организаций                                                 32517\n",
       "Name: okved_main_name, dtype: int64"
      ]
     },
     "execution_count": 91,
     "metadata": {},
     "output_type": "execute_result"
    }
   ],
   "source": [
    "data.okved_main_name.value_counts()[:3]"
   ]
  },
  {
   "cell_type": "code",
   "execution_count": 92,
   "metadata": {},
   "outputs": [
    {
     "data": {
      "text/html": [
       "<div>\n",
       "<style scoped>\n",
       "    .dataframe tbody tr th:only-of-type {\n",
       "        vertical-align: middle;\n",
       "    }\n",
       "\n",
       "    .dataframe tbody tr th {\n",
       "        vertical-align: top;\n",
       "    }\n",
       "\n",
       "    .dataframe thead th {\n",
       "        text-align: right;\n",
       "    }\n",
       "</style>\n",
       "<table border=\"1\" class=\"dataframe\">\n",
       "  <thead>\n",
       "    <tr style=\"text-align: right;\">\n",
       "      <th></th>\n",
       "      <th>okved_name</th>\n",
       "    </tr>\n",
       "    <tr>\n",
       "      <th>okved_main_name</th>\n",
       "      <th></th>\n",
       "    </tr>\n",
       "  </thead>\n",
       "  <tbody>\n",
       "    <tr>\n",
       "      <th>Деятельность прочих общественных организаций, не включенных в другие группировки</th>\n",
       "      <td>8358</td>\n",
       "    </tr>\n",
       "    <tr>\n",
       "      <th>Образование профессиональное дополнительное</th>\n",
       "      <td>1904</td>\n",
       "    </tr>\n",
       "    <tr>\n",
       "      <th>Управление эксплуатацией жилого фонда за вознаграждение или на договорной основе</th>\n",
       "      <td>1448</td>\n",
       "    </tr>\n",
       "    <tr>\n",
       "      <th>Деятельность по дополнительному профессиональному образованию прочая, не включенная в другие группировки</th>\n",
       "      <td>1207</td>\n",
       "    </tr>\n",
       "    <tr>\n",
       "      <th>Предоставление прочих финансовых услуг, кроме услуг по страхованию и пенсионному обеспечению, не включенных в другие группировки</th>\n",
       "      <td>1061</td>\n",
       "    </tr>\n",
       "    <tr>\n",
       "      <th>...</th>\n",
       "      <td>...</td>\n",
       "    </tr>\n",
       "    <tr>\n",
       "      <th>Производство разных машин специального назначения и их составных частей</th>\n",
       "      <td>1</td>\n",
       "    </tr>\n",
       "    <tr>\n",
       "      <th>Производство соковой продукции из фруктов и овощей</th>\n",
       "      <td>1</td>\n",
       "    </tr>\n",
       "    <tr>\n",
       "      <th>Производство статуэток, рам для фотографий, картин, зеркал и прочих декоративных изделий из недрагоценных металлов</th>\n",
       "      <td>1</td>\n",
       "    </tr>\n",
       "    <tr>\n",
       "      <th>Производство сухарей, печенья и прочих сухарных хлебобулочных изделий, производство мучных кондитерских изделий, тортов, пирожных, пирогов и бисквитов, предназначенных для длительного хранения</th>\n",
       "      <td>1</td>\n",
       "    </tr>\n",
       "    <tr>\n",
       "      <th>Аренда и лизинг железнодорожного транспорта и оборудования</th>\n",
       "      <td>1</td>\n",
       "    </tr>\n",
       "  </tbody>\n",
       "</table>\n",
       "<p>695 rows × 1 columns</p>\n",
       "</div>"
      ],
      "text/plain": [
       "                                                    okved_name\n",
       "okved_main_name                                               \n",
       "Деятельность прочих общественных организаций, н...        8358\n",
       "Образование профессиональное дополнительное               1904\n",
       "Управление эксплуатацией жилого фонда за вознаг...        1448\n",
       "Деятельность по дополнительному профессионально...        1207\n",
       "Предоставление прочих финансовых услуг, кроме у...        1061\n",
       "...                                                        ...\n",
       "Производство разных машин специального назначен...           1\n",
       "Производство соковой продукции из фруктов и овощей           1\n",
       "Производство статуэток, рам для фотографий, кар...           1\n",
       "Производство сухарей, печенья и прочих сухарных...           1\n",
       "Аренда и лизинг железнодорожного транспорта и о...           1\n",
       "\n",
       "[695 rows x 1 columns]"
      ]
     },
     "execution_count": 92,
     "metadata": {},
     "output_type": "execute_result"
    }
   ],
   "source": [
    "okved_granted = pd.DataFrame()\n",
    "okved_granted['okved_name'] = data[data.target == 1].groupby('okved_main_name')['ogrn'].count().sort_values(ascending=False)\n",
    "okved_granted"
   ]
  },
  {
   "cell_type": "code",
   "execution_count": 93,
   "metadata": {},
   "outputs": [
    {
     "data": {
      "text/html": [
       "<div>\n",
       "<style scoped>\n",
       "    .dataframe tbody tr th:only-of-type {\n",
       "        vertical-align: middle;\n",
       "    }\n",
       "\n",
       "    .dataframe tbody tr th {\n",
       "        vertical-align: top;\n",
       "    }\n",
       "\n",
       "    .dataframe thead th {\n",
       "        text-align: right;\n",
       "    }\n",
       "</style>\n",
       "<table border=\"1\" class=\"dataframe\">\n",
       "  <thead>\n",
       "    <tr style=\"text-align: right;\">\n",
       "      <th></th>\n",
       "      <th>granted</th>\n",
       "      <th>non_granted</th>\n",
       "      <th>total</th>\n",
       "    </tr>\n",
       "    <tr>\n",
       "      <th>okved_main_name</th>\n",
       "      <th></th>\n",
       "      <th></th>\n",
       "      <th></th>\n",
       "    </tr>\n",
       "  </thead>\n",
       "  <tbody>\n",
       "    <tr>\n",
       "      <th>Аренда и лизинг железнодорожного транспорта и оборудования</th>\n",
       "      <td>1</td>\n",
       "      <td>NaN</td>\n",
       "      <td>1</td>\n",
       "    </tr>\n",
       "    <tr>\n",
       "      <th>Аренда и лизинг легковых автомобилей и легких автотранспортных средств</th>\n",
       "      <td>2</td>\n",
       "      <td>18.0</td>\n",
       "      <td>20</td>\n",
       "    </tr>\n",
       "    <tr>\n",
       "      <th>Аренда и лизинг прочих видов транспорта, оборудования и материальных средств, не включенных в другие группировки</th>\n",
       "      <td>1</td>\n",
       "      <td>6.0</td>\n",
       "      <td>7</td>\n",
       "    </tr>\n",
       "    <tr>\n",
       "      <th>Аренда и лизинг прочих сухопутных транспортных средств и оборудования</th>\n",
       "      <td>1</td>\n",
       "      <td>5.0</td>\n",
       "      <td>6</td>\n",
       "    </tr>\n",
       "    <tr>\n",
       "      <th>Аренда и управление собственным или арендованным жилым недвижимым имуществом</th>\n",
       "      <td>3</td>\n",
       "      <td>150.0</td>\n",
       "      <td>153</td>\n",
       "    </tr>\n",
       "    <tr>\n",
       "      <th>...</th>\n",
       "      <td>...</td>\n",
       "      <td>...</td>\n",
       "      <td>...</td>\n",
       "    </tr>\n",
       "    <tr>\n",
       "      <th>Физкультурно-оздоровительная деятельность</th>\n",
       "      <td>3</td>\n",
       "      <td>431.0</td>\n",
       "      <td>434</td>\n",
       "    </tr>\n",
       "    <tr>\n",
       "      <th>Финансовое посредничество, не включенное в другие группировки</th>\n",
       "      <td>7</td>\n",
       "      <td>1128.0</td>\n",
       "      <td>1135</td>\n",
       "    </tr>\n",
       "    <tr>\n",
       "      <th>ЭКСПЛУАТАЦИЯ ГАРАЖЕЙ, СТОЯНОК ДЛЯ АВТОТРАНСПОРТНЫХ СРЕДСТВ, ВЕЛОСИПЕДОВ И Т.П.</th>\n",
       "      <td>1</td>\n",
       "      <td>12.0</td>\n",
       "      <td>13</td>\n",
       "    </tr>\n",
       "    <tr>\n",
       "      <th>Экспертиза проектной документации и результатов инженерных изысканий негосударственная</th>\n",
       "      <td>1</td>\n",
       "      <td>6.0</td>\n",
       "      <td>7</td>\n",
       "    </tr>\n",
       "    <tr>\n",
       "      <th>Эксплуатация гаражей, стоянок для автотранспортных средств, велосипедов и т.п.</th>\n",
       "      <td>2</td>\n",
       "      <td>4749.0</td>\n",
       "      <td>4751</td>\n",
       "    </tr>\n",
       "  </tbody>\n",
       "</table>\n",
       "<p>695 rows × 3 columns</p>\n",
       "</div>"
      ],
      "text/plain": [
       "                                                    granted  non_granted  \\\n",
       "okved_main_name                                                            \n",
       "Аренда и лизинг железнодорожного транспорта и о...        1          NaN   \n",
       "Аренда и лизинг легковых автомобилей и легких а...        2         18.0   \n",
       "Аренда и лизинг прочих видов транспорта, оборуд...        1          6.0   \n",
       "Аренда и лизинг прочих сухопутных транспортных ...        1          5.0   \n",
       "Аренда и управление собственным или арендованны...        3        150.0   \n",
       "...                                                     ...          ...   \n",
       "Физкультурно-оздоровительная деятельность                 3        431.0   \n",
       "Финансовое посредничество, не включенное в друг...        7       1128.0   \n",
       "ЭКСПЛУАТАЦИЯ ГАРАЖЕЙ, СТОЯНОК ДЛЯ АВТОТРАНСПОРТ...        1         12.0   \n",
       "Экспертиза проектной документации и результатов...        1          6.0   \n",
       "Эксплуатация гаражей, стоянок для автотранспорт...        2       4749.0   \n",
       "\n",
       "                                                    total  \n",
       "okved_main_name                                            \n",
       "Аренда и лизинг железнодорожного транспорта и о...      1  \n",
       "Аренда и лизинг легковых автомобилей и легких а...     20  \n",
       "Аренда и лизинг прочих видов транспорта, оборуд...      7  \n",
       "Аренда и лизинг прочих сухопутных транспортных ...      6  \n",
       "Аренда и управление собственным или арендованны...    153  \n",
       "...                                                   ...  \n",
       "Физкультурно-оздоровительная деятельность             434  \n",
       "Финансовое посредничество, не включенное в друг...   1135  \n",
       "ЭКСПЛУАТАЦИЯ ГАРАЖЕЙ, СТОЯНОК ДЛЯ АВТОТРАНСПОРТ...     13  \n",
       "Экспертиза проектной документации и результатов...      7  \n",
       "Эксплуатация гаражей, стоянок для автотранспорт...   4751  \n",
       "\n",
       "[695 rows x 3 columns]"
      ]
     },
     "execution_count": 93,
     "metadata": {},
     "output_type": "execute_result"
    }
   ],
   "source": [
    "okved_target = pd.DataFrame()\n",
    "okved_target['granted'] = data[data.target == 1].groupby('okved_main_name')['ogrn'].count()\n",
    "okved_target['non_granted'] = data[data.target == 0].groupby('okved_main_name')['ogrn'].count() \n",
    "okved_target['total'] = data.groupby('okved_main_name').ogrn.count()\n",
    "okved_target"
   ]
  },
  {
   "cell_type": "code",
   "execution_count": 94,
   "metadata": {},
   "outputs": [
    {
     "data": {
      "text/html": [
       "<div>\n",
       "<style scoped>\n",
       "    .dataframe tbody tr th:only-of-type {\n",
       "        vertical-align: middle;\n",
       "    }\n",
       "\n",
       "    .dataframe tbody tr th {\n",
       "        vertical-align: top;\n",
       "    }\n",
       "\n",
       "    .dataframe thead th {\n",
       "        text-align: right;\n",
       "    }\n",
       "</style>\n",
       "<table border=\"1\" class=\"dataframe\">\n",
       "  <thead>\n",
       "    <tr style=\"text-align: right;\">\n",
       "      <th></th>\n",
       "      <th>granted</th>\n",
       "      <th>non_granted</th>\n",
       "      <th>total</th>\n",
       "    </tr>\n",
       "    <tr>\n",
       "      <th>okved_main_name</th>\n",
       "      <th></th>\n",
       "      <th></th>\n",
       "      <th></th>\n",
       "    </tr>\n",
       "  </thead>\n",
       "  <tbody>\n",
       "    <tr>\n",
       "      <th>Аренда и лизинг железнодорожного транспорта и оборудования</th>\n",
       "      <td>1</td>\n",
       "      <td>NaN</td>\n",
       "      <td>1</td>\n",
       "    </tr>\n",
       "    <tr>\n",
       "      <th>ДЕЯТЕЛЬНОСТЬ, СВЯЗАННАЯ С ИСПОЛЬЗОВАНИЕМ ВЫЧИСЛИТЕЛЬНОЙ ТЕХНИКИ И ИНФОРМАЦИОННЫХ ТЕХНОЛОГИЙ</th>\n",
       "      <td>1</td>\n",
       "      <td>NaN</td>\n",
       "      <td>1</td>\n",
       "    </tr>\n",
       "    <tr>\n",
       "      <th>Деятельность аэропортовая</th>\n",
       "      <td>1</td>\n",
       "      <td>NaN</td>\n",
       "      <td>1</td>\n",
       "    </tr>\n",
       "    <tr>\n",
       "      <th>Деятельность в области метрологии</th>\n",
       "      <td>1</td>\n",
       "      <td>NaN</td>\n",
       "      <td>1</td>\n",
       "    </tr>\n",
       "    <tr>\n",
       "      <th>Деятельность вспомогательная прочая, связанная с железнодорожным транспортом</th>\n",
       "      <td>1</td>\n",
       "      <td>NaN</td>\n",
       "      <td>1</td>\n",
       "    </tr>\n",
       "    <tr>\n",
       "      <th>Деятельность казино</th>\n",
       "      <td>1</td>\n",
       "      <td>NaN</td>\n",
       "      <td>1</td>\n",
       "    </tr>\n",
       "    <tr>\n",
       "      <th>Деятельность по обеспечению безопасности в области использования атомной энергии</th>\n",
       "      <td>1</td>\n",
       "      <td>NaN</td>\n",
       "      <td>1</td>\n",
       "    </tr>\n",
       "    <tr>\n",
       "      <th>Деятельность по управлению компьютерным оборудованием прочая, не включенная в другие группировки</th>\n",
       "      <td>1</td>\n",
       "      <td>NaN</td>\n",
       "      <td>1</td>\n",
       "    </tr>\n",
       "    <tr>\n",
       "      <th>Обработка металлических изделий механическая</th>\n",
       "      <td>1</td>\n",
       "      <td>NaN</td>\n",
       "      <td>1</td>\n",
       "    </tr>\n",
       "    <tr>\n",
       "      <th>Образование высшее - специалитет</th>\n",
       "      <td>1</td>\n",
       "      <td>NaN</td>\n",
       "      <td>1</td>\n",
       "    </tr>\n",
       "    <tr>\n",
       "      <th>Производство дренажных работ на сельскохозяйственных землях, землях лесных территорий, а также на строительных площадках</th>\n",
       "      <td>1</td>\n",
       "      <td>NaN</td>\n",
       "      <td>1</td>\n",
       "    </tr>\n",
       "    <tr>\n",
       "      <th>Производство инструментов и приборов для измерения, тестирования и навигации</th>\n",
       "      <td>2</td>\n",
       "      <td>NaN</td>\n",
       "      <td>2</td>\n",
       "    </tr>\n",
       "    <tr>\n",
       "      <th>Производство летательных аппаратов, включая космические, и соответствующего оборудования</th>\n",
       "      <td>1</td>\n",
       "      <td>NaN</td>\n",
       "      <td>1</td>\n",
       "    </tr>\n",
       "    <tr>\n",
       "      <th>Производство музыкальных инструментов</th>\n",
       "      <td>1</td>\n",
       "      <td>NaN</td>\n",
       "      <td>1</td>\n",
       "    </tr>\n",
       "    <tr>\n",
       "      <th>Производство одежды из фетра, нетканых материалов, из текстильных материалов с пропиткой или покрытием</th>\n",
       "      <td>1</td>\n",
       "      <td>NaN</td>\n",
       "      <td>1</td>\n",
       "    </tr>\n",
       "    <tr>\n",
       "      <th>Производство пиломатериалов, профилированных по кромке; производство древесного полотна, древесной муки; производство технологической щепы или стружки</th>\n",
       "      <td>1</td>\n",
       "      <td>NaN</td>\n",
       "      <td>1</td>\n",
       "    </tr>\n",
       "    <tr>\n",
       "      <th>Производство пищевых субпродуктов в охлажденном виде</th>\n",
       "      <td>1</td>\n",
       "      <td>NaN</td>\n",
       "      <td>1</td>\n",
       "    </tr>\n",
       "    <tr>\n",
       "      <th>Производство разных машин специального назначения и их составных частей</th>\n",
       "      <td>1</td>\n",
       "      <td>NaN</td>\n",
       "      <td>1</td>\n",
       "    </tr>\n",
       "    <tr>\n",
       "      <th>Производство статуэток, рам для фотографий, картин, зеркал и прочих декоративных изделий из недрагоценных металлов</th>\n",
       "      <td>1</td>\n",
       "      <td>NaN</td>\n",
       "      <td>1</td>\n",
       "    </tr>\n",
       "    <tr>\n",
       "      <th>Производство фетра и войлока</th>\n",
       "      <td>1</td>\n",
       "      <td>NaN</td>\n",
       "      <td>1</td>\n",
       "    </tr>\n",
       "    <tr>\n",
       "      <th>Производство ювелирных изделий и аналогичных изделий</th>\n",
       "      <td>1</td>\n",
       "      <td>NaN</td>\n",
       "      <td>1</td>\n",
       "    </tr>\n",
       "    <tr>\n",
       "      <th>Торговля оптовая яйцами</th>\n",
       "      <td>1</td>\n",
       "      <td>NaN</td>\n",
       "      <td>1</td>\n",
       "    </tr>\n",
       "    <tr>\n",
       "      <th>Торговля розничная галантерейными изделиями в специализированных магазинах</th>\n",
       "      <td>1</td>\n",
       "      <td>NaN</td>\n",
       "      <td>1</td>\n",
       "    </tr>\n",
       "  </tbody>\n",
       "</table>\n",
       "</div>"
      ],
      "text/plain": [
       "                                                    granted  non_granted  \\\n",
       "okved_main_name                                                            \n",
       "Аренда и лизинг железнодорожного транспорта и о...        1          NaN   \n",
       "ДЕЯТЕЛЬНОСТЬ, СВЯЗАННАЯ С ИСПОЛЬЗОВАНИЕМ ВЫЧИСЛ...        1          NaN   \n",
       "Деятельность аэропортовая                                 1          NaN   \n",
       "Деятельность в области метрологии                         1          NaN   \n",
       "Деятельность вспомогательная прочая, связанная ...        1          NaN   \n",
       "Деятельность казино                                       1          NaN   \n",
       "Деятельность по обеспечению безопасности в обла...        1          NaN   \n",
       "Деятельность по управлению компьютерным оборудо...        1          NaN   \n",
       "Обработка металлических изделий механическая              1          NaN   \n",
       "Образование высшее - специалитет                          1          NaN   \n",
       "Производство дренажных работ на сельскохозяйств...        1          NaN   \n",
       "Производство инструментов и приборов для измере...        2          NaN   \n",
       "Производство летательных аппаратов, включая кос...        1          NaN   \n",
       "Производство музыкальных инструментов                     1          NaN   \n",
       "Производство одежды из фетра, нетканых материал...        1          NaN   \n",
       "Производство пиломатериалов, профилированных по...        1          NaN   \n",
       "Производство пищевых субпродуктов в охлажденном...        1          NaN   \n",
       "Производство разных машин специального назначен...        1          NaN   \n",
       "Производство статуэток, рам для фотографий, кар...        1          NaN   \n",
       "Производство фетра и войлока                              1          NaN   \n",
       "Производство ювелирных изделий и аналогичных из...        1          NaN   \n",
       "Торговля оптовая яйцами                                   1          NaN   \n",
       "Торговля розничная галантерейными изделиями в с...        1          NaN   \n",
       "\n",
       "                                                    total  \n",
       "okved_main_name                                            \n",
       "Аренда и лизинг железнодорожного транспорта и о...      1  \n",
       "ДЕЯТЕЛЬНОСТЬ, СВЯЗАННАЯ С ИСПОЛЬЗОВАНИЕМ ВЫЧИСЛ...      1  \n",
       "Деятельность аэропортовая                               1  \n",
       "Деятельность в области метрологии                       1  \n",
       "Деятельность вспомогательная прочая, связанная ...      1  \n",
       "Деятельность казино                                     1  \n",
       "Деятельность по обеспечению безопасности в обла...      1  \n",
       "Деятельность по управлению компьютерным оборудо...      1  \n",
       "Обработка металлических изделий механическая            1  \n",
       "Образование высшее - специалитет                        1  \n",
       "Производство дренажных работ на сельскохозяйств...      1  \n",
       "Производство инструментов и приборов для измере...      2  \n",
       "Производство летательных аппаратов, включая кос...      1  \n",
       "Производство музыкальных инструментов                   1  \n",
       "Производство одежды из фетра, нетканых материал...      1  \n",
       "Производство пиломатериалов, профилированных по...      1  \n",
       "Производство пищевых субпродуктов в охлажденном...      1  \n",
       "Производство разных машин специального назначен...      1  \n",
       "Производство статуэток, рам для фотографий, кар...      1  \n",
       "Производство фетра и войлока                            1  \n",
       "Производство ювелирных изделий и аналогичных из...      1  \n",
       "Торговля оптовая яйцами                                 1  \n",
       "Торговля розничная галантерейными изделиями в с...      1  "
      ]
     },
     "execution_count": 94,
     "metadata": {},
     "output_type": "execute_result"
    }
   ],
   "source": [
    "all_granted_okved = okved_target[okved_target.granted == okved_target.total]\n",
    "all_granted_okved"
   ]
  },
  {
   "cell_type": "code",
   "execution_count": 96,
   "metadata": {},
   "outputs": [
    {
     "data": {
      "text/plain": [
       "204681"
      ]
     },
     "execution_count": 96,
     "metadata": {},
     "output_type": "execute_result"
    }
   ],
   "source": [
    "data.okved_main.isnull().sum()"
   ]
  },
  {
   "cell_type": "code",
   "execution_count": 97,
   "metadata": {},
   "outputs": [],
   "source": [
    "# пропусков много, заполним наиболее частов встречающимся кодом 94.99\n",
    "data.okved_main.fillna('94.99', inplace=True)"
   ]
  },
  {
   "cell_type": "code",
   "execution_count": 98,
   "metadata": {},
   "outputs": [
    {
     "data": {
      "text/plain": [
       "0"
      ]
     },
     "execution_count": 98,
     "metadata": {},
     "output_type": "execute_result"
    }
   ],
   "source": [
    "data.okved_main.isnull().sum()"
   ]
  },
  {
   "cell_type": "code",
   "execution_count": 99,
   "metadata": {},
   "outputs": [],
   "source": [
    "# закодируем аналогично количеством вхождений огрн в код оквэд \n",
    "data['okved_m_count'] = data['okved_main'].map(data.groupby('okved_main')['ogrn'].count())"
   ]
  },
  {
   "cell_type": "markdown",
   "metadata": {},
   "source": [
    "### Labelencoding\n"
   ]
  },
  {
   "cell_type": "code",
   "execution_count": 100,
   "metadata": {},
   "outputs": [
    {
     "data": {
      "text/plain": [
       "\"{'name': None, 'code': None}\""
      ]
     },
     "execution_count": 100,
     "metadata": {},
     "output_type": "execute_result"
    }
   ],
   "source": [
    "data.okogu[0]"
   ]
  },
  {
   "cell_type": "code",
   "execution_count": 101,
   "metadata": {},
   "outputs": [],
   "source": [
    "# заменим в окогу словарь на код \n",
    "data.okogu = data.okogu.apply(lambda x:eval(x)['code']) "
   ]
  },
  {
   "cell_type": "code",
   "execution_count": 102,
   "metadata": {},
   "outputs": [
    {
     "data": {
      "text/plain": [
       "399597"
      ]
     },
     "execution_count": 102,
     "metadata": {},
     "output_type": "execute_result"
    }
   ],
   "source": [
    "data.okogu.isnull().sum()\n"
   ]
  },
  {
   "cell_type": "code",
   "execution_count": 103,
   "metadata": {},
   "outputs": [
    {
     "data": {
      "text/plain": [
       "0    399597\n",
       "1    347437\n",
       "Name: okogu, dtype: int64"
      ]
     },
     "execution_count": 103,
     "metadata": {},
     "output_type": "execute_result"
    }
   ],
   "source": [
    "# заменим коды окогу просто признаком наличия: 1 или отсутствия:0\n",
    "\n",
    "data.okogu = data.okogu.apply(lambda x: 0 if x == None else 1)\n",
    "data.okogu.value_counts()"
   ]
  },
  {
   "cell_type": "code",
   "execution_count": 104,
   "metadata": {},
   "outputs": [
    {
     "data": {
      "text/plain": [
       "0    406134\n",
       "1    340900\n",
       "Name: egrulStatus, dtype: int64"
      ]
     },
     "execution_count": 104,
     "metadata": {},
     "output_type": "execute_result"
    }
   ],
   "source": [
    "# заменим статусы ЕГРЮЛ: 1: действующая организация, 0: недействующая\n",
    "\n",
    "data.egrulStatus = data.egrulStatus.apply(lambda x: 1 if x == 'Действует' else 0)\n",
    "data.egrulStatus.value_counts() "
   ]
  },
  {
   "cell_type": "code",
   "execution_count": 105,
   "metadata": {},
   "outputs": [
    {
     "data": {
      "text/plain": [
       "False    735769\n",
       "True      11265\n",
       "Name: hasRegionalSupport, dtype: int64"
      ]
     },
     "execution_count": 105,
     "metadata": {},
     "output_type": "execute_result"
    }
   ],
   "source": [
    "data.hasRegionalSupport.value_counts()"
   ]
  },
  {
   "cell_type": "code",
   "execution_count": 106,
   "metadata": {},
   "outputs": [
    {
     "data": {
      "text/plain": [
       "0    735769\n",
       "1     11265\n",
       "Name: hasRegionalSupport, dtype: int64"
      ]
     },
     "execution_count": 106,
     "metadata": {},
     "output_type": "execute_result"
    }
   ],
   "source": [
    "# закодируем признак социальноориентированных НКО, имеющих региональную поддержку \n",
    "data.hasRegionalSupport = data.hasRegionalSupport.apply(lambda x: 1 if x==True else 0)\n",
    "data.hasRegionalSupport.value_counts()"
   ]
  },
  {
   "cell_type": "markdown",
   "metadata": {},
   "source": [
    "##  Model"
   ]
  },
  {
   "cell_type": "code",
   "execution_count": 107,
   "metadata": {},
   "outputs": [
    {
     "data": {
      "text/html": [
       "<div>\n",
       "<style scoped>\n",
       "    .dataframe tbody tr th:only-of-type {\n",
       "        vertical-align: middle;\n",
       "    }\n",
       "\n",
       "    .dataframe tbody tr th {\n",
       "        vertical-align: top;\n",
       "    }\n",
       "\n",
       "    .dataframe thead th {\n",
       "        text-align: right;\n",
       "    }\n",
       "</style>\n",
       "<table border=\"1\" class=\"dataframe\">\n",
       "  <thead>\n",
       "    <tr style=\"text-align: right;\">\n",
       "      <th></th>\n",
       "      <th>&lt;lambda&gt;</th>\n",
       "      <th>nunique</th>\n",
       "      <th>null</th>\n",
       "      <th>dtype</th>\n",
       "    </tr>\n",
       "  </thead>\n",
       "  <tbody>\n",
       "    <tr>\n",
       "      <th>regionName</th>\n",
       "      <td>[Санкт-Петербург, Москва, Республика Марий Эл,...</td>\n",
       "      <td>86</td>\n",
       "      <td>25</td>\n",
       "      <td>object</td>\n",
       "    </tr>\n",
       "    <tr>\n",
       "      <th>fullName</th>\n",
       "      <td>[МЕЖРЕГИОНАЛЬНАЯ АНТРОПОСОФСКАЯ МЕДИЦИНСКАЯ АС...</td>\n",
       "      <td>665787</td>\n",
       "      <td>0</td>\n",
       "      <td>object</td>\n",
       "    </tr>\n",
       "    <tr>\n",
       "      <th>dateReg</th>\n",
       "      <td>[nan, {'$date': '1991-04-12T00:00:00.000Z'}, {...</td>\n",
       "      <td>12927</td>\n",
       "      <td>425618</td>\n",
       "      <td>object</td>\n",
       "    </tr>\n",
       "    <tr>\n",
       "      <th>minjustForm</th>\n",
       "      <td>[Объединения (союз, ассоциация) юридических ли...</td>\n",
       "      <td>42</td>\n",
       "      <td>285961</td>\n",
       "      <td>object</td>\n",
       "    </tr>\n",
       "    <tr>\n",
       "      <th>ogrn</th>\n",
       "      <td>[1207800141790, 1207700349152, 1207800011430, ...</td>\n",
       "      <td>747034</td>\n",
       "      <td>0</td>\n",
       "      <td>int64</td>\n",
       "    </tr>\n",
       "    <tr>\n",
       "      <th>opf</th>\n",
       "      <td>[{'name': 'Ассоциации (союзы)', 'code': '20600...</td>\n",
       "      <td>291</td>\n",
       "      <td>0</td>\n",
       "      <td>object</td>\n",
       "    </tr>\n",
       "    <tr>\n",
       "      <th>egrulStatus</th>\n",
       "      <td>[1, 0]</td>\n",
       "      <td>2</td>\n",
       "      <td>0</td>\n",
       "      <td>int64</td>\n",
       "    </tr>\n",
       "    <tr>\n",
       "      <th>mainOkved</th>\n",
       "      <td>[{'name': 'Деятельность профессиональных членс...</td>\n",
       "      <td>2209</td>\n",
       "      <td>0</td>\n",
       "      <td>object</td>\n",
       "    </tr>\n",
       "    <tr>\n",
       "      <th>regionCode</th>\n",
       "      <td>[78, 77, 12, 75, 23, 43, 30, 4, 50, 58]</td>\n",
       "      <td>92</td>\n",
       "      <td>0</td>\n",
       "      <td>int64</td>\n",
       "    </tr>\n",
       "    <tr>\n",
       "      <th>incomeTotal</th>\n",
       "      <td>[0.0, 11464477.21, 1096727.62, 235672.5, 10607...</td>\n",
       "      <td>28326</td>\n",
       "      <td>0</td>\n",
       "      <td>float64</td>\n",
       "    </tr>\n",
       "    <tr>\n",
       "      <th>inn</th>\n",
       "      <td>[7841091168.0, 7720646827.0, 7813642543.0, 773...</td>\n",
       "      <td>742240</td>\n",
       "      <td>2604</td>\n",
       "      <td>float64</td>\n",
       "    </tr>\n",
       "    <tr>\n",
       "      <th>originDate</th>\n",
       "      <td>[{'$date': '2020-10-30T00:00:00.000Z'}, {'$dat...</td>\n",
       "      <td>17004</td>\n",
       "      <td>0</td>\n",
       "      <td>object</td>\n",
       "    </tr>\n",
       "    <tr>\n",
       "      <th>dateLiquid</th>\n",
       "      <td>[2022-08-01, 2021-07-16, 2021-02-26, 2021-07-1...</td>\n",
       "      <td>5454</td>\n",
       "      <td>0</td>\n",
       "      <td>object</td>\n",
       "    </tr>\n",
       "    <tr>\n",
       "      <th>address</th>\n",
       "      <td>[191186, ГОРОД САНКТ-ПЕТЕРБУРГ, УЛИЦА ИТАЛЬЯНС...</td>\n",
       "      <td>632856</td>\n",
       "      <td>0</td>\n",
       "      <td>object</td>\n",
       "    </tr>\n",
       "    <tr>\n",
       "      <th>okogu</th>\n",
       "      <td>[0, 1]</td>\n",
       "      <td>2</td>\n",
       "      <td>0</td>\n",
       "      <td>int64</td>\n",
       "    </tr>\n",
       "    <tr>\n",
       "      <th>hasRegionalSupport</th>\n",
       "      <td>[0, 1]</td>\n",
       "      <td>2</td>\n",
       "      <td>0</td>\n",
       "      <td>int64</td>\n",
       "    </tr>\n",
       "    <tr>\n",
       "      <th>addOkved</th>\n",
       "      <td>[[], [{'name': 'Издание книг', 'code': '58.11'...</td>\n",
       "      <td>127443</td>\n",
       "      <td>0</td>\n",
       "      <td>object</td>\n",
       "    </tr>\n",
       "    <tr>\n",
       "      <th>dateOgrn</th>\n",
       "      <td>[{'$date': '2020-10-30T00:00:00.000Z'}, {'$dat...</td>\n",
       "      <td>5610</td>\n",
       "      <td>0</td>\n",
       "      <td>object</td>\n",
       "    </tr>\n",
       "    <tr>\n",
       "      <th>target</th>\n",
       "      <td>[0.0, 1.0]</td>\n",
       "      <td>2</td>\n",
       "      <td>0</td>\n",
       "      <td>float64</td>\n",
       "    </tr>\n",
       "    <tr>\n",
       "      <th>datebeg</th>\n",
       "      <td>[2020-10-30, 2020-09-23, 2020-02-03, 2020-07-0...</td>\n",
       "      <td>17004</td>\n",
       "      <td>0</td>\n",
       "      <td>object</td>\n",
       "    </tr>\n",
       "    <tr>\n",
       "      <th>lifetime</th>\n",
       "      <td>[55296000000000000 nanoseconds, 58492800000000...</td>\n",
       "      <td>18859</td>\n",
       "      <td>0</td>\n",
       "      <td>timedelta64[ns]</td>\n",
       "    </tr>\n",
       "    <tr>\n",
       "      <th>opf_code</th>\n",
       "      <td>[20600, 70400, 20616, 20700, 71400, 71500, 201...</td>\n",
       "      <td>159</td>\n",
       "      <td>0</td>\n",
       "      <td>object</td>\n",
       "    </tr>\n",
       "    <tr>\n",
       "      <th>opf_count</th>\n",
       "      <td>[13486, 10576, 3440, 26538, 46107, 33743, 4986...</td>\n",
       "      <td>108</td>\n",
       "      <td>0</td>\n",
       "      <td>int64</td>\n",
       "    </tr>\n",
       "    <tr>\n",
       "      <th>okved_main</th>\n",
       "      <td>[94.12, 64.99, 69.10, 68.32, 82.30, 88.99, 94....</td>\n",
       "      <td>2040</td>\n",
       "      <td>0</td>\n",
       "      <td>object</td>\n",
       "    </tr>\n",
       "    <tr>\n",
       "      <th>okved_main_name</th>\n",
       "      <td>[Деятельность профессиональных членских органи...</td>\n",
       "      <td>1926</td>\n",
       "      <td>204681</td>\n",
       "      <td>object</td>\n",
       "    </tr>\n",
       "    <tr>\n",
       "      <th>okved_m_count</th>\n",
       "      <td>[8916, 11600, 6913, 20858, 599, 3801, 31456, 4...</td>\n",
       "      <td>334</td>\n",
       "      <td>0</td>\n",
       "      <td>int64</td>\n",
       "    </tr>\n",
       "  </tbody>\n",
       "</table>\n",
       "</div>"
      ],
      "text/plain": [
       "                                                             <lambda> nunique  \\\n",
       "regionName          [Санкт-Петербург, Москва, Республика Марий Эл,...      86   \n",
       "fullName            [МЕЖРЕГИОНАЛЬНАЯ АНТРОПОСОФСКАЯ МЕДИЦИНСКАЯ АС...  665787   \n",
       "dateReg             [nan, {'$date': '1991-04-12T00:00:00.000Z'}, {...   12927   \n",
       "minjustForm         [Объединения (союз, ассоциация) юридических ли...      42   \n",
       "ogrn                [1207800141790, 1207700349152, 1207800011430, ...  747034   \n",
       "opf                 [{'name': 'Ассоциации (союзы)', 'code': '20600...     291   \n",
       "egrulStatus                                                    [1, 0]       2   \n",
       "mainOkved           [{'name': 'Деятельность профессиональных членс...    2209   \n",
       "regionCode                    [78, 77, 12, 75, 23, 43, 30, 4, 50, 58]      92   \n",
       "incomeTotal         [0.0, 11464477.21, 1096727.62, 235672.5, 10607...   28326   \n",
       "inn                 [7841091168.0, 7720646827.0, 7813642543.0, 773...  742240   \n",
       "originDate          [{'$date': '2020-10-30T00:00:00.000Z'}, {'$dat...   17004   \n",
       "dateLiquid          [2022-08-01, 2021-07-16, 2021-02-26, 2021-07-1...    5454   \n",
       "address             [191186, ГОРОД САНКТ-ПЕТЕРБУРГ, УЛИЦА ИТАЛЬЯНС...  632856   \n",
       "okogu                                                          [0, 1]       2   \n",
       "hasRegionalSupport                                             [0, 1]       2   \n",
       "addOkved            [[], [{'name': 'Издание книг', 'code': '58.11'...  127443   \n",
       "dateOgrn            [{'$date': '2020-10-30T00:00:00.000Z'}, {'$dat...    5610   \n",
       "target                                                     [0.0, 1.0]       2   \n",
       "datebeg             [2020-10-30, 2020-09-23, 2020-02-03, 2020-07-0...   17004   \n",
       "lifetime            [55296000000000000 nanoseconds, 58492800000000...   18859   \n",
       "opf_code            [20600, 70400, 20616, 20700, 71400, 71500, 201...     159   \n",
       "opf_count           [13486, 10576, 3440, 26538, 46107, 33743, 4986...     108   \n",
       "okved_main          [94.12, 64.99, 69.10, 68.32, 82.30, 88.99, 94....    2040   \n",
       "okved_main_name     [Деятельность профессиональных членских органи...    1926   \n",
       "okved_m_count       [8916, 11600, 6913, 20858, 599, 3801, 31456, 4...     334   \n",
       "\n",
       "                      null            dtype  \n",
       "regionName              25           object  \n",
       "fullName                 0           object  \n",
       "dateReg             425618           object  \n",
       "minjustForm         285961           object  \n",
       "ogrn                     0            int64  \n",
       "opf                      0           object  \n",
       "egrulStatus              0            int64  \n",
       "mainOkved                0           object  \n",
       "regionCode               0            int64  \n",
       "incomeTotal              0          float64  \n",
       "inn                   2604          float64  \n",
       "originDate               0           object  \n",
       "dateLiquid               0           object  \n",
       "address                  0           object  \n",
       "okogu                    0            int64  \n",
       "hasRegionalSupport       0            int64  \n",
       "addOkved                 0           object  \n",
       "dateOgrn                 0           object  \n",
       "target                   0          float64  \n",
       "datebeg                  0           object  \n",
       "lifetime                 0  timedelta64[ns]  \n",
       "opf_code                 0           object  \n",
       "opf_count                0            int64  \n",
       "okved_main               0           object  \n",
       "okved_main_name     204681           object  \n",
       "okved_m_count            0            int64  "
      ]
     },
     "execution_count": 107,
     "metadata": {},
     "output_type": "execute_result"
    }
   ],
   "source": [
    "data_agg = data.agg({'nunique', lambda s: s.unique()[:10]})\\\n",
    "    .append(pd.Series(data.isnull().sum(), name='null'))\\\n",
    "    .append(pd.Series(data.dtypes, name='dtype'))\\\n",
    "    .transpose()\n",
    "data_agg"
   ]
  },
  {
   "cell_type": "code",
   "execution_count": 108,
   "metadata": {},
   "outputs": [],
   "source": [
    "drop_cols = ['ogrn', 'regionName', 'fullName', 'dateReg', 'minjustForm', 'opf', 'mainOkved', 'inn', 'originDate', 'dateLiquid', 'address', 'addOkved', 'dateOgrn', 'datebeg', 'okved_main', 'okved_main_name', 'incomeTotal']\n",
    "data.drop(columns=drop_cols, inplace=True)"
   ]
  },
  {
   "cell_type": "code",
   "execution_count": 109,
   "metadata": {},
   "outputs": [],
   "source": [
    "#data['lifetime']=data['lifetime'].map(datetime.datetime.toordinal)\n",
    "# data['lifetime'] = data['lifetime'].datetime.days.astype('int8')\n",
    "data['lifetime'] = data['lifetime'].astype('timedelta64[D]').astype(int)"
   ]
  },
  {
   "cell_type": "code",
   "execution_count": 110,
   "metadata": {},
   "outputs": [],
   "source": [
    "y = data['target'].values\n",
    "X = data.drop(['target'], axis = 1)"
   ]
  },
  {
   "cell_type": "code",
   "execution_count": 111,
   "metadata": {},
   "outputs": [],
   "source": [
    "X_train, X_test, y_train, y_test = train_test_split(X, y, test_size=0.20, random_state=27)"
   ]
  },
  {
   "cell_type": "code",
   "execution_count": 112,
   "metadata": {},
   "outputs": [],
   "source": [
    "model = RandomForestRegressor(\n",
    "    n_estimators=100, verbose=1, n_jobs=-1, random_state=27)"
   ]
  },
  {
   "cell_type": "code",
   "execution_count": 113,
   "metadata": {},
   "outputs": [
    {
     "name": "stderr",
     "output_type": "stream",
     "text": [
      "[Parallel(n_jobs=-1)]: Using backend ThreadingBackend with 4 concurrent workers.\n",
      "[Parallel(n_jobs=-1)]: Done  42 tasks      | elapsed:   55.0s\n",
      "[Parallel(n_jobs=-1)]: Done 100 out of 100 | elapsed:  2.1min finished\n",
      "[Parallel(n_jobs=4)]: Using backend ThreadingBackend with 4 concurrent workers.\n",
      "[Parallel(n_jobs=4)]: Done  42 tasks      | elapsed:    0.7s\n",
      "[Parallel(n_jobs=4)]: Done 100 out of 100 | elapsed:    1.8s finished\n"
     ]
    }
   ],
   "source": [
    "# training model\n",
    "model.fit(X_train, y_train)\n",
    "\n",
    "# using model for prognosing rating in test data\n",
    "# Prognosis is being written to y_pred\n",
    "y_pred = model.predict(X_test)"
   ]
  },
  {
   "cell_type": "code",
   "execution_count": 114,
   "metadata": {},
   "outputs": [
    {
     "name": "stdout",
     "output_type": "stream",
     "text": [
      "MAE: 0.07001715716148625\n"
     ]
    }
   ],
   "source": [
    "print('MAE:', metrics.mean_absolute_error(y_test, y_pred))"
   ]
  },
  {
   "cell_type": "code",
   "execution_count": 115,
   "metadata": {},
   "outputs": [
    {
     "data": {
      "text/plain": [
       "<AxesSubplot:>"
      ]
     },
     "execution_count": 115,
     "metadata": {},
     "output_type": "execute_result"
    },
    {
     "data": {
      "image/png": "[encoded data removed]",
      "text/plain": [
       "<Figure size 720x720 with 1 Axes>"
      ]
     },
     "metadata": {
      "needs_background": "light"
     },
     "output_type": "display_data"
    }
   ],
   "source": [
    "# in RandomForestRegressor it's possible to show the most important features used for prognosing\n",
    "plt.rcParams['figure.figsize'] = (10, 10)\n",
    "feat_importances = pd.Series(model.feature_importances_, index=X.columns)\n",
    "feat_importances.nlargest(15).plot(kind='barh')"
   ]
  },
  {
   "cell_type": "code",
   "execution_count": 117,
   "metadata": {},
   "outputs": [],
   "source": [
    "conclusions.append('Срок жизни компании оказался наиболее значимым признаком для прогноза вероятности получения финансирования.')"
   ]
  },
  {
   "cell_type": "markdown",
   "metadata": {},
   "source": [
    "Стояли следующие вопросы: \n",
    "\n",
    "* Проверить, есть ли зависимость вероятности получения грантов от государства / госконтрактов от региона регистрации организации\n",
    "\n",
    "Зависимость есть и довольно сильная:\n",
    "    Есть ряд регионов, в которых ни одна НКО не получала финансирования из открытых источников.\n",
    "    Топ-5 регионов, получающих финансирование: Москва, Московская область, Санкт-Петербург, Краснодарский край и Свердловская область.\n",
    "\n",
    "* Проверить, есть ли зависимость вероятности получения грантов от государства / госконтрактов от возраста организации\n",
    "\n",
    "Срок жизни компании оказался наиболее значимым признаком для прогноза вероятности получения финансирования.\n",
    "\n",
    "\n",
    "* Проверить, есть ли зависимость вероятности получения грантов от государства / госконтрактов от экономической деятельности\n",
    "\n",
    "Экономическая деятельность компании стала третьим по значимости признаком для прогноза вероятности получения грантов.\n",
    "\n",
    "\n",
    "* Любые дополнительные выводы и проверки.\n",
    "\n",
    "Сведения о правовой форме НКО в системе классификации минюста показывает, что нет такой формы, которая никогда бы не получала финансирования. "
   ]
  },
  {
   "cell_type": "raw",
   "metadata": {},
   "source": [
    "conclusions"
   ]
  }
 ],
 "metadata": {
  "kernelspec": {
   "display_name": "Python 3",
   "language": "python",
   "name": "python3"
  },
  "language_info": {
   "codemirror_mode": {
    "name": "ipython",
    "version": 3
   },
   "file_extension": ".py",
   "mimetype": "text/x-python",
   "name": "python",
   "nbconvert_exporter": "python",
   "pygments_lexer": "ipython3",
   "version": "3.8.5"
  }
 },
 "nbformat": 4,
 "nbformat_minor": 4
}
