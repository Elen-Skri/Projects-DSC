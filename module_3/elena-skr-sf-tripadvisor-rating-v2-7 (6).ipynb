{
 "cells": [
  {
   "cell_type": "markdown",
   "metadata": {},
   "source": [
    "![](https://www.pata.org/wp-content/uploads/2014/09/TripAdvisor_Logo-300x119.png)\n",
    "# Predict TripAdvisor Rating\n",
    "#### In this competition we have to prognose rating of a restaurant in TripAdvisor, having cleaned and prepared data for a ML model given."
   ]
  },
  {
   "cell_type": "markdown",
   "metadata": {},
   "source": [
    "# import"
   ]
  },
  {
   "cell_type": "code",
   "execution_count": 1,
   "metadata": {
    "_cell_guid": "b1076dfc-b9ad-4769-8c92-a6c4dae69d19",
    "_uuid": "8f2839f25d086af736a60e9eeb907d3b93b6e0e5",
    "execution": {
     "iopub.execute_input": "2021-07-05T20:16:08.773253Z",
     "iopub.status.busy": "2021-07-05T20:16:08.772967Z",
     "iopub.status.idle": "2021-07-05T20:16:09.988914Z",
     "shell.execute_reply": "2021-07-05T20:16:09.987538Z",
     "shell.execute_reply.started": "2021-07-05T20:16:08.773203Z"
    }
   },
   "outputs": [
    {
     "name": "stdout",
     "output_type": "stream",
     "text": [
      "/kaggle/input/sf-dst-restaurant-rating/sample_submission.csv\n",
      "/kaggle/input/sf-dst-restaurant-rating/main_task.csv\n",
      "/kaggle/input/sf-dst-restaurant-rating/kaggle_task.csv\n"
     ]
    }
   ],
   "source": [
    "# import of necessary libraries for work:\n",
    "\n",
    "from textblob import TextBlob  # tonal analisys llibrary\n",
    "import math\n",
    "from datetime import datetime, timedelta  # working with dates libarary\n",
    "from datetime import date\n",
    "import re\n",
    "import os\n",
    "from scipy import stats\n",
    "from collections import Counter\n",
    "from sklearn.preprocessing import MinMaxScaler\n",
    "from sklearn.preprocessing import StandardScaler\n",
    "from sklearn.preprocessing import PolynomialFeatures\n",
    "from sklearn import metrics\n",
    "from sklearn.ensemble import RandomForestRegressor\n",
    "# tool for dividig data for test and training\n",
    "from sklearn.model_selection import train_test_split\n",
    "import numpy as np  # linear algebra\n",
    "import pandas as pd  # explorative analisys\n",
    "\n",
    "# visualisation libraries:\n",
    "import matplotlib.pyplot as plt  # 2-d graphics\n",
    "import seaborn as sns  # graphics for statistics\n",
    "%matplotlib inline\n",
    "\n",
    "\n",
    "# looking files in directory\n",
    "for dirname, _, filenames in os.walk('/kaggle/input'):\n",
    "    for filename in filenames:\n",
    "        print(os.path.join(dirname, filename))"
   ]
  },
  {
   "cell_type": "code",
   "execution_count": 2,
   "metadata": {
    "execution": {
     "iopub.execute_input": "2021-07-05T20:16:10.348870Z",
     "iopub.status.busy": "2021-07-05T20:16:10.348329Z",
     "iopub.status.idle": "2021-07-05T20:16:10.360788Z",
     "shell.execute_reply": "2021-07-05T20:16:10.359064Z",
     "shell.execute_reply.started": "2021-07-05T20:16:10.348544Z"
    }
   },
   "outputs": [],
   "source": [
    "# fixing random seed  for reproduction of results\n",
    "RANDOM_SEED = 42"
   ]
  },
  {
   "cell_type": "code",
   "execution_count": 3,
   "metadata": {
    "execution": {
     "iopub.execute_input": "2021-07-05T20:16:11.073151Z",
     "iopub.status.busy": "2021-07-05T20:16:11.072818Z",
     "iopub.status.idle": "2021-07-05T20:16:12.697778Z",
     "shell.execute_reply": "2021-07-05T20:16:12.696078Z",
     "shell.execute_reply.started": "2021-07-05T20:16:11.073077Z"
    }
   },
   "outputs": [],
   "source": [
    "# writing down requirements\n",
    "!pip freeze > requirements.txt"
   ]
  },
  {
   "cell_type": "markdown",
   "metadata": {},
   "source": [
    "### Functions"
   ]
  },
  {
   "cell_type": "code",
   "execution_count": 4,
   "metadata": {
    "execution": {
     "iopub.execute_input": "2021-07-05T20:16:15.266096Z",
     "iopub.status.busy": "2021-07-05T20:16:15.265824Z",
     "iopub.status.idle": "2021-07-05T20:16:15.282406Z",
     "shell.execute_reply": "2021-07-05T20:16:15.280531Z",
     "shell.execute_reply.started": "2021-07-05T20:16:15.266063Z"
    }
   },
   "outputs": [],
   "source": [
    "def misses_in_attr(data, list_attr):\n",
    "    \"\"\"Misses count and writing them in a new attribute\"\"\"\n",
    "    data_misses = pd.DataFrame()\n",
    "    for attr in list_attr:\n",
    "        data_misses[attr+'_misses'] = pd.isna(data[attr]).astype('uint8')\n",
    "    return data_misses\n",
    "\n",
    "\n",
    "def IQR_for_column(column):\n",
    "    \"\"\"Return of quantiles and outliers due IQR, oulliers count and normalization\"\"\"\n",
    "    perc25 = data[column].quantile(0.25)\n",
    "    perc75 = data[column].quantile(0.75)\n",
    "    IQR = perc75 - perc25\n",
    "    min_out = perc25 - 1.5*IQR\n",
    "    max_out = perc75 + 1.5*IQR\n",
    "    anomaly = len(data[data[column] > max_out]) + \\\n",
    "        len(data[data[column] < min_out])\n",
    "    print(\n",
    "        '25 percentile: {} |'.format(perc25),\n",
    "        '75 percentile: {} |'.format(perc75),\n",
    "        \"IQR: {} | \".format(IQR),\n",
    "        \"Outliers limits: [{}, {}].\".format(min_out, max_out))\n",
    "    print(\"Outliers, due IQR: {} | {:2.2%}\".format(\n",
    "        anomaly, anomaly/len(data)))\n",
    "\n",
    "\n",
    "def normalization(x, x_min, x_max):\n",
    "    '''Attribute normalization'''\n",
    "    return (x-x_min)/(x_max-x_min)\n",
    "\n",
    "\n",
    "def get_min_max_normalization(df, column):\n",
    "    \"\"\"Attribute normalization due min & max \"\"\"\n",
    "    x_min, x_max = df[column].agg(['min', 'max'])\n",
    "    return normalization(df[column], x_min, x_max)"
   ]
  },
  {
   "cell_type": "markdown",
   "metadata": {},
   "source": [
    "# DATA"
   ]
  },
  {
   "cell_type": "markdown",
   "metadata": {
    "execution": {
     "iopub.execute_input": "2021-06-28T07:19:53.808101Z",
     "iopub.status.busy": "2021-06-28T07:19:53.80778Z",
     "iopub.status.idle": "2021-06-28T07:19:53.814839Z",
     "shell.execute_reply": "2021-06-28T07:19:53.813398Z",
     "shell.execute_reply.started": "2021-06-28T07:19:53.808061Z"
    }
   },
   "source": [
    "Data download and description:"
   ]
  },
  {
   "cell_type": "code",
   "execution_count": 5,
   "metadata": {
    "_cell_guid": "79c7e3d0-c299-4dcb-8224-4455121ee9b0",
    "_uuid": "d629ff2d2480ee46fbb7e2d37f6b5fab8052498a",
    "execution": {
     "iopub.execute_input": "2021-07-05T20:16:30.324570Z",
     "iopub.status.busy": "2021-07-05T20:16:30.324286Z",
     "iopub.status.idle": "2021-07-05T20:16:30.649587Z",
     "shell.execute_reply": "2021-07-05T20:16:30.648531Z",
     "shell.execute_reply.started": "2021-07-05T20:16:30.324534Z"
    }
   },
   "outputs": [],
   "source": [
    "DATA_DIR = '/kaggle/input/sf-dst-restaurant-rating/'\n",
    "# data for model training with target attribute\n",
    "df_train = pd.read_csv(DATA_DIR+'/main_task.csv')\n",
    "# data for prognosis and its evaluation\n",
    "df_test = pd.read_csv(DATA_DIR+'kaggle_task.csv')\n",
    "# a sample of submission file\n",
    "sample_submission = pd.read_csv(DATA_DIR+'/sample_submission.csv')"
   ]
  },
  {
   "cell_type": "code",
   "execution_count": 6,
   "metadata": {
    "execution": {
     "iopub.execute_input": "2021-07-05T20:16:32.156044Z",
     "iopub.status.busy": "2021-07-05T20:16:32.155564Z",
     "iopub.status.idle": "2021-07-05T20:16:32.197496Z",
     "shell.execute_reply": "2021-07-05T20:16:32.196561Z",
     "shell.execute_reply.started": "2021-07-05T20:16:32.155992Z"
    }
   },
   "outputs": [
    {
     "name": "stdout",
     "output_type": "stream",
     "text": [
      "<class 'pandas.core.frame.DataFrame'>\n",
      "RangeIndex: 40000 entries, 0 to 39999\n",
      "Data columns (total 10 columns):\n",
      "Restaurant_id        40000 non-null object\n",
      "City                 40000 non-null object\n",
      "Cuisine Style        30717 non-null object\n",
      "Ranking              40000 non-null float64\n",
      "Rating               40000 non-null float64\n",
      "Price Range          26114 non-null object\n",
      "Number of Reviews    37457 non-null float64\n",
      "Reviews              40000 non-null object\n",
      "URL_TA               40000 non-null object\n",
      "ID_TA                40000 non-null object\n",
      "dtypes: float64(3), object(7)\n",
      "memory usage: 3.1+ MB\n"
     ]
    }
   ],
   "source": [
    "df_train.info()"
   ]
  },
  {
   "cell_type": "code",
   "execution_count": 7,
   "metadata": {
    "execution": {
     "iopub.execute_input": "2021-07-05T20:16:32.562470Z",
     "iopub.status.busy": "2021-07-05T20:16:32.562207Z",
     "iopub.status.idle": "2021-07-05T20:16:32.585587Z",
     "shell.execute_reply": "2021-07-05T20:16:32.584019Z",
     "shell.execute_reply.started": "2021-07-05T20:16:32.562433Z"
    }
   },
   "outputs": [
    {
     "data": {
      "text/html": [
       "<div>\n",
       "<style scoped>\n",
       "    .dataframe tbody tr th:only-of-type {\n",
       "        vertical-align: middle;\n",
       "    }\n",
       "\n",
       "    .dataframe tbody tr th {\n",
       "        vertical-align: top;\n",
       "    }\n",
       "\n",
       "    .dataframe thead th {\n",
       "        text-align: right;\n",
       "    }\n",
       "</style>\n",
       "<table border=\"1\" class=\"dataframe\">\n",
       "  <thead>\n",
       "    <tr style=\"text-align: right;\">\n",
       "      <th></th>\n",
       "      <th>Restaurant_id</th>\n",
       "      <th>City</th>\n",
       "      <th>Cuisine Style</th>\n",
       "      <th>Ranking</th>\n",
       "      <th>Rating</th>\n",
       "      <th>Price Range</th>\n",
       "      <th>Number of Reviews</th>\n",
       "      <th>Reviews</th>\n",
       "      <th>URL_TA</th>\n",
       "      <th>ID_TA</th>\n",
       "    </tr>\n",
       "  </thead>\n",
       "  <tbody>\n",
       "    <tr>\n",
       "      <th>0</th>\n",
       "      <td>id_5569</td>\n",
       "      <td>Paris</td>\n",
       "      <td>['European', 'French', 'International']</td>\n",
       "      <td>5570.0</td>\n",
       "      <td>3.5</td>\n",
       "      <td>$$ - $$$</td>\n",
       "      <td>194.0</td>\n",
       "      <td>[['Good food at your doorstep', 'A good hotel ...</td>\n",
       "      <td>/Restaurant_Review-g187147-d1912643-Reviews-R_...</td>\n",
       "      <td>d1912643</td>\n",
       "    </tr>\n",
       "    <tr>\n",
       "      <th>1</th>\n",
       "      <td>id_1535</td>\n",
       "      <td>Stockholm</td>\n",
       "      <td>NaN</td>\n",
       "      <td>1537.0</td>\n",
       "      <td>4.0</td>\n",
       "      <td>NaN</td>\n",
       "      <td>10.0</td>\n",
       "      <td>[['Unique cuisine', 'Delicious Nepalese food']...</td>\n",
       "      <td>/Restaurant_Review-g189852-d7992032-Reviews-Bu...</td>\n",
       "      <td>d7992032</td>\n",
       "    </tr>\n",
       "    <tr>\n",
       "      <th>2</th>\n",
       "      <td>id_352</td>\n",
       "      <td>London</td>\n",
       "      <td>['Japanese', 'Sushi', 'Asian', 'Grill', 'Veget...</td>\n",
       "      <td>353.0</td>\n",
       "      <td>4.5</td>\n",
       "      <td>$$$$</td>\n",
       "      <td>688.0</td>\n",
       "      <td>[['Catch up with friends', 'Not exceptional'],...</td>\n",
       "      <td>/Restaurant_Review-g186338-d8632781-Reviews-RO...</td>\n",
       "      <td>d8632781</td>\n",
       "    </tr>\n",
       "    <tr>\n",
       "      <th>3</th>\n",
       "      <td>id_3456</td>\n",
       "      <td>Berlin</td>\n",
       "      <td>NaN</td>\n",
       "      <td>3458.0</td>\n",
       "      <td>5.0</td>\n",
       "      <td>NaN</td>\n",
       "      <td>3.0</td>\n",
       "      <td>[[], []]</td>\n",
       "      <td>/Restaurant_Review-g187323-d1358776-Reviews-Es...</td>\n",
       "      <td>d1358776</td>\n",
       "    </tr>\n",
       "    <tr>\n",
       "      <th>4</th>\n",
       "      <td>id_615</td>\n",
       "      <td>Munich</td>\n",
       "      <td>['German', 'Central European', 'Vegetarian Fri...</td>\n",
       "      <td>621.0</td>\n",
       "      <td>4.0</td>\n",
       "      <td>$$ - $$$</td>\n",
       "      <td>84.0</td>\n",
       "      <td>[['Best place to try a Bavarian food', 'Nice b...</td>\n",
       "      <td>/Restaurant_Review-g187309-d6864963-Reviews-Au...</td>\n",
       "      <td>d6864963</td>\n",
       "    </tr>\n",
       "  </tbody>\n",
       "</table>\n",
       "</div>"
      ],
      "text/plain": [
       "  Restaurant_id       City                                      Cuisine Style  \\\n",
       "0       id_5569      Paris            ['European', 'French', 'International']   \n",
       "1       id_1535  Stockholm                                                NaN   \n",
       "2        id_352     London  ['Japanese', 'Sushi', 'Asian', 'Grill', 'Veget...   \n",
       "3       id_3456     Berlin                                                NaN   \n",
       "4        id_615     Munich  ['German', 'Central European', 'Vegetarian Fri...   \n",
       "\n",
       "   Ranking  Rating Price Range  Number of Reviews  \\\n",
       "0   5570.0     3.5    $$ - $$$              194.0   \n",
       "1   1537.0     4.0         NaN               10.0   \n",
       "2    353.0     4.5        $$$$              688.0   \n",
       "3   3458.0     5.0         NaN                3.0   \n",
       "4    621.0     4.0    $$ - $$$               84.0   \n",
       "\n",
       "                                             Reviews  \\\n",
       "0  [['Good food at your doorstep', 'A good hotel ...   \n",
       "1  [['Unique cuisine', 'Delicious Nepalese food']...   \n",
       "2  [['Catch up with friends', 'Not exceptional'],...   \n",
       "3                                           [[], []]   \n",
       "4  [['Best place to try a Bavarian food', 'Nice b...   \n",
       "\n",
       "                                              URL_TA     ID_TA  \n",
       "0  /Restaurant_Review-g187147-d1912643-Reviews-R_...  d1912643  \n",
       "1  /Restaurant_Review-g189852-d7992032-Reviews-Bu...  d7992032  \n",
       "2  /Restaurant_Review-g186338-d8632781-Reviews-RO...  d8632781  \n",
       "3  /Restaurant_Review-g187323-d1358776-Reviews-Es...  d1358776  \n",
       "4  /Restaurant_Review-g187309-d6864963-Reviews-Au...  d6864963  "
      ]
     },
     "execution_count": 7,
     "metadata": {},
     "output_type": "execute_result"
    }
   ],
   "source": [
    "df_train.head(5)"
   ]
  },
  {
   "cell_type": "markdown",
   "metadata": {},
   "source": [
    " In training dataset there are 40 000 rows and 10 columns-attributes. There are data misses."
   ]
  },
  {
   "cell_type": "code",
   "execution_count": 8,
   "metadata": {
    "execution": {
     "iopub.execute_input": "2021-07-05T20:16:38.045883Z",
     "iopub.status.busy": "2021-07-05T20:16:38.045538Z",
     "iopub.status.idle": "2021-07-05T20:16:38.065990Z",
     "shell.execute_reply": "2021-07-05T20:16:38.062967Z",
     "shell.execute_reply.started": "2021-07-05T20:16:38.045816Z"
    }
   },
   "outputs": [
    {
     "name": "stdout",
     "output_type": "stream",
     "text": [
      "<class 'pandas.core.frame.DataFrame'>\n",
      "RangeIndex: 10000 entries, 0 to 9999\n",
      "Data columns (total 9 columns):\n",
      "Restaurant_id        10000 non-null object\n",
      "City                 10000 non-null object\n",
      "Cuisine Style        7693 non-null object\n",
      "Ranking              10000 non-null float64\n",
      "Price Range          6525 non-null object\n",
      "Number of Reviews    9343 non-null float64\n",
      "Reviews              9998 non-null object\n",
      "URL_TA               10000 non-null object\n",
      "ID_TA                10000 non-null object\n",
      "dtypes: float64(2), object(7)\n",
      "memory usage: 703.2+ KB\n"
     ]
    }
   ],
   "source": [
    "df_test.info()"
   ]
  },
  {
   "cell_type": "code",
   "execution_count": 9,
   "metadata": {
    "execution": {
     "iopub.execute_input": "2021-07-05T20:16:39.402196Z",
     "iopub.status.busy": "2021-07-05T20:16:39.401776Z",
     "iopub.status.idle": "2021-07-05T20:16:39.417842Z",
     "shell.execute_reply": "2021-07-05T20:16:39.416767Z",
     "shell.execute_reply.started": "2021-07-05T20:16:39.402162Z"
    }
   },
   "outputs": [
    {
     "data": {
      "text/html": [
       "<div>\n",
       "<style scoped>\n",
       "    .dataframe tbody tr th:only-of-type {\n",
       "        vertical-align: middle;\n",
       "    }\n",
       "\n",
       "    .dataframe tbody tr th {\n",
       "        vertical-align: top;\n",
       "    }\n",
       "\n",
       "    .dataframe thead th {\n",
       "        text-align: right;\n",
       "    }\n",
       "</style>\n",
       "<table border=\"1\" class=\"dataframe\">\n",
       "  <thead>\n",
       "    <tr style=\"text-align: right;\">\n",
       "      <th></th>\n",
       "      <th>Restaurant_id</th>\n",
       "      <th>City</th>\n",
       "      <th>Cuisine Style</th>\n",
       "      <th>Ranking</th>\n",
       "      <th>Price Range</th>\n",
       "      <th>Number of Reviews</th>\n",
       "      <th>Reviews</th>\n",
       "      <th>URL_TA</th>\n",
       "      <th>ID_TA</th>\n",
       "    </tr>\n",
       "  </thead>\n",
       "  <tbody>\n",
       "    <tr>\n",
       "      <th>0</th>\n",
       "      <td>id_0</td>\n",
       "      <td>Paris</td>\n",
       "      <td>['Bar', 'Pub']</td>\n",
       "      <td>12963.0</td>\n",
       "      <td>$$ - $$$</td>\n",
       "      <td>4.0</td>\n",
       "      <td>[[], []]</td>\n",
       "      <td>/Restaurant_Review-g187147-d10746918-Reviews-L...</td>\n",
       "      <td>d10746918</td>\n",
       "    </tr>\n",
       "    <tr>\n",
       "      <th>1</th>\n",
       "      <td>id_1</td>\n",
       "      <td>Helsinki</td>\n",
       "      <td>['European', 'Scandinavian', 'Gluten Free Opti...</td>\n",
       "      <td>106.0</td>\n",
       "      <td>$$ - $$$</td>\n",
       "      <td>97.0</td>\n",
       "      <td>[['Very good reviews!', 'Fine dining in Hakani...</td>\n",
       "      <td>/Restaurant_Review-g189934-d6674944-Reviews-Ra...</td>\n",
       "      <td>d6674944</td>\n",
       "    </tr>\n",
       "    <tr>\n",
       "      <th>2</th>\n",
       "      <td>id_2</td>\n",
       "      <td>Edinburgh</td>\n",
       "      <td>['Vegetarian Friendly']</td>\n",
       "      <td>810.0</td>\n",
       "      <td>$$ - $$$</td>\n",
       "      <td>28.0</td>\n",
       "      <td>[['Better than the Links', 'Ivy Black'], ['12/...</td>\n",
       "      <td>/Restaurant_Review-g186525-d13129638-Reviews-B...</td>\n",
       "      <td>d13129638</td>\n",
       "    </tr>\n",
       "    <tr>\n",
       "      <th>3</th>\n",
       "      <td>id_3</td>\n",
       "      <td>London</td>\n",
       "      <td>['Italian', 'Mediterranean', 'European', 'Vege...</td>\n",
       "      <td>1669.0</td>\n",
       "      <td>$$$$</td>\n",
       "      <td>202.0</td>\n",
       "      <td>[['Most exquisite', 'Delicious and authentic']...</td>\n",
       "      <td>/Restaurant_Review-g186338-d680417-Reviews-Qui...</td>\n",
       "      <td>d680417</td>\n",
       "    </tr>\n",
       "    <tr>\n",
       "      <th>4</th>\n",
       "      <td>id_4</td>\n",
       "      <td>Bratislava</td>\n",
       "      <td>['Italian', 'Mediterranean', 'European', 'Seaf...</td>\n",
       "      <td>37.0</td>\n",
       "      <td>$$$$</td>\n",
       "      <td>162.0</td>\n",
       "      <td>[['Always the best in bratislava', 'Very good ...</td>\n",
       "      <td>/Restaurant_Review-g274924-d1112354-Reviews-Ma...</td>\n",
       "      <td>d1112354</td>\n",
       "    </tr>\n",
       "    <tr>\n",
       "      <th>5</th>\n",
       "      <td>id_5</td>\n",
       "      <td>Paris</td>\n",
       "      <td>['French', 'Cafe', 'Fast Food']</td>\n",
       "      <td>5093.0</td>\n",
       "      <td>$</td>\n",
       "      <td>24.0</td>\n",
       "      <td>[['Lunch Break', 'Good to Quick Bite'], ['09/0...</td>\n",
       "      <td>/Restaurant_Review-g187147-d8458643-Reviews-Le...</td>\n",
       "      <td>d8458643</td>\n",
       "    </tr>\n",
       "    <tr>\n",
       "      <th>6</th>\n",
       "      <td>id_6</td>\n",
       "      <td>Lisbon</td>\n",
       "      <td>['European', 'Portuguese']</td>\n",
       "      <td>3704.0</td>\n",
       "      <td>$</td>\n",
       "      <td>2.0</td>\n",
       "      <td>[[], []]</td>\n",
       "      <td>/Restaurant_Review-g189158-d8758873-Reviews-Li...</td>\n",
       "      <td>d8758873</td>\n",
       "    </tr>\n",
       "    <tr>\n",
       "      <th>7</th>\n",
       "      <td>id_7</td>\n",
       "      <td>Budapest</td>\n",
       "      <td>NaN</td>\n",
       "      <td>2330.0</td>\n",
       "      <td>NaN</td>\n",
       "      <td>NaN</td>\n",
       "      <td>[[], []]</td>\n",
       "      <td>/Restaurant_Review-g274887-d8286886-Reviews-Be...</td>\n",
       "      <td>d8286886</td>\n",
       "    </tr>\n",
       "  </tbody>\n",
       "</table>\n",
       "</div>"
      ],
      "text/plain": [
       "  Restaurant_id        City  \\\n",
       "0          id_0       Paris   \n",
       "1          id_1    Helsinki   \n",
       "2          id_2   Edinburgh   \n",
       "3          id_3      London   \n",
       "4          id_4  Bratislava   \n",
       "5          id_5       Paris   \n",
       "6          id_6      Lisbon   \n",
       "7          id_7    Budapest   \n",
       "\n",
       "                                       Cuisine Style  Ranking Price Range  \\\n",
       "0                                     ['Bar', 'Pub']  12963.0    $$ - $$$   \n",
       "1  ['European', 'Scandinavian', 'Gluten Free Opti...    106.0    $$ - $$$   \n",
       "2                            ['Vegetarian Friendly']    810.0    $$ - $$$   \n",
       "3  ['Italian', 'Mediterranean', 'European', 'Vege...   1669.0        $$$$   \n",
       "4  ['Italian', 'Mediterranean', 'European', 'Seaf...     37.0        $$$$   \n",
       "5                    ['French', 'Cafe', 'Fast Food']   5093.0           $   \n",
       "6                         ['European', 'Portuguese']   3704.0           $   \n",
       "7                                                NaN   2330.0         NaN   \n",
       "\n",
       "   Number of Reviews                                            Reviews  \\\n",
       "0                4.0                                           [[], []]   \n",
       "1               97.0  [['Very good reviews!', 'Fine dining in Hakani...   \n",
       "2               28.0  [['Better than the Links', 'Ivy Black'], ['12/...   \n",
       "3              202.0  [['Most exquisite', 'Delicious and authentic']...   \n",
       "4              162.0  [['Always the best in bratislava', 'Very good ...   \n",
       "5               24.0  [['Lunch Break', 'Good to Quick Bite'], ['09/0...   \n",
       "6                2.0                                           [[], []]   \n",
       "7                NaN                                           [[], []]   \n",
       "\n",
       "                                              URL_TA      ID_TA  \n",
       "0  /Restaurant_Review-g187147-d10746918-Reviews-L...  d10746918  \n",
       "1  /Restaurant_Review-g189934-d6674944-Reviews-Ra...   d6674944  \n",
       "2  /Restaurant_Review-g186525-d13129638-Reviews-B...  d13129638  \n",
       "3  /Restaurant_Review-g186338-d680417-Reviews-Qui...    d680417  \n",
       "4  /Restaurant_Review-g274924-d1112354-Reviews-Ma...   d1112354  \n",
       "5  /Restaurant_Review-g187147-d8458643-Reviews-Le...   d8458643  \n",
       "6  /Restaurant_Review-g189158-d8758873-Reviews-Li...   d8758873  \n",
       "7  /Restaurant_Review-g274887-d8286886-Reviews-Be...   d8286886  "
      ]
     },
     "execution_count": 9,
     "metadata": {},
     "output_type": "execute_result"
    }
   ],
   "source": [
    "df_test.head(8)"
   ]
  },
  {
   "cell_type": "markdown",
   "metadata": {},
   "source": [
    "Data for testing have the same structure as training one, 10 000 rows and same 10 columns-attributes, except target attribute Rating."
   ]
  },
  {
   "cell_type": "code",
   "execution_count": 10,
   "metadata": {
    "execution": {
     "iopub.execute_input": "2021-07-05T20:16:42.071170Z",
     "iopub.status.busy": "2021-07-05T20:16:42.070701Z",
     "iopub.status.idle": "2021-07-05T20:16:42.080776Z",
     "shell.execute_reply": "2021-07-05T20:16:42.079245Z",
     "shell.execute_reply.started": "2021-07-05T20:16:42.071135Z"
    }
   },
   "outputs": [
    {
     "data": {
      "text/html": [
       "<div>\n",
       "<style scoped>\n",
       "    .dataframe tbody tr th:only-of-type {\n",
       "        vertical-align: middle;\n",
       "    }\n",
       "\n",
       "    .dataframe tbody tr th {\n",
       "        vertical-align: top;\n",
       "    }\n",
       "\n",
       "    .dataframe thead th {\n",
       "        text-align: right;\n",
       "    }\n",
       "</style>\n",
       "<table border=\"1\" class=\"dataframe\">\n",
       "  <thead>\n",
       "    <tr style=\"text-align: right;\">\n",
       "      <th></th>\n",
       "      <th>Restaurant_id</th>\n",
       "      <th>Rating</th>\n",
       "    </tr>\n",
       "  </thead>\n",
       "  <tbody>\n",
       "    <tr>\n",
       "      <th>0</th>\n",
       "      <td>id_0</td>\n",
       "      <td>2.0</td>\n",
       "    </tr>\n",
       "    <tr>\n",
       "      <th>1</th>\n",
       "      <td>id_1</td>\n",
       "      <td>2.5</td>\n",
       "    </tr>\n",
       "    <tr>\n",
       "      <th>2</th>\n",
       "      <td>id_2</td>\n",
       "      <td>4.0</td>\n",
       "    </tr>\n",
       "    <tr>\n",
       "      <th>3</th>\n",
       "      <td>id_3</td>\n",
       "      <td>1.0</td>\n",
       "    </tr>\n",
       "    <tr>\n",
       "      <th>4</th>\n",
       "      <td>id_4</td>\n",
       "      <td>4.0</td>\n",
       "    </tr>\n",
       "  </tbody>\n",
       "</table>\n",
       "</div>"
      ],
      "text/plain": [
       "  Restaurant_id  Rating\n",
       "0          id_0     2.0\n",
       "1          id_1     2.5\n",
       "2          id_2     4.0\n",
       "3          id_3     1.0\n",
       "4          id_4     4.0"
      ]
     },
     "execution_count": 10,
     "metadata": {},
     "output_type": "execute_result"
    }
   ],
   "source": [
    "sample_submission.head(5)"
   ]
  },
  {
   "cell_type": "code",
   "execution_count": 11,
   "metadata": {
    "execution": {
     "iopub.execute_input": "2021-07-05T20:16:43.306289Z",
     "iopub.status.busy": "2021-07-05T20:16:43.305957Z",
     "iopub.status.idle": "2021-07-05T20:16:43.315706Z",
     "shell.execute_reply": "2021-07-05T20:16:43.314749Z",
     "shell.execute_reply.started": "2021-07-05T20:16:43.306231Z"
    }
   },
   "outputs": [
    {
     "name": "stdout",
     "output_type": "stream",
     "text": [
      "<class 'pandas.core.frame.DataFrame'>\n",
      "RangeIndex: 10000 entries, 0 to 9999\n",
      "Data columns (total 2 columns):\n",
      "Restaurant_id    10000 non-null object\n",
      "Rating           10000 non-null float64\n",
      "dtypes: float64(1), object(1)\n",
      "memory usage: 156.4+ KB\n"
     ]
    }
   ],
   "source": [
    "sample_submission.info()"
   ]
  },
  {
   "cell_type": "markdown",
   "metadata": {},
   "source": [
    "Sample. 10000 entries with 2 attributes."
   ]
  },
  {
   "cell_type": "code",
   "execution_count": 12,
   "metadata": {
    "execution": {
     "iopub.execute_input": "2021-07-05T20:16:45.690446Z",
     "iopub.status.busy": "2021-07-05T20:16:45.690132Z",
     "iopub.status.idle": "2021-07-05T20:16:45.737393Z",
     "shell.execute_reply": "2021-07-05T20:16:45.735780Z",
     "shell.execute_reply.started": "2021-07-05T20:16:45.690388Z"
    }
   },
   "outputs": [],
   "source": [
    "# ATT! For correct processing it's necessary to gather training and testing datasets.\n",
    "df_train['sample'] = 1  # training data\n",
    "df_test['sample'] = 0  # testing data\n",
    "\n",
    "# in testing data target attribute is missed and have to be prognosed, so we fill it with 0 now.\n",
    "df_test['Rating'] = 0\n",
    "\n",
    "data = df_test.append(df_train, sort=False).reset_index(drop=True)  # gathering"
   ]
  },
  {
   "cell_type": "code",
   "execution_count": 13,
   "metadata": {
    "execution": {
     "iopub.execute_input": "2021-07-05T20:16:46.676051Z",
     "iopub.status.busy": "2021-07-05T20:16:46.675714Z",
     "iopub.status.idle": "2021-07-05T20:16:46.700700Z",
     "shell.execute_reply": "2021-07-05T20:16:46.699641Z",
     "shell.execute_reply.started": "2021-07-05T20:16:46.676004Z"
    }
   },
   "outputs": [
    {
     "name": "stdout",
     "output_type": "stream",
     "text": [
      "<class 'pandas.core.frame.DataFrame'>\n",
      "RangeIndex: 50000 entries, 0 to 49999\n",
      "Data columns (total 11 columns):\n",
      "Restaurant_id        50000 non-null object\n",
      "City                 50000 non-null object\n",
      "Cuisine Style        38410 non-null object\n",
      "Ranking              50000 non-null float64\n",
      "Price Range          32639 non-null object\n",
      "Number of Reviews    46800 non-null float64\n",
      "Reviews              49998 non-null object\n",
      "URL_TA               50000 non-null object\n",
      "ID_TA                50000 non-null object\n",
      "sample               50000 non-null int64\n",
      "Rating               50000 non-null float64\n",
      "dtypes: float64(3), int64(1), object(7)\n",
      "memory usage: 4.2+ MB\n"
     ]
    }
   ],
   "source": [
    "data.info()"
   ]
  },
  {
   "cell_type": "markdown",
   "metadata": {},
   "source": [
    "Attribute description:\n",
    "* City: city \n",
    "* Cuisine Style: cuisine style\n",
    "* Ranking: rank of a restaurant in relation to all other restaurants of the city\n",
    "* Price Range: price range in 3 groups\n",
    "* Number of Reviews: reviews quantity\n",
    "* Reviews: two las reviews and their dates\n",
    "* URL_TA: wep page of a restaurant on 'www.tripadvisor.com' \n",
    "* ID_TA: ID of a restaurant in TripAdvisor\n",
    "* Rating: restaurant rating"
   ]
  },
  {
   "cell_type": "markdown",
   "metadata": {},
   "source": [
    "# Data check and clean\n"
   ]
  },
  {
   "cell_type": "markdown",
   "metadata": {},
   "source": [
    "Duplicates check:"
   ]
  },
  {
   "cell_type": "code",
   "execution_count": 14,
   "metadata": {
    "execution": {
     "iopub.execute_input": "2021-07-05T20:16:51.478571Z",
     "iopub.status.busy": "2021-07-05T20:16:51.478206Z",
     "iopub.status.idle": "2021-07-05T20:16:51.560291Z",
     "shell.execute_reply": "2021-07-05T20:16:51.559460Z",
     "shell.execute_reply.started": "2021-07-05T20:16:51.478539Z"
    }
   },
   "outputs": [
    {
     "data": {
      "text/plain": [
       "False    50000\n",
       "dtype: int64"
      ]
     },
     "execution_count": 14,
     "metadata": {},
     "output_type": "execute_result"
    }
   ],
   "source": [
    "data.duplicated(subset=None, keep='first').value_counts()"
   ]
  },
  {
   "cell_type": "markdown",
   "metadata": {},
   "source": [
    "There is no full duplicates in data but there are misses. Let's count and picture it."
   ]
  },
  {
   "cell_type": "code",
   "execution_count": 15,
   "metadata": {
    "execution": {
     "iopub.execute_input": "2021-07-05T20:16:53.639999Z",
     "iopub.status.busy": "2021-07-05T20:16:53.639619Z",
     "iopub.status.idle": "2021-07-05T20:16:54.819716Z",
     "shell.execute_reply": "2021-07-05T20:16:54.819049Z",
     "shell.execute_reply.started": "2021-07-05T20:16:53.639966Z"
    }
   },
   "outputs": [
    {
     "name": "stdout",
     "output_type": "stream",
     "text": [
      "Найдено пропусков значений: 32153\n"
     ]
    },
    {
     "data": {
      "text/plain": [
       "<matplotlib.axes._subplots.AxesSubplot at 0x7f8e496fd630>"
      ]
     },
     "execution_count": 15,
     "metadata": {},
     "output_type": "execute_result"
    },
    {
     "data": {
      "image/png": "[encoded data removed]",
      "text/plain": [
       "<Figure size 1080x360 with 2 Axes>"
      ]
     },
     "metadata": {
      "needs_background": "light"
     },
     "output_type": "display_data"
    }
   ],
   "source": [
    "print('Misses detected:', data.isnull().sum().sum())\n",
    "\n",
    "plt.subplots(figsize=(15, 5))\n",
    "sns.heatmap(data.isnull())"
   ]
  },
  {
   "cell_type": "code",
   "execution_count": 16,
   "metadata": {
    "execution": {
     "iopub.execute_input": "2021-07-05T20:16:54.970317Z",
     "iopub.status.busy": "2021-07-05T20:16:54.969892Z",
     "iopub.status.idle": "2021-07-05T20:16:54.994526Z",
     "shell.execute_reply": "2021-07-05T20:16:54.993572Z",
     "shell.execute_reply.started": "2021-07-05T20:16:54.970282Z"
    }
   },
   "outputs": [
    {
     "data": {
      "text/plain": [
       "Cuisine Style        11590\n",
       "Price Range          17361\n",
       "Number of Reviews     3200\n",
       "Reviews                  2\n",
       "dtype: int64"
      ]
     },
     "execution_count": 16,
     "metadata": {},
     "output_type": "execute_result"
    }
   ],
   "source": [
    "data_misses = data.isnull().sum()\n",
    "data_misses[data_misses > 0]"
   ]
  },
  {
   "cell_type": "code",
   "execution_count": 17,
   "metadata": {
    "execution": {
     "iopub.execute_input": "2021-07-05T20:16:56.238314Z",
     "iopub.status.busy": "2021-07-05T20:16:56.237884Z",
     "iopub.status.idle": "2021-07-05T20:16:56.287934Z",
     "shell.execute_reply": "2021-07-05T20:16:56.286644Z",
     "shell.execute_reply.started": "2021-07-05T20:16:56.238274Z"
    }
   },
   "outputs": [],
   "source": [
    "# listed attributes with misses:\n",
    "attr_list = ['Cuisine Style', 'Price Range', 'Number of Reviews', 'Reviews']\n",
    "\n",
    "# gathering attributes with misses frame with data\n",
    "attr_misses = misses_in_attr(data, attr_list)\n",
    "data = pd.concat([data, attr_misses], axis=1)"
   ]
  },
  {
   "cell_type": "markdown",
   "metadata": {},
   "source": [
    "Let's describe all attributes."
   ]
  },
  {
   "cell_type": "markdown",
   "metadata": {},
   "source": [
    "# EDA"
   ]
  },
  {
   "cell_type": "markdown",
   "metadata": {},
   "source": [
    "### 'Restaurant_id'\n"
   ]
  },
  {
   "cell_type": "markdown",
   "metadata": {},
   "source": [
    "Restaurant id, should be individual for every single restaurant. Checking for duplicates and misses:"
   ]
  },
  {
   "cell_type": "code",
   "execution_count": 18,
   "metadata": {
    "execution": {
     "iopub.execute_input": "2021-07-05T20:17:02.670539Z",
     "iopub.status.busy": "2021-07-05T20:17:02.670165Z",
     "iopub.status.idle": "2021-07-05T20:17:02.707943Z",
     "shell.execute_reply": "2021-07-05T20:17:02.707200Z",
     "shell.execute_reply.started": "2021-07-05T20:17:02.670457Z"
    }
   },
   "outputs": [
    {
     "data": {
      "text/plain": [
       "9287"
      ]
     },
     "execution_count": 18,
     "metadata": {},
     "output_type": "execute_result"
    }
   ],
   "source": [
    "len(data['Restaurant_id'].value_counts().loc[lambda x: x > 1].index)"
   ]
  },
  {
   "cell_type": "markdown",
   "metadata": {},
   "source": [
    "Duplicates. Exploring closer 10 first listed duplicates:"
   ]
  },
  {
   "cell_type": "code",
   "execution_count": 19,
   "metadata": {
    "execution": {
     "iopub.execute_input": "2021-07-05T20:17:06.275956Z",
     "iopub.status.busy": "2021-07-05T20:17:06.275475Z",
     "iopub.status.idle": "2021-07-05T20:17:06.312593Z",
     "shell.execute_reply": "2021-07-05T20:17:06.311946Z",
     "shell.execute_reply.started": "2021-07-05T20:17:06.275900Z"
    }
   },
   "outputs": [
    {
     "data": {
      "text/plain": [
       "Index(['id_227', 'id_633', 'id_436', 'id_871', 'id_534', 'id_430', 'id_585',\n",
       "       'id_344', 'id_71', 'id_321'],\n",
       "      dtype='object')"
      ]
     },
     "execution_count": 19,
     "metadata": {},
     "output_type": "execute_result"
    }
   ],
   "source": [
    "data['Restaurant_id'].value_counts().loc[lambda x: x > 1].index[:10]"
   ]
  },
  {
   "cell_type": "code",
   "execution_count": 20,
   "metadata": {
    "execution": {
     "iopub.execute_input": "2021-07-05T20:17:08.372073Z",
     "iopub.status.busy": "2021-07-05T20:17:08.371751Z",
     "iopub.status.idle": "2021-07-05T20:17:08.414030Z",
     "shell.execute_reply": "2021-07-05T20:17:08.412275Z",
     "shell.execute_reply.started": "2021-07-05T20:17:08.372028Z"
    }
   },
   "outputs": [
    {
     "data": {
      "text/html": [
       "<div>\n",
       "<style scoped>\n",
       "    .dataframe tbody tr th:only-of-type {\n",
       "        vertical-align: middle;\n",
       "    }\n",
       "\n",
       "    .dataframe tbody tr th {\n",
       "        vertical-align: top;\n",
       "    }\n",
       "\n",
       "    .dataframe thead th {\n",
       "        text-align: right;\n",
       "    }\n",
       "</style>\n",
       "<table border=\"1\" class=\"dataframe\">\n",
       "  <thead>\n",
       "    <tr style=\"text-align: right;\">\n",
       "      <th></th>\n",
       "      <th>Restaurant_id</th>\n",
       "      <th>City</th>\n",
       "      <th>Cuisine Style</th>\n",
       "      <th>Ranking</th>\n",
       "      <th>Price Range</th>\n",
       "      <th>Number of Reviews</th>\n",
       "      <th>Reviews</th>\n",
       "      <th>URL_TA</th>\n",
       "      <th>ID_TA</th>\n",
       "      <th>sample</th>\n",
       "      <th>Rating</th>\n",
       "      <th>Cuisine Style_misses</th>\n",
       "      <th>Price Range_misses</th>\n",
       "      <th>Number of Reviews_misses</th>\n",
       "      <th>Reviews_misses</th>\n",
       "    </tr>\n",
       "  </thead>\n",
       "  <tbody>\n",
       "    <tr>\n",
       "      <th>38923</th>\n",
       "      <td>id_871</td>\n",
       "      <td>Dublin</td>\n",
       "      <td>['American', 'Irish', 'Barbecue']</td>\n",
       "      <td>872.0</td>\n",
       "      <td>$$ - $$$</td>\n",
       "      <td>10.0</td>\n",
       "      <td>[['Good food', 'Our new favourite BBQ joint'],...</td>\n",
       "      <td>/Restaurant_Review-g186605-d12713994-Reviews-S...</td>\n",
       "      <td>d12713994</td>\n",
       "      <td>1</td>\n",
       "      <td>4.5</td>\n",
       "      <td>0</td>\n",
       "      <td>0</td>\n",
       "      <td>0</td>\n",
       "      <td>0</td>\n",
       "    </tr>\n",
       "    <tr>\n",
       "      <th>47161</th>\n",
       "      <td>id_871</td>\n",
       "      <td>Paris</td>\n",
       "      <td>['Lebanese', 'Mediterranean', 'Middle Eastern'...</td>\n",
       "      <td>872.0</td>\n",
       "      <td>$$ - $$$</td>\n",
       "      <td>476.0</td>\n",
       "      <td>[['Great food and lovely atmosphere', 'Beautif...</td>\n",
       "      <td>/Restaurant_Review-g187147-d719561-Reviews-Res...</td>\n",
       "      <td>d719561</td>\n",
       "      <td>1</td>\n",
       "      <td>4.0</td>\n",
       "      <td>0</td>\n",
       "      <td>0</td>\n",
       "      <td>0</td>\n",
       "      <td>0</td>\n",
       "    </tr>\n",
       "  </tbody>\n",
       "</table>\n",
       "</div>"
      ],
      "text/plain": [
       "      Restaurant_id    City  \\\n",
       "38923        id_871  Dublin   \n",
       "47161        id_871   Paris   \n",
       "\n",
       "                                           Cuisine Style  Ranking Price Range  \\\n",
       "38923                  ['American', 'Irish', 'Barbecue']    872.0    $$ - $$$   \n",
       "47161  ['Lebanese', 'Mediterranean', 'Middle Eastern'...    872.0    $$ - $$$   \n",
       "\n",
       "       Number of Reviews                                            Reviews  \\\n",
       "38923               10.0  [['Good food', 'Our new favourite BBQ joint'],...   \n",
       "47161              476.0  [['Great food and lovely atmosphere', 'Beautif...   \n",
       "\n",
       "                                                  URL_TA      ID_TA  sample  \\\n",
       "38923  /Restaurant_Review-g186605-d12713994-Reviews-S...  d12713994       1   \n",
       "47161  /Restaurant_Review-g187147-d719561-Reviews-Res...    d719561       1   \n",
       "\n",
       "       Rating  Cuisine Style_misses  Price Range_misses  \\\n",
       "38923     4.5                     0                   0   \n",
       "47161     4.0                     0                   0   \n",
       "\n",
       "       Number of Reviews_misses  Reviews_misses  \n",
       "38923                         0               0  \n",
       "47161                         0               0  "
      ]
     },
     "execution_count": 20,
     "metadata": {},
     "output_type": "execute_result"
    }
   ],
   "source": [
    "data[data['Restaurant_id'] == 'id_871'].sample(2)"
   ]
  },
  {
   "cell_type": "markdown",
   "metadata": {
    "execution": {
     "iopub.execute_input": "2021-06-01T14:25:26.862007Z",
     "iopub.status.busy": "2021-06-01T14:25:26.861517Z",
     "iopub.status.idle": "2021-06-01T14:25:26.870484Z",
     "shell.execute_reply": "2021-06-01T14:25:26.869277Z",
     "shell.execute_reply.started": "2021-06-01T14:25:26.861947Z"
    }
   },
   "source": [
    "Rows with same Restaurant_id have different City, Cuisine Style and other attributes. May be those show attribution to a restaurant chain or same owner. Let's write it down in a new attribute.  "
   ]
  },
  {
   "cell_type": "code",
   "execution_count": 21,
   "metadata": {
    "execution": {
     "iopub.execute_input": "2021-07-05T20:17:10.381811Z",
     "iopub.status.busy": "2021-07-05T20:17:10.381524Z",
     "iopub.status.idle": "2021-07-05T20:17:15.034944Z",
     "shell.execute_reply": "2021-07-05T20:17:15.033686Z",
     "shell.execute_reply.started": "2021-07-05T20:17:10.381771Z"
    }
   },
   "outputs": [],
   "source": [
    "# filter ids and listing repeating ones\n",
    "data_id = data[data['Restaurant_id'].map(\n",
    "    data['Restaurant_id'].value_counts()) >= 2]\n",
    "repeated_id = data_id['Restaurant_id'].tolist()\n",
    "\n",
    "data['twin_id'] = data['Restaurant_id'].apply(\n",
    "    lambda x: 1 if x in repeated_id else 0)"
   ]
  },
  {
   "cell_type": "code",
   "execution_count": 22,
   "metadata": {
    "execution": {
     "iopub.execute_input": "2021-07-05T20:17:15.036961Z",
     "iopub.status.busy": "2021-07-05T20:17:15.036629Z",
     "iopub.status.idle": "2021-07-05T20:17:15.077894Z",
     "shell.execute_reply": "2021-07-05T20:17:15.076601Z",
     "shell.execute_reply.started": "2021-07-05T20:17:15.036892Z"
    }
   },
   "outputs": [],
   "source": [
    "# deleting letters and signs for model processing\n",
    "data['Restaurant_id'] = data['Restaurant_id'].apply(lambda x: int(x[3:]))"
   ]
  },
  {
   "cell_type": "markdown",
   "metadata": {},
   "source": [
    "### 'City'"
   ]
  },
  {
   "cell_type": "markdown",
   "metadata": {},
   "source": [
    "No misses in City.\n",
    "\n",
    "Let's visualize distribution."
   ]
  },
  {
   "cell_type": "code",
   "execution_count": 23,
   "metadata": {
    "execution": {
     "iopub.execute_input": "2021-07-05T20:17:15.816933Z",
     "iopub.status.busy": "2021-07-05T20:17:15.816675Z",
     "iopub.status.idle": "2021-07-05T20:17:15.839140Z",
     "shell.execute_reply": "2021-07-05T20:17:15.833539Z",
     "shell.execute_reply.started": "2021-07-05T20:17:15.816898Z"
    }
   },
   "outputs": [],
   "source": [
    "# adding attribute of restaurants quantity in a city\n",
    "city_restaurants_num = data['City'].value_counts(\n",
    ").sort_index(ascending=True).to_dict()\n",
    "data['rest_num_city'] = data['City'].map(city_restaurants_num)"
   ]
  },
  {
   "cell_type": "code",
   "execution_count": 24,
   "metadata": {
    "execution": {
     "iopub.execute_input": "2021-07-05T20:17:17.796656Z",
     "iopub.status.busy": "2021-07-05T20:17:17.796246Z",
     "iopub.status.idle": "2021-07-05T20:17:18.587490Z",
     "shell.execute_reply": "2021-07-05T20:17:18.586404Z",
     "shell.execute_reply.started": "2021-07-05T20:17:17.796601Z"
    }
   },
   "outputs": [
    {
     "data": {
      "image/png": "[encoded data removed]",
      "text/plain": [
       "<Figure size 1440x1440 with 1 Axes>"
      ]
     },
     "metadata": {
      "needs_background": "light"
     },
     "output_type": "display_data"
    }
   ],
   "source": [
    "plt.subplots(figsize=(20, 20))\n",
    "plt.xticks(ticks=range(0, 7200, 200))\n",
    "plt.title('Restaurants distribution by cities')\n",
    "sns.countplot(y='City',\n",
    "              data=data,\n",
    "              order=data.City.value_counts().index)\n",
    "plt.xlabel = 'Restaurant quantity'"
   ]
  },
  {
   "cell_type": "markdown",
   "metadata": {},
   "source": [
    "7 outstanding cities are well seen here."
   ]
  },
  {
   "cell_type": "code",
   "execution_count": 25,
   "metadata": {
    "execution": {
     "iopub.execute_input": "2021-07-05T20:17:24.530668Z",
     "iopub.status.busy": "2021-07-05T20:17:24.530371Z",
     "iopub.status.idle": "2021-07-05T20:17:24.544924Z",
     "shell.execute_reply": "2021-07-05T20:17:24.543510Z",
     "shell.execute_reply.started": "2021-07-05T20:17:24.530612Z"
    }
   },
   "outputs": [
    {
     "data": {
      "text/plain": [
       "['London',\n",
       " 'Paris',\n",
       " 'Madrid',\n",
       " 'Barcelona',\n",
       " 'Berlin',\n",
       " 'Milan',\n",
       " 'Rome',\n",
       " 'Prague',\n",
       " 'Lisbon',\n",
       " 'Vienna',\n",
       " 'Amsterdam',\n",
       " 'Brussels',\n",
       " 'Hamburg',\n",
       " 'Munich',\n",
       " 'Lyon',\n",
       " 'Stockholm',\n",
       " 'Budapest',\n",
       " 'Warsaw',\n",
       " 'Dublin',\n",
       " 'Copenhagen',\n",
       " 'Athens',\n",
       " 'Edinburgh',\n",
       " 'Zurich',\n",
       " 'Oporto',\n",
       " 'Geneva',\n",
       " 'Krakow',\n",
       " 'Oslo',\n",
       " 'Helsinki',\n",
       " 'Bratislava',\n",
       " 'Luxembourg',\n",
       " 'Ljubljana']"
      ]
     },
     "execution_count": 25,
     "metadata": {},
     "output_type": "execute_result"
    }
   ],
   "source": [
    "# city names check\n",
    "cities_list = list(data['City'].value_counts().index)\n",
    "cities_list"
   ]
  },
  {
   "cell_type": "markdown",
   "metadata": {},
   "source": [
    "ok, later will be coded with dummy-variables. \n",
    "\n",
    "Let's try to enrich data  with info about population in cities."
   ]
  },
  {
   "cell_type": "code",
   "execution_count": 26,
   "metadata": {
    "execution": {
     "iopub.execute_input": "2021-07-05T20:17:29.632315Z",
     "iopub.status.busy": "2021-07-05T20:17:29.631960Z",
     "iopub.status.idle": "2021-07-05T20:17:29.653919Z",
     "shell.execute_reply": "2021-07-05T20:17:29.653277Z",
     "shell.execute_reply.started": "2021-07-05T20:17:29.632251Z"
    }
   },
   "outputs": [],
   "source": [
    "# Adding population in thousands\n",
    "сity_population = {'London': 10979, 'Paris': 11020, 'Madrid': 6026, 'Barcelona': 4588,\n",
    "                   'Berlin': 6177, 'Milan': 4907, 'Rome': 3900, 'Prague': 1308,\n",
    "                   'Lisbon': 2942, 'Vienna': 2300, 'Amsterdam': 2400, 'Brussels': 1831,\n",
    "                   'Hamburg': 1841, 'Munich': 1471, 'Lyon': 1748, 'Stockholm': 2352,\n",
    "                   'Budapest': 2965, 'Warsaw': 3100, 'Dublin': 1347,\n",
    "                   'Copenhagen': 1308, 'Athens': 3168, 'Edinburgh': 513,\n",
    "                   'Zurich': 1334, 'Oporto': 1313, 'Geneva': 496, 'Krakow': 1200,\n",
    "                   'Oslo': 1558, 'Helsinki': 1299, 'Bratislava': 700,\n",
    "                   'Luxembourg': 626, 'Ljubljana': 508}\n",
    "\n",
    "\n",
    "data['city_population'] = data['City'].map(сity_population)"
   ]
  },
  {
   "cell_type": "code",
   "execution_count": 27,
   "metadata": {
    "execution": {
     "iopub.execute_input": "2021-07-05T20:17:31.206833Z",
     "iopub.status.busy": "2021-07-05T20:17:31.206386Z",
     "iopub.status.idle": "2021-07-05T20:17:31.218412Z",
     "shell.execute_reply": "2021-07-05T20:17:31.217292Z",
     "shell.execute_reply.started": "2021-07-05T20:17:31.206793Z"
    }
   },
   "outputs": [],
   "source": [
    "# adding attribute of restaurants density per thousand\n",
    "data['restaurants_density'] = data['rest_num_city'] / data['city_population']"
   ]
  },
  {
   "cell_type": "code",
   "execution_count": 28,
   "metadata": {
    "execution": {
     "iopub.execute_input": "2021-07-05T20:17:44.102512Z",
     "iopub.status.busy": "2021-07-05T20:17:44.102062Z",
     "iopub.status.idle": "2021-07-05T20:17:44.151221Z",
     "shell.execute_reply": "2021-07-05T20:17:44.150527Z",
     "shell.execute_reply.started": "2021-07-05T20:17:44.102472Z"
    }
   },
   "outputs": [],
   "source": [
    "# adding attribute of top count restaurants cities\n",
    "top_restaurants_count = ['London', 'Paris', 'Milan',\n",
    "                         'Rome', 'Berlin', 'Madrid', 'Barcelona']\n",
    "data['top_restaurants_count'] = data['City'].apply(\n",
    "    lambda x: 1 if x in top_restaurants_count else 0)"
   ]
  },
  {
   "cell_type": "markdown",
   "metadata": {},
   "source": [
    "## 'Cuisine Style'"
   ]
  },
  {
   "cell_type": "markdown",
   "metadata": {},
   "source": [
    "Attribute with misses. Let's count them. "
   ]
  },
  {
   "cell_type": "code",
   "execution_count": 29,
   "metadata": {
    "execution": {
     "iopub.execute_input": "2021-07-05T20:17:50.568162Z",
     "iopub.status.busy": "2021-07-05T20:17:50.567686Z",
     "iopub.status.idle": "2021-07-05T20:17:50.581409Z",
     "shell.execute_reply": "2021-07-05T20:17:50.579650Z",
     "shell.execute_reply.started": "2021-07-05T20:17:50.568122Z"
    }
   },
   "outputs": [
    {
     "data": {
      "text/plain": [
       "11590"
      ]
     },
     "execution_count": 29,
     "metadata": {},
     "output_type": "execute_result"
    }
   ],
   "source": [
    "data['Cuisine Style'].isnull().sum()"
   ]
  },
  {
   "cell_type": "markdown",
   "metadata": {},
   "source": [
    "A lot of misses. Let's find most popular cuisine styles in data and every city."
   ]
  },
  {
   "cell_type": "code",
   "execution_count": 30,
   "metadata": {
    "execution": {
     "iopub.execute_input": "2021-07-05T20:17:53.916683Z",
     "iopub.status.busy": "2021-07-05T20:17:53.916278Z",
     "iopub.status.idle": "2021-07-05T20:17:54.136309Z",
     "shell.execute_reply": "2021-07-05T20:17:54.135111Z",
     "shell.execute_reply.started": "2021-07-05T20:17:53.916547Z"
    }
   },
   "outputs": [
    {
     "data": {
      "text/html": [
       "<div>\n",
       "<style scoped>\n",
       "    .dataframe tbody tr th:only-of-type {\n",
       "        vertical-align: middle;\n",
       "    }\n",
       "\n",
       "    .dataframe tbody tr th {\n",
       "        vertical-align: top;\n",
       "    }\n",
       "\n",
       "    .dataframe thead tr th {\n",
       "        text-align: left;\n",
       "    }\n",
       "\n",
       "    .dataframe thead tr:last-of-type th {\n",
       "        text-align: right;\n",
       "    }\n",
       "</style>\n",
       "<table border=\"1\" class=\"dataframe\">\n",
       "  <thead>\n",
       "    <tr>\n",
       "      <th></th>\n",
       "      <th colspan=\"4\" halign=\"left\">Cuisine Style</th>\n",
       "    </tr>\n",
       "    <tr>\n",
       "      <th></th>\n",
       "      <th>count</th>\n",
       "      <th>unique</th>\n",
       "      <th>top</th>\n",
       "      <th>freq</th>\n",
       "    </tr>\n",
       "    <tr>\n",
       "      <th>City</th>\n",
       "      <th></th>\n",
       "      <th></th>\n",
       "      <th></th>\n",
       "      <th></th>\n",
       "    </tr>\n",
       "  </thead>\n",
       "  <tbody>\n",
       "    <tr>\n",
       "      <th>Amsterdam</th>\n",
       "      <td>1170</td>\n",
       "      <td>717</td>\n",
       "      <td>['Dutch', 'European']</td>\n",
       "      <td>33</td>\n",
       "    </tr>\n",
       "    <tr>\n",
       "      <th>Athens</th>\n",
       "      <td>627</td>\n",
       "      <td>302</td>\n",
       "      <td>['Greek']</td>\n",
       "      <td>92</td>\n",
       "    </tr>\n",
       "    <tr>\n",
       "      <th>Barcelona</th>\n",
       "      <td>2608</td>\n",
       "      <td>1021</td>\n",
       "      <td>['Spanish']</td>\n",
       "      <td>249</td>\n",
       "    </tr>\n",
       "    <tr>\n",
       "      <th>Berlin</th>\n",
       "      <td>1793</td>\n",
       "      <td>784</td>\n",
       "      <td>['Italian']</td>\n",
       "      <td>96</td>\n",
       "    </tr>\n",
       "    <tr>\n",
       "      <th>Bratislava</th>\n",
       "      <td>236</td>\n",
       "      <td>162</td>\n",
       "      <td>['Pub']</td>\n",
       "      <td>15</td>\n",
       "    </tr>\n",
       "    <tr>\n",
       "      <th>Brussels</th>\n",
       "      <td>992</td>\n",
       "      <td>491</td>\n",
       "      <td>['Belgian', 'European']</td>\n",
       "      <td>54</td>\n",
       "    </tr>\n",
       "    <tr>\n",
       "      <th>Budapest</th>\n",
       "      <td>819</td>\n",
       "      <td>509</td>\n",
       "      <td>['European', 'Hungarian']</td>\n",
       "      <td>72</td>\n",
       "    </tr>\n",
       "    <tr>\n",
       "      <th>Copenhagen</th>\n",
       "      <td>616</td>\n",
       "      <td>360</td>\n",
       "      <td>['European', 'Danish']</td>\n",
       "      <td>21</td>\n",
       "    </tr>\n",
       "    <tr>\n",
       "      <th>Dublin</th>\n",
       "      <td>704</td>\n",
       "      <td>440</td>\n",
       "      <td>['Irish', 'Bar', 'Pub']</td>\n",
       "      <td>24</td>\n",
       "    </tr>\n",
       "    <tr>\n",
       "      <th>Edinburgh</th>\n",
       "      <td>649</td>\n",
       "      <td>412</td>\n",
       "      <td>['Cafe']</td>\n",
       "      <td>17</td>\n",
       "    </tr>\n",
       "    <tr>\n",
       "      <th>Geneva</th>\n",
       "      <td>474</td>\n",
       "      <td>261</td>\n",
       "      <td>['French']</td>\n",
       "      <td>23</td>\n",
       "    </tr>\n",
       "    <tr>\n",
       "      <th>Hamburg</th>\n",
       "      <td>666</td>\n",
       "      <td>349</td>\n",
       "      <td>['Italian']</td>\n",
       "      <td>29</td>\n",
       "    </tr>\n",
       "    <tr>\n",
       "      <th>Helsinki</th>\n",
       "      <td>373</td>\n",
       "      <td>235</td>\n",
       "      <td>['European', 'Scandinavian']</td>\n",
       "      <td>11</td>\n",
       "    </tr>\n",
       "    <tr>\n",
       "      <th>Krakow</th>\n",
       "      <td>436</td>\n",
       "      <td>282</td>\n",
       "      <td>['Polish', 'European']</td>\n",
       "      <td>42</td>\n",
       "    </tr>\n",
       "    <tr>\n",
       "      <th>Lisbon</th>\n",
       "      <td>1248</td>\n",
       "      <td>513</td>\n",
       "      <td>['European', 'Portuguese']</td>\n",
       "      <td>269</td>\n",
       "    </tr>\n",
       "    <tr>\n",
       "      <th>Ljubljana</th>\n",
       "      <td>189</td>\n",
       "      <td>146</td>\n",
       "      <td>['European', 'Slovenian']</td>\n",
       "      <td>10</td>\n",
       "    </tr>\n",
       "    <tr>\n",
       "      <th>London</th>\n",
       "      <td>5983</td>\n",
       "      <td>2220</td>\n",
       "      <td>['Bar', 'British', 'Pub']</td>\n",
       "      <td>209</td>\n",
       "    </tr>\n",
       "    <tr>\n",
       "      <th>Luxembourg</th>\n",
       "      <td>222</td>\n",
       "      <td>143</td>\n",
       "      <td>['French']</td>\n",
       "      <td>11</td>\n",
       "    </tr>\n",
       "    <tr>\n",
       "      <th>Lyon</th>\n",
       "      <td>747</td>\n",
       "      <td>255</td>\n",
       "      <td>['French']</td>\n",
       "      <td>192</td>\n",
       "    </tr>\n",
       "    <tr>\n",
       "      <th>Madrid</th>\n",
       "      <td>2634</td>\n",
       "      <td>857</td>\n",
       "      <td>['Spanish']</td>\n",
       "      <td>514</td>\n",
       "    </tr>\n",
       "    <tr>\n",
       "      <th>Milan</th>\n",
       "      <td>1986</td>\n",
       "      <td>700</td>\n",
       "      <td>['Italian']</td>\n",
       "      <td>335</td>\n",
       "    </tr>\n",
       "    <tr>\n",
       "      <th>Munich</th>\n",
       "      <td>816</td>\n",
       "      <td>429</td>\n",
       "      <td>['Italian']</td>\n",
       "      <td>34</td>\n",
       "    </tr>\n",
       "    <tr>\n",
       "      <th>Oporto</th>\n",
       "      <td>492</td>\n",
       "      <td>246</td>\n",
       "      <td>['European', 'Portuguese']</td>\n",
       "      <td>100</td>\n",
       "    </tr>\n",
       "    <tr>\n",
       "      <th>Oslo</th>\n",
       "      <td>388</td>\n",
       "      <td>292</td>\n",
       "      <td>['Pub']</td>\n",
       "      <td>10</td>\n",
       "    </tr>\n",
       "    <tr>\n",
       "      <th>Paris</th>\n",
       "      <td>4800</td>\n",
       "      <td>1153</td>\n",
       "      <td>['French']</td>\n",
       "      <td>674</td>\n",
       "    </tr>\n",
       "    <tr>\n",
       "      <th>Prague</th>\n",
       "      <td>1509</td>\n",
       "      <td>651</td>\n",
       "      <td>['European', 'Czech']</td>\n",
       "      <td>228</td>\n",
       "    </tr>\n",
       "    <tr>\n",
       "      <th>Rome</th>\n",
       "      <td>2270</td>\n",
       "      <td>854</td>\n",
       "      <td>['Italian']</td>\n",
       "      <td>230</td>\n",
       "    </tr>\n",
       "    <tr>\n",
       "      <th>Stockholm</th>\n",
       "      <td>723</td>\n",
       "      <td>390</td>\n",
       "      <td>['European', 'Swedish']</td>\n",
       "      <td>35</td>\n",
       "    </tr>\n",
       "    <tr>\n",
       "      <th>Vienna</th>\n",
       "      <td>1041</td>\n",
       "      <td>573</td>\n",
       "      <td>['Austrian', 'European']</td>\n",
       "      <td>90</td>\n",
       "    </tr>\n",
       "    <tr>\n",
       "      <th>Warsaw</th>\n",
       "      <td>671</td>\n",
       "      <td>381</td>\n",
       "      <td>['Polish', 'European']</td>\n",
       "      <td>52</td>\n",
       "    </tr>\n",
       "    <tr>\n",
       "      <th>Zurich</th>\n",
       "      <td>528</td>\n",
       "      <td>362</td>\n",
       "      <td>['Swiss', 'European']</td>\n",
       "      <td>19</td>\n",
       "    </tr>\n",
       "  </tbody>\n",
       "</table>\n",
       "</div>"
      ],
      "text/plain": [
       "           Cuisine Style                                          \n",
       "                   count unique                           top freq\n",
       "City                                                              \n",
       "Amsterdam           1170    717         ['Dutch', 'European']   33\n",
       "Athens               627    302                     ['Greek']   92\n",
       "Barcelona           2608   1021                   ['Spanish']  249\n",
       "Berlin              1793    784                   ['Italian']   96\n",
       "Bratislava           236    162                       ['Pub']   15\n",
       "Brussels             992    491       ['Belgian', 'European']   54\n",
       "Budapest             819    509     ['European', 'Hungarian']   72\n",
       "Copenhagen           616    360        ['European', 'Danish']   21\n",
       "Dublin               704    440       ['Irish', 'Bar', 'Pub']   24\n",
       "Edinburgh            649    412                      ['Cafe']   17\n",
       "Geneva               474    261                    ['French']   23\n",
       "Hamburg              666    349                   ['Italian']   29\n",
       "Helsinki             373    235  ['European', 'Scandinavian']   11\n",
       "Krakow               436    282        ['Polish', 'European']   42\n",
       "Lisbon              1248    513    ['European', 'Portuguese']  269\n",
       "Ljubljana            189    146     ['European', 'Slovenian']   10\n",
       "London              5983   2220     ['Bar', 'British', 'Pub']  209\n",
       "Luxembourg           222    143                    ['French']   11\n",
       "Lyon                 747    255                    ['French']  192\n",
       "Madrid              2634    857                   ['Spanish']  514\n",
       "Milan               1986    700                   ['Italian']  335\n",
       "Munich               816    429                   ['Italian']   34\n",
       "Oporto               492    246    ['European', 'Portuguese']  100\n",
       "Oslo                 388    292                       ['Pub']   10\n",
       "Paris               4800   1153                    ['French']  674\n",
       "Prague              1509    651         ['European', 'Czech']  228\n",
       "Rome                2270    854                   ['Italian']  230\n",
       "Stockholm            723    390       ['European', 'Swedish']   35\n",
       "Vienna              1041    573      ['Austrian', 'European']   90\n",
       "Warsaw               671    381        ['Polish', 'European']   52\n",
       "Zurich               528    362         ['Swiss', 'European']   19"
      ]
     },
     "execution_count": 30,
     "metadata": {},
     "output_type": "execute_result"
    }
   ],
   "source": [
    "data[['City', 'Cuisine Style']].groupby('City').describe()"
   ]
  },
  {
   "cell_type": "markdown",
   "metadata": {},
   "source": [
    "Listing all cuisine styles. Cuisine Style count will be written to cuisine_styles_num. For restaurants with no style indicated will take as one style."
   ]
  },
  {
   "cell_type": "code",
   "execution_count": 31,
   "metadata": {
    "execution": {
     "iopub.execute_input": "2021-07-05T20:18:01.708255Z",
     "iopub.status.busy": "2021-07-05T20:18:01.707680Z",
     "iopub.status.idle": "2021-07-05T20:18:01.926530Z",
     "shell.execute_reply": "2021-07-05T20:18:01.924992Z",
     "shell.execute_reply.started": "2021-07-05T20:18:01.708137Z"
    }
   },
   "outputs": [],
   "source": [
    "data['Cuisine Style'].fillna('[]', inplace=True)\n",
    "data['Cuisine Style'] = data['Cuisine Style'].apply(\n",
    "    lambda x: str(x).replace('[', '').replace(']', '').replace(\"'\", '').replace(' ', '').replace('\"', ''))\n",
    "data['Cuisine Style'] = data['Cuisine Style'].apply(lambda x: x.split(','))\n",
    "data['cuisine_styles_num'] = data['Cuisine Style'].apply(lambda x: len(x))"
   ]
  },
  {
   "cell_type": "code",
   "execution_count": 32,
   "metadata": {
    "execution": {
     "iopub.execute_input": "2021-07-05T20:18:03.074041Z",
     "iopub.status.busy": "2021-07-05T20:18:03.073707Z",
     "iopub.status.idle": "2021-07-05T20:18:03.291400Z",
     "shell.execute_reply": "2021-07-05T20:18:03.290817Z",
     "shell.execute_reply.started": "2021-07-05T20:18:03.073986Z"
    }
   },
   "outputs": [
    {
     "data": {
      "text/plain": [
       "<matplotlib.axes._subplots.AxesSubplot at 0x7f8e494bb9b0>"
      ]
     },
     "execution_count": 32,
     "metadata": {},
     "output_type": "execute_result"
    },
    {
     "data": {
      "image/png": "[encoded data removed]",
      "text/plain": [
       "<Figure size 432x288 with 1 Axes>"
      ]
     },
     "metadata": {
      "needs_background": "light"
     },
     "output_type": "display_data"
    }
   ],
   "source": [
    "data['cuisine_styles_num'].hist()"
   ]
  },
  {
   "cell_type": "code",
   "execution_count": 33,
   "metadata": {
    "execution": {
     "iopub.execute_input": "2021-07-05T20:18:08.288027Z",
     "iopub.status.busy": "2021-07-05T20:18:08.287747Z",
     "iopub.status.idle": "2021-07-05T20:18:08.301891Z",
     "shell.execute_reply": "2021-07-05T20:18:08.300689Z",
     "shell.execute_reply.started": "2021-07-05T20:18:08.287991Z"
    }
   },
   "outputs": [
    {
     "name": "stdout",
     "output_type": "stream",
     "text": [
      "25-й перцентиль: 1.0 | 75-й перцентиль: 4.0 | IQR: 3.0 |  Границы выбросов: [-3.5, 8.5].\n",
      "Выбросов, согласно IQR: 126 | 0.25%\n"
     ]
    }
   ],
   "source": [
    "IQR_for_column('cuisine_styles_num')"
   ]
  },
  {
   "cell_type": "markdown",
   "metadata": {},
   "source": [
    "25% of values in outliers is too mach, so those possibly represent a group of restaurants with  many cuisine styles as a special feature.\n",
    "\n",
    "Maximum cuisine styles in a restaurant are:"
   ]
  },
  {
   "cell_type": "code",
   "execution_count": 34,
   "metadata": {
    "execution": {
     "iopub.execute_input": "2021-07-05T20:18:11.260079Z",
     "iopub.status.busy": "2021-07-05T20:18:11.259790Z",
     "iopub.status.idle": "2021-07-05T20:18:11.267938Z",
     "shell.execute_reply": "2021-07-05T20:18:11.266313Z",
     "shell.execute_reply.started": "2021-07-05T20:18:11.260039Z"
    }
   },
   "outputs": [
    {
     "data": {
      "text/plain": [
       "21"
      ]
     },
     "execution_count": 34,
     "metadata": {},
     "output_type": "execute_result"
    }
   ],
   "source": [
    "data['cuisine_styles_num'].max()"
   ]
  },
  {
   "cell_type": "markdown",
   "metadata": {},
   "source": [
    "Quite a lot but not out of the possible limits."
   ]
  },
  {
   "cell_type": "markdown",
   "metadata": {},
   "source": [
    "## 'Ranking'"
   ]
  },
  {
   "cell_type": "markdown",
   "metadata": {},
   "source": [
    "Rank position of a restaurant comparing it to all the others in the city. Let's picture it's disrtibution."
   ]
  },
  {
   "cell_type": "code",
   "execution_count": 35,
   "metadata": {
    "execution": {
     "iopub.execute_input": "2021-07-05T20:18:15.803991Z",
     "iopub.status.busy": "2021-07-05T20:18:15.803687Z",
     "iopub.status.idle": "2021-07-05T20:18:16.204998Z",
     "shell.execute_reply": "2021-07-05T20:18:16.203875Z",
     "shell.execute_reply.started": "2021-07-05T20:18:15.803936Z"
    }
   },
   "outputs": [
    {
     "data": {
      "text/plain": [
       "<matplotlib.axes._subplots.AxesSubplot at 0x7f8e4935f978>"
      ]
     },
     "execution_count": 35,
     "metadata": {},
     "output_type": "execute_result"
    },
    {
     "data": {
      "image/png": "[encoded data removed]",
      "text/plain": [
       "<Figure size 1224x504 with 1 Axes>"
      ]
     },
     "metadata": {
      "needs_background": "light"
     },
     "output_type": "display_data"
    }
   ],
   "source": [
    "plt.subplots(figsize=(17, 7))\n",
    "plt.rcParams['figure.figsize'] = (10, 7)\n",
    "data['Ranking'].hist(bins=100)"
   ]
  },
  {
   "cell_type": "markdown",
   "metadata": {},
   "source": [
    "The majority of restaurants don't get the 2500 place in city."
   ]
  },
  {
   "cell_type": "code",
   "execution_count": 36,
   "metadata": {
    "execution": {
     "iopub.execute_input": "2021-07-05T20:18:18.763826Z",
     "iopub.status.busy": "2021-07-05T20:18:18.763518Z",
     "iopub.status.idle": "2021-07-05T20:18:19.128441Z",
     "shell.execute_reply": "2021-07-05T20:18:19.126270Z",
     "shell.execute_reply.started": "2021-07-05T20:18:18.763761Z"
    }
   },
   "outputs": [
    {
     "data": {
      "text/plain": [
       "<matplotlib.axes._subplots.AxesSubplot at 0x7f8e4902ec88>"
      ]
     },
     "execution_count": 36,
     "metadata": {},
     "output_type": "execute_result"
    },
    {
     "data": {
      "image/png": "[encoded data removed]",
      "text/plain": [
       "<Figure size 720x504 with 1 Axes>"
      ]
     },
     "metadata": {
      "needs_background": "light"
     },
     "output_type": "display_data"
    }
   ],
   "source": [
    "data['City'].value_counts(ascending=True).plot(kind='bar')"
   ]
  },
  {
   "cell_type": "markdown",
   "metadata": {},
   "source": [
    "Restaurant's general distribution is quite far from normal, let's look closer for the distribution for top 10 cities."
   ]
  },
  {
   "cell_type": "code",
   "execution_count": 37,
   "metadata": {
    "execution": {
     "iopub.execute_input": "2021-07-05T20:18:23.554467Z",
     "iopub.status.busy": "2021-07-05T20:18:23.554208Z",
     "iopub.status.idle": "2021-07-05T20:18:25.959301Z",
     "shell.execute_reply": "2021-07-05T20:18:25.958232Z",
     "shell.execute_reply.started": "2021-07-05T20:18:23.554436Z"
    }
   },
   "outputs": [
    {
     "data": {
      "image/png": "[encoded data removed]",
      "text/plain": [
       "<Figure size 720x504 with 1 Axes>"
      ]
     },
     "metadata": {
      "needs_background": "light"
     },
     "output_type": "display_data"
    }
   ],
   "source": [
    "for x in (data['City'].value_counts())[0:10].index:\n",
    "    data['Ranking'][data['City'] == x].hist(bins=100)\n",
    "plt.show()"
   ]
  },
  {
   "cell_type": "markdown",
   "metadata": {},
   "source": [
    "Ranking is counted for all the restaurants of a city, so looking for the distribution for the entire datase we loose information about scale for every city. let's make a new attribute: relation of Ranking to maximus Ranking of a city."
   ]
  },
  {
   "cell_type": "code",
   "execution_count": 38,
   "metadata": {
    "execution": {
     "iopub.execute_input": "2021-07-05T20:18:29.948115Z",
     "iopub.status.busy": "2021-07-05T20:18:29.947796Z",
     "iopub.status.idle": "2021-07-05T20:18:29.965354Z",
     "shell.execute_reply": "2021-07-05T20:18:29.963555Z",
     "shell.execute_reply.started": "2021-07-05T20:18:29.948070Z"
    }
   },
   "outputs": [
    {
     "data": {
      "text/plain": [
       "{'Amsterdam': 3254.0,\n",
       " 'Athens': 1787.0,\n",
       " 'Barcelona': 7796.0,\n",
       " 'Berlin': 6372.0,\n",
       " 'Bratislava': 889.0,\n",
       " 'Brussels': 3006.0,\n",
       " 'Budapest': 2440.0,\n",
       " 'Copenhagen': 1964.0,\n",
       " 'Dublin': 1960.0,\n",
       " 'Edinburgh': 1766.0,\n",
       " 'Geneva': 1413.0,\n",
       " 'Hamburg': 2737.0,\n",
       " 'Helsinki': 1141.0,\n",
       " 'Krakow': 1244.0,\n",
       " 'Lisbon': 3717.0,\n",
       " 'Ljubljana': 468.0,\n",
       " 'London': 16444.0,\n",
       " 'Luxembourg': 621.0,\n",
       " 'Lyon': 2666.0,\n",
       " 'Madrid': 8809.0,\n",
       " 'Milan': 6275.0,\n",
       " 'Munich': 2763.0,\n",
       " 'Oporto': 1484.0,\n",
       " 'Oslo': 1137.0,\n",
       " 'Paris': 13986.0,\n",
       " 'Prague': 4188.0,\n",
       " 'Rome': 5948.0,\n",
       " 'Stockholm': 2464.0,\n",
       " 'Vienna': 3444.0,\n",
       " 'Warsaw': 2154.0,\n",
       " 'Zurich': 1601.0}"
      ]
     },
     "execution_count": 38,
     "metadata": {},
     "output_type": "execute_result"
    }
   ],
   "source": [
    "city_top_ranking = data.groupby('City')['Ranking'].max().to_dict()\n",
    "city_top_ranking"
   ]
  },
  {
   "cell_type": "code",
   "execution_count": 39,
   "metadata": {
    "execution": {
     "iopub.execute_input": "2021-07-05T20:18:31.014437Z",
     "iopub.status.busy": "2021-07-05T20:18:31.014154Z",
     "iopub.status.idle": "2021-07-05T20:18:31.025477Z",
     "shell.execute_reply": "2021-07-05T20:18:31.023644Z",
     "shell.execute_reply.started": "2021-07-05T20:18:31.014393Z"
    }
   },
   "outputs": [],
   "source": [
    "# maximal Ranking for every city\n",
    "data['city_top_ranking'] = data['City'].map(city_top_ranking)"
   ]
  },
  {
   "cell_type": "code",
   "execution_count": 40,
   "metadata": {
    "execution": {
     "iopub.execute_input": "2021-07-05T20:18:33.674647Z",
     "iopub.status.busy": "2021-07-05T20:18:33.674211Z",
     "iopub.status.idle": "2021-07-05T20:18:33.680730Z",
     "shell.execute_reply": "2021-07-05T20:18:33.679754Z",
     "shell.execute_reply.started": "2021-07-05T20:18:33.674613Z"
    }
   },
   "outputs": [],
   "source": [
    "# ranking scaled to maximal ranking of a city\n",
    "data['ranking_scaled'] = data['Ranking'] / data['city_top_ranking']"
   ]
  },
  {
   "cell_type": "code",
   "execution_count": 41,
   "metadata": {
    "execution": {
     "iopub.execute_input": "2021-07-05T20:18:35.474949Z",
     "iopub.status.busy": "2021-07-05T20:18:35.474554Z",
     "iopub.status.idle": "2021-07-05T20:18:35.481263Z",
     "shell.execute_reply": "2021-07-05T20:18:35.480282Z",
     "shell.execute_reply.started": "2021-07-05T20:18:35.474913Z"
    }
   },
   "outputs": [],
   "source": [
    "# relative position of restaurant in a city\n",
    "data['relative_ranking'] = data['Ranking'] / data['rest_num_city']"
   ]
  },
  {
   "cell_type": "code",
   "execution_count": 42,
   "metadata": {
    "execution": {
     "iopub.execute_input": "2021-07-05T20:19:03.024515Z",
     "iopub.status.busy": "2021-07-05T20:19:03.024110Z",
     "iopub.status.idle": "2021-07-05T20:19:03.033626Z",
     "shell.execute_reply": "2021-07-05T20:19:03.032067Z",
     "shell.execute_reply.started": "2021-07-05T20:19:03.024402Z"
    }
   },
   "outputs": [],
   "source": [
    "# normalize ranking & number of restaurant\n",
    "data['norm_rest'] = data['rest_num_city']/data['Ranking']"
   ]
  },
  {
   "cell_type": "code",
   "execution_count": 43,
   "metadata": {
    "execution": {
     "iopub.execute_input": "2021-07-05T20:19:07.799842Z",
     "iopub.status.busy": "2021-07-05T20:19:07.799518Z",
     "iopub.status.idle": "2021-07-05T20:19:11.110216Z",
     "shell.execute_reply": "2021-07-05T20:19:11.108979Z",
     "shell.execute_reply.started": "2021-07-05T20:19:07.799793Z"
    }
   },
   "outputs": [
    {
     "data": {
      "image/png": "[encoded data removed]",
      "text/plain": [
       "<Figure size 1152x360 with 1 Axes>"
      ]
     },
     "metadata": {
      "needs_background": "light"
     },
     "output_type": "display_data"
    }
   ],
   "source": [
    "# illustration of distributuion of ranking scaled for top-10 cities of dataset\n",
    "for x in (data['City'].value_counts())[0:10].index:\n",
    "    data['ranking_scaled'][data['City'] == x].hist(bins=150, figsize=(16, 5))"
   ]
  },
  {
   "cell_type": "markdown",
   "metadata": {},
   "source": [
    "Ranking scaled shows it's feature in a same scale for every city."
   ]
  },
  {
   "cell_type": "markdown",
   "metadata": {},
   "source": [
    "## 'Price Range'"
   ]
  },
  {
   "cell_type": "markdown",
   "metadata": {},
   "source": [
    "Exploring price diapazones represented in dataset."
   ]
  },
  {
   "cell_type": "code",
   "execution_count": 44,
   "metadata": {
    "execution": {
     "iopub.execute_input": "2021-07-05T20:19:23.972448Z",
     "iopub.status.busy": "2021-07-05T20:19:23.972159Z",
     "iopub.status.idle": "2021-07-05T20:19:23.986958Z",
     "shell.execute_reply": "2021-07-05T20:19:23.985990Z",
     "shell.execute_reply.started": "2021-07-05T20:19:23.972394Z"
    }
   },
   "outputs": [
    {
     "data": {
      "text/plain": [
       "$$ - $$$    23041\n",
       "NaN         17361\n",
       "$            7816\n",
       "$$$$         1782\n",
       "Name: Price Range, dtype: int64"
      ]
     },
     "execution_count": 44,
     "metadata": {},
     "output_type": "execute_result"
    }
   ],
   "source": [
    "data['Price Range'].value_counts(dropna=False)"
   ]
  },
  {
   "cell_type": "markdown",
   "metadata": {},
   "source": [
    "All the values lay in 3 diapazones without outliers, but 17361 restaurants have no price range attribution. Those misses should be filled. Let's find the most common price range for cities."
   ]
  },
  {
   "cell_type": "code",
   "execution_count": 45,
   "metadata": {
    "execution": {
     "iopub.execute_input": "2021-07-05T20:19:32.061336Z",
     "iopub.status.busy": "2021-07-05T20:19:32.061031Z",
     "iopub.status.idle": "2021-07-05T20:19:32.438012Z",
     "shell.execute_reply": "2021-07-05T20:19:32.436981Z",
     "shell.execute_reply.started": "2021-07-05T20:19:32.061282Z"
    }
   },
   "outputs": [
    {
     "data": {
      "text/html": [
       "<div>\n",
       "<style scoped>\n",
       "    .dataframe tbody tr th:only-of-type {\n",
       "        vertical-align: middle;\n",
       "    }\n",
       "\n",
       "    .dataframe tbody tr th {\n",
       "        vertical-align: top;\n",
       "    }\n",
       "\n",
       "    .dataframe thead tr th {\n",
       "        text-align: left;\n",
       "    }\n",
       "\n",
       "    .dataframe thead tr:last-of-type th {\n",
       "        text-align: right;\n",
       "    }\n",
       "</style>\n",
       "<table border=\"1\" class=\"dataframe\">\n",
       "  <thead>\n",
       "    <tr>\n",
       "      <th></th>\n",
       "      <th colspan=\"4\" halign=\"left\">Price Range</th>\n",
       "    </tr>\n",
       "    <tr>\n",
       "      <th></th>\n",
       "      <th>count</th>\n",
       "      <th>unique</th>\n",
       "      <th>top</th>\n",
       "      <th>freq</th>\n",
       "    </tr>\n",
       "    <tr>\n",
       "      <th>City</th>\n",
       "      <th></th>\n",
       "      <th></th>\n",
       "      <th></th>\n",
       "      <th></th>\n",
       "    </tr>\n",
       "  </thead>\n",
       "  <tbody>\n",
       "    <tr>\n",
       "      <th>Amsterdam</th>\n",
       "      <td>1052</td>\n",
       "      <td>3</td>\n",
       "      <td>$$ - $$$</td>\n",
       "      <td>794</td>\n",
       "    </tr>\n",
       "    <tr>\n",
       "      <th>Athens</th>\n",
       "      <td>532</td>\n",
       "      <td>3</td>\n",
       "      <td>$$ - $$$</td>\n",
       "      <td>328</td>\n",
       "    </tr>\n",
       "    <tr>\n",
       "      <th>Barcelona</th>\n",
       "      <td>2257</td>\n",
       "      <td>3</td>\n",
       "      <td>$$ - $$$</td>\n",
       "      <td>1561</td>\n",
       "    </tr>\n",
       "    <tr>\n",
       "      <th>Berlin</th>\n",
       "      <td>1448</td>\n",
       "      <td>3</td>\n",
       "      <td>$$ - $$$</td>\n",
       "      <td>964</td>\n",
       "    </tr>\n",
       "    <tr>\n",
       "      <th>Bratislava</th>\n",
       "      <td>176</td>\n",
       "      <td>3</td>\n",
       "      <td>$$ - $$$</td>\n",
       "      <td>124</td>\n",
       "    </tr>\n",
       "    <tr>\n",
       "      <th>Brussels</th>\n",
       "      <td>858</td>\n",
       "      <td>3</td>\n",
       "      <td>$$ - $$$</td>\n",
       "      <td>639</td>\n",
       "    </tr>\n",
       "    <tr>\n",
       "      <th>Budapest</th>\n",
       "      <td>699</td>\n",
       "      <td>3</td>\n",
       "      <td>$$ - $$$</td>\n",
       "      <td>446</td>\n",
       "    </tr>\n",
       "    <tr>\n",
       "      <th>Copenhagen</th>\n",
       "      <td>542</td>\n",
       "      <td>3</td>\n",
       "      <td>$$ - $$$</td>\n",
       "      <td>414</td>\n",
       "    </tr>\n",
       "    <tr>\n",
       "      <th>Dublin</th>\n",
       "      <td>634</td>\n",
       "      <td>3</td>\n",
       "      <td>$$ - $$$</td>\n",
       "      <td>466</td>\n",
       "    </tr>\n",
       "    <tr>\n",
       "      <th>Edinburgh</th>\n",
       "      <td>600</td>\n",
       "      <td>3</td>\n",
       "      <td>$$ - $$$</td>\n",
       "      <td>388</td>\n",
       "    </tr>\n",
       "    <tr>\n",
       "      <th>Geneva</th>\n",
       "      <td>402</td>\n",
       "      <td>3</td>\n",
       "      <td>$$ - $$$</td>\n",
       "      <td>318</td>\n",
       "    </tr>\n",
       "    <tr>\n",
       "      <th>Hamburg</th>\n",
       "      <td>525</td>\n",
       "      <td>3</td>\n",
       "      <td>$$ - $$$</td>\n",
       "      <td>388</td>\n",
       "    </tr>\n",
       "    <tr>\n",
       "      <th>Helsinki</th>\n",
       "      <td>317</td>\n",
       "      <td>3</td>\n",
       "      <td>$$ - $$$</td>\n",
       "      <td>237</td>\n",
       "    </tr>\n",
       "    <tr>\n",
       "      <th>Krakow</th>\n",
       "      <td>377</td>\n",
       "      <td>3</td>\n",
       "      <td>$$ - $$$</td>\n",
       "      <td>220</td>\n",
       "    </tr>\n",
       "    <tr>\n",
       "      <th>Lisbon</th>\n",
       "      <td>1085</td>\n",
       "      <td>3</td>\n",
       "      <td>$$ - $$$</td>\n",
       "      <td>704</td>\n",
       "    </tr>\n",
       "    <tr>\n",
       "      <th>Ljubljana</th>\n",
       "      <td>158</td>\n",
       "      <td>3</td>\n",
       "      <td>$$ - $$$</td>\n",
       "      <td>104</td>\n",
       "    </tr>\n",
       "    <tr>\n",
       "      <th>London</th>\n",
       "      <td>5196</td>\n",
       "      <td>3</td>\n",
       "      <td>$$ - $$$</td>\n",
       "      <td>3651</td>\n",
       "    </tr>\n",
       "    <tr>\n",
       "      <th>Luxembourg</th>\n",
       "      <td>189</td>\n",
       "      <td>3</td>\n",
       "      <td>$$ - $$$</td>\n",
       "      <td>163</td>\n",
       "    </tr>\n",
       "    <tr>\n",
       "      <th>Lyon</th>\n",
       "      <td>597</td>\n",
       "      <td>3</td>\n",
       "      <td>$$ - $$$</td>\n",
       "      <td>469</td>\n",
       "    </tr>\n",
       "    <tr>\n",
       "      <th>Madrid</th>\n",
       "      <td>2122</td>\n",
       "      <td>3</td>\n",
       "      <td>$$ - $$$</td>\n",
       "      <td>1560</td>\n",
       "    </tr>\n",
       "    <tr>\n",
       "      <th>Milan</th>\n",
       "      <td>1620</td>\n",
       "      <td>3</td>\n",
       "      <td>$$ - $$$</td>\n",
       "      <td>990</td>\n",
       "    </tr>\n",
       "    <tr>\n",
       "      <th>Munich</th>\n",
       "      <td>726</td>\n",
       "      <td>3</td>\n",
       "      <td>$$ - $$$</td>\n",
       "      <td>554</td>\n",
       "    </tr>\n",
       "    <tr>\n",
       "      <th>Oporto</th>\n",
       "      <td>441</td>\n",
       "      <td>3</td>\n",
       "      <td>$$ - $$$</td>\n",
       "      <td>259</td>\n",
       "    </tr>\n",
       "    <tr>\n",
       "      <th>Oslo</th>\n",
       "      <td>334</td>\n",
       "      <td>3</td>\n",
       "      <td>$$ - $$$</td>\n",
       "      <td>250</td>\n",
       "    </tr>\n",
       "    <tr>\n",
       "      <th>Paris</th>\n",
       "      <td>4121</td>\n",
       "      <td>3</td>\n",
       "      <td>$$ - $$$</td>\n",
       "      <td>3109</td>\n",
       "    </tr>\n",
       "    <tr>\n",
       "      <th>Prague</th>\n",
       "      <td>1117</td>\n",
       "      <td>3</td>\n",
       "      <td>$$ - $$$</td>\n",
       "      <td>743</td>\n",
       "    </tr>\n",
       "    <tr>\n",
       "      <th>Rome</th>\n",
       "      <td>2060</td>\n",
       "      <td>3</td>\n",
       "      <td>$$ - $$$</td>\n",
       "      <td>1317</td>\n",
       "    </tr>\n",
       "    <tr>\n",
       "      <th>Stockholm</th>\n",
       "      <td>554</td>\n",
       "      <td>3</td>\n",
       "      <td>$$ - $$$</td>\n",
       "      <td>458</td>\n",
       "    </tr>\n",
       "    <tr>\n",
       "      <th>Vienna</th>\n",
       "      <td>866</td>\n",
       "      <td>3</td>\n",
       "      <td>$$ - $$$</td>\n",
       "      <td>665</td>\n",
       "    </tr>\n",
       "    <tr>\n",
       "      <th>Warsaw</th>\n",
       "      <td>562</td>\n",
       "      <td>3</td>\n",
       "      <td>$$ - $$$</td>\n",
       "      <td>393</td>\n",
       "    </tr>\n",
       "    <tr>\n",
       "      <th>Zurich</th>\n",
       "      <td>472</td>\n",
       "      <td>3</td>\n",
       "      <td>$$ - $$$</td>\n",
       "      <td>365</td>\n",
       "    </tr>\n",
       "  </tbody>\n",
       "</table>\n",
       "</div>"
      ],
      "text/plain": [
       "           Price Range                       \n",
       "                 count unique       top  freq\n",
       "City                                         \n",
       "Amsterdam         1052      3  $$ - $$$   794\n",
       "Athens             532      3  $$ - $$$   328\n",
       "Barcelona         2257      3  $$ - $$$  1561\n",
       "Berlin            1448      3  $$ - $$$   964\n",
       "Bratislava         176      3  $$ - $$$   124\n",
       "Brussels           858      3  $$ - $$$   639\n",
       "Budapest           699      3  $$ - $$$   446\n",
       "Copenhagen         542      3  $$ - $$$   414\n",
       "Dublin             634      3  $$ - $$$   466\n",
       "Edinburgh          600      3  $$ - $$$   388\n",
       "Geneva             402      3  $$ - $$$   318\n",
       "Hamburg            525      3  $$ - $$$   388\n",
       "Helsinki           317      3  $$ - $$$   237\n",
       "Krakow             377      3  $$ - $$$   220\n",
       "Lisbon            1085      3  $$ - $$$   704\n",
       "Ljubljana          158      3  $$ - $$$   104\n",
       "London            5196      3  $$ - $$$  3651\n",
       "Luxembourg         189      3  $$ - $$$   163\n",
       "Lyon               597      3  $$ - $$$   469\n",
       "Madrid            2122      3  $$ - $$$  1560\n",
       "Milan             1620      3  $$ - $$$   990\n",
       "Munich             726      3  $$ - $$$   554\n",
       "Oporto             441      3  $$ - $$$   259\n",
       "Oslo               334      3  $$ - $$$   250\n",
       "Paris             4121      3  $$ - $$$  3109\n",
       "Prague            1117      3  $$ - $$$   743\n",
       "Rome              2060      3  $$ - $$$  1317\n",
       "Stockholm          554      3  $$ - $$$   458\n",
       "Vienna             866      3  $$ - $$$   665\n",
       "Warsaw             562      3  $$ - $$$   393\n",
       "Zurich             472      3  $$ - $$$   365"
      ]
     },
     "execution_count": 45,
     "metadata": {},
     "output_type": "execute_result"
    }
   ],
   "source": [
    "data[['City', 'Price Range']].groupby('City').describe()"
   ]
  },
  {
   "cell_type": "markdown",
   "metadata": {
    "execution": {
     "iopub.execute_input": "2021-06-28T16:31:24.294631Z",
     "iopub.status.busy": "2021-06-28T16:31:24.294328Z",
     "iopub.status.idle": "2021-06-28T16:31:24.301377Z",
     "shell.execute_reply": "2021-06-28T16:31:24.299942Z",
     "shell.execute_reply.started": "2021-06-28T16:31:24.294576Z"
    }
   },
   "source": [
    "The majority of restaurants have middle price level. Let's code the attribute in numerals so that it could be used for ML, bearing in mind an attribute have ordered levels."
   ]
  },
  {
   "cell_type": "code",
   "execution_count": 46,
   "metadata": {
    "execution": {
     "iopub.execute_input": "2021-07-05T20:19:37.085768Z",
     "iopub.status.busy": "2021-07-05T20:19:37.085330Z",
     "iopub.status.idle": "2021-07-05T20:19:37.115227Z",
     "shell.execute_reply": "2021-07-05T20:19:37.114393Z",
     "shell.execute_reply.started": "2021-07-05T20:19:37.085715Z"
    }
   },
   "outputs": [],
   "source": [
    "data['Price Range'] = data['Price Range'].apply(\n",
    "    lambda x: 1 if x == '$' else 2 if x == '$$ - $$$' else 3 if x == '$$$$' else x)"
   ]
  },
  {
   "cell_type": "markdown",
   "metadata": {},
   "source": [
    "misses to be filled with most common value - 2"
   ]
  },
  {
   "cell_type": "code",
   "execution_count": 47,
   "metadata": {
    "execution": {
     "iopub.execute_input": "2021-07-05T20:56:33.819484Z",
     "iopub.status.busy": "2021-07-05T20:56:33.819179Z",
     "iopub.status.idle": "2021-07-05T20:56:33.828064Z",
     "shell.execute_reply": "2021-07-05T20:56:33.825509Z",
     "shell.execute_reply.started": "2021-07-05T20:56:33.819432Z"
    }
   },
   "outputs": [],
   "source": [
    "data['Price Range'] = data['Price Range'].fillna(2)"
   ]
  },
  {
   "cell_type": "code",
   "execution_count": 48,
   "metadata": {
    "execution": {
     "iopub.execute_input": "2021-07-05T20:56:36.612240Z",
     "iopub.status.busy": "2021-07-05T20:56:36.612003Z",
     "iopub.status.idle": "2021-07-05T20:56:36.620084Z",
     "shell.execute_reply": "2021-07-05T20:56:36.618246Z",
     "shell.execute_reply.started": "2021-07-05T20:56:36.612209Z"
    }
   },
   "outputs": [
    {
     "data": {
      "text/plain": [
       "0"
      ]
     },
     "execution_count": 48,
     "metadata": {},
     "output_type": "execute_result"
    }
   ],
   "source": [
    "data['Price Range'].isnull().sum()"
   ]
  },
  {
   "cell_type": "markdown",
   "metadata": {},
   "source": [
    "## 'Number of Reviews'"
   ]
  },
  {
   "cell_type": "markdown",
   "metadata": {},
   "source": [
    "Let's explore  Number of Reviews."
   ]
  },
  {
   "cell_type": "code",
   "execution_count": 49,
   "metadata": {
    "execution": {
     "iopub.execute_input": "2021-07-05T20:19:43.575782Z",
     "iopub.status.busy": "2021-07-05T20:19:43.575383Z",
     "iopub.status.idle": "2021-07-05T20:19:43.585993Z",
     "shell.execute_reply": "2021-07-05T20:19:43.585074Z",
     "shell.execute_reply.started": "2021-07-05T20:19:43.575733Z"
    }
   },
   "outputs": [
    {
     "data": {
      "text/plain": [
       "NaN       3200\n",
       "2.0       2403\n",
       "3.0       2042\n",
       "4.0       1707\n",
       "5.0       1471\n",
       "          ... \n",
       "5216.0       1\n",
       "1932.0       1\n",
       "1050.0       1\n",
       "1145.0       1\n",
       "1471.0       1\n",
       "Name: Number of Reviews, Length: 1574, dtype: int64"
      ]
     },
     "execution_count": 49,
     "metadata": {},
     "output_type": "execute_result"
    }
   ],
   "source": [
    "data['Number of Reviews'].value_counts(dropna=False)"
   ]
  },
  {
   "cell_type": "markdown",
   "metadata": {},
   "source": [
    "3200 misses have to be filled. Main statistics are: "
   ]
  },
  {
   "cell_type": "markdown",
   "metadata": {},
   "source": [
    "Distribution seems to be very uneven, let's illustrate it."
   ]
  },
  {
   "cell_type": "code",
   "execution_count": 51,
   "metadata": {
    "execution": {
     "iopub.execute_input": "2021-07-05T20:20:29.497705Z",
     "iopub.status.busy": "2021-07-05T20:20:29.497278Z",
     "iopub.status.idle": "2021-07-05T20:20:29.710209Z",
     "shell.execute_reply": "2021-07-05T20:20:29.709620Z",
     "shell.execute_reply.started": "2021-07-05T20:20:29.497652Z"
    }
   },
   "outputs": [
    {
     "data": {
      "text/plain": [
       "<matplotlib.axes._subplots.AxesSubplot at 0x7f8e493e3a90>"
      ]
     },
     "execution_count": 51,
     "metadata": {},
     "output_type": "execute_result"
    },
    {
     "data": {
      "image/png": "[encoded data removed]",
      "text/plain": [
       "<Figure size 1224x504 with 1 Axes>"
      ]
     },
     "metadata": {
      "needs_background": "light"
     },
     "output_type": "display_data"
    }
   ],
   "source": [
    "plt.subplots(figsize=(17, 7))\n",
    "sns.boxplot(data['Number of Reviews'])"
   ]
  },
  {
   "cell_type": "markdown",
   "metadata": {},
   "source": [
    "It's very well seen that a lot of restaurants don't have counted reviews at all, and there some with outliing values.\n",
    "Let's fill the misses with median as it's not so sensetive to outliers."
   ]
  },
  {
   "cell_type": "code",
   "execution_count": 52,
   "metadata": {
    "execution": {
     "iopub.execute_input": "2021-07-05T20:20:33.316004Z",
     "iopub.status.busy": "2021-07-05T20:20:33.315568Z",
     "iopub.status.idle": "2021-07-05T20:20:33.334201Z",
     "shell.execute_reply": "2021-07-05T20:20:33.333639Z",
     "shell.execute_reply.started": "2021-07-05T20:20:33.315955Z"
    }
   },
   "outputs": [],
   "source": [
    "# filling misses with median\n",
    "data.loc[data['Price Range'].isnull(), 'Price Range'] = data.groupby(\n",
    "    'City').transform('median')\n",
    "\n",
    "# Let's try to minimize a right bias by changing values over 5000 to 5000.\n",
    "data['Number of Reviews'] = data['Number of Reviews'].apply(\n",
    "    lambda x: x if x <= 5000 else 5000)"
   ]
  },
  {
   "cell_type": "code",
   "execution_count": 53,
   "metadata": {
    "execution": {
     "iopub.execute_input": "2021-07-05T20:20:36.187103Z",
     "iopub.status.busy": "2021-07-05T20:20:36.186744Z",
     "iopub.status.idle": "2021-07-05T20:20:36.197583Z",
     "shell.execute_reply": "2021-07-05T20:20:36.196112Z",
     "shell.execute_reply.started": "2021-07-05T20:20:36.187037Z"
    }
   },
   "outputs": [],
   "source": [
    "# taking logarithm to normalize distribution\n",
    "data['log_number_of_reviews'] = np.log(data['Number of Reviews'] + 1)"
   ]
  },
  {
   "cell_type": "code",
   "execution_count": 54,
   "metadata": {
    "execution": {
     "iopub.execute_input": "2021-07-05T20:20:37.436976Z",
     "iopub.status.busy": "2021-07-05T20:20:37.436459Z",
     "iopub.status.idle": "2021-07-05T20:20:37.661306Z",
     "shell.execute_reply": "2021-07-05T20:20:37.660548Z",
     "shell.execute_reply.started": "2021-07-05T20:20:37.436936Z"
    }
   },
   "outputs": [
    {
     "data": {
      "text/plain": [
       "<matplotlib.axes._subplots.AxesSubplot at 0x7f8e494c4630>"
      ]
     },
     "execution_count": 54,
     "metadata": {},
     "output_type": "execute_result"
    },
    {
     "data": {
      "image/png": "[encoded data removed]",
      "text/plain": [
       "<Figure size 1152x360 with 1 Axes>"
      ]
     },
     "metadata": {
      "needs_background": "light"
     },
     "output_type": "display_data"
    }
   ],
   "source": [
    "data['log_number_of_reviews'][data['City'] == x].hist(bins=10, figsize=(16, 5))"
   ]
  },
  {
   "cell_type": "code",
   "execution_count": 55,
   "metadata": {
    "execution": {
     "iopub.execute_input": "2021-07-05T20:21:13.816363Z",
     "iopub.status.busy": "2021-07-05T20:21:13.815879Z",
     "iopub.status.idle": "2021-07-05T20:21:13.832887Z",
     "shell.execute_reply": "2021-07-05T20:21:13.831521Z",
     "shell.execute_reply.started": "2021-07-05T20:21:13.816322Z"
    }
   },
   "outputs": [
    {
     "name": "stdout",
     "output_type": "stream",
     "text": [
      "25-й перцентиль: 2.3978952727983707 | 75-й перцентиль: 5.045032839501819 | IQR: 2.6471375667034485 |  Границы выбросов: [-1.572811077256802, 9.015739189556992].\n",
      "Выбросов, согласно IQR: 0 | 0.00%\n"
     ]
    }
   ],
   "source": [
    "IQR_for_column('log_number_of_reviews')"
   ]
  },
  {
   "cell_type": "code",
   "execution_count": 56,
   "metadata": {
    "execution": {
     "iopub.execute_input": "2021-07-05T20:21:16.767194Z",
     "iopub.status.busy": "2021-07-05T20:21:16.766914Z",
     "iopub.status.idle": "2021-07-05T20:21:16.776764Z",
     "shell.execute_reply": "2021-07-05T20:21:16.775404Z",
     "shell.execute_reply.started": "2021-07-05T20:21:16.767147Z"
    }
   },
   "outputs": [],
   "source": [
    "# adding attribute of number of reviews related to city population\n",
    "data['reviews_to_population'] = data['Number of Reviews'] / data[\n",
    "    'city_population']\n",
    "\n",
    "# adding attribute of weighted ranking related to relative reviews number\n",
    "data['weighted_rank_pop'] = data['relative_ranking'] * data[\n",
    "    'reviews_to_population']"
   ]
  },
  {
   "cell_type": "markdown",
   "metadata": {},
   "source": [
    "## 'Reviews'"
   ]
  },
  {
   "cell_type": "markdown",
   "metadata": {},
   "source": [
    "Object-attribute with complicated structure. Let's explore it."
   ]
  },
  {
   "cell_type": "code",
   "execution_count": 57,
   "metadata": {
    "execution": {
     "iopub.execute_input": "2021-07-05T20:21:24.587282Z",
     "iopub.status.busy": "2021-07-05T20:21:24.586989Z",
     "iopub.status.idle": "2021-07-05T20:21:24.651743Z",
     "shell.execute_reply": "2021-07-05T20:21:24.650962Z",
     "shell.execute_reply.started": "2021-07-05T20:21:24.587239Z"
    }
   },
   "outputs": [
    {
     "data": {
      "text/plain": [
       "[[], []]                                                                                                                8112\n",
       "NaN                                                                                                                        2\n",
       "[['The real codido madrileño'], ['03/31/2017']]                                                                            2\n",
       "[['Sat night', 'Can\\'t even explain.. \"A\" place.. A \"100...'], ['10/22/2017', '05/11/2017']]                               2\n",
       "[['Very good all around', 'Our first Madrid restaurant'], ['11/20/2017', '10/11/2017']]                                    2\n",
       "                                                                                                                        ... \n",
       "[['I do not recommend', 'Avoid this place'], ['09/24/2017', '01/12/2017']]                                                 1\n",
       "[['The best view of the Gran Via', 'WOW'], ['01/21/2016', '04/04/2015']]                                                   1\n",
       "[['Quality food at a great price', 'COSY PLACE, NICE FOOD, GOOD PRICES'], ['01/02/2018', '01/01/2018']]                    1\n",
       "[['Fish Perfection!'], ['12/01/2017']]                                                                                     1\n",
       "[['Pretty restaurant and cafeteria', 'Good food but not the friendliest of servi...'], ['01/09/2018', '01/08/2018']]       1\n",
       "Name: Reviews, Length: 41858, dtype: int64"
      ]
     },
     "execution_count": 57,
     "metadata": {},
     "output_type": "execute_result"
    }
   ],
   "source": [
    "data['Reviews'].value_counts(dropna=False)"
   ]
  },
  {
   "cell_type": "code",
   "execution_count": 58,
   "metadata": {
    "execution": {
     "iopub.execute_input": "2021-07-05T20:21:26.166564Z",
     "iopub.status.busy": "2021-07-05T20:21:26.166240Z",
     "iopub.status.idle": "2021-07-05T20:21:26.180843Z",
     "shell.execute_reply": "2021-07-05T20:21:26.179917Z",
     "shell.execute_reply.started": "2021-07-05T20:21:26.166505Z"
    }
   },
   "outputs": [],
   "source": [
    "# filling misses with most common value\n",
    "data['Reviews'].fillna('[[], []]', inplace=True)"
   ]
  },
  {
   "cell_type": "code",
   "execution_count": 59,
   "metadata": {
    "execution": {
     "iopub.execute_input": "2021-07-05T20:21:28.626569Z",
     "iopub.status.busy": "2021-07-05T20:21:28.626257Z",
     "iopub.status.idle": "2021-07-05T20:21:28.901245Z",
     "shell.execute_reply": "2021-07-05T20:21:28.899586Z",
     "shell.execute_reply.started": "2021-07-05T20:21:28.626520Z"
    }
   },
   "outputs": [
    {
     "data": {
      "text/plain": [
       "16826    [10/08/2017, 10/03/2017]\n",
       "9172     [09/21/2016, 04/16/2016]\n",
       "44795    [10/02/2017, 05/04/2017]\n",
       "20002    [12/08/2017, 12/06/2017]\n",
       "27318                          []\n",
       "Name: review_dates, dtype: object"
      ]
     },
     "execution_count": 59,
     "metadata": {},
     "output_type": "execute_result"
    }
   ],
   "source": [
    "# making attribute review_date with list of dates of review\n",
    "data['review_dates'] = data['Reviews'].str.findall('\\d+\\/\\d+\\/\\d+')\n",
    "data['review_dates'].sample(5)"
   ]
  },
  {
   "cell_type": "code",
   "execution_count": 60,
   "metadata": {
    "execution": {
     "iopub.execute_input": "2021-07-05T20:21:30.696662Z",
     "iopub.status.busy": "2021-07-05T20:21:30.696277Z",
     "iopub.status.idle": "2021-07-05T20:21:30.736894Z",
     "shell.execute_reply": "2021-07-05T20:21:30.735242Z",
     "shell.execute_reply.started": "2021-07-05T20:21:30.696628Z"
    }
   },
   "outputs": [
    {
     "data": {
      "text/plain": [
       "2    36202\n",
       "0     8114\n",
       "1     5680\n",
       "3        4\n",
       "Name: dates_count, dtype: int64"
      ]
     },
     "execution_count": 60,
     "metadata": {},
     "output_type": "execute_result"
    }
   ],
   "source": [
    "# check dates in reviews\n",
    "data['dates_count'] = data['review_dates'].apply(lambda x: len(list(x)))\n",
    "data['dates_count'].value_counts()"
   ]
  },
  {
   "cell_type": "code",
   "execution_count": 61,
   "metadata": {
    "execution": {
     "iopub.execute_input": "2021-07-05T20:21:33.736888Z",
     "iopub.status.busy": "2021-07-05T20:21:33.736591Z",
     "iopub.status.idle": "2021-07-05T20:21:33.761545Z",
     "shell.execute_reply": "2021-07-05T20:21:33.759843Z",
     "shell.execute_reply.started": "2021-07-05T20:21:33.736824Z"
    }
   },
   "outputs": [
    {
     "data": {
      "text/plain": [
       "2221     [['We visited 21/10/17', 'Best Kebab in London...\n",
       "3809     [['Good Museum Cafeteria', 'Lunch 30/5/2017'],...\n",
       "19254    [['The desserts arcade !', 'Visit today 3/1/20...\n",
       "33348    [['lunch 29/9/2016', 'Unplanned Great Dinner']...\n",
       "Name: Reviews, dtype: object"
      ]
     },
     "execution_count": 61,
     "metadata": {},
     "output_type": "execute_result"
    }
   ],
   "source": [
    "data[data['dates_count'] == 3]['Reviews']"
   ]
  },
  {
   "cell_type": "code",
   "execution_count": 62,
   "metadata": {
    "execution": {
     "iopub.execute_input": "2021-07-05T20:21:34.596897Z",
     "iopub.status.busy": "2021-07-05T20:21:34.596422Z",
     "iopub.status.idle": "2021-07-05T20:21:34.631938Z",
     "shell.execute_reply": "2021-07-05T20:21:34.630928Z",
     "shell.execute_reply.started": "2021-07-05T20:21:34.596828Z"
    }
   },
   "outputs": [],
   "source": [
    "# deleting dates already writed downn in review text\n",
    "data['review_dates'] = data['review_dates'].apply(\n",
    "    lambda x: x if len(x) <= 2 else x[1:])"
   ]
  },
  {
   "cell_type": "code",
   "execution_count": 63,
   "metadata": {
    "execution": {
     "iopub.execute_input": "2021-07-05T20:21:41.379261Z",
     "iopub.status.busy": "2021-07-05T20:21:41.378774Z",
     "iopub.status.idle": "2021-07-05T20:22:32.260535Z",
     "shell.execute_reply": "2021-07-05T20:22:32.258595Z",
     "shell.execute_reply.started": "2021-07-05T20:21:41.379210Z"
    }
   },
   "outputs": [],
   "source": [
    "# dividing Review_date to First_review and Last_review\n",
    "data['first_review'] = data['review_dates'].apply(\n",
    "    lambda x: pd.to_datetime(x).min())\n",
    "data['last_review'] = data['review_dates'].apply(\n",
    "    lambda x: pd.to_datetime(x).max())\n",
    "\n",
    "# making new attribute Between_reviews with difference in days between first and last review\n",
    "data['between_reviews'] = (data['last_review'] -\n",
    "                           data['first_review']).apply(lambda x: x.days)"
   ]
  },
  {
   "cell_type": "code",
   "execution_count": 64,
   "metadata": {
    "execution": {
     "iopub.execute_input": "2021-07-05T20:22:52.347306Z",
     "iopub.status.busy": "2021-07-05T20:22:52.346988Z",
     "iopub.status.idle": "2021-07-05T20:22:52.581210Z",
     "shell.execute_reply": "2021-07-05T20:22:52.580422Z",
     "shell.execute_reply.started": "2021-07-05T20:22:52.347240Z"
    }
   },
   "outputs": [
    {
     "data": {
      "text/plain": [
       "<matplotlib.axes._subplots.AxesSubplot at 0x7f8e10ad4438>"
      ]
     },
     "execution_count": 64,
     "metadata": {},
     "output_type": "execute_result"
    },
    {
     "data": {
      "image/png": "[encoded data removed]",
      "text/plain": [
       "<Figure size 1224x504 with 1 Axes>"
      ]
     },
     "metadata": {
      "needs_background": "light"
     },
     "output_type": "display_data"
    }
   ],
   "source": [
    "plt.subplots(figsize=(17, 7))\n",
    "sns.boxplot(data['between_reviews'])"
   ]
  },
  {
   "cell_type": "code",
   "execution_count": 65,
   "metadata": {
    "execution": {
     "iopub.execute_input": "2021-07-05T20:24:53.084065Z",
     "iopub.status.busy": "2021-07-05T20:24:53.083764Z",
     "iopub.status.idle": "2021-07-05T20:24:53.090037Z",
     "shell.execute_reply": "2021-07-05T20:24:53.089020Z",
     "shell.execute_reply.started": "2021-07-05T20:24:53.084015Z"
    }
   },
   "outputs": [],
   "source": [
    "# filling misses with rounded median value\n",
    "data['between_reviews'].fillna(\n",
    "    round(data['between_reviews'].median()), inplace=True)"
   ]
  },
  {
   "cell_type": "code",
   "execution_count": 66,
   "metadata": {
    "execution": {
     "iopub.execute_input": "2021-07-05T20:25:16.841286Z",
     "iopub.status.busy": "2021-07-05T20:25:16.840968Z",
     "iopub.status.idle": "2021-07-05T20:25:20.899681Z",
     "shell.execute_reply": "2021-07-05T20:25:20.898423Z",
     "shell.execute_reply.started": "2021-07-05T20:25:16.841216Z"
    }
   },
   "outputs": [],
   "source": [
    "# finding how many days ago was first and last review written\n",
    "today = pd.to_datetime(date.today().strftime(\"%Y-%m-%d\"))\n",
    "data['last_review_days_ago'] = data['last_review'].apply(lambda x: today - x)\n",
    "data['last_review_days_ago'] = data['last_review_days_ago'].apply(\n",
    "    lambda x: x.days)\n",
    "\n",
    "data['first_review_days_ago'] = data['first_review'].apply(lambda x: today - x)\n",
    "data['first_review_days_ago'] = data['first_review_days_ago'].apply(\n",
    "    lambda x: x.days)"
   ]
  },
  {
   "cell_type": "code",
   "execution_count": 67,
   "metadata": {
    "execution": {
     "iopub.execute_input": "2021-07-05T20:25:20.901793Z",
     "iopub.status.busy": "2021-07-05T20:25:20.901360Z",
     "iopub.status.idle": "2021-07-05T20:25:21.109553Z",
     "shell.execute_reply": "2021-07-05T20:25:21.108924Z",
     "shell.execute_reply.started": "2021-07-05T20:25:20.901552Z"
    }
   },
   "outputs": [
    {
     "data": {
      "text/plain": [
       "<matplotlib.axes._subplots.AxesSubplot at 0x7f8e10cc8c50>"
      ]
     },
     "execution_count": 67,
     "metadata": {},
     "output_type": "execute_result"
    },
    {
     "data": {
      "image/png": "[encoded data removed]",
      "text/plain": [
       "<Figure size 1224x504 with 1 Axes>"
      ]
     },
     "metadata": {
      "needs_background": "light"
     },
     "output_type": "display_data"
    }
   ],
   "source": [
    "# illustrating distribution of feature\n",
    "plt.subplots(figsize=(17, 7))\n",
    "sns.boxplot(data['first_review_days_ago'])"
   ]
  },
  {
   "cell_type": "code",
   "execution_count": 68,
   "metadata": {
    "execution": {
     "iopub.execute_input": "2021-07-05T20:28:34.780394Z",
     "iopub.status.busy": "2021-07-05T20:28:34.779929Z",
     "iopub.status.idle": "2021-07-05T20:28:34.797338Z",
     "shell.execute_reply": "2021-07-05T20:28:34.796413Z",
     "shell.execute_reply.started": "2021-07-05T20:28:34.780355Z"
    }
   },
   "outputs": [],
   "source": [
    "# there is an obvious outlier more than 6000 days ago, let's change it to 5000\n",
    "data['first_review_days_ago'] = data['first_review_days_ago'].apply(\n",
    "    lambda x: 5000 if x >= 6000 else x)"
   ]
  },
  {
   "cell_type": "code",
   "execution_count": 69,
   "metadata": {
    "execution": {
     "iopub.execute_input": "2021-07-05T20:29:16.803087Z",
     "iopub.status.busy": "2021-07-05T20:29:16.802651Z",
     "iopub.status.idle": "2021-07-05T20:29:17.013240Z",
     "shell.execute_reply": "2021-07-05T20:29:17.012323Z",
     "shell.execute_reply.started": "2021-07-05T20:29:16.803047Z"
    }
   },
   "outputs": [
    {
     "data": {
      "text/plain": [
       "<matplotlib.axes._subplots.AxesSubplot at 0x7f8e20192080>"
      ]
     },
     "execution_count": 69,
     "metadata": {},
     "output_type": "execute_result"
    },
    {
     "data": {
      "image/png": "[encoded data removed]",
      "text/plain": [
       "<Figure size 1224x504 with 1 Axes>"
      ]
     },
     "metadata": {
      "needs_background": "light"
     },
     "output_type": "display_data"
    }
   ],
   "source": [
    "plt.subplots(figsize=(17, 7))\n",
    "sns.boxplot(data['last_review_days_ago'])"
   ]
  },
  {
   "cell_type": "code",
   "execution_count": 70,
   "metadata": {
    "execution": {
     "iopub.execute_input": "2021-07-05T20:30:27.524747Z",
     "iopub.status.busy": "2021-07-05T20:30:27.524469Z",
     "iopub.status.idle": "2021-07-05T20:30:27.544394Z",
     "shell.execute_reply": "2021-07-05T20:30:27.542278Z",
     "shell.execute_reply.started": "2021-07-05T20:30:27.524709Z"
    }
   },
   "outputs": [],
   "source": [
    "# there is an obvious outlier more than 6000 days ago, let's change it to 5000\n",
    "data['last_review_days_ago'] = data['last_review_days_ago'].apply(\n",
    "    lambda x: 5000 if x >= 6000 else x)"
   ]
  },
  {
   "cell_type": "code",
   "execution_count": 71,
   "metadata": {
    "execution": {
     "iopub.execute_input": "2021-07-05T20:31:25.677568Z",
     "iopub.status.busy": "2021-07-05T20:31:25.677317Z",
     "iopub.status.idle": "2021-07-05T20:31:25.687351Z",
     "shell.execute_reply": "2021-07-05T20:31:25.685359Z",
     "shell.execute_reply.started": "2021-07-05T20:31:25.677536Z"
    }
   },
   "outputs": [],
   "source": [
    "# filling misses with mean value\n",
    "data['last_review_days_ago'].fillna(\n",
    "    round(data['last_review_days_ago'].mean()), inplace=True)\n",
    "data['first_review_days_ago'].fillna(\n",
    "    round(data['first_review_days_ago'].mean()), inplace=True)"
   ]
  },
  {
   "cell_type": "code",
   "execution_count": 72,
   "metadata": {
    "execution": {
     "iopub.execute_input": "2021-07-05T20:31:49.556804Z",
     "iopub.status.busy": "2021-07-05T20:31:49.556506Z",
     "iopub.status.idle": "2021-07-05T20:31:49.580537Z",
     "shell.execute_reply": "2021-07-05T20:31:49.578667Z",
     "shell.execute_reply.started": "2021-07-05T20:31:49.556767Z"
    }
   },
   "outputs": [],
   "source": [
    "# deleting dates as dates aren't valuable for ML\n",
    "data.drop(['first_review', 'last_review'], axis=1, inplace=True)"
   ]
  },
  {
   "cell_type": "code",
   "execution_count": 73,
   "metadata": {
    "execution": {
     "iopub.execute_input": "2021-07-05T20:31:52.385505Z",
     "iopub.status.busy": "2021-07-05T20:31:52.385213Z",
     "iopub.status.idle": "2021-07-05T20:31:52.394339Z",
     "shell.execute_reply": "2021-07-05T20:31:52.392990Z",
     "shell.execute_reply.started": "2021-07-05T20:31:52.385455Z"
    }
   },
   "outputs": [
    {
     "data": {
      "text/plain": [
       "0                                                 [[], []]\n",
       "1        [['Very good reviews!', 'Fine dining in Hakani...\n",
       "2        [['Better than the Links', 'Ivy Black'], ['12/...\n",
       "3        [['Most exquisite', 'Delicious and authentic']...\n",
       "4        [['Always the best in bratislava', 'Very good ...\n",
       "                               ...                        \n",
       "49995    [['The real Italian experience!', 'Wonderful f...\n",
       "49996    [['Parisian atmosphere', 'Bit pricey but inter...\n",
       "49997    [['Good by swedish standards', 'A hidden jewel...\n",
       "49998    [['Underground restaurant', 'Oldest Restaurant...\n",
       "49999    [['Average', 'Nice an informal'], ['01/31/2016...\n",
       "Name: Reviews, Length: 50000, dtype: object"
      ]
     },
     "execution_count": 73,
     "metadata": {},
     "output_type": "execute_result"
    }
   ],
   "source": [
    "data['Reviews']"
   ]
  },
  {
   "cell_type": "code",
   "execution_count": 74,
   "metadata": {
    "execution": {
     "iopub.execute_input": "2021-07-05T20:33:46.325371Z",
     "iopub.status.busy": "2021-07-05T20:33:46.325067Z",
     "iopub.status.idle": "2021-07-05T20:33:48.214759Z",
     "shell.execute_reply": "2021-07-05T20:33:48.213943Z",
     "shell.execute_reply.started": "2021-07-05T20:33:46.325324Z"
    }
   },
   "outputs": [],
   "source": [
    "# extracting text from reviews\n",
    "data['two_reviews'] = data['Reviews'].apply(\n",
    "    lambda x: x.split('],')[0].split(\"',\"))\n",
    "\n",
    "# adding two columns with separate reviews\n",
    "data['review_1'] = data['two_reviews'].apply(lambda x: x[0])\n",
    "data['review_2'] = data['two_reviews'].apply(lambda x: x[-1])\n",
    "data['review_1'] = data['review_1'].apply(\n",
    "    lambda x: x.replace('[', '').replace(\"'\", '').replace('\"', ''))\n",
    "data['review_2'] = data['review_2'].apply(\n",
    "    lambda x: x.replace('[', '').replace(\"'\", '').replace('\"', ''))\n",
    "data.drop('two_reviews', axis=1, inplace=True)\n",
    "\n",
    "# deleting occasional duplicates\n",
    "data['review_2'] = data[['review_2', 'review_1']].apply(\n",
    "    lambda x: '' if x[0] == x[1] else x[0], axis=1)"
   ]
  },
  {
   "cell_type": "code",
   "execution_count": 75,
   "metadata": {
    "execution": {
     "iopub.execute_input": "2021-07-05T20:33:57.647332Z",
     "iopub.status.busy": "2021-07-05T20:33:57.646921Z",
     "iopub.status.idle": "2021-07-05T20:33:57.664087Z",
     "shell.execute_reply": "2021-07-05T20:33:57.662746Z",
     "shell.execute_reply.started": "2021-07-05T20:33:57.647280Z"
    }
   },
   "outputs": [],
   "source": [
    "# deleting Reviews as text have no value for ML\n",
    "data.drop('Reviews', axis=1, inplace=True)"
   ]
  },
  {
   "cell_type": "markdown",
   "metadata": {},
   "source": [
    "## Tonal analisys"
   ]
  },
  {
   "cell_type": "markdown",
   "metadata": {},
   "source": [
    "For tonal analysis TextBlob is used.  The library  analyses text and returns  a value from -1 to 1, meaning tonal hue (-1 for negative, 0 for neutral and 1 for totally positive."
   ]
  },
  {
   "cell_type": "code",
   "execution_count": 76,
   "metadata": {
    "execution": {
     "iopub.execute_input": "2021-07-05T20:34:19.879753Z",
     "iopub.status.busy": "2021-07-05T20:34:19.879386Z",
     "iopub.status.idle": "2021-07-05T20:35:09.487190Z",
     "shell.execute_reply": "2021-07-05T20:35:09.485899Z",
     "shell.execute_reply.started": "2021-07-05T20:34:19.879677Z"
    }
   },
   "outputs": [],
   "source": [
    "data['review_1'] = data['review_1'].apply(lambda x: TextBlob(x).polarity)\n",
    "data['review_2'] = data['review_2'].apply(lambda x: TextBlob(x).polarity)"
   ]
  },
  {
   "cell_type": "markdown",
   "metadata": {},
   "source": [
    "## URL_TA\n"
   ]
  },
  {
   "cell_type": "code",
   "execution_count": 77,
   "metadata": {
    "execution": {
     "iopub.execute_input": "2021-07-05T20:35:31.691421Z",
     "iopub.status.busy": "2021-07-05T20:35:31.691169Z",
     "iopub.status.idle": "2021-07-05T20:35:31.737265Z",
     "shell.execute_reply": "2021-07-05T20:35:31.736253Z",
     "shell.execute_reply.started": "2021-07-05T20:35:31.691389Z"
    }
   },
   "outputs": [
    {
     "data": {
      "text/plain": [
       "37"
      ]
     },
     "execution_count": 77,
     "metadata": {},
     "output_type": "execute_result"
    }
   ],
   "source": [
    "len(data['URL_TA'].value_counts().loc[lambda x: x > 1])"
   ]
  },
  {
   "cell_type": "markdown",
   "metadata": {},
   "source": [
    "There are 37 duplicates in  URL_TA attribute. "
   ]
  },
  {
   "cell_type": "code",
   "execution_count": 78,
   "metadata": {
    "execution": {
     "iopub.execute_input": "2021-07-05T20:35:46.973525Z",
     "iopub.status.busy": "2021-07-05T20:35:46.973004Z",
     "iopub.status.idle": "2021-07-05T20:35:47.103015Z",
     "shell.execute_reply": "2021-07-05T20:35:47.101900Z",
     "shell.execute_reply.started": "2021-07-05T20:35:46.973240Z"
    }
   },
   "outputs": [],
   "source": [
    "# filering URL_TA values represented more then once and listing those.\n",
    "data_URL_TA = data[data['URL_TA'].map(data['URL_TA'].value_counts()) > 1]\n",
    "repeated_URL_TA = data_URL_TA['URL_TA'].tolist()\n",
    "\n",
    "# duplicated URL_TA writed in a new attribute\n",
    "data['twin_URL'] = data['URL_TA'].apply(\n",
    "    lambda x: 1 if x in repeated_URL_TA else 0)"
   ]
  },
  {
   "cell_type": "markdown",
   "metadata": {},
   "source": [
    "### 'ID_TA"
   ]
  },
  {
   "cell_type": "code",
   "execution_count": 79,
   "metadata": {
    "execution": {
     "iopub.execute_input": "2021-07-05T20:35:52.083199Z",
     "iopub.status.busy": "2021-07-05T20:35:52.082899Z",
     "iopub.status.idle": "2021-07-05T20:35:52.134285Z",
     "shell.execute_reply": "2021-07-05T20:35:52.132647Z",
     "shell.execute_reply.started": "2021-07-05T20:35:52.083139Z"
    }
   },
   "outputs": [
    {
     "data": {
      "text/plain": [
       "d987900      2\n",
       "d12488993    2\n",
       "d2477531     2\n",
       "d3685055     2\n",
       "d7809594     2\n",
       "d5618007     2\n",
       "d1028622     2\n",
       "d1315077     2\n",
       "d1568045     2\n",
       "d8753348     2\n",
       "d2010743     2\n",
       "d4600226     2\n",
       "d11921719    2\n",
       "d7337366     2\n",
       "d2669414     2\n",
       "d10440367    2\n",
       "d4914988     2\n",
       "d5617412     2\n",
       "d9802625     2\n",
       "d11999956    2\n",
       "d3647024     2\n",
       "d13002276    2\n",
       "d3748757     2\n",
       "d10047799    2\n",
       "d1235635     2\n",
       "d11674463    2\n",
       "d793170      2\n",
       "d4748208     2\n",
       "d2360290     2\n",
       "d7827387     2\n",
       "d11698990    2\n",
       "d7342803     2\n",
       "d3396817     2\n",
       "d9877640     2\n",
       "d697406      2\n",
       "d10316215    2\n",
       "d3161682     2\n",
       "Name: ID_TA, dtype: int64"
      ]
     },
     "execution_count": 79,
     "metadata": {},
     "output_type": "execute_result"
    }
   ],
   "source": [
    "data['ID_TA'].value_counts().loc[lambda x: x > 1]"
   ]
  },
  {
   "cell_type": "code",
   "execution_count": 80,
   "metadata": {
    "execution": {
     "iopub.execute_input": "2021-07-05T20:35:53.900744Z",
     "iopub.status.busy": "2021-07-05T20:35:53.900489Z",
     "iopub.status.idle": "2021-07-05T20:35:53.967792Z",
     "shell.execute_reply": "2021-07-05T20:35:53.966079Z",
     "shell.execute_reply.started": "2021-07-05T20:35:53.900710Z"
    }
   },
   "outputs": [
    {
     "data": {
      "text/plain": [
       "37"
      ]
     },
     "execution_count": 80,
     "metadata": {},
     "output_type": "execute_result"
    }
   ],
   "source": [
    "# looking for duplicated ID\n",
    "len(data['ID_TA'].value_counts().loc[lambda x: x > 1])"
   ]
  },
  {
   "cell_type": "code",
   "execution_count": 81,
   "metadata": {
    "execution": {
     "iopub.execute_input": "2021-07-05T20:35:55.474523Z",
     "iopub.status.busy": "2021-07-05T20:35:55.474160Z",
     "iopub.status.idle": "2021-07-05T20:35:55.614453Z",
     "shell.execute_reply": "2021-07-05T20:35:55.612982Z",
     "shell.execute_reply.started": "2021-07-05T20:35:55.474454Z"
    }
   },
   "outputs": [],
   "source": [
    "# filering ID_TA values represented more then once and listing those.\n",
    "фильтруем значения  ID_TA, встречающиеся больше 1 раза и создаем список\n",
    "data_ID_TA = data[data['ID_TA'].map(data['ID_TA'].value_counts()) > 1]\n",
    "twins_ID_TA = data_ID_TA['ID_TA'].tolist()\n",
    "\n",
    "# duplicated ID_TA writed in a new attribute\n",
    "data['twin_ID_TA'] = data['ID_TA'].apply(\n",
    "    lambda x: 1 if x in twins_ID_TA else 0)"
   ]
  },
  {
   "cell_type": "code",
   "execution_count": 82,
   "metadata": {
    "execution": {
     "iopub.execute_input": "2021-07-05T20:35:57.361343Z",
     "iopub.status.busy": "2021-07-05T20:35:57.360986Z",
     "iopub.status.idle": "2021-07-05T20:35:57.407977Z",
     "shell.execute_reply": "2021-07-05T20:35:57.406752Z",
     "shell.execute_reply.started": "2021-07-05T20:35:57.361280Z"
    }
   },
   "outputs": [
    {
     "data": {
      "text/plain": [
       "8    33906\n",
       "9    12050\n",
       "7     4044\n",
       "Name: ID_TA, dtype: int64"
      ]
     },
     "execution_count": 82,
     "metadata": {},
     "output_type": "execute_result"
    }
   ],
   "source": [
    "# checking ID_TA length\n",
    "ID_TA_len = data['ID_TA'].apply(lambda x: len(x))\n",
    "ID_TA_len.value_counts()"
   ]
  },
  {
   "cell_type": "markdown",
   "metadata": {},
   "source": [
    "3 obvious groups are formed here. Let's check correlation with target attribute and write new attribute saving values ordering."
   ]
  },
  {
   "cell_type": "code",
   "execution_count": 83,
   "metadata": {
    "execution": {
     "iopub.execute_input": "2021-07-05T20:36:04.192459Z",
     "iopub.status.busy": "2021-07-05T20:36:04.192237Z",
     "iopub.status.idle": "2021-07-05T20:36:04.215940Z",
     "shell.execute_reply": "2021-07-05T20:36:04.214382Z",
     "shell.execute_reply.started": "2021-07-05T20:36:04.192429Z"
    }
   },
   "outputs": [],
   "source": [
    "data['ID_TA_len'] = data['ID_TA'].apply(lambda x: len(x))"
   ]
  },
  {
   "cell_type": "code",
   "execution_count": 84,
   "metadata": {
    "execution": {
     "iopub.execute_input": "2021-07-05T20:36:11.895615Z",
     "iopub.status.busy": "2021-07-05T20:36:11.895277Z",
     "iopub.status.idle": "2021-07-05T20:36:12.150464Z",
     "shell.execute_reply": "2021-07-05T20:36:12.149082Z",
     "shell.execute_reply.started": "2021-07-05T20:36:11.895507Z"
    }
   },
   "outputs": [
    {
     "data": {
      "text/plain": [
       "<matplotlib.axes._subplots.AxesSubplot at 0x7f8e081a8d30>"
      ]
     },
     "execution_count": 84,
     "metadata": {},
     "output_type": "execute_result"
    },
    {
     "data": {
      "image/png": "[encoded data removed]",
      "text/plain": [
       "<Figure size 576x288 with 1 Axes>"
      ]
     },
     "metadata": {
      "needs_background": "light"
     },
     "output_type": "display_data"
    }
   ],
   "source": [
    "plt.subplots(figsize=(8, 4))\n",
    "sns.boxplot(x='ID_TA_len', y='Rating', data=data)"
   ]
  },
  {
   "cell_type": "code",
   "execution_count": 85,
   "metadata": {
    "execution": {
     "iopub.execute_input": "2021-07-05T20:36:16.459985Z",
     "iopub.status.busy": "2021-07-05T20:36:16.459611Z",
     "iopub.status.idle": "2021-07-05T20:36:16.501318Z",
     "shell.execute_reply": "2021-07-05T20:36:16.499370Z",
     "shell.execute_reply.started": "2021-07-05T20:36:16.459952Z"
    }
   },
   "outputs": [],
   "source": [
    "# deliting literals and saving as a numeral feature\n",
    "data['ID_TA'] = data['ID_TA'].apply(lambda x: int(x[1:]))"
   ]
  },
  {
   "cell_type": "markdown",
   "metadata": {},
   "source": [
    "# Feature engineering\n"
   ]
  },
  {
   "cell_type": "code",
   "execution_count": 86,
   "metadata": {
    "execution": {
     "iopub.execute_input": "2021-07-05T20:36:26.301115Z",
     "iopub.status.busy": "2021-07-05T20:36:26.300476Z",
     "iopub.status.idle": "2021-07-05T20:36:26.309641Z",
     "shell.execute_reply": "2021-07-05T20:36:26.308289Z",
     "shell.execute_reply.started": "2021-07-05T20:36:26.300709Z"
    }
   },
   "outputs": [
    {
     "data": {
      "text/plain": [
       "Index(['Restaurant_id', 'City', 'Cuisine Style', 'Ranking', 'Price Range',\n",
       "       'Number of Reviews', 'URL_TA', 'ID_TA', 'sample', 'Rating',\n",
       "       'Cuisine Style_misses', 'Price Range_misses',\n",
       "       'Number of Reviews_misses', 'Reviews_misses', 'twin_id',\n",
       "       'rest_num_city', 'city_population', 'restaurants_density',\n",
       "       'top_restaurants_count', 'cuisine_styles_num', 'city_top_ranking',\n",
       "       'ranking_scaled', 'relative_ranking', 'norm_rest',\n",
       "       'log_number_of_reviews', 'reviews_to_population', 'weighted_rank_pop',\n",
       "       'review_dates', 'dates_count', 'between_reviews',\n",
       "       'last_review_days_ago', 'first_review_days_ago', 'review_1', 'review_2',\n",
       "       'twin_URL', 'twin_ID_TA', 'ID_TA_len'],\n",
       "      dtype='object')"
      ]
     },
     "execution_count": 86,
     "metadata": {},
     "output_type": "execute_result"
    }
   ],
   "source": [
    "data.columns"
   ]
  },
  {
   "cell_type": "code",
   "execution_count": 87,
   "metadata": {
    "execution": {
     "iopub.execute_input": "2021-07-05T20:42:20.503424Z",
     "iopub.status.busy": "2021-07-05T20:42:20.503103Z",
     "iopub.status.idle": "2021-07-05T20:42:20.548661Z",
     "shell.execute_reply": "2021-07-05T20:42:20.547167Z",
     "shell.execute_reply.started": "2021-07-05T20:42:20.503386Z"
    }
   },
   "outputs": [],
   "source": [
    "# for better training of a model let's normalize distributions\n",
    "\n",
    "data['Ranking'] = get_min_max_normalization(data, 'Ranking')\n",
    "data['Number of Reviews'] = get_min_max_normalization(\n",
    "    data, 'Number of Reviews')\n",
    "data['last_review_days_ago'] = get_min_max_normalization(\n",
    "    data, 'last_review_days_ago')\n",
    "data['between_reviews'] = get_min_max_normalization(data, 'between_reviews')\n",
    "data['cuisine_styles_num'] = get_min_max_normalization(\n",
    "    data, 'cuisine_styles_num')\n",
    "data['city_population'] = get_min_max_normalization(data, 'city_population')\n",
    "data['rest_num_city'] = get_min_max_normalization(data, 'rest_num_city')\n",
    "data['between_reviews'] = get_min_max_normalization(data, 'between_reviews')\n",
    "data['last_review_days_ago'] = get_min_max_normalization(\n",
    "    data, 'last_review_days_ago')\n",
    "data['first_review_days_ago'] = get_min_max_normalization(\n",
    "    data, 'first_review_days_ago')"
   ]
  },
  {
   "cell_type": "markdown",
   "metadata": {},
   "source": [
    "Let's enrich info about cities."
   ]
  },
  {
   "cell_type": "code",
   "execution_count": 88,
   "metadata": {
    "execution": {
     "iopub.execute_input": "2021-07-05T20:43:01.031199Z",
     "iopub.status.busy": "2021-07-05T20:43:01.030906Z",
     "iopub.status.idle": "2021-07-05T20:43:01.070663Z",
     "shell.execute_reply": "2021-07-05T20:43:01.069427Z",
     "shell.execute_reply.started": "2021-07-05T20:43:01.031151Z"
    }
   },
   "outputs": [],
   "source": [
    "# Adding attribute of Capital\n",
    "capital = ['Amsterdam', 'Athens', 'Berlin', 'Bratislava', 'Brussels', 'Budapest', 'Copenhagen', 'Dublin', 'Edinburgh', 'Helsinki',\n",
    "           'Lisbon', 'Ljubljana', 'London', 'Luxembourg', 'Madrid', 'Oslo', 'Paris', 'Prague', 'Rome', 'Stockholm', 'Vienna', 'Warsaw']\n",
    "data['capital'] = data['City'].apply(lambda x: 1 if x in (capital) else 0)"
   ]
  },
  {
   "cell_type": "code",
   "execution_count": 89,
   "metadata": {
    "execution": {
     "iopub.execute_input": "2021-07-05T20:43:04.189713Z",
     "iopub.status.busy": "2021-07-05T20:43:04.189310Z",
     "iopub.status.idle": "2021-07-05T20:43:04.230007Z",
     "shell.execute_reply": "2021-07-05T20:43:04.228146Z",
     "shell.execute_reply.started": "2021-07-05T20:43:04.189666Z"
    }
   },
   "outputs": [],
   "source": [
    "# adding dummy - variable for cities\n",
    "data = pd.get_dummies(data, columns=['City'], dummy_na=False)"
   ]
  },
  {
   "cell_type": "code",
   "execution_count": 90,
   "metadata": {
    "execution": {
     "iopub.execute_input": "2021-07-05T20:43:42.995837Z",
     "iopub.status.busy": "2021-07-05T20:43:42.995536Z",
     "iopub.status.idle": "2021-07-05T20:43:43.022692Z",
     "shell.execute_reply": "2021-07-05T20:43:43.021678Z",
     "shell.execute_reply.started": "2021-07-05T20:43:42.995791Z"
    }
   },
   "outputs": [
    {
     "data": {
      "text/plain": [
       "array([[1.00000000e+00, 7.88298972e-01, 4.00160064e-04, 6.21415270e-01,\n",
       "        3.15445767e-04, 1.60128077e-07],\n",
       "       [1.00000000e+00, 6.38569604e-03, 1.90076030e-02, 4.07771139e-05,\n",
       "        1.21376775e-04, 3.61288973e-04],\n",
       "       [1.00000000e+00, 4.92002676e-02, 5.20208083e-03, 2.42066633e-03,\n",
       "        2.55943769e-04, 2.70616450e-05],\n",
       "       ...,\n",
       "       [1.00000000e+00, 1.00407468e-01, 4.00160064e-04, 1.00816597e-02,\n",
       "        4.01790589e-05, 1.60128077e-07],\n",
       "       [1.00000000e+00, 3.89223378e-02, 1.36054422e-02, 1.51494838e-03,\n",
       "        5.29555616e-04, 1.85108057e-04],\n",
       "       [1.00000000e+00, 2.93498753e-01, 5.16206483e-02, 8.61415182e-02,\n",
       "        1.51505959e-02, 2.66469133e-03]])"
      ]
     },
     "execution_count": 90,
     "metadata": {},
     "output_type": "execute_result"
    }
   ],
   "source": [
    "# trying polynomial features\n",
    "pf = PolynomialFeatures(2)\n",
    "poly_features = pf.fit_transform(data[['Ranking', 'Number of Reviews', ]])\n",
    "poly_features"
   ]
  },
  {
   "cell_type": "code",
   "execution_count": 91,
   "metadata": {
    "execution": {
     "iopub.execute_input": "2021-07-05T20:43:45.369363Z",
     "iopub.status.busy": "2021-07-05T20:43:45.369092Z",
     "iopub.status.idle": "2021-07-05T20:43:45.385477Z",
     "shell.execute_reply": "2021-07-05T20:43:45.384506Z",
     "shell.execute_reply.started": "2021-07-05T20:43:45.369318Z"
    }
   },
   "outputs": [
    {
     "data": {
      "text/html": [
       "<div>\n",
       "<style scoped>\n",
       "    .dataframe tbody tr th:only-of-type {\n",
       "        vertical-align: middle;\n",
       "    }\n",
       "\n",
       "    .dataframe tbody tr th {\n",
       "        vertical-align: top;\n",
       "    }\n",
       "\n",
       "    .dataframe thead th {\n",
       "        text-align: right;\n",
       "    }\n",
       "</style>\n",
       "<table border=\"1\" class=\"dataframe\">\n",
       "  <thead>\n",
       "    <tr style=\"text-align: right;\">\n",
       "      <th></th>\n",
       "      <th>poly1</th>\n",
       "      <th>poly2</th>\n",
       "      <th>poly3</th>\n",
       "      <th>poly4</th>\n",
       "      <th>poly5</th>\n",
       "      <th>poly6</th>\n",
       "    </tr>\n",
       "  </thead>\n",
       "  <tbody>\n",
       "    <tr>\n",
       "      <th>0</th>\n",
       "      <td>1.0</td>\n",
       "      <td>0.788299</td>\n",
       "      <td>0.000400</td>\n",
       "      <td>0.621415</td>\n",
       "      <td>0.000315</td>\n",
       "      <td>1.601281e-07</td>\n",
       "    </tr>\n",
       "    <tr>\n",
       "      <th>1</th>\n",
       "      <td>1.0</td>\n",
       "      <td>0.006386</td>\n",
       "      <td>0.019008</td>\n",
       "      <td>0.000041</td>\n",
       "      <td>0.000121</td>\n",
       "      <td>3.612890e-04</td>\n",
       "    </tr>\n",
       "    <tr>\n",
       "      <th>2</th>\n",
       "      <td>1.0</td>\n",
       "      <td>0.049200</td>\n",
       "      <td>0.005202</td>\n",
       "      <td>0.002421</td>\n",
       "      <td>0.000256</td>\n",
       "      <td>2.706164e-05</td>\n",
       "    </tr>\n",
       "    <tr>\n",
       "      <th>3</th>\n",
       "      <td>1.0</td>\n",
       "      <td>0.101441</td>\n",
       "      <td>0.040016</td>\n",
       "      <td>0.010290</td>\n",
       "      <td>0.004059</td>\n",
       "      <td>1.601281e-03</td>\n",
       "    </tr>\n",
       "    <tr>\n",
       "      <th>4</th>\n",
       "      <td>1.0</td>\n",
       "      <td>0.002189</td>\n",
       "      <td>0.032013</td>\n",
       "      <td>0.000005</td>\n",
       "      <td>0.000070</td>\n",
       "      <td>1.024820e-03</td>\n",
       "    </tr>\n",
       "    <tr>\n",
       "      <th>...</th>\n",
       "      <td>...</td>\n",
       "      <td>...</td>\n",
       "      <td>...</td>\n",
       "      <td>...</td>\n",
       "      <td>...</td>\n",
       "      <td>...</td>\n",
       "    </tr>\n",
       "    <tr>\n",
       "      <th>49995</th>\n",
       "      <td>1.0</td>\n",
       "      <td>0.030347</td>\n",
       "      <td>0.015406</td>\n",
       "      <td>0.000921</td>\n",
       "      <td>0.000468</td>\n",
       "      <td>2.373498e-04</td>\n",
       "    </tr>\n",
       "    <tr>\n",
       "      <th>49996</th>\n",
       "      <td>1.0</td>\n",
       "      <td>0.385574</td>\n",
       "      <td>0.108043</td>\n",
       "      <td>0.148668</td>\n",
       "      <td>0.041659</td>\n",
       "      <td>1.167334e-02</td>\n",
       "    </tr>\n",
       "    <tr>\n",
       "      <th>49997</th>\n",
       "      <td>1.0</td>\n",
       "      <td>0.100407</td>\n",
       "      <td>0.000400</td>\n",
       "      <td>0.010082</td>\n",
       "      <td>0.000040</td>\n",
       "      <td>1.601281e-07</td>\n",
       "    </tr>\n",
       "    <tr>\n",
       "      <th>49998</th>\n",
       "      <td>1.0</td>\n",
       "      <td>0.038922</td>\n",
       "      <td>0.013605</td>\n",
       "      <td>0.001515</td>\n",
       "      <td>0.000530</td>\n",
       "      <td>1.851081e-04</td>\n",
       "    </tr>\n",
       "    <tr>\n",
       "      <th>49999</th>\n",
       "      <td>1.0</td>\n",
       "      <td>0.293499</td>\n",
       "      <td>0.051621</td>\n",
       "      <td>0.086142</td>\n",
       "      <td>0.015151</td>\n",
       "      <td>2.664691e-03</td>\n",
       "    </tr>\n",
       "  </tbody>\n",
       "</table>\n",
       "<p>50000 rows × 6 columns</p>\n",
       "</div>"
      ],
      "text/plain": [
       "       poly1     poly2     poly3     poly4     poly5         poly6\n",
       "0        1.0  0.788299  0.000400  0.621415  0.000315  1.601281e-07\n",
       "1        1.0  0.006386  0.019008  0.000041  0.000121  3.612890e-04\n",
       "2        1.0  0.049200  0.005202  0.002421  0.000256  2.706164e-05\n",
       "3        1.0  0.101441  0.040016  0.010290  0.004059  1.601281e-03\n",
       "4        1.0  0.002189  0.032013  0.000005  0.000070  1.024820e-03\n",
       "...      ...       ...       ...       ...       ...           ...\n",
       "49995    1.0  0.030347  0.015406  0.000921  0.000468  2.373498e-04\n",
       "49996    1.0  0.385574  0.108043  0.148668  0.041659  1.167334e-02\n",
       "49997    1.0  0.100407  0.000400  0.010082  0.000040  1.601281e-07\n",
       "49998    1.0  0.038922  0.013605  0.001515  0.000530  1.851081e-04\n",
       "49999    1.0  0.293499  0.051621  0.086142  0.015151  2.664691e-03\n",
       "\n",
       "[50000 rows x 6 columns]"
      ]
     },
     "metadata": {},
     "output_type": "display_data"
    }
   ],
   "source": [
    "df = pd.DataFrame(poly_features,\n",
    "                  columns=['poly1', 'poly2', 'poly3', 'poly4', 'poly5', 'poly6'])\n",
    "display(df)"
   ]
  },
  {
   "cell_type": "code",
   "execution_count": 92,
   "metadata": {
    "execution": {
     "iopub.execute_input": "2021-07-05T20:43:46.689463Z",
     "iopub.status.busy": "2021-07-05T20:43:46.689042Z",
     "iopub.status.idle": "2021-07-05T20:43:46.700164Z",
     "shell.execute_reply": "2021-07-05T20:43:46.698243Z",
     "shell.execute_reply.started": "2021-07-05T20:43:46.689411Z"
    }
   },
   "outputs": [],
   "source": [
    "# adding polynomials to dataset\n",
    "data['poly1'] = df['poly1']\n",
    "data['poly2'] = df['poly2']\n",
    "data['poly3'] = df['poly3']\n",
    "data['poly4'] = df['poly4']\n",
    "data['poly5'] = df['poly5']\n",
    "data['poly6'] = df['poly6']"
   ]
  },
  {
   "cell_type": "code",
   "execution_count": 93,
   "metadata": {
    "execution": {
     "iopub.execute_input": "2021-07-05T20:57:03.893723Z",
     "iopub.status.busy": "2021-07-05T20:57:03.893382Z",
     "iopub.status.idle": "2021-07-05T20:57:05.913772Z",
     "shell.execute_reply": "2021-07-05T20:57:05.913268Z",
     "shell.execute_reply.started": "2021-07-05T20:57:03.893629Z"
    }
   },
   "outputs": [
    {
     "data": {
      "text/plain": [
       "<matplotlib.axes._subplots.AxesSubplot at 0x7f8e088b48d0>"
      ]
     },
     "execution_count": 93,
     "metadata": {},
     "output_type": "execute_result"
    },
    {
     "data": {
      "image/png": "[encoded data removed]",
      "text/plain": [
       "<Figure size 1800x1080 with 2 Axes>"
      ]
     },
     "metadata": {
      "needs_background": "light"
     },
     "output_type": "display_data"
    }
   ],
   "source": [
    "# illustrating linear correlation between attributes\n",
    "plt.rcParams['figure.figsize'] = (25, 15)\n",
    "sns.heatmap(data.drop(['sample'], axis=1).corr(),)"
   ]
  },
  {
   "cell_type": "code",
   "execution_count": 94,
   "metadata": {
    "execution": {
     "iopub.execute_input": "2021-07-05T20:57:30.914871Z",
     "iopub.status.busy": "2021-07-05T20:57:30.914467Z",
     "iopub.status.idle": "2021-07-05T20:57:30.934691Z",
     "shell.execute_reply": "2021-07-05T20:57:30.933211Z",
     "shell.execute_reply.started": "2021-07-05T20:57:30.914817Z"
    }
   },
   "outputs": [
    {
     "name": "stdout",
     "output_type": "stream",
     "text": [
      "<class 'pandas.core.frame.DataFrame'>\n",
      "RangeIndex: 50000 entries, 0 to 49999\n",
      "Data columns (total 74 columns):\n",
      "Restaurant_id               50000 non-null int64\n",
      "Cuisine Style               50000 non-null object\n",
      "Ranking                     50000 non-null float64\n",
      "Price Range                 50000 non-null float64\n",
      "Number of Reviews           50000 non-null float64\n",
      "URL_TA                      50000 non-null object\n",
      "ID_TA                       50000 non-null int64\n",
      "sample                      50000 non-null int64\n",
      "Rating                      50000 non-null float64\n",
      "Cuisine Style_misses        50000 non-null uint8\n",
      "Price Range_misses          50000 non-null uint8\n",
      "Number of Reviews_misses    50000 non-null uint8\n",
      "Reviews_misses              50000 non-null uint8\n",
      "twin_id                     50000 non-null int64\n",
      "rest_num_city               50000 non-null float64\n",
      "city_population             50000 non-null float64\n",
      "restaurants_density         50000 non-null float64\n",
      "top_restaurants_count       50000 non-null int64\n",
      "cuisine_styles_num          50000 non-null float64\n",
      "city_top_ranking            50000 non-null float64\n",
      "ranking_scaled              50000 non-null float64\n",
      "relative_ranking            50000 non-null float64\n",
      "norm_rest                   50000 non-null float64\n",
      "log_number_of_reviews       50000 non-null float64\n",
      "reviews_to_population       50000 non-null float64\n",
      "weighted_rank_pop           50000 non-null float64\n",
      "review_dates                50000 non-null object\n",
      "dates_count                 50000 non-null int64\n",
      "between_reviews             50000 non-null float64\n",
      "last_review_days_ago        50000 non-null float64\n",
      "first_review_days_ago       50000 non-null float64\n",
      "review_1                    50000 non-null float64\n",
      "review_2                    50000 non-null float64\n",
      "twin_URL                    50000 non-null int64\n",
      "twin_ID_TA                  50000 non-null int64\n",
      "ID_TA_len                   50000 non-null int64\n",
      "capital                     50000 non-null int64\n",
      "City_Amsterdam              50000 non-null uint8\n",
      "City_Athens                 50000 non-null uint8\n",
      "City_Barcelona              50000 non-null uint8\n",
      "City_Berlin                 50000 non-null uint8\n",
      "City_Bratislava             50000 non-null uint8\n",
      "City_Brussels               50000 non-null uint8\n",
      "City_Budapest               50000 non-null uint8\n",
      "City_Copenhagen             50000 non-null uint8\n",
      "City_Dublin                 50000 non-null uint8\n",
      "City_Edinburgh              50000 non-null uint8\n",
      "City_Geneva                 50000 non-null uint8\n",
      "City_Hamburg                50000 non-null uint8\n",
      "City_Helsinki               50000 non-null uint8\n",
      "City_Krakow                 50000 non-null uint8\n",
      "City_Lisbon                 50000 non-null uint8\n",
      "City_Ljubljana              50000 non-null uint8\n",
      "City_London                 50000 non-null uint8\n",
      "City_Luxembourg             50000 non-null uint8\n",
      "City_Lyon                   50000 non-null uint8\n",
      "City_Madrid                 50000 non-null uint8\n",
      "City_Milan                  50000 non-null uint8\n",
      "City_Munich                 50000 non-null uint8\n",
      "City_Oporto                 50000 non-null uint8\n",
      "City_Oslo                   50000 non-null uint8\n",
      "City_Paris                  50000 non-null uint8\n",
      "City_Prague                 50000 non-null uint8\n",
      "City_Rome                   50000 non-null uint8\n",
      "City_Stockholm              50000 non-null uint8\n",
      "City_Vienna                 50000 non-null uint8\n",
      "City_Warsaw                 50000 non-null uint8\n",
      "City_Zurich                 50000 non-null uint8\n",
      "poly1                       50000 non-null float64\n",
      "poly2                       50000 non-null float64\n",
      "poly3                       50000 non-null float64\n",
      "poly4                       50000 non-null float64\n",
      "poly5                       50000 non-null float64\n",
      "poly6                       50000 non-null float64\n",
      "dtypes: float64(26), int64(10), object(3), uint8(35)\n",
      "memory usage: 16.5+ MB\n"
     ]
    }
   ],
   "source": [
    "# cross checking\n",
    "data.info()"
   ]
  },
  {
   "cell_type": "code",
   "execution_count": 95,
   "metadata": {
    "execution": {
     "iopub.execute_input": "2021-07-05T20:44:17.652816Z",
     "iopub.status.busy": "2021-07-05T20:44:17.652328Z",
     "iopub.status.idle": "2021-07-05T20:44:17.659436Z",
     "shell.execute_reply": "2021-07-05T20:44:17.658433Z",
     "shell.execute_reply.started": "2021-07-05T20:44:17.652774Z"
    }
   },
   "outputs": [
    {
     "data": {
      "text/plain": [
       "Index(['Restaurant_id', 'Cuisine Style', 'Ranking', 'Price Range',\n",
       "       'Number of Reviews', 'URL_TA', 'ID_TA', 'sample', 'Rating',\n",
       "       'Cuisine Style_misses', 'Price Range_misses',\n",
       "       'Number of Reviews_misses', 'Reviews_misses', 'twin_id',\n",
       "       'rest_num_city', 'city_population', 'restaurants_density',\n",
       "       'top_restaurants_count', 'cuisine_styles_num', 'city_top_ranking',\n",
       "       'ranking_scaled', 'relative_ranking', 'norm_rest',\n",
       "       'log_number_of_reviews', 'reviews_to_population', 'weighted_rank_pop',\n",
       "       'review_dates', 'dates_count', 'between_reviews',\n",
       "       'last_review_days_ago', 'first_review_days_ago', 'review_1', 'review_2',\n",
       "       'twin_URL', 'twin_ID_TA', 'ID_TA_len', 'capital', 'City_Amsterdam',\n",
       "       'City_Athens', 'City_Barcelona', 'City_Berlin', 'City_Bratislava',\n",
       "       'City_Brussels', 'City_Budapest', 'City_Copenhagen', 'City_Dublin',\n",
       "       'City_Edinburgh', 'City_Geneva', 'City_Hamburg', 'City_Helsinki',\n",
       "       'City_Krakow', 'City_Lisbon', 'City_Ljubljana', 'City_London',\n",
       "       'City_Luxembourg', 'City_Lyon', 'City_Madrid', 'City_Milan',\n",
       "       'City_Munich', 'City_Oporto', 'City_Oslo', 'City_Paris', 'City_Prague',\n",
       "       'City_Rome', 'City_Stockholm', 'City_Vienna', 'City_Warsaw',\n",
       "       'City_Zurich', 'poly1', 'poly2', 'poly3', 'poly4', 'poly5', 'poly6'],\n",
       "      dtype='object')"
      ]
     },
     "execution_count": 95,
     "metadata": {},
     "output_type": "execute_result"
    }
   ],
   "source": [
    "data.columns"
   ]
  },
  {
   "cell_type": "code",
   "execution_count": 96,
   "metadata": {
    "execution": {
     "iopub.execute_input": "2021-07-05T20:53:14.200871Z",
     "iopub.status.busy": "2021-07-05T20:53:14.200580Z",
     "iopub.status.idle": "2021-07-05T20:53:14.211130Z",
     "shell.execute_reply": "2021-07-05T20:53:14.210037Z",
     "shell.execute_reply.started": "2021-07-05T20:53:14.200818Z"
    }
   },
   "outputs": [],
   "source": [
    "# droping highly correlated and useless for ML columns\n",
    "data = data.drop(['Cuisine Style', 'URL_TA', 'review_dates', 'dates_count', 'poly1', 'twin_ID_TA',\n",
    "                  'Ranking', 'Cuisine Style_misses', 'city_population', 'relative_ranking',\n",
    "                  'reviews_to_population', 'review_dates', 'review_1', 'review_2'], axis=1)"
   ]
  },
  {
   "cell_type": "code",
   "execution_count": 97,
   "metadata": {
    "execution": {
     "iopub.execute_input": "2021-07-05T20:53:31.611159Z",
     "iopub.status.busy": "2021-07-05T20:53:31.610889Z",
     "iopub.status.idle": "2021-07-05T20:53:31.637821Z",
     "shell.execute_reply": "2021-07-05T20:53:31.636327Z",
     "shell.execute_reply.started": "2021-07-05T20:53:31.611125Z"
    }
   },
   "outputs": [
    {
     "data": {
      "text/html": [
       "<div>\n",
       "<style scoped>\n",
       "    .dataframe tbody tr th:only-of-type {\n",
       "        vertical-align: middle;\n",
       "    }\n",
       "\n",
       "    .dataframe tbody tr th {\n",
       "        vertical-align: top;\n",
       "    }\n",
       "\n",
       "    .dataframe thead th {\n",
       "        text-align: right;\n",
       "    }\n",
       "</style>\n",
       "<table border=\"1\" class=\"dataframe\">\n",
       "  <thead>\n",
       "    <tr style=\"text-align: right;\">\n",
       "      <th></th>\n",
       "      <th>Restaurant_id</th>\n",
       "      <th>Price Range</th>\n",
       "      <th>Number of Reviews</th>\n",
       "      <th>ID_TA</th>\n",
       "      <th>sample</th>\n",
       "      <th>Rating</th>\n",
       "      <th>Price Range_misses</th>\n",
       "      <th>Number of Reviews_misses</th>\n",
       "      <th>Reviews_misses</th>\n",
       "      <th>twin_id</th>\n",
       "      <th>...</th>\n",
       "      <th>City_Rome</th>\n",
       "      <th>City_Stockholm</th>\n",
       "      <th>City_Vienna</th>\n",
       "      <th>City_Warsaw</th>\n",
       "      <th>City_Zurich</th>\n",
       "      <th>poly2</th>\n",
       "      <th>poly3</th>\n",
       "      <th>poly4</th>\n",
       "      <th>poly5</th>\n",
       "      <th>poly6</th>\n",
       "    </tr>\n",
       "  </thead>\n",
       "  <tbody>\n",
       "    <tr>\n",
       "      <th>0</th>\n",
       "      <td>0</td>\n",
       "      <td>2.0</td>\n",
       "      <td>0.000400</td>\n",
       "      <td>10746918</td>\n",
       "      <td>0</td>\n",
       "      <td>0.0</td>\n",
       "      <td>0</td>\n",
       "      <td>0</td>\n",
       "      <td>0</td>\n",
       "      <td>1</td>\n",
       "      <td>...</td>\n",
       "      <td>0</td>\n",
       "      <td>0</td>\n",
       "      <td>0</td>\n",
       "      <td>0</td>\n",
       "      <td>0</td>\n",
       "      <td>0.788299</td>\n",
       "      <td>0.000400</td>\n",
       "      <td>0.621415</td>\n",
       "      <td>0.000315</td>\n",
       "      <td>1.601281e-07</td>\n",
       "    </tr>\n",
       "    <tr>\n",
       "      <th>1</th>\n",
       "      <td>1</td>\n",
       "      <td>2.0</td>\n",
       "      <td>0.019008</td>\n",
       "      <td>6674944</td>\n",
       "      <td>0</td>\n",
       "      <td>0.0</td>\n",
       "      <td>0</td>\n",
       "      <td>0</td>\n",
       "      <td>0</td>\n",
       "      <td>1</td>\n",
       "      <td>...</td>\n",
       "      <td>0</td>\n",
       "      <td>0</td>\n",
       "      <td>0</td>\n",
       "      <td>0</td>\n",
       "      <td>0</td>\n",
       "      <td>0.006386</td>\n",
       "      <td>0.019008</td>\n",
       "      <td>0.000041</td>\n",
       "      <td>0.000121</td>\n",
       "      <td>3.612890e-04</td>\n",
       "    </tr>\n",
       "    <tr>\n",
       "      <th>2</th>\n",
       "      <td>2</td>\n",
       "      <td>2.0</td>\n",
       "      <td>0.005202</td>\n",
       "      <td>13129638</td>\n",
       "      <td>0</td>\n",
       "      <td>0.0</td>\n",
       "      <td>0</td>\n",
       "      <td>0</td>\n",
       "      <td>0</td>\n",
       "      <td>1</td>\n",
       "      <td>...</td>\n",
       "      <td>0</td>\n",
       "      <td>0</td>\n",
       "      <td>0</td>\n",
       "      <td>0</td>\n",
       "      <td>0</td>\n",
       "      <td>0.049200</td>\n",
       "      <td>0.005202</td>\n",
       "      <td>0.002421</td>\n",
       "      <td>0.000256</td>\n",
       "      <td>2.706164e-05</td>\n",
       "    </tr>\n",
       "    <tr>\n",
       "      <th>3</th>\n",
       "      <td>3</td>\n",
       "      <td>3.0</td>\n",
       "      <td>0.040016</td>\n",
       "      <td>680417</td>\n",
       "      <td>0</td>\n",
       "      <td>0.0</td>\n",
       "      <td>0</td>\n",
       "      <td>0</td>\n",
       "      <td>0</td>\n",
       "      <td>1</td>\n",
       "      <td>...</td>\n",
       "      <td>0</td>\n",
       "      <td>0</td>\n",
       "      <td>0</td>\n",
       "      <td>0</td>\n",
       "      <td>0</td>\n",
       "      <td>0.101441</td>\n",
       "      <td>0.040016</td>\n",
       "      <td>0.010290</td>\n",
       "      <td>0.004059</td>\n",
       "      <td>1.601281e-03</td>\n",
       "    </tr>\n",
       "    <tr>\n",
       "      <th>4</th>\n",
       "      <td>4</td>\n",
       "      <td>3.0</td>\n",
       "      <td>0.032013</td>\n",
       "      <td>1112354</td>\n",
       "      <td>0</td>\n",
       "      <td>0.0</td>\n",
       "      <td>0</td>\n",
       "      <td>0</td>\n",
       "      <td>0</td>\n",
       "      <td>1</td>\n",
       "      <td>...</td>\n",
       "      <td>0</td>\n",
       "      <td>0</td>\n",
       "      <td>0</td>\n",
       "      <td>0</td>\n",
       "      <td>0</td>\n",
       "      <td>0.002189</td>\n",
       "      <td>0.032013</td>\n",
       "      <td>0.000005</td>\n",
       "      <td>0.000070</td>\n",
       "      <td>1.024820e-03</td>\n",
       "    </tr>\n",
       "  </tbody>\n",
       "</table>\n",
       "<p>5 rows × 61 columns</p>\n",
       "</div>"
      ],
      "text/plain": [
       "   Restaurant_id  Price Range  Number of Reviews     ID_TA  sample  Rating  \\\n",
       "0              0          2.0           0.000400  10746918       0     0.0   \n",
       "1              1          2.0           0.019008   6674944       0     0.0   \n",
       "2              2          2.0           0.005202  13129638       0     0.0   \n",
       "3              3          3.0           0.040016    680417       0     0.0   \n",
       "4              4          3.0           0.032013   1112354       0     0.0   \n",
       "\n",
       "   Price Range_misses  Number of Reviews_misses  Reviews_misses  twin_id  ...  \\\n",
       "0                   0                         0               0        1  ...   \n",
       "1                   0                         0               0        1  ...   \n",
       "2                   0                         0               0        1  ...   \n",
       "3                   0                         0               0        1  ...   \n",
       "4                   0                         0               0        1  ...   \n",
       "\n",
       "   City_Rome  City_Stockholm  City_Vienna  City_Warsaw  City_Zurich     poly2  \\\n",
       "0          0               0            0            0            0  0.788299   \n",
       "1          0               0            0            0            0  0.006386   \n",
       "2          0               0            0            0            0  0.049200   \n",
       "3          0               0            0            0            0  0.101441   \n",
       "4          0               0            0            0            0  0.002189   \n",
       "\n",
       "      poly3     poly4     poly5         poly6  \n",
       "0  0.000400  0.621415  0.000315  1.601281e-07  \n",
       "1  0.019008  0.000041  0.000121  3.612890e-04  \n",
       "2  0.005202  0.002421  0.000256  2.706164e-05  \n",
       "3  0.040016  0.010290  0.004059  1.601281e-03  \n",
       "4  0.032013  0.000005  0.000070  1.024820e-03  \n",
       "\n",
       "[5 rows x 61 columns]"
      ]
     },
     "execution_count": 97,
     "metadata": {},
     "output_type": "execute_result"
    }
   ],
   "source": [
    "data.head()"
   ]
  },
  {
   "cell_type": "markdown",
   "metadata": {},
   "source": [
    "# Data Preprocessing"
   ]
  },
  {
   "cell_type": "code",
   "execution_count": 98,
   "metadata": {
    "execution": {
     "iopub.execute_input": "2021-07-05T20:57:43.308069Z",
     "iopub.status.busy": "2021-07-05T20:57:43.307730Z",
     "iopub.status.idle": "2021-07-05T20:57:43.359736Z",
     "shell.execute_reply": "2021-07-05T20:57:43.357931Z",
     "shell.execute_reply.started": "2021-07-05T20:57:43.308017Z"
    }
   },
   "outputs": [
    {
     "data": {
      "text/plain": [
       "((10000, 60), (40000, 60), (40000, 59), (32000, 59), (8000, 59))"
      ]
     },
     "execution_count": 98,
     "metadata": {},
     "output_type": "execute_result"
    }
   ],
   "source": [
    "# extracting training data\n",
    "train_data = data.query('sample == 1').drop(['sample'], axis=1)\n",
    "test_data = data.query('sample == 0').drop(['sample'], axis=1)\n",
    "\n",
    "y = train_data.Rating.values              # наш таргет\n",
    "X = train_data.drop(['Rating'], axis=1)\n",
    "\n",
    "# dividing to test and train data\n",
    "X_train, X_test, y_train, y_test = train_test_split(\n",
    "    X, y, test_size=0.2, random_state=RANDOM_SEED)\n",
    "test_data.shape, train_data.shape, X.shape, X_train.shape, X_test.shape"
   ]
  },
  {
   "cell_type": "markdown",
   "metadata": {},
   "source": [
    "# Model \n",
    " ML"
   ]
  },
  {
   "cell_type": "code",
   "execution_count": 99,
   "metadata": {
    "execution": {
     "iopub.execute_input": "2021-07-05T20:57:49.284328Z",
     "iopub.status.busy": "2021-07-05T20:57:49.284025Z",
     "iopub.status.idle": "2021-07-05T20:57:49.290376Z",
     "shell.execute_reply": "2021-07-05T20:57:49.288503Z",
     "shell.execute_reply.started": "2021-07-05T20:57:49.284286Z"
    }
   },
   "outputs": [],
   "source": [
    "# Import libraries for model:\n",
    "\n",
    "from sklearn.ensemble import RandomForestRegressor\n",
    "from sklearn import metrics  # tool for valuation of model"
   ]
  },
  {
   "cell_type": "code",
   "execution_count": 100,
   "metadata": {
    "execution": {
     "iopub.execute_input": "2021-07-05T20:57:50.876342Z",
     "iopub.status.busy": "2021-07-05T20:57:50.876096Z",
     "iopub.status.idle": "2021-07-05T20:57:50.883271Z",
     "shell.execute_reply": "2021-07-05T20:57:50.881144Z",
     "shell.execute_reply.started": "2021-07-05T20:57:50.876311Z"
    }
   },
   "outputs": [],
   "source": [
    "# creating model (DO NOT TOUCH THE CUSTOMIZATION)\n",
    "model = RandomForestRegressor(\n",
    "    n_estimators=100, verbose=1, n_jobs=-1, random_state=RANDOM_SEED)"
   ]
  },
  {
   "cell_type": "code",
   "execution_count": 101,
   "metadata": {
    "execution": {
     "iopub.execute_input": "2021-07-05T20:57:51.790990Z",
     "iopub.status.busy": "2021-07-05T20:57:51.790625Z",
     "iopub.status.idle": "2021-07-05T20:58:10.002804Z",
     "shell.execute_reply": "2021-07-05T20:58:10.000911Z",
     "shell.execute_reply.started": "2021-07-05T20:57:51.790881Z"
    }
   },
   "outputs": [
    {
     "name": "stderr",
     "output_type": "stream",
     "text": [
      "[Parallel(n_jobs=-1)]: Using backend ThreadingBackend with 4 concurrent workers.\n",
      "[Parallel(n_jobs=-1)]: Done  42 tasks      | elapsed:    9.4s\n",
      "[Parallel(n_jobs=-1)]: Done 100 out of 100 | elapsed:   21.4s finished\n",
      "[Parallel(n_jobs=4)]: Using backend ThreadingBackend with 4 concurrent workers.\n",
      "[Parallel(n_jobs=4)]: Done  42 tasks      | elapsed:    0.0s\n",
      "[Parallel(n_jobs=4)]: Done 100 out of 100 | elapsed:    0.1s finished\n"
     ]
    }
   ],
   "source": [
    "# training model\n",
    "model.fit(X_train, y_train)\n",
    "\n",
    "# using model for prognosing rating in test data\n",
    "# Prognosis is being written to y_pred\n",
    "y_pred = model.predict(X_test)"
   ]
  },
  {
   "cell_type": "code",
   "execution_count": 102,
   "metadata": {
    "execution": {
     "iopub.execute_input": "2021-07-05T20:58:10.005126Z",
     "iopub.status.busy": "2021-07-05T20:58:10.004816Z",
     "iopub.status.idle": "2021-07-05T20:58:10.012585Z",
     "shell.execute_reply": "2021-07-05T20:58:10.011319Z",
     "shell.execute_reply.started": "2021-07-05T20:58:10.005051Z"
    }
   },
   "outputs": [
    {
     "name": "stdout",
     "output_type": "stream",
     "text": [
      "MAE: 0.19336250000000002\n"
     ]
    }
   ],
   "source": [
    "# comparing prognosed rating (y_pred) with real one (y_test) and counting\n",
    "# Mean Absolute Error (MAE) showing mean deviation of prognosed values from real ones\n",
    "print('MAE:', metrics.mean_absolute_error(y_test, y_pred))"
   ]
  },
  {
   "cell_type": "code",
   "execution_count": 104,
   "metadata": {
    "execution": {
     "iopub.execute_input": "2021-07-05T20:58:51.720635Z",
     "iopub.status.busy": "2021-07-05T20:58:51.720354Z",
     "iopub.status.idle": "2021-07-05T20:58:52.105276Z",
     "shell.execute_reply": "2021-07-05T20:58:52.104344Z",
     "shell.execute_reply.started": "2021-07-05T20:58:51.720587Z"
    }
   },
   "outputs": [
    {
     "data": {
      "text/plain": [
       "<matplotlib.axes._subplots.AxesSubplot at 0x7f8e103e4e48>"
      ]
     },
     "execution_count": 104,
     "metadata": {},
     "output_type": "execute_result"
    },
    {
     "data": {
      "image/png": "[encoded data removed]",
      "text/plain": [
       "<Figure size 720x720 with 1 Axes>"
      ]
     },
     "metadata": {
      "needs_background": "light"
     },
     "output_type": "display_data"
    }
   ],
   "source": [
    "# in RandomForestRegressor it's possible to show the most important features used for prognosing\n",
    "plt.rcParams['figure.figsize'] = (10, 10)\n",
    "feat_importances = pd.Series(model.feature_importances_, index=X.columns)\n",
    "feat_importances.nlargest(15).plot(kind='barh')"
   ]
  },
  {
   "cell_type": "markdown",
   "metadata": {},
   "source": [
    "# Submission\n",
    "preparing submision for Kaggle "
   ]
  },
  {
   "cell_type": "code",
   "execution_count": 105,
   "metadata": {
    "execution": {
     "iopub.execute_input": "2021-07-05T20:58:53.877139Z",
     "iopub.status.busy": "2021-07-05T20:58:53.876691Z",
     "iopub.status.idle": "2021-07-05T20:58:53.912743Z",
     "shell.execute_reply": "2021-07-05T20:58:53.911376Z",
     "shell.execute_reply.started": "2021-07-05T20:58:53.877098Z"
    }
   },
   "outputs": [
    {
     "data": {
      "text/html": [
       "<div>\n",
       "<style scoped>\n",
       "    .dataframe tbody tr th:only-of-type {\n",
       "        vertical-align: middle;\n",
       "    }\n",
       "\n",
       "    .dataframe tbody tr th {\n",
       "        vertical-align: top;\n",
       "    }\n",
       "\n",
       "    .dataframe thead th {\n",
       "        text-align: right;\n",
       "    }\n",
       "</style>\n",
       "<table border=\"1\" class=\"dataframe\">\n",
       "  <thead>\n",
       "    <tr style=\"text-align: right;\">\n",
       "      <th></th>\n",
       "      <th>Restaurant_id</th>\n",
       "      <th>Price Range</th>\n",
       "      <th>Number of Reviews</th>\n",
       "      <th>ID_TA</th>\n",
       "      <th>Rating</th>\n",
       "      <th>Price Range_misses</th>\n",
       "      <th>Number of Reviews_misses</th>\n",
       "      <th>Reviews_misses</th>\n",
       "      <th>twin_id</th>\n",
       "      <th>rest_num_city</th>\n",
       "      <th>...</th>\n",
       "      <th>City_Rome</th>\n",
       "      <th>City_Stockholm</th>\n",
       "      <th>City_Vienna</th>\n",
       "      <th>City_Warsaw</th>\n",
       "      <th>City_Zurich</th>\n",
       "      <th>poly2</th>\n",
       "      <th>poly3</th>\n",
       "      <th>poly4</th>\n",
       "      <th>poly5</th>\n",
       "      <th>poly6</th>\n",
       "    </tr>\n",
       "  </thead>\n",
       "  <tbody>\n",
       "    <tr>\n",
       "      <th>1610</th>\n",
       "      <td>1610</td>\n",
       "      <td>2.0</td>\n",
       "      <td>0.021809</td>\n",
       "      <td>797046</td>\n",
       "      <td>0.0</td>\n",
       "      <td>0</td>\n",
       "      <td>0</td>\n",
       "      <td>0</td>\n",
       "      <td>1</td>\n",
       "      <td>0.005882</td>\n",
       "      <td>...</td>\n",
       "      <td>0</td>\n",
       "      <td>0</td>\n",
       "      <td>0</td>\n",
       "      <td>0</td>\n",
       "      <td>0</td>\n",
       "      <td>0.015873</td>\n",
       "      <td>0.021809</td>\n",
       "      <td>0.000252</td>\n",
       "      <td>0.000346</td>\n",
       "      <td>4.756204e-04</td>\n",
       "    </tr>\n",
       "    <tr>\n",
       "      <th>2933</th>\n",
       "      <td>2933</td>\n",
       "      <td>2.0</td>\n",
       "      <td>0.002401</td>\n",
       "      <td>1050697</td>\n",
       "      <td>0.0</td>\n",
       "      <td>1</td>\n",
       "      <td>0</td>\n",
       "      <td>0</td>\n",
       "      <td>1</td>\n",
       "      <td>0.844355</td>\n",
       "      <td>...</td>\n",
       "      <td>0</td>\n",
       "      <td>0</td>\n",
       "      <td>0</td>\n",
       "      <td>0</td>\n",
       "      <td>0</td>\n",
       "      <td>0.700602</td>\n",
       "      <td>0.002401</td>\n",
       "      <td>0.490843</td>\n",
       "      <td>0.001682</td>\n",
       "      <td>5.764611e-06</td>\n",
       "    </tr>\n",
       "    <tr>\n",
       "      <th>5353</th>\n",
       "      <td>5353</td>\n",
       "      <td>2.0</td>\n",
       "      <td>0.019408</td>\n",
       "      <td>1799601</td>\n",
       "      <td>0.0</td>\n",
       "      <td>0</td>\n",
       "      <td>0</td>\n",
       "      <td>0</td>\n",
       "      <td>1</td>\n",
       "      <td>0.156649</td>\n",
       "      <td>...</td>\n",
       "      <td>0</td>\n",
       "      <td>0</td>\n",
       "      <td>0</td>\n",
       "      <td>0</td>\n",
       "      <td>0</td>\n",
       "      <td>0.112267</td>\n",
       "      <td>0.019408</td>\n",
       "      <td>0.012604</td>\n",
       "      <td>0.002179</td>\n",
       "      <td>3.766613e-04</td>\n",
       "    </tr>\n",
       "    <tr>\n",
       "      <th>2215</th>\n",
       "      <td>2215</td>\n",
       "      <td>2.0</td>\n",
       "      <td>0.014206</td>\n",
       "      <td>12215113</td>\n",
       "      <td>0.0</td>\n",
       "      <td>0</td>\n",
       "      <td>0</td>\n",
       "      <td>0</td>\n",
       "      <td>1</td>\n",
       "      <td>0.455171</td>\n",
       "      <td>...</td>\n",
       "      <td>0</td>\n",
       "      <td>0</td>\n",
       "      <td>0</td>\n",
       "      <td>0</td>\n",
       "      <td>0</td>\n",
       "      <td>0.089886</td>\n",
       "      <td>0.014206</td>\n",
       "      <td>0.008080</td>\n",
       "      <td>0.001277</td>\n",
       "      <td>2.018014e-04</td>\n",
       "    </tr>\n",
       "    <tr>\n",
       "      <th>2163</th>\n",
       "      <td>2163</td>\n",
       "      <td>2.0</td>\n",
       "      <td>0.013205</td>\n",
       "      <td>8087060</td>\n",
       "      <td>0.0</td>\n",
       "      <td>0</td>\n",
       "      <td>0</td>\n",
       "      <td>0</td>\n",
       "      <td>1</td>\n",
       "      <td>0.455171</td>\n",
       "      <td>...</td>\n",
       "      <td>0</td>\n",
       "      <td>0</td>\n",
       "      <td>0</td>\n",
       "      <td>0</td>\n",
       "      <td>0</td>\n",
       "      <td>0.135012</td>\n",
       "      <td>0.013205</td>\n",
       "      <td>0.018228</td>\n",
       "      <td>0.001783</td>\n",
       "      <td>1.743795e-04</td>\n",
       "    </tr>\n",
       "    <tr>\n",
       "      <th>8403</th>\n",
       "      <td>8403</td>\n",
       "      <td>2.0</td>\n",
       "      <td>0.000200</td>\n",
       "      <td>12338498</td>\n",
       "      <td>0.0</td>\n",
       "      <td>1</td>\n",
       "      <td>0</td>\n",
       "      <td>0</td>\n",
       "      <td>1</td>\n",
       "      <td>0.175154</td>\n",
       "      <td>...</td>\n",
       "      <td>0</td>\n",
       "      <td>0</td>\n",
       "      <td>1</td>\n",
       "      <td>0</td>\n",
       "      <td>0</td>\n",
       "      <td>0.176488</td>\n",
       "      <td>0.000200</td>\n",
       "      <td>0.031148</td>\n",
       "      <td>0.000035</td>\n",
       "      <td>4.003202e-08</td>\n",
       "    </tr>\n",
       "    <tr>\n",
       "      <th>5143</th>\n",
       "      <td>5143</td>\n",
       "      <td>2.0</td>\n",
       "      <td>0.000200</td>\n",
       "      <td>10060782</td>\n",
       "      <td>0.0</td>\n",
       "      <td>1</td>\n",
       "      <td>0</td>\n",
       "      <td>0</td>\n",
       "      <td>1</td>\n",
       "      <td>1.000000</td>\n",
       "      <td>...</td>\n",
       "      <td>0</td>\n",
       "      <td>0</td>\n",
       "      <td>0</td>\n",
       "      <td>0</td>\n",
       "      <td>0</td>\n",
       "      <td>0.581038</td>\n",
       "      <td>0.000200</td>\n",
       "      <td>0.337605</td>\n",
       "      <td>0.000116</td>\n",
       "      <td>4.003202e-08</td>\n",
       "    </tr>\n",
       "    <tr>\n",
       "      <th>5185</th>\n",
       "      <td>5185</td>\n",
       "      <td>2.0</td>\n",
       "      <td>1.000000</td>\n",
       "      <td>12322378</td>\n",
       "      <td>0.0</td>\n",
       "      <td>1</td>\n",
       "      <td>1</td>\n",
       "      <td>0</td>\n",
       "      <td>1</td>\n",
       "      <td>0.515134</td>\n",
       "      <td>...</td>\n",
       "      <td>0</td>\n",
       "      <td>0</td>\n",
       "      <td>0</td>\n",
       "      <td>0</td>\n",
       "      <td>0</td>\n",
       "      <td>0.533114</td>\n",
       "      <td>1.000000</td>\n",
       "      <td>0.284211</td>\n",
       "      <td>0.533114</td>\n",
       "      <td>1.000000e+00</td>\n",
       "    </tr>\n",
       "    <tr>\n",
       "      <th>1739</th>\n",
       "      <td>1739</td>\n",
       "      <td>2.0</td>\n",
       "      <td>0.001601</td>\n",
       "      <td>10092485</td>\n",
       "      <td>0.0</td>\n",
       "      <td>1</td>\n",
       "      <td>0</td>\n",
       "      <td>0</td>\n",
       "      <td>1</td>\n",
       "      <td>0.085641</td>\n",
       "      <td>...</td>\n",
       "      <td>0</td>\n",
       "      <td>0</td>\n",
       "      <td>0</td>\n",
       "      <td>0</td>\n",
       "      <td>0</td>\n",
       "      <td>0.105090</td>\n",
       "      <td>0.001601</td>\n",
       "      <td>0.011044</td>\n",
       "      <td>0.000168</td>\n",
       "      <td>2.562049e-06</td>\n",
       "    </tr>\n",
       "    <tr>\n",
       "      <th>6711</th>\n",
       "      <td>6711</td>\n",
       "      <td>2.0</td>\n",
       "      <td>0.000000</td>\n",
       "      <td>7954530</td>\n",
       "      <td>0.0</td>\n",
       "      <td>1</td>\n",
       "      <td>0</td>\n",
       "      <td>0</td>\n",
       "      <td>1</td>\n",
       "      <td>0.116339</td>\n",
       "      <td>...</td>\n",
       "      <td>0</td>\n",
       "      <td>1</td>\n",
       "      <td>0</td>\n",
       "      <td>0</td>\n",
       "      <td>0</td>\n",
       "      <td>0.132822</td>\n",
       "      <td>0.000000</td>\n",
       "      <td>0.017642</td>\n",
       "      <td>0.000000</td>\n",
       "      <td>0.000000e+00</td>\n",
       "    </tr>\n",
       "  </tbody>\n",
       "</table>\n",
       "<p>10 rows × 60 columns</p>\n",
       "</div>"
      ],
      "text/plain": [
       "      Restaurant_id  Price Range  Number of Reviews     ID_TA  Rating  \\\n",
       "1610           1610          2.0           0.021809    797046     0.0   \n",
       "2933           2933          2.0           0.002401   1050697     0.0   \n",
       "5353           5353          2.0           0.019408   1799601     0.0   \n",
       "2215           2215          2.0           0.014206  12215113     0.0   \n",
       "2163           2163          2.0           0.013205   8087060     0.0   \n",
       "8403           8403          2.0           0.000200  12338498     0.0   \n",
       "5143           5143          2.0           0.000200  10060782     0.0   \n",
       "5185           5185          2.0           1.000000  12322378     0.0   \n",
       "1739           1739          2.0           0.001601  10092485     0.0   \n",
       "6711           6711          2.0           0.000000   7954530     0.0   \n",
       "\n",
       "      Price Range_misses  Number of Reviews_misses  Reviews_misses  twin_id  \\\n",
       "1610                   0                         0               0        1   \n",
       "2933                   1                         0               0        1   \n",
       "5353                   0                         0               0        1   \n",
       "2215                   0                         0               0        1   \n",
       "2163                   0                         0               0        1   \n",
       "8403                   1                         0               0        1   \n",
       "5143                   1                         0               0        1   \n",
       "5185                   1                         1               0        1   \n",
       "1739                   1                         0               0        1   \n",
       "6711                   1                         0               0        1   \n",
       "\n",
       "      rest_num_city  ...  City_Rome  City_Stockholm  City_Vienna  City_Warsaw  \\\n",
       "1610       0.005882  ...          0               0            0            0   \n",
       "2933       0.844355  ...          0               0            0            0   \n",
       "5353       0.156649  ...          0               0            0            0   \n",
       "2215       0.455171  ...          0               0            0            0   \n",
       "2163       0.455171  ...          0               0            0            0   \n",
       "8403       0.175154  ...          0               0            1            0   \n",
       "5143       1.000000  ...          0               0            0            0   \n",
       "5185       0.515134  ...          0               0            0            0   \n",
       "1739       0.085641  ...          0               0            0            0   \n",
       "6711       0.116339  ...          0               1            0            0   \n",
       "\n",
       "      City_Zurich     poly2     poly3     poly4     poly5         poly6  \n",
       "1610            0  0.015873  0.021809  0.000252  0.000346  4.756204e-04  \n",
       "2933            0  0.700602  0.002401  0.490843  0.001682  5.764611e-06  \n",
       "5353            0  0.112267  0.019408  0.012604  0.002179  3.766613e-04  \n",
       "2215            0  0.089886  0.014206  0.008080  0.001277  2.018014e-04  \n",
       "2163            0  0.135012  0.013205  0.018228  0.001783  1.743795e-04  \n",
       "8403            0  0.176488  0.000200  0.031148  0.000035  4.003202e-08  \n",
       "5143            0  0.581038  0.000200  0.337605  0.000116  4.003202e-08  \n",
       "5185            0  0.533114  1.000000  0.284211  0.533114  1.000000e+00  \n",
       "1739            0  0.105090  0.001601  0.011044  0.000168  2.562049e-06  \n",
       "6711            0  0.132822  0.000000  0.017642  0.000000  0.000000e+00  \n",
       "\n",
       "[10 rows x 60 columns]"
      ]
     },
     "execution_count": 105,
     "metadata": {},
     "output_type": "execute_result"
    }
   ],
   "source": [
    "test_data.sample(10)"
   ]
  },
  {
   "cell_type": "code",
   "execution_count": 106,
   "metadata": {
    "execution": {
     "iopub.execute_input": "2021-07-05T20:58:55.390668Z",
     "iopub.status.busy": "2021-07-05T20:58:55.390252Z",
     "iopub.status.idle": "2021-07-05T20:58:55.397627Z",
     "shell.execute_reply": "2021-07-05T20:58:55.396180Z",
     "shell.execute_reply.started": "2021-07-05T20:58:55.390614Z"
    }
   },
   "outputs": [],
   "source": [
    "test_data = test_data.drop(['Rating'], axis=1)"
   ]
  },
  {
   "cell_type": "code",
   "execution_count": 107,
   "metadata": {
    "execution": {
     "iopub.execute_input": "2021-07-05T20:58:56.355009Z",
     "iopub.status.busy": "2021-07-05T20:58:56.354605Z",
     "iopub.status.idle": "2021-07-05T20:58:56.369336Z",
     "shell.execute_reply": "2021-07-05T20:58:56.368183Z",
     "shell.execute_reply.started": "2021-07-05T20:58:56.354961Z"
    }
   },
   "outputs": [
    {
     "data": {
      "text/html": [
       "<div>\n",
       "<style scoped>\n",
       "    .dataframe tbody tr th:only-of-type {\n",
       "        vertical-align: middle;\n",
       "    }\n",
       "\n",
       "    .dataframe tbody tr th {\n",
       "        vertical-align: top;\n",
       "    }\n",
       "\n",
       "    .dataframe thead th {\n",
       "        text-align: right;\n",
       "    }\n",
       "</style>\n",
       "<table border=\"1\" class=\"dataframe\">\n",
       "  <thead>\n",
       "    <tr style=\"text-align: right;\">\n",
       "      <th></th>\n",
       "      <th>Restaurant_id</th>\n",
       "      <th>Rating</th>\n",
       "    </tr>\n",
       "  </thead>\n",
       "  <tbody>\n",
       "    <tr>\n",
       "      <th>0</th>\n",
       "      <td>id_0</td>\n",
       "      <td>2.0</td>\n",
       "    </tr>\n",
       "    <tr>\n",
       "      <th>1</th>\n",
       "      <td>id_1</td>\n",
       "      <td>2.5</td>\n",
       "    </tr>\n",
       "    <tr>\n",
       "      <th>2</th>\n",
       "      <td>id_2</td>\n",
       "      <td>4.0</td>\n",
       "    </tr>\n",
       "    <tr>\n",
       "      <th>3</th>\n",
       "      <td>id_3</td>\n",
       "      <td>1.0</td>\n",
       "    </tr>\n",
       "    <tr>\n",
       "      <th>4</th>\n",
       "      <td>id_4</td>\n",
       "      <td>4.0</td>\n",
       "    </tr>\n",
       "    <tr>\n",
       "      <th>...</th>\n",
       "      <td>...</td>\n",
       "      <td>...</td>\n",
       "    </tr>\n",
       "    <tr>\n",
       "      <th>9995</th>\n",
       "      <td>id_9995</td>\n",
       "      <td>3.0</td>\n",
       "    </tr>\n",
       "    <tr>\n",
       "      <th>9996</th>\n",
       "      <td>id_9996</td>\n",
       "      <td>1.5</td>\n",
       "    </tr>\n",
       "    <tr>\n",
       "      <th>9997</th>\n",
       "      <td>id_9997</td>\n",
       "      <td>4.5</td>\n",
       "    </tr>\n",
       "    <tr>\n",
       "      <th>9998</th>\n",
       "      <td>id_9998</td>\n",
       "      <td>1.0</td>\n",
       "    </tr>\n",
       "    <tr>\n",
       "      <th>9999</th>\n",
       "      <td>id_9999</td>\n",
       "      <td>2.5</td>\n",
       "    </tr>\n",
       "  </tbody>\n",
       "</table>\n",
       "<p>10000 rows × 2 columns</p>\n",
       "</div>"
      ],
      "text/plain": [
       "     Restaurant_id  Rating\n",
       "0             id_0     2.0\n",
       "1             id_1     2.5\n",
       "2             id_2     4.0\n",
       "3             id_3     1.0\n",
       "4             id_4     4.0\n",
       "...            ...     ...\n",
       "9995       id_9995     3.0\n",
       "9996       id_9996     1.5\n",
       "9997       id_9997     4.5\n",
       "9998       id_9998     1.0\n",
       "9999       id_9999     2.5\n",
       "\n",
       "[10000 rows x 2 columns]"
      ]
     },
     "execution_count": 107,
     "metadata": {},
     "output_type": "execute_result"
    }
   ],
   "source": [
    "sample_submission"
   ]
  },
  {
   "cell_type": "code",
   "execution_count": 108,
   "metadata": {
    "execution": {
     "iopub.execute_input": "2021-07-05T20:58:57.526722Z",
     "iopub.status.busy": "2021-07-05T20:58:57.526350Z",
     "iopub.status.idle": "2021-07-05T20:58:57.636884Z",
     "shell.execute_reply": "2021-07-05T20:58:57.635579Z",
     "shell.execute_reply.started": "2021-07-05T20:58:57.526686Z"
    }
   },
   "outputs": [
    {
     "name": "stderr",
     "output_type": "stream",
     "text": [
      "[Parallel(n_jobs=4)]: Using backend ThreadingBackend with 4 concurrent workers.\n",
      "[Parallel(n_jobs=4)]: Done  42 tasks      | elapsed:    0.0s\n",
      "[Parallel(n_jobs=4)]: Done 100 out of 100 | elapsed:    0.1s finished\n"
     ]
    }
   ],
   "source": [
    "predict_submission = model.predict(test_data)"
   ]
  },
  {
   "cell_type": "code",
   "execution_count": 109,
   "metadata": {
    "execution": {
     "iopub.execute_input": "2021-07-05T20:59:00.352657Z",
     "iopub.status.busy": "2021-07-05T20:59:00.352362Z",
     "iopub.status.idle": "2021-07-05T20:59:00.359430Z",
     "shell.execute_reply": "2021-07-05T20:59:00.358419Z",
     "shell.execute_reply.started": "2021-07-05T20:59:00.352599Z"
    }
   },
   "outputs": [
    {
     "data": {
      "text/plain": [
       "array([3.13 , 4.185, 4.295, ..., 3.06 , 4.475, 4.4  ])"
      ]
     },
     "execution_count": 109,
     "metadata": {},
     "output_type": "execute_result"
    }
   ],
   "source": [
    "predict_submission"
   ]
  },
  {
   "cell_type": "code",
   "execution_count": 110,
   "metadata": {
    "execution": {
     "iopub.execute_input": "2021-07-05T20:59:03.439013Z",
     "iopub.status.busy": "2021-07-05T20:59:03.438665Z",
     "iopub.status.idle": "2021-07-05T20:59:03.635946Z",
     "shell.execute_reply": "2021-07-05T20:59:03.634521Z",
     "shell.execute_reply.started": "2021-07-05T20:59:03.438920Z"
    }
   },
   "outputs": [
    {
     "data": {
      "text/html": [
       "<div>\n",
       "<style scoped>\n",
       "    .dataframe tbody tr th:only-of-type {\n",
       "        vertical-align: middle;\n",
       "    }\n",
       "\n",
       "    .dataframe tbody tr th {\n",
       "        vertical-align: top;\n",
       "    }\n",
       "\n",
       "    .dataframe thead th {\n",
       "        text-align: right;\n",
       "    }\n",
       "</style>\n",
       "<table border=\"1\" class=\"dataframe\">\n",
       "  <thead>\n",
       "    <tr style=\"text-align: right;\">\n",
       "      <th></th>\n",
       "      <th>Restaurant_id</th>\n",
       "      <th>Rating</th>\n",
       "    </tr>\n",
       "  </thead>\n",
       "  <tbody>\n",
       "    <tr>\n",
       "      <th>0</th>\n",
       "      <td>id_0</td>\n",
       "      <td>3.130</td>\n",
       "    </tr>\n",
       "    <tr>\n",
       "      <th>1</th>\n",
       "      <td>id_1</td>\n",
       "      <td>4.185</td>\n",
       "    </tr>\n",
       "    <tr>\n",
       "      <th>2</th>\n",
       "      <td>id_2</td>\n",
       "      <td>4.295</td>\n",
       "    </tr>\n",
       "    <tr>\n",
       "      <th>3</th>\n",
       "      <td>id_3</td>\n",
       "      <td>4.400</td>\n",
       "    </tr>\n",
       "    <tr>\n",
       "      <th>4</th>\n",
       "      <td>id_4</td>\n",
       "      <td>4.445</td>\n",
       "    </tr>\n",
       "    <tr>\n",
       "      <th>5</th>\n",
       "      <td>id_5</td>\n",
       "      <td>4.460</td>\n",
       "    </tr>\n",
       "    <tr>\n",
       "      <th>6</th>\n",
       "      <td>id_6</td>\n",
       "      <td>1.685</td>\n",
       "    </tr>\n",
       "    <tr>\n",
       "      <th>7</th>\n",
       "      <td>id_7</td>\n",
       "      <td>3.655</td>\n",
       "    </tr>\n",
       "    <tr>\n",
       "      <th>8</th>\n",
       "      <td>id_8</td>\n",
       "      <td>4.220</td>\n",
       "    </tr>\n",
       "    <tr>\n",
       "      <th>9</th>\n",
       "      <td>id_9</td>\n",
       "      <td>4.695</td>\n",
       "    </tr>\n",
       "  </tbody>\n",
       "</table>\n",
       "</div>"
      ],
      "text/plain": [
       "  Restaurant_id  Rating\n",
       "0          id_0   3.130\n",
       "1          id_1   4.185\n",
       "2          id_2   4.295\n",
       "3          id_3   4.400\n",
       "4          id_4   4.445\n",
       "5          id_5   4.460\n",
       "6          id_6   1.685\n",
       "7          id_7   3.655\n",
       "8          id_8   4.220\n",
       "9          id_9   4.695"
      ]
     },
     "execution_count": 110,
     "metadata": {},
     "output_type": "execute_result"
    }
   ],
   "source": [
    "sample_submission['Rating'] = predict_submission\n",
    "sample_submission.to_csv('submission.csv', index=False)\n",
    "sample_submission.head(10)"
   ]
  }
 ],
 "metadata": {
  "kernelspec": {
   "display_name": "Python 3 (ipykernel)",
   "language": "python",
   "name": "python3"
  },
  "language_info": {
   "codemirror_mode": {
    "name": "ipython",
    "version": 3
   },
   "file_extension": ".py",
   "mimetype": "text/x-python",
   "name": "python",
   "nbconvert_exporter": "python",
   "pygments_lexer": "ipython3",
   "version": "3.9.13"
  },
  "toc": {
   "base_numbering": 1,
   "nav_menu": {},
   "number_sections": true,
   "sideBar": true,
   "skip_h1_title": false,
   "title_cell": "Table of Contents",
   "title_sidebar": "Contents",
   "toc_cell": false,
   "toc_position": {},
   "toc_section_display": true,
   "toc_window_display": true
  },
  "varInspector": {
   "cols": {
    "lenName": 16,
    "lenType": 16,
    "lenVar": 40
   },
   "kernels_config": {
    "python": {
     "delete_cmd_postfix": "",
     "delete_cmd_prefix": "del ",
     "library": "var_list.py",
     "varRefreshCmd": "print(var_dic_list())"
    },
    "r": {
     "delete_cmd_postfix": ") ",
     "delete_cmd_prefix": "rm(",
     "library": "var_list.r",
     "varRefreshCmd": "cat(var_dic_list()) "
    }
   },
   "types_to_exclude": [
    "module",
    "function",
    "builtin_function_or_method",
    "instance",
    "_Feature"
   ],
   "window_display": false
  }
 },
 "nbformat": 4,
 "nbformat_minor": 4
}
