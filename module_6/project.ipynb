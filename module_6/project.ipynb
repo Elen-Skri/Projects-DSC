{
 "cells": [
  {
   "cell_type": "markdown",
   "metadata": {},
   "source": [
    "## Проект: Выбираем авто выгодно\n",
    "\n",
    "Задача проекта: создать модель, которая будет предсказывать цену автомобиля на вторичном рынке."
   ]
  },
  {
   "cell_type": "code",
   "execution_count": 3,
   "metadata": {},
   "outputs": [],
   "source": [
    "#Необходимые библиотеки\n",
    "import pandas as pd\n",
    "from pandas import Series\n",
    "import re\n",
    "import matplotlib.pyplot as plt\n",
    "import seaborn as sns\n",
    "import sys\n",
    "from sklearn.model_selection import train_test_split\n",
    "from sklearn.model_selection import KFold, StratifiedKFold\n",
    "from tqdm.notebook import tqdm\n",
    "from sklearn.ensemble import RandomForestRegressor, ExtraTreesRegressor, StackingRegressor\n",
    "from sklearn.tree import DecisionTreeRegressor\n",
    "from sklearn.preprocessing import LabelEncoder, OneHotEncoder, StandardScaler, MinMaxScaler\n",
    "from catboost import CatBoostRegressor\n",
    "from sklearn import metrics\n",
    "import numpy as np\n",
    "from sklearn.metrics import mean_squared_error, make_scorer\n",
    "import warnings\n",
    "warnings.filterwarnings(\"ignore\")\n",
    "import category_encoders as ce\n",
    "import datetime\n",
    "from sklearn.feature_selection import f_classif, mutual_info_classif\n",
    "from sklearn.linear_model import LinearRegression"
   ]
  },
  {
   "cell_type": "markdown",
   "metadata": {},
   "source": [
    "Тренировочные данные были собраны с сайта auto.ru"
   ]
  },
  {
   "cell_type": "code",
   "execution_count": 107,
   "metadata": {},
   "outputs": [],
   "source": [
    "#Загружаем датасеты\n",
    "train = pd.read_csv('data_train_final.csv')\n",
    "test = pd.read_csv('test_6.csv')\n"
   ]
  },
  {
   "cell_type": "code",
   "execution_count": 109,
   "metadata": {},
   "outputs": [
    {
     "name": "stdout",
     "output_type": "stream",
     "text": [
      "<class 'pandas.core.frame.DataFrame'>\n",
      "RangeIndex: 34686 entries, 0 to 34685\n",
      "Data columns (total 32 columns):\n",
      " #   Column                Non-Null Count  Dtype \n",
      "---  ------                --------------  ----- \n",
      " 0   bodyType              34686 non-null  object\n",
      " 1   brand                 34686 non-null  object\n",
      " 2   car_url               34686 non-null  object\n",
      " 3   color                 34686 non-null  object\n",
      " 4   complectation_dict    6418 non-null   object\n",
      " 5   description           34686 non-null  object\n",
      " 6   engineDisplacement    34686 non-null  object\n",
      " 7   enginePower           34686 non-null  object\n",
      " 8   equipment_dict        24690 non-null  object\n",
      " 9   fuelType              34686 non-null  object\n",
      " 10  image                 34686 non-null  object\n",
      " 11  mileage               34686 non-null  int64 \n",
      " 12  modelDate             34686 non-null  int64 \n",
      " 13  model_info            34686 non-null  object\n",
      " 14  model_name            34686 non-null  object\n",
      " 15  name                  34686 non-null  object\n",
      " 16  numberOfDoors         34686 non-null  int64 \n",
      " 17  parsing_unixtime      34686 non-null  int64 \n",
      " 18  priceCurrency         34686 non-null  object\n",
      " 19  productionDate        34686 non-null  int64 \n",
      " 20  sell_id               34686 non-null  int64 \n",
      " 21  super_gen             34686 non-null  object\n",
      " 22  vehicleConfiguration  34686 non-null  object\n",
      " 23  vehicleTransmission   34686 non-null  object\n",
      " 24  vendor                34686 non-null  object\n",
      " 25  Владельцы             34686 non-null  object\n",
      " 26  Владение              11995 non-null  object\n",
      " 27  ПТС                   34685 non-null  object\n",
      " 28  Привод                34686 non-null  object\n",
      " 29  Руль                  34686 non-null  object\n",
      " 30  Состояние             34686 non-null  object\n",
      " 31  Таможня               34686 non-null  object\n",
      "dtypes: int64(6), object(26)\n",
      "memory usage: 8.5+ MB\n"
     ]
    }
   ],
   "source": [
    "test.info()"
   ]
  },
  {
   "cell_type": "code",
   "execution_count": 5,
   "metadata": {},
   "outputs": [],
   "source": [
    "#train.reg.fillna(1, inplace=True)"
   ]
  },
  {
   "cell_type": "code",
   "execution_count": 6,
   "metadata": {},
   "outputs": [],
   "source": [
    "#train.reg.value_counts()"
   ]
  },
  {
   "cell_type": "code",
   "execution_count": 7,
   "metadata": {},
   "outputs": [],
   "source": [
    "train = train[['color', 'car_price', 'mileage', 'productionDate', 'brand',\n",
    "             'model_name', 'bodyType', 'engineDisplacement', 'enginePower',\n",
    "             'fuelType', 'sell_id', 'vehicleTransmission', 'Владельцы',\n",
    "             'ПТС', 'Привод', 'Руль', 'Состояние']]"
   ]
  },
  {
   "cell_type": "code",
   "execution_count": 8,
   "metadata": {},
   "outputs": [
    {
     "name": "stdout",
     "output_type": "stream",
     "text": [
      "<class 'pandas.core.frame.DataFrame'>\n",
      "RangeIndex: 77529 entries, 0 to 77528\n",
      "Data columns (total 17 columns):\n",
      " #   Column               Non-Null Count  Dtype  \n",
      "---  ------               --------------  -----  \n",
      " 0   color                77529 non-null  object \n",
      " 1   car_price            77529 non-null  int64  \n",
      " 2   mileage              77529 non-null  int64  \n",
      " 3   productionDate       77529 non-null  int64  \n",
      " 4   brand                77529 non-null  object \n",
      " 5   model_name           77529 non-null  object \n",
      " 6   bodyType             77529 non-null  object \n",
      " 7   engineDisplacement   77529 non-null  object \n",
      " 8   enginePower          77529 non-null  int64  \n",
      " 9   fuelType             77529 non-null  object \n",
      " 10  sell_id              77529 non-null  float64\n",
      " 11  vehicleTransmission  77529 non-null  object \n",
      " 12  Владельцы            77529 non-null  object \n",
      " 13  ПТС                  77529 non-null  object \n",
      " 14  Привод               77529 non-null  object \n",
      " 15  Руль                 77529 non-null  object \n",
      " 16  Состояние            77529 non-null  object \n",
      "dtypes: float64(1), int64(4), object(12)\n",
      "memory usage: 10.1+ MB\n"
     ]
    }
   ],
   "source": [
    "#Посмотрим, что из себя представляют полученные данные\n",
    "train.info()"
   ]
  },
  {
   "cell_type": "code",
   "execution_count": 9,
   "metadata": {},
   "outputs": [],
   "source": [
    "#test['reg'] = 1"
   ]
  },
  {
   "cell_type": "code",
   "execution_count": 10,
   "metadata": {},
   "outputs": [
    {
     "name": "stdout",
     "output_type": "stream",
     "text": [
      "<class 'pandas.core.frame.DataFrame'>\n",
      "RangeIndex: 34686 entries, 0 to 34685\n",
      "Data columns (total 32 columns):\n",
      " #   Column                Non-Null Count  Dtype \n",
      "---  ------                --------------  ----- \n",
      " 0   bodyType              34686 non-null  object\n",
      " 1   brand                 34686 non-null  object\n",
      " 2   car_url               34686 non-null  object\n",
      " 3   color                 34686 non-null  object\n",
      " 4   complectation_dict    6418 non-null   object\n",
      " 5   description           34686 non-null  object\n",
      " 6   engineDisplacement    34686 non-null  object\n",
      " 7   enginePower           34686 non-null  object\n",
      " 8   equipment_dict        24690 non-null  object\n",
      " 9   fuelType              34686 non-null  object\n",
      " 10  image                 34686 non-null  object\n",
      " 11  mileage               34686 non-null  int64 \n",
      " 12  modelDate             34686 non-null  int64 \n",
      " 13  model_info            34686 non-null  object\n",
      " 14  model_name            34686 non-null  object\n",
      " 15  name                  34686 non-null  object\n",
      " 16  numberOfDoors         34686 non-null  int64 \n",
      " 17  parsing_unixtime      34686 non-null  int64 \n",
      " 18  priceCurrency         34686 non-null  object\n",
      " 19  productionDate        34686 non-null  int64 \n",
      " 20  sell_id               34686 non-null  int64 \n",
      " 21  super_gen             34686 non-null  object\n",
      " 22  vehicleConfiguration  34686 non-null  object\n",
      " 23  vehicleTransmission   34686 non-null  object\n",
      " 24  vendor                34686 non-null  object\n",
      " 25  Владельцы             34686 non-null  object\n",
      " 26  Владение              11995 non-null  object\n",
      " 27  ПТС                   34685 non-null  object\n",
      " 28  Привод                34686 non-null  object\n",
      " 29  Руль                  34686 non-null  object\n",
      " 30  Состояние             34686 non-null  object\n",
      " 31  Таможня               34686 non-null  object\n",
      "dtypes: int64(6), object(26)\n",
      "memory usage: 8.5+ MB\n"
     ]
    }
   ],
   "source": [
    "#Тестовая выборка\n",
    "test.info()"
   ]
  },
  {
   "cell_type": "markdown",
   "metadata": {},
   "source": [
    "Данные, полученные в результате парсинга, необходимо обработать:\n",
    "- Присутсвуют пропуски в данных\n",
    "- Также стоит обратить внимание на формат данных: переменные в тренировочном датасете, которые должны иметь численный вид, находятся в формате object.\n",
    "- Привести к общему виду тренировочную и тестовые выборки"
   ]
  },
  {
   "cell_type": "code",
   "execution_count": 11,
   "metadata": {},
   "outputs": [
    {
     "data": {
      "text/plain": [
       "array(['2020-10'], dtype=object)"
      ]
     },
     "execution_count": 11,
     "metadata": {},
     "output_type": "execute_result"
    }
   ],
   "source": [
    "#Проверим когда собиралась тестовая выборка\n",
    "test.parsing_unixtime.apply(lambda s: datetime.datetime.fromtimestamp(s).strftime('%Y-%m')).unique()"
   ]
  },
  {
   "cell_type": "markdown",
   "metadata": {},
   "source": [
    "Данные тренировочной выборки собирались в октябре 2020 года"
   ]
  },
  {
   "cell_type": "code",
   "execution_count": 13,
   "metadata": {},
   "outputs": [],
   "source": [
    "'''Предобработка'''\n",
    "#для воспроизводимости фиксируем RANDOM_SEED\n",
    "RANDOM_SEED = 42\n",
    "\n",
    "VAL_SIZE = 0.2\n",
    "\n",
    "#Считаем МАРЕ\n",
    "def mape(Y_true, Y_predicted):\n",
    "    mape = np.mean(np.abs((Y_true-Y_predicted)/Y_true))*100\n",
    "    return mape\n",
    "\n",
    "#Обработка цветов автомобилей\n",
    "dark_colors = ['серый', 'серебристый', 'коричневый']\n",
    "def get_color(color):\n",
    "    if color in dark_colors:\n",
    "        return 'dark'\n",
    "    elif color == 'белый':\n",
    "        return 'white'\n",
    "    elif color == 'чёрный':\n",
    "        return 'black'\n",
    "    else:\n",
    "        return 'bright'\n",
    "    \n",
    "#Функция для анализа выбросов\n",
    "def get_quantile(df, column):\n",
    "    #вычисляем межквартильный размах:\n",
    "    iqr = df[column].quantile(0.75) - df[column].quantile(0.25)\n",
    "\n",
    "    #25-й перцентиль:\n",
    "    perc25 = df[column].quantile(0.25)\n",
    "    #75-й перцентиль:\n",
    "    perc75 = df[column].quantile(0.75)\n",
    "\n",
    "    #верхняя граница выбросов:\n",
    "    l = perc75 + 1.5*iqr\n",
    "    #нижняя граница выбросов:\n",
    "    f = perc25 - 1.5*iqr\n",
    "    \n",
    "    #считаем количество выбросов\n",
    "    print('Количество выбросов:', column, ':',\n",
    "         df[df[column]<(perc25-1.5*iqr)][column].count() +\n",
    "          df[df[column]>(perc75+1.5*iqr)][column].count())\n",
    "    \n",
    "    print('Верхняя граница выбросов:',\n",
    "          l, 'Нижняя граница выбросов:', f)\n",
    "\n",
    "    #всё что выпадает за границы выбросов, заменяем на граничное значение\n",
    "    df[column] = df[column].apply(lambda m: f if m < f else m)\n",
    "    df[column] = df[column].apply(lambda m: l if m > l else m)\n",
    "\n",
    "#Текущий год\n",
    "now = datetime.datetime.now()\n",
    "year = now.year\n",
    "\n",
    "#Классифицируем автомобили по возрасту\n",
    "def get_class(p_year):\n",
    "    if p_year < 1985:\n",
    "        return 'oldtimer'\n",
    "    #if 1970 < p_year < 1990:\n",
    "        #return 'youngtimer'\n",
    "    else:\n",
    "        return 'used'\n",
    "\n",
    "#Построим box-plot для числовых признаков    \n",
    "def get_boxplot(\n",
    "    data: pd.DataFrame, \n",
    "    column: str, \n",
    "    target_column: str\n",
    "):\n",
    "   \n",
    "    fig, ax = plt.subplots(figsize = (14, 4))\n",
    "    sns.boxplot(x=column, y=target_column, \n",
    "                data=data.loc[data.loc[:, column].isin(data.loc[:, column].value_counts().index)],\n",
    "                ax=ax)\n",
    "    plt.xticks(rotation=45)\n",
    "    ax.set_title('Боксплот: ' + column)\n",
    "    plt.show()\n",
    "    \n",
    "#Обработка типов кузова\n",
    "def get_types(type):\n",
    "    if type in ['кабриолет', 'купе', 'купе-хардтоп', 'родстер', 'тарга', 'фастбек']:\n",
    "        return 'gt'\n",
    "    if type in ['компактвэн', 'микровэн', 'минивэн']:\n",
    "        return 'van'\n",
    "    if type == 'универсал':\n",
    "        return 'family'\n",
    "    if type == 'внедорожник':\n",
    "        return 'suv'\n",
    "    if type in ['седан', 'седан-хардтоп']:\n",
    "        return 'sedan'\n",
    "    if type in ['хэтчбек', 'лифтбек']:\n",
    "        return 'hatch'\n",
    "    if type in ['пикап', 'фургон']:\n",
    "        return 'truck'\n",
    "    if type == 'лимузин':\n",
    "        return 'premium'\n",
    "    else:\n",
    "        return type\n",
    "    \n",
    "#Рейтинг надёжности\n",
    "rating_list = {'toyota' : 98,\n",
    "               'volkswagen' : 163,\n",
    "               'nissan' : 128,\n",
    "               'bmw' : 108,\n",
    "               'mercedes' : 122,\n",
    "               'audi' : 127,\n",
    "               'mitsubishi' : 116,\n",
    "               'skoda' : 163,\n",
    "               'honda' : 145,\n",
    "               'volvo' : 143,\n",
    "               'lexus' : 81,\n",
    "               'infiniti' : 137}\n",
    "\n",
    "#Тип топлива    \n",
    "def fuel_type(s):\n",
    "    if 'бензин' in s:\n",
    "        return 'бензин'\n",
    "    if 'дизель' in s:\n",
    "        return 'дизель'\n",
    "    if 'гибрид' in s:\n",
    "        return 'гибрид'\n",
    "    if 'газ' in s:\n",
    "        return 'газ'\n",
    "    else:\n",
    "        return 'электро'\n",
    "    \n",
    "#Расходы на содержание автомобиля\n",
    "car_expences_list = {'bmw':106800,\n",
    "                     'mercedes':77400,\n",
    "                     'volvo':75000,\n",
    "                     'audi':74400,\n",
    "                     'infiniti':55800,\n",
    "                     'volkswagen':56160,\n",
    "                     'skoda':56160,\n",
    "                     'nissan':54720,\n",
    "                     'mitsubishi':53280,\n",
    "                     'honda':51840,\n",
    "                     'lexus':50400,\n",
    "                     'toyota':39600}\n",
    "    "
   ]
  },
  {
   "cell_type": "markdown",
   "metadata": {},
   "source": [
    "Приведём тестовую и обучающие выборки к общему виду, для этого удалим лишние колонки из тестовой выборки"
   ]
  },
  {
   "cell_type": "code",
   "execution_count": 14,
   "metadata": {},
   "outputs": [],
   "source": [
    "test.drop(['car_url', 'complectation_dict', 'description', 'equipment_dict',\n",
    "          'image', 'modelDate', 'model_info', 'name', 'numberOfDoors', 'parsing_unixtime',\n",
    "          'priceCurrency', 'super_gen', 'vehicleConfiguration', 'vendor',\n",
    "          'Владение', 'Таможня' ], axis=1, inplace=True)"
   ]
  },
  {
   "cell_type": "code",
   "execution_count": 15,
   "metadata": {},
   "outputs": [],
   "source": [
    "#Определим трейн и тест\n",
    "train['sample'] = 1\n",
    "test['sample'] = 0\n",
    "#В тестовой выборке нет колонки с ценой\n",
    "test['car_price'] = 0"
   ]
  },
  {
   "cell_type": "markdown",
   "metadata": {},
   "source": [
    "### Модель 1: Создадим наивную модель"
   ]
  },
  {
   "cell_type": "code",
   "execution_count": 16,
   "metadata": {},
   "outputs": [],
   "source": [
    "train.dropna(subset=['productionDate','mileage'], inplace=True)\n",
    "train.dropna(subset=['car_price'], inplace=True)\n",
    "# для наивной модели просто возьмём пару схожих признаков без полной обработки\n",
    "columns = ['bodyType', 'brand', 'productionDate', 'engineDisplacement', 'mileage']\n",
    "df_train = train[columns]\n",
    "df_test = test[columns]"
   ]
  },
  {
   "cell_type": "code",
   "execution_count": 17,
   "metadata": {},
   "outputs": [],
   "source": [
    "df_train['sample'] = 1 # помечаем где у нас трейн\n",
    "df_test['sample'] = 0 # помечаем где у нас тест\n",
    "y = train['car_price']"
   ]
  },
  {
   "cell_type": "code",
   "execution_count": 18,
   "metadata": {},
   "outputs": [],
   "source": [
    "data = df_test.append(df_train, sort=False).reset_index(drop=True) # объединяем\n",
    "#закодируем колонки\n",
    "for colum in ['bodyType', 'brand', 'engineDisplacement']:\n",
    "    data[colum] = data[colum].astype('category').cat.codes\n",
    "X = data.query('sample == 1').drop(['sample'], axis=1)\n",
    "X_sub = data.query('sample == 0').drop(['sample'], axis=1)\n",
    "X_train, X_test, y_train, y_test = train_test_split(X, y, test_size=VAL_SIZE,\n",
    "                                                    shuffle=True, random_state=RANDOM_SEED)\n",
    "tmp_train = X_train.copy()\n",
    "tmp_train['price'] = y_train\n"
   ]
  },
  {
   "cell_type": "code",
   "execution_count": 19,
   "metadata": {},
   "outputs": [
    {
     "name": "stdout",
     "output_type": "stream",
     "text": [
      "Точность наивной модели по метрике MAPE: 129.58%\n"
     ]
    }
   ],
   "source": [
    "# Находим median по экземплярам engineDisplacement в трейне и размечаем тест\n",
    "predict = X_test['engineDisplacement'].map(tmp_train.groupby('engineDisplacement')['price'].median())\n",
    "print(f\"Точность наивной модели по метрике MAPE: {(mape(y_test, predict.values)):0.2f}%\")"
   ]
  },
  {
   "cell_type": "code",
   "execution_count": 20,
   "metadata": {},
   "outputs": [
    {
     "data": {
      "text/plain": [
       "<catboost.core.CatBoostRegressor at 0x2da82c8a2e0>"
      ]
     },
     "execution_count": 20,
     "metadata": {},
     "output_type": "execute_result"
    }
   ],
   "source": [
    "model = CatBoostRegressor(iterations = 5000,\n",
    "                          random_seed = RANDOM_SEED,\n",
    "                          eval_metric='MAPE',\n",
    "                          custom_metric=['R2', 'MAE'],\n",
    "                          silent=True,\n",
    "                         )\n",
    "model.fit(X_train, y_train,\n",
    "         #cat_features=cat_features_ids,\n",
    "         eval_set=(X_test, y_test),\n",
    "         verbose_eval=0,\n",
    "         use_best_model=True,\n",
    "         #plot=True\n",
    "         )"
   ]
  },
  {
   "cell_type": "code",
   "execution_count": 21,
   "metadata": {},
   "outputs": [
    {
     "name": "stdout",
     "output_type": "stream",
     "text": [
      "Точность модели по метрике MAPE: 24.79%\n"
     ]
    }
   ],
   "source": [
    "# оцениваем точность\n",
    "predict = model.predict(X_test)\n",
    "print(f\"Точность модели по метрике MAPE: {(mape(y_test, predict)):0.2f}%\")"
   ]
  },
  {
   "cell_type": "markdown",
   "metadata": {},
   "source": [
    "CatBoost без особой подготовки датасета показал ошибку в 24.79%"
   ]
  },
  {
   "cell_type": "markdown",
   "metadata": {},
   "source": [
    "### EDA & FeatureEngineering"
   ]
  },
  {
   "cell_type": "code",
   "execution_count": 22,
   "metadata": {},
   "outputs": [
    {
     "data": {
      "text/html": [
       "<div>\n",
       "<style scoped>\n",
       "    .dataframe tbody tr th:only-of-type {\n",
       "        vertical-align: middle;\n",
       "    }\n",
       "\n",
       "    .dataframe tbody tr th {\n",
       "        vertical-align: top;\n",
       "    }\n",
       "\n",
       "    .dataframe thead th {\n",
       "        text-align: right;\n",
       "    }\n",
       "</style>\n",
       "<table border=\"1\" class=\"dataframe\">\n",
       "  <thead>\n",
       "    <tr style=\"text-align: right;\">\n",
       "      <th></th>\n",
       "      <th>color</th>\n",
       "      <th>car_price</th>\n",
       "      <th>mileage</th>\n",
       "      <th>productionDate</th>\n",
       "      <th>brand</th>\n",
       "      <th>model_name</th>\n",
       "      <th>bodyType</th>\n",
       "      <th>engineDisplacement</th>\n",
       "      <th>enginePower</th>\n",
       "      <th>fuelType</th>\n",
       "      <th>sell_id</th>\n",
       "      <th>vehicleTransmission</th>\n",
       "      <th>Владельцы</th>\n",
       "      <th>ПТС</th>\n",
       "      <th>Привод</th>\n",
       "      <th>Руль</th>\n",
       "      <th>Состояние</th>\n",
       "      <th>sample</th>\n",
       "    </tr>\n",
       "  </thead>\n",
       "  <tbody>\n",
       "    <tr>\n",
       "      <th>0</th>\n",
       "      <td>коричневый</td>\n",
       "      <td>1840000</td>\n",
       "      <td>30000</td>\n",
       "      <td>2018</td>\n",
       "      <td>Skoda</td>\n",
       "      <td>octavia</td>\n",
       "      <td>лифтбек</td>\n",
       "      <td>2</td>\n",
       "      <td>184</td>\n",
       "      <td>Дизель</td>\n",
       "      <td>1.105830e+09</td>\n",
       "      <td>роботизированная</td>\n",
       "      <td>1владелец</td>\n",
       "      <td>Оригинал</td>\n",
       "      <td>полный</td>\n",
       "      <td>Левый</td>\n",
       "      <td>Не требует ремонта</td>\n",
       "      <td>1</td>\n",
       "    </tr>\n",
       "    <tr>\n",
       "      <th>1</th>\n",
       "      <td>чёрный</td>\n",
       "      <td>1640000</td>\n",
       "      <td>80000</td>\n",
       "      <td>2017</td>\n",
       "      <td>Skoda</td>\n",
       "      <td>superb</td>\n",
       "      <td>лифтбек</td>\n",
       "      <td>2</td>\n",
       "      <td>190</td>\n",
       "      <td>Дизель</td>\n",
       "      <td>1.103512e+09</td>\n",
       "      <td>роботизированная</td>\n",
       "      <td>1владелец</td>\n",
       "      <td>Оригинал</td>\n",
       "      <td>полный</td>\n",
       "      <td>Левый</td>\n",
       "      <td>Не требует ремонта</td>\n",
       "      <td>1</td>\n",
       "    </tr>\n",
       "    <tr>\n",
       "      <th>2</th>\n",
       "      <td>синий</td>\n",
       "      <td>320000</td>\n",
       "      <td>168000</td>\n",
       "      <td>2005</td>\n",
       "      <td>Skoda</td>\n",
       "      <td>octavia</td>\n",
       "      <td>лифтбек</td>\n",
       "      <td>2</td>\n",
       "      <td>115</td>\n",
       "      <td>Бензин</td>\n",
       "      <td>1.105757e+09</td>\n",
       "      <td>механическая</td>\n",
       "      <td>3 или более</td>\n",
       "      <td>Оригинал</td>\n",
       "      <td>передний</td>\n",
       "      <td>Левый</td>\n",
       "      <td>Не требует ремонта</td>\n",
       "      <td>1</td>\n",
       "    </tr>\n",
       "    <tr>\n",
       "      <th>3</th>\n",
       "      <td>серый</td>\n",
       "      <td>800000</td>\n",
       "      <td>170000</td>\n",
       "      <td>2012</td>\n",
       "      <td>Skoda</td>\n",
       "      <td>octavia</td>\n",
       "      <td>лифтбек</td>\n",
       "      <td>1.9</td>\n",
       "      <td>105</td>\n",
       "      <td>Дизель</td>\n",
       "      <td>1.105957e+09</td>\n",
       "      <td>роботизированная</td>\n",
       "      <td>2владельца</td>\n",
       "      <td>Оригинал</td>\n",
       "      <td>передний</td>\n",
       "      <td>Левый</td>\n",
       "      <td>Не требует ремонта</td>\n",
       "      <td>1</td>\n",
       "    </tr>\n",
       "    <tr>\n",
       "      <th>4</th>\n",
       "      <td>коричневый</td>\n",
       "      <td>1570000</td>\n",
       "      <td>5000</td>\n",
       "      <td>2020</td>\n",
       "      <td>Skoda</td>\n",
       "      <td>rapid</td>\n",
       "      <td>лифтбек</td>\n",
       "      <td>1.6</td>\n",
       "      <td>110</td>\n",
       "      <td>Бензин</td>\n",
       "      <td>1.105881e+09</td>\n",
       "      <td>автоматическая</td>\n",
       "      <td>1владелец</td>\n",
       "      <td>Оригинал</td>\n",
       "      <td>передний</td>\n",
       "      <td>Левый</td>\n",
       "      <td>Не требует ремонта</td>\n",
       "      <td>1</td>\n",
       "    </tr>\n",
       "    <tr>\n",
       "      <th>...</th>\n",
       "      <td>...</td>\n",
       "      <td>...</td>\n",
       "      <td>...</td>\n",
       "      <td>...</td>\n",
       "      <td>...</td>\n",
       "      <td>...</td>\n",
       "      <td>...</td>\n",
       "      <td>...</td>\n",
       "      <td>...</td>\n",
       "      <td>...</td>\n",
       "      <td>...</td>\n",
       "      <td>...</td>\n",
       "      <td>...</td>\n",
       "      <td>...</td>\n",
       "      <td>...</td>\n",
       "      <td>...</td>\n",
       "      <td>...</td>\n",
       "      <td>...</td>\n",
       "    </tr>\n",
       "    <tr>\n",
       "      <th>34681</th>\n",
       "      <td>коричневый</td>\n",
       "      <td>0</td>\n",
       "      <td>115000</td>\n",
       "      <td>2014</td>\n",
       "      <td>BMW</td>\n",
       "      <td>3ER</td>\n",
       "      <td>седан</td>\n",
       "      <td>1.6 LTR</td>\n",
       "      <td>136 N12</td>\n",
       "      <td>бензин</td>\n",
       "      <td>1.101369e+09</td>\n",
       "      <td>автоматическая</td>\n",
       "      <td>3 или более</td>\n",
       "      <td>Оригинал</td>\n",
       "      <td>задний</td>\n",
       "      <td>Левый</td>\n",
       "      <td>Не требует ремонта</td>\n",
       "      <td>0</td>\n",
       "    </tr>\n",
       "    <tr>\n",
       "      <th>34682</th>\n",
       "      <td>чёрный</td>\n",
       "      <td>0</td>\n",
       "      <td>98000</td>\n",
       "      <td>2018</td>\n",
       "      <td>BMW</td>\n",
       "      <td>5ER</td>\n",
       "      <td>седан</td>\n",
       "      <td>2.0 LTR</td>\n",
       "      <td>190 N12</td>\n",
       "      <td>дизель</td>\n",
       "      <td>1.101370e+09</td>\n",
       "      <td>автоматическая</td>\n",
       "      <td>1 владелец</td>\n",
       "      <td>Оригинал</td>\n",
       "      <td>полный</td>\n",
       "      <td>Левый</td>\n",
       "      <td>Не требует ремонта</td>\n",
       "      <td>0</td>\n",
       "    </tr>\n",
       "    <tr>\n",
       "      <th>34683</th>\n",
       "      <td>серый</td>\n",
       "      <td>0</td>\n",
       "      <td>360000</td>\n",
       "      <td>1997</td>\n",
       "      <td>BMW</td>\n",
       "      <td>5ER</td>\n",
       "      <td>седан</td>\n",
       "      <td>2.5 LTR</td>\n",
       "      <td>170 N12</td>\n",
       "      <td>бензин</td>\n",
       "      <td>1.101365e+09</td>\n",
       "      <td>автоматическая</td>\n",
       "      <td>3 или более</td>\n",
       "      <td>Дубликат</td>\n",
       "      <td>задний</td>\n",
       "      <td>Левый</td>\n",
       "      <td>Не требует ремонта</td>\n",
       "      <td>0</td>\n",
       "    </tr>\n",
       "    <tr>\n",
       "      <th>34684</th>\n",
       "      <td>коричневый</td>\n",
       "      <td>0</td>\n",
       "      <td>90500</td>\n",
       "      <td>2013</td>\n",
       "      <td>BMW</td>\n",
       "      <td>X1</td>\n",
       "      <td>внедорожник 5 дв.</td>\n",
       "      <td>2.0 LTR</td>\n",
       "      <td>184 N12</td>\n",
       "      <td>дизель</td>\n",
       "      <td>1.101363e+09</td>\n",
       "      <td>автоматическая</td>\n",
       "      <td>2 владельца</td>\n",
       "      <td>Оригинал</td>\n",
       "      <td>полный</td>\n",
       "      <td>Левый</td>\n",
       "      <td>Не требует ремонта</td>\n",
       "      <td>0</td>\n",
       "    </tr>\n",
       "    <tr>\n",
       "      <th>34685</th>\n",
       "      <td>чёрный</td>\n",
       "      <td>0</td>\n",
       "      <td>240000</td>\n",
       "      <td>2008</td>\n",
       "      <td>BMW</td>\n",
       "      <td>X5</td>\n",
       "      <td>внедорожник 5 дв.</td>\n",
       "      <td>3.0 LTR</td>\n",
       "      <td>235 N12</td>\n",
       "      <td>дизель</td>\n",
       "      <td>1.101256e+09</td>\n",
       "      <td>автоматическая</td>\n",
       "      <td>3 или более</td>\n",
       "      <td>Оригинал</td>\n",
       "      <td>полный</td>\n",
       "      <td>Левый</td>\n",
       "      <td>Не требует ремонта</td>\n",
       "      <td>0</td>\n",
       "    </tr>\n",
       "  </tbody>\n",
       "</table>\n",
       "<p>112215 rows × 18 columns</p>\n",
       "</div>"
      ],
      "text/plain": [
       "            color  car_price  mileage  productionDate  brand model_name  \\\n",
       "0      коричневый    1840000    30000            2018  Skoda    octavia   \n",
       "1          чёрный    1640000    80000            2017  Skoda     superb   \n",
       "2           синий     320000   168000            2005  Skoda    octavia   \n",
       "3           серый     800000   170000            2012  Skoda    octavia   \n",
       "4      коричневый    1570000     5000            2020  Skoda      rapid   \n",
       "...           ...        ...      ...             ...    ...        ...   \n",
       "34681  коричневый          0   115000            2014    BMW        3ER   \n",
       "34682      чёрный          0    98000            2018    BMW        5ER   \n",
       "34683       серый          0   360000            1997    BMW        5ER   \n",
       "34684  коричневый          0    90500            2013    BMW         X1   \n",
       "34685      чёрный          0   240000            2008    BMW         X5   \n",
       "\n",
       "                bodyType engineDisplacement enginePower fuelType  \\\n",
       "0                лифтбек                  2         184   Дизель   \n",
       "1                лифтбек                  2         190   Дизель   \n",
       "2                лифтбек                  2         115   Бензин   \n",
       "3                лифтбек                1.9         105   Дизель   \n",
       "4                лифтбек                1.6         110   Бензин   \n",
       "...                  ...                ...         ...      ...   \n",
       "34681              седан            1.6 LTR     136 N12   бензин   \n",
       "34682              седан            2.0 LTR     190 N12   дизель   \n",
       "34683              седан            2.5 LTR     170 N12   бензин   \n",
       "34684  внедорожник 5 дв.            2.0 LTR     184 N12   дизель   \n",
       "34685  внедорожник 5 дв.            3.0 LTR     235 N12   дизель   \n",
       "\n",
       "            sell_id vehicleTransmission    Владельцы       ПТС    Привод  \\\n",
       "0      1.105830e+09    роботизированная    1владелец  Оригинал    полный   \n",
       "1      1.103512e+09    роботизированная    1владелец  Оригинал    полный   \n",
       "2      1.105757e+09        механическая  3 или более  Оригинал  передний   \n",
       "3      1.105957e+09    роботизированная   2владельца  Оригинал  передний   \n",
       "4      1.105881e+09      автоматическая    1владелец  Оригинал  передний   \n",
       "...             ...                 ...          ...       ...       ...   \n",
       "34681  1.101369e+09      автоматическая  3 или более  Оригинал    задний   \n",
       "34682  1.101370e+09      автоматическая   1 владелец  Оригинал    полный   \n",
       "34683  1.101365e+09      автоматическая  3 или более  Дубликат    задний   \n",
       "34684  1.101363e+09      автоматическая  2 владельца  Оригинал    полный   \n",
       "34685  1.101256e+09      автоматическая  3 или более  Оригинал    полный   \n",
       "\n",
       "        Руль           Состояние  sample  \n",
       "0      Левый  Не требует ремонта       1  \n",
       "1      Левый  Не требует ремонта       1  \n",
       "2      Левый  Не требует ремонта       1  \n",
       "3      Левый  Не требует ремонта       1  \n",
       "4      Левый  Не требует ремонта       1  \n",
       "...      ...                 ...     ...  \n",
       "34681  Левый  Не требует ремонта       0  \n",
       "34682  Левый  Не требует ремонта       0  \n",
       "34683  Левый  Не требует ремонта       0  \n",
       "34684  Левый  Не требует ремонта       0  \n",
       "34685  Левый  Не требует ремонта       0  \n",
       "\n",
       "[112215 rows x 18 columns]"
      ]
     },
     "execution_count": 22,
     "metadata": {},
     "output_type": "execute_result"
    }
   ],
   "source": [
    "#Объеденим датасеты\n",
    "data = train.append(test)\n",
    "data"
   ]
  },
  {
   "cell_type": "markdown",
   "metadata": {},
   "source": [
    "Из тестовой выборки были удалены следующие признаки:\n",
    "- car_url ссылка на объявление\n",
    "- complectation_dict список с параметрами моделей автомобилей с юольшим количеством пропусков\n",
    "- description пользовательское описание объявления \n",
    "- equipment_dict словарь с описанием комплектации автомобиля\n",
    "- image ссылка на изображение \n",
    "- modelDate модельный год (не является датой производста)\n",
    "- model_info морфологическое описание модели \n",
    "- name объём, мощность, тип КПП (у нас уже есть эти данные)\n",
    "- numberOfDoors количество дверей (будем использовать тип кузова)\n",
    "- parsing_unixtime дата парсинга (примерно год назад), будем использовать просто как факт для расчёта коэффициента изменения цены\n",
    "- priceCurrency название валюты, все цены в рублях. Смело удаляем\n",
    "- super_gen список с характеристиками, у нас эти данные уже есть\n",
    "- vehicleConfiguration тип кузова, тип КПП, объём двигателя. У нас эти данные уже есть\n",
    "- vendor рынок, для которого производился автомобиль\n",
    "- Владение время владения автомобилем текущим собственником. Много пропусков, удаляем\n",
    "- Таможня в тестовой выборке все растаможены\n",
    "\n",
    "Далее по очереди заглянем в каждый из оставшихся признаков и приведём их к необходимому для построения модели виду"
   ]
  },
  {
   "cell_type": "markdown",
   "metadata": {},
   "source": [
    "### Color\n",
    "\n",
    "Непосредственно сам цвет автомобиля"
   ]
  },
  {
   "cell_type": "code",
   "execution_count": 23,
   "metadata": {},
   "outputs": [
    {
     "data": {
      "text/plain": [
       "чёрный         32889\n",
       "белый          23912\n",
       "серый          14164\n",
       "серебристый    12631\n",
       "синий          10086\n",
       "красный         4927\n",
       "коричневый      4576\n",
       "зелёный         2817\n",
       "бежевый         1954\n",
       "голубой         1235\n",
       "золотистый       769\n",
       "пурпурный        703\n",
       "фиолетовый       617\n",
       "жёлтый           509\n",
       "оранжевый        384\n",
       "розовый           42\n",
       "Name: color, dtype: int64"
      ]
     },
     "execution_count": 23,
     "metadata": {},
     "output_type": "execute_result"
    }
   ],
   "source": [
    "data.color.value_counts()"
   ]
  },
  {
   "cell_type": "markdown",
   "metadata": {},
   "source": [
    "Если посмотреть на автомобили на улице, мы увидим бесконечный тёмно-серый поток. Тёмные цвета наиболее популярны, максимальная популярность у чёрного цвета, твкже выделим отдельно белый цвет. Остальные цвета разделим на тёмные и яркие. "
   ]
  },
  {
   "cell_type": "code",
   "execution_count": 24,
   "metadata": {},
   "outputs": [],
   "source": [
    "data['color'] = data['color'].apply(lambda s: get_color(s))"
   ]
  },
  {
   "cell_type": "code",
   "execution_count": 25,
   "metadata": {},
   "outputs": [
    {
     "data": {
      "text/plain": [
       "<AxesSubplot:>"
      ]
     },
     "execution_count": 25,
     "metadata": {},
     "output_type": "execute_result"
    },
    {
     "data": {
      "image/png": "[encoded data removed]",
      "text/plain": [
       "<Figure size 432x288 with 1 Axes>"
      ]
     },
     "metadata": {
      "needs_background": "light"
     },
     "output_type": "display_data"
    }
   ],
   "source": [
    "#Посмотрим на полученный результат\n",
    "data.color.hist()"
   ]
  },
  {
   "cell_type": "markdown",
   "metadata": {},
   "source": [
    "На выходе мы сократили количество цветов до 4. Тёмных цветов(c учётом чёрного) , как и ожидалось, больше."
   ]
  },
  {
   "cell_type": "markdown",
   "metadata": {},
   "source": [
    "### Mileage\n",
    "\n",
    "Пробег автомобиля"
   ]
  },
  {
   "cell_type": "code",
   "execution_count": 26,
   "metadata": {},
   "outputs": [
    {
     "data": {
      "text/plain": [
       "count    1.122150e+05\n",
       "mean     1.611587e+05\n",
       "std      1.040403e+05\n",
       "min      1.000000e+00\n",
       "25%      8.600000e+04\n",
       "50%      1.470000e+05\n",
       "75%      2.170000e+05\n",
       "max      1.190000e+06\n",
       "Name: mileage, dtype: float64"
      ]
     },
     "execution_count": 26,
     "metadata": {},
     "output_type": "execute_result"
    },
    {
     "data": {
      "image/png": "[encoded data removed]",
      "text/plain": [
       "<Figure size 432x288 with 1 Axes>"
      ]
     },
     "metadata": {
      "needs_background": "light"
     },
     "output_type": "display_data"
    }
   ],
   "source": [
    "data.mileage.hist(bins = 50)\n",
    "data.mileage.describe()"
   ]
  },
  {
   "cell_type": "markdown",
   "metadata": {},
   "source": [
    "У распределения имеется отчётливо выраженный правый хвост. Посмотрим что из себя представляют автомобили с большим пробегом"
   ]
  },
  {
   "cell_type": "code",
   "execution_count": 27,
   "metadata": {},
   "outputs": [
    {
     "data": {
      "text/html": [
       "<div>\n",
       "<style scoped>\n",
       "    .dataframe tbody tr th:only-of-type {\n",
       "        vertical-align: middle;\n",
       "    }\n",
       "\n",
       "    .dataframe tbody tr th {\n",
       "        vertical-align: top;\n",
       "    }\n",
       "\n",
       "    .dataframe thead th {\n",
       "        text-align: right;\n",
       "    }\n",
       "</style>\n",
       "<table border=\"1\" class=\"dataframe\">\n",
       "  <thead>\n",
       "    <tr style=\"text-align: right;\">\n",
       "      <th></th>\n",
       "      <th>color</th>\n",
       "      <th>car_price</th>\n",
       "      <th>mileage</th>\n",
       "      <th>productionDate</th>\n",
       "      <th>brand</th>\n",
       "      <th>model_name</th>\n",
       "      <th>bodyType</th>\n",
       "      <th>engineDisplacement</th>\n",
       "      <th>enginePower</th>\n",
       "      <th>fuelType</th>\n",
       "      <th>sell_id</th>\n",
       "      <th>vehicleTransmission</th>\n",
       "      <th>Владельцы</th>\n",
       "      <th>ПТС</th>\n",
       "      <th>Привод</th>\n",
       "      <th>Руль</th>\n",
       "      <th>Состояние</th>\n",
       "      <th>sample</th>\n",
       "    </tr>\n",
       "  </thead>\n",
       "  <tbody>\n",
       "    <tr>\n",
       "      <th>1674</th>\n",
       "      <td>bright</td>\n",
       "      <td>250000</td>\n",
       "      <td>680000</td>\n",
       "      <td>2000</td>\n",
       "      <td>Skoda</td>\n",
       "      <td>octavia</td>\n",
       "      <td>лифтбек</td>\n",
       "      <td>1.8</td>\n",
       "      <td>125</td>\n",
       "      <td>Бензин</td>\n",
       "      <td>1.105911e+09</td>\n",
       "      <td>механическая</td>\n",
       "      <td>3 или более</td>\n",
       "      <td>Оригинал</td>\n",
       "      <td>передний</td>\n",
       "      <td>Левый</td>\n",
       "      <td>Не требует ремонта</td>\n",
       "      <td>1</td>\n",
       "    </tr>\n",
       "    <tr>\n",
       "      <th>2462</th>\n",
       "      <td>white</td>\n",
       "      <td>680000</td>\n",
       "      <td>635000</td>\n",
       "      <td>2014</td>\n",
       "      <td>Skoda</td>\n",
       "      <td>octavia</td>\n",
       "      <td>лифтбек</td>\n",
       "      <td>1.4</td>\n",
       "      <td>150</td>\n",
       "      <td>Бензин</td>\n",
       "      <td>1.105094e+09</td>\n",
       "      <td>роботизированная</td>\n",
       "      <td>2владельца</td>\n",
       "      <td>Оригинал</td>\n",
       "      <td>передний</td>\n",
       "      <td>Левый</td>\n",
       "      <td>Не требует ремонта</td>\n",
       "      <td>1</td>\n",
       "    </tr>\n",
       "    <tr>\n",
       "      <th>2661</th>\n",
       "      <td>dark</td>\n",
       "      <td>210000</td>\n",
       "      <td>776000</td>\n",
       "      <td>2001</td>\n",
       "      <td>Skoda</td>\n",
       "      <td>octavia</td>\n",
       "      <td>универсал 5 дв.</td>\n",
       "      <td>2</td>\n",
       "      <td>115</td>\n",
       "      <td>Бензин</td>\n",
       "      <td>1.080909e+09</td>\n",
       "      <td>механическая</td>\n",
       "      <td>3 или более</td>\n",
       "      <td>Дубликат</td>\n",
       "      <td>передний</td>\n",
       "      <td>Левый</td>\n",
       "      <td>Не требует ремонта</td>\n",
       "      <td>1</td>\n",
       "    </tr>\n",
       "    <tr>\n",
       "      <th>4665</th>\n",
       "      <td>white</td>\n",
       "      <td>230000</td>\n",
       "      <td>736000</td>\n",
       "      <td>1995</td>\n",
       "      <td>Audi</td>\n",
       "      <td>a6</td>\n",
       "      <td>универсал 5 дв.</td>\n",
       "      <td>2.6</td>\n",
       "      <td>150</td>\n",
       "      <td>Бензин</td>\n",
       "      <td>1.105827e+09</td>\n",
       "      <td>механическая</td>\n",
       "      <td>3 или более</td>\n",
       "      <td>Оригинал</td>\n",
       "      <td>передний</td>\n",
       "      <td>Левый</td>\n",
       "      <td>Не требует ремонта</td>\n",
       "      <td>1</td>\n",
       "    </tr>\n",
       "    <tr>\n",
       "      <th>4887</th>\n",
       "      <td>bright</td>\n",
       "      <td>360000</td>\n",
       "      <td>622000</td>\n",
       "      <td>2003</td>\n",
       "      <td>Audi</td>\n",
       "      <td>a4</td>\n",
       "      <td>седан</td>\n",
       "      <td>1.8</td>\n",
       "      <td>150</td>\n",
       "      <td>Бензин</td>\n",
       "      <td>1.105960e+09</td>\n",
       "      <td>механическая</td>\n",
       "      <td>3 или более</td>\n",
       "      <td>Дубликат</td>\n",
       "      <td>полный</td>\n",
       "      <td>Левый</td>\n",
       "      <td>Не требует ремонта</td>\n",
       "      <td>1</td>\n",
       "    </tr>\n",
       "    <tr>\n",
       "      <th>...</th>\n",
       "      <td>...</td>\n",
       "      <td>...</td>\n",
       "      <td>...</td>\n",
       "      <td>...</td>\n",
       "      <td>...</td>\n",
       "      <td>...</td>\n",
       "      <td>...</td>\n",
       "      <td>...</td>\n",
       "      <td>...</td>\n",
       "      <td>...</td>\n",
       "      <td>...</td>\n",
       "      <td>...</td>\n",
       "      <td>...</td>\n",
       "      <td>...</td>\n",
       "      <td>...</td>\n",
       "      <td>...</td>\n",
       "      <td>...</td>\n",
       "      <td>...</td>\n",
       "    </tr>\n",
       "    <tr>\n",
       "      <th>28855</th>\n",
       "      <td>white</td>\n",
       "      <td>0</td>\n",
       "      <td>999999</td>\n",
       "      <td>2006</td>\n",
       "      <td>MITSUBISHI</td>\n",
       "      <td>LANCER</td>\n",
       "      <td>седан</td>\n",
       "      <td>1.6 LTR</td>\n",
       "      <td>98 N12</td>\n",
       "      <td>бензин</td>\n",
       "      <td>1.097730e+09</td>\n",
       "      <td>механическая</td>\n",
       "      <td>3 или более</td>\n",
       "      <td>Дубликат</td>\n",
       "      <td>передний</td>\n",
       "      <td>Левый</td>\n",
       "      <td>Не требует ремонта</td>\n",
       "      <td>0</td>\n",
       "    </tr>\n",
       "    <tr>\n",
       "      <th>31811</th>\n",
       "      <td>black</td>\n",
       "      <td>0</td>\n",
       "      <td>698000</td>\n",
       "      <td>1996</td>\n",
       "      <td>MERCEDES</td>\n",
       "      <td>S_KLASSE</td>\n",
       "      <td>седан</td>\n",
       "      <td>5.0 LTR</td>\n",
       "      <td>320 N12</td>\n",
       "      <td>бензин</td>\n",
       "      <td>1.101111e+09</td>\n",
       "      <td>автоматическая</td>\n",
       "      <td>3 или более</td>\n",
       "      <td>Дубликат</td>\n",
       "      <td>задний</td>\n",
       "      <td>Левый</td>\n",
       "      <td>Не требует ремонта</td>\n",
       "      <td>0</td>\n",
       "    </tr>\n",
       "    <tr>\n",
       "      <th>33535</th>\n",
       "      <td>dark</td>\n",
       "      <td>0</td>\n",
       "      <td>620000</td>\n",
       "      <td>1995</td>\n",
       "      <td>TOYOTA</td>\n",
       "      <td>LAND_CRUISER</td>\n",
       "      <td>внедорожник 5 дв.</td>\n",
       "      <td>4.2 LTR</td>\n",
       "      <td>170 N12</td>\n",
       "      <td>дизель</td>\n",
       "      <td>1.101333e+09</td>\n",
       "      <td>механическая</td>\n",
       "      <td>3 или более</td>\n",
       "      <td>Оригинал</td>\n",
       "      <td>полный</td>\n",
       "      <td>Левый</td>\n",
       "      <td>Не требует ремонта</td>\n",
       "      <td>0</td>\n",
       "    </tr>\n",
       "    <tr>\n",
       "      <th>34017</th>\n",
       "      <td>black</td>\n",
       "      <td>0</td>\n",
       "      <td>800000</td>\n",
       "      <td>1989</td>\n",
       "      <td>VOLKSWAGEN</td>\n",
       "      <td>PASSAT</td>\n",
       "      <td>универсал 5 дв.</td>\n",
       "      <td>1.6 LTR</td>\n",
       "      <td>72 N12</td>\n",
       "      <td>бензин</td>\n",
       "      <td>1.101220e+09</td>\n",
       "      <td>механическая</td>\n",
       "      <td>3 или более</td>\n",
       "      <td>Дубликат</td>\n",
       "      <td>передний</td>\n",
       "      <td>Левый</td>\n",
       "      <td>Не требует ремонта</td>\n",
       "      <td>0</td>\n",
       "    </tr>\n",
       "    <tr>\n",
       "      <th>34267</th>\n",
       "      <td>dark</td>\n",
       "      <td>0</td>\n",
       "      <td>999999</td>\n",
       "      <td>1997</td>\n",
       "      <td>HONDA</td>\n",
       "      <td>CIVIC</td>\n",
       "      <td>купе</td>\n",
       "      <td>1.6 LTR</td>\n",
       "      <td>105 N12</td>\n",
       "      <td>бензин</td>\n",
       "      <td>1.091450e+09</td>\n",
       "      <td>механическая</td>\n",
       "      <td>3 или более</td>\n",
       "      <td>Дубликат</td>\n",
       "      <td>передний</td>\n",
       "      <td>Левый</td>\n",
       "      <td>Не требует ремонта</td>\n",
       "      <td>0</td>\n",
       "    </tr>\n",
       "  </tbody>\n",
       "</table>\n",
       "<p>211 rows × 18 columns</p>\n",
       "</div>"
      ],
      "text/plain": [
       "        color  car_price  mileage  productionDate       brand    model_name  \\\n",
       "1674   bright     250000   680000            2000       Skoda       octavia   \n",
       "2462    white     680000   635000            2014       Skoda       octavia   \n",
       "2661     dark     210000   776000            2001       Skoda       octavia   \n",
       "4665    white     230000   736000            1995        Audi            a6   \n",
       "4887   bright     360000   622000            2003        Audi            a4   \n",
       "...       ...        ...      ...             ...         ...           ...   \n",
       "28855   white          0   999999            2006  MITSUBISHI        LANCER   \n",
       "31811   black          0   698000            1996    MERCEDES      S_KLASSE   \n",
       "33535    dark          0   620000            1995      TOYOTA  LAND_CRUISER   \n",
       "34017   black          0   800000            1989  VOLKSWAGEN        PASSAT   \n",
       "34267    dark          0   999999            1997       HONDA         CIVIC   \n",
       "\n",
       "                bodyType engineDisplacement enginePower fuelType  \\\n",
       "1674             лифтбек                1.8         125   Бензин   \n",
       "2462             лифтбек                1.4         150   Бензин   \n",
       "2661     универсал 5 дв.                  2         115   Бензин   \n",
       "4665     универсал 5 дв.                2.6         150   Бензин   \n",
       "4887               седан                1.8         150   Бензин   \n",
       "...                  ...                ...         ...      ...   \n",
       "28855              седан            1.6 LTR      98 N12   бензин   \n",
       "31811              седан            5.0 LTR     320 N12   бензин   \n",
       "33535  внедорожник 5 дв.            4.2 LTR     170 N12   дизель   \n",
       "34017    универсал 5 дв.            1.6 LTR      72 N12   бензин   \n",
       "34267               купе            1.6 LTR     105 N12   бензин   \n",
       "\n",
       "            sell_id vehicleTransmission    Владельцы       ПТС    Привод  \\\n",
       "1674   1.105911e+09        механическая  3 или более  Оригинал  передний   \n",
       "2462   1.105094e+09    роботизированная   2владельца  Оригинал  передний   \n",
       "2661   1.080909e+09        механическая  3 или более  Дубликат  передний   \n",
       "4665   1.105827e+09        механическая  3 или более  Оригинал  передний   \n",
       "4887   1.105960e+09        механическая  3 или более  Дубликат    полный   \n",
       "...             ...                 ...          ...       ...       ...   \n",
       "28855  1.097730e+09        механическая  3 или более  Дубликат  передний   \n",
       "31811  1.101111e+09      автоматическая  3 или более  Дубликат    задний   \n",
       "33535  1.101333e+09        механическая  3 или более  Оригинал    полный   \n",
       "34017  1.101220e+09        механическая  3 или более  Дубликат  передний   \n",
       "34267  1.091450e+09        механическая  3 или более  Дубликат  передний   \n",
       "\n",
       "        Руль           Состояние  sample  \n",
       "1674   Левый  Не требует ремонта       1  \n",
       "2462   Левый  Не требует ремонта       1  \n",
       "2661   Левый  Не требует ремонта       1  \n",
       "4665   Левый  Не требует ремонта       1  \n",
       "4887   Левый  Не требует ремонта       1  \n",
       "...      ...                 ...     ...  \n",
       "28855  Левый  Не требует ремонта       0  \n",
       "31811  Левый  Не требует ремонта       0  \n",
       "33535  Левый  Не требует ремонта       0  \n",
       "34017  Левый  Не требует ремонта       0  \n",
       "34267  Левый  Не требует ремонта       0  \n",
       "\n",
       "[211 rows x 18 columns]"
      ]
     },
     "execution_count": 27,
     "metadata": {},
     "output_type": "execute_result"
    }
   ],
   "source": [
    "data[data['mileage']>600000]"
   ]
  },
  {
   "cell_type": "code",
   "execution_count": 28,
   "metadata": {},
   "outputs": [
    {
     "name": "stdout",
     "output_type": "stream",
     "text": [
      "Количество выбросов: mileage : 2424\n",
      "Верхняя граница выбросов: 413500.0 Нижняя граница выбросов: -110500.0\n"
     ]
    }
   ],
   "source": [
    "#Уберём выбросы\n",
    "get_quantile(data, 'mileage')\n"
   ]
  },
  {
   "cell_type": "markdown",
   "metadata": {},
   "source": [
    "Верхняя граница выбросов находится на отметке в 413500км, для некоторых моделей автомобилей большие пробеги в порядке вещей. Но это скорее исключение, для большинства автомобилей пробег в 400000 км - достаточно экстремально. К тому же мы не можем исключить вероятность того, что пробег указан неверно (например 999999км). Поэтому заменим выбросы граничным значением"
   ]
  },
  {
   "cell_type": "markdown",
   "metadata": {},
   "source": [
    "### productionDate\n",
    "\n",
    "Год производства автомобиля. Для наглядности заменим его на возраст автомобиля"
   ]
  },
  {
   "cell_type": "code",
   "execution_count": 29,
   "metadata": {},
   "outputs": [],
   "source": [
    "data['car_age'] = data['productionDate'].apply(lambda s: year - s)"
   ]
  },
  {
   "cell_type": "code",
   "execution_count": 30,
   "metadata": {},
   "outputs": [
    {
     "data": {
      "text/plain": [
       "count    112215.000000\n",
       "mean         11.006211\n",
       "std           7.477728\n",
       "min           0.000000\n",
       "25%           6.000000\n",
       "50%           9.000000\n",
       "75%          14.000000\n",
       "max         117.000000\n",
       "Name: car_age, dtype: float64"
      ]
     },
     "execution_count": 30,
     "metadata": {},
     "output_type": "execute_result"
    }
   ],
   "source": [
    "#Помортим на результат\n",
    "data.car_age.describe()"
   ]
  },
  {
   "cell_type": "markdown",
   "metadata": {},
   "source": [
    "Автомобиль возрастом 117 лет? Взглянем на него поближе."
   ]
  },
  {
   "cell_type": "code",
   "execution_count": 31,
   "metadata": {},
   "outputs": [
    {
     "data": {
      "text/html": [
       "<div>\n",
       "<style scoped>\n",
       "    .dataframe tbody tr th:only-of-type {\n",
       "        vertical-align: middle;\n",
       "    }\n",
       "\n",
       "    .dataframe tbody tr th {\n",
       "        vertical-align: top;\n",
       "    }\n",
       "\n",
       "    .dataframe thead th {\n",
       "        text-align: right;\n",
       "    }\n",
       "</style>\n",
       "<table border=\"1\" class=\"dataframe\">\n",
       "  <thead>\n",
       "    <tr style=\"text-align: right;\">\n",
       "      <th></th>\n",
       "      <th>color</th>\n",
       "      <th>car_price</th>\n",
       "      <th>mileage</th>\n",
       "      <th>productionDate</th>\n",
       "      <th>brand</th>\n",
       "      <th>model_name</th>\n",
       "      <th>bodyType</th>\n",
       "      <th>engineDisplacement</th>\n",
       "      <th>enginePower</th>\n",
       "      <th>fuelType</th>\n",
       "      <th>sell_id</th>\n",
       "      <th>vehicleTransmission</th>\n",
       "      <th>Владельцы</th>\n",
       "      <th>ПТС</th>\n",
       "      <th>Привод</th>\n",
       "      <th>Руль</th>\n",
       "      <th>Состояние</th>\n",
       "      <th>sample</th>\n",
       "      <th>car_age</th>\n",
       "    </tr>\n",
       "  </thead>\n",
       "  <tbody>\n",
       "    <tr>\n",
       "      <th>16944</th>\n",
       "      <td>white</td>\n",
       "      <td>0</td>\n",
       "      <td>48000.0</td>\n",
       "      <td>1904</td>\n",
       "      <td>MERCEDES</td>\n",
       "      <td>SIMPLEX</td>\n",
       "      <td>кабриолет</td>\n",
       "      <td>5.3 LTR</td>\n",
       "      <td>32 N12</td>\n",
       "      <td>бензин</td>\n",
       "      <td>1.093802e+09</td>\n",
       "      <td>механическая</td>\n",
       "      <td>1 владелец</td>\n",
       "      <td>Оригинал</td>\n",
       "      <td>задний</td>\n",
       "      <td>Правый</td>\n",
       "      <td>Не требует ремонта</td>\n",
       "      <td>0</td>\n",
       "      <td>117</td>\n",
       "    </tr>\n",
       "  </tbody>\n",
       "</table>\n",
       "</div>"
      ],
      "text/plain": [
       "       color  car_price  mileage  productionDate     brand model_name  \\\n",
       "16944  white          0  48000.0            1904  MERCEDES    SIMPLEX   \n",
       "\n",
       "        bodyType engineDisplacement enginePower fuelType       sell_id  \\\n",
       "16944  кабриолет            5.3 LTR      32 N12   бензин  1.093802e+09   \n",
       "\n",
       "      vehicleTransmission   Владельцы       ПТС  Привод    Руль  \\\n",
       "16944        механическая  1 владелец  Оригинал  задний  Правый   \n",
       "\n",
       "                Состояние  sample  car_age  \n",
       "16944  Не требует ремонта       0      117  "
      ]
     },
     "execution_count": 31,
     "metadata": {},
     "output_type": "execute_result"
    }
   ],
   "source": [
    "data[data['car_age']==data['car_age'].max()]"
   ]
  },
  {
   "cell_type": "markdown",
   "metadata": {},
   "source": [
    "И тут мы столкнёмся с проблемой нелинейности цены в зависимости от возраста автомобиля. Автомобили, выпущенные между 1970 и 1990 уже считаются янгтаймерами, машины старше 1970 года выпуска - олдтаймеры. И при хорошем состоянии, цена автомобиля только растёт. Создадим бинарный признак, границу для отделения старых автомобилей, установим на отметке 1985 года"
   ]
  },
  {
   "cell_type": "code",
   "execution_count": 32,
   "metadata": {},
   "outputs": [],
   "source": [
    "data['car_class'] = data['productionDate'].apply(lambda s: get_class(s))"
   ]
  },
  {
   "cell_type": "code",
   "execution_count": 33,
   "metadata": {},
   "outputs": [
    {
     "data": {
      "text/plain": [
       "used        111763\n",
       "oldtimer       452\n",
       "Name: car_class, dtype: int64"
      ]
     },
     "execution_count": 33,
     "metadata": {},
     "output_type": "execute_result"
    }
   ],
   "source": [
    "# Посмотрим на результат\n",
    "data.car_class.value_counts()"
   ]
  },
  {
   "cell_type": "code",
   "execution_count": 34,
   "metadata": {},
   "outputs": [],
   "source": [
    "#Удалим колонку productionDate\n",
    "data.drop(['productionDate'], axis=1, inplace=True)"
   ]
  },
  {
   "cell_type": "markdown",
   "metadata": {},
   "source": [
    "### Brand\n",
    "\n",
    "Наименование автопроизводителя"
   ]
  },
  {
   "cell_type": "code",
   "execution_count": 35,
   "metadata": {},
   "outputs": [
    {
     "data": {
      "text/plain": [
       "BMW              13134\n",
       "Toyota           11049\n",
       "Volkswagen        9895\n",
       "Nissan            9233\n",
       "Mercedes-Benz     8951\n",
       "Mitsubishi        6838\n",
       "Audi              6692\n",
       "Skoda             6598\n",
       "VOLKSWAGEN        4404\n",
       "NISSAN            4393\n",
       "MERCEDES          4180\n",
       "TOYOTA            3913\n",
       "AUDI              3421\n",
       "Honda             3207\n",
       "MITSUBISHI        2843\n",
       "SKODA             2741\n",
       "Lexus             2661\n",
       "Volvo             2367\n",
       "VOLVO             1463\n",
       "Infiniti          1377\n",
       "HONDA             1150\n",
       "INFINITI           871\n",
       "LEXUS              834\n",
       "Name: brand, dtype: int64"
      ]
     },
     "execution_count": 35,
     "metadata": {},
     "output_type": "execute_result"
    }
   ],
   "source": [
    "data.brand.value_counts()"
   ]
  },
  {
   "cell_type": "markdown",
   "metadata": {},
   "source": [
    "Позиции дублируются, это связано с тем, что в тестовой и обучающей выборках наименования автомобилей записаны в разном формате. Приведём их к общему виду. За исключением Mercedes-Benz, можно обойтись изменением регистра"
   ]
  },
  {
   "cell_type": "code",
   "execution_count": 36,
   "metadata": {},
   "outputs": [],
   "source": [
    "data['brand'] = data['brand'].apply(lambda s: 'mercedes' if s=='Mercedes-Benz' else s.lower())"
   ]
  },
  {
   "cell_type": "code",
   "execution_count": 37,
   "metadata": {},
   "outputs": [
    {
     "data": {
      "text/plain": [
       "toyota        14962\n",
       "volkswagen    14299\n",
       "nissan        13626\n",
       "bmw           13134\n",
       "mercedes      13131\n",
       "audi          10113\n",
       "mitsubishi     9681\n",
       "skoda          9339\n",
       "honda          4357\n",
       "volvo          3830\n",
       "lexus          3495\n",
       "infiniti       2248\n",
       "Name: brand, dtype: int64"
      ]
     },
     "execution_count": 37,
     "metadata": {},
     "output_type": "execute_result"
    }
   ],
   "source": [
    "#Посмотрим на полученный результат\n",
    "data.brand.value_counts()"
   ]
  },
  {
   "cell_type": "markdown",
   "metadata": {},
   "source": [
    "На выходе мы получили категориальный признак 12 уникальных значений"
   ]
  },
  {
   "cell_type": "markdown",
   "metadata": {},
   "source": [
    "### model_name\n",
    "\n",
    "Название модели автомобиля"
   ]
  },
  {
   "cell_type": "code",
   "execution_count": 38,
   "metadata": {},
   "outputs": [
    {
     "data": {
      "text/plain": [
       "['02',\n",
       " '100',\n",
       " '1200',\n",
       " '164',\n",
       " '180sx',\n",
       " '190',\n",
       " '190_SL',\n",
       " '1ER',\n",
       " '1m',\n",
       " '200',\n",
       " '200sx',\n",
       " '240_series',\n",
       " '240sx',\n",
       " '3000',\n",
       " '300zx',\n",
       " '321',\n",
       " '340',\n",
       " '350z',\n",
       " '370z',\n",
       " '440',\n",
       " '460',\n",
       " '480',\n",
       " '4runner',\n",
       " '502',\n",
       " '740',\n",
       " '760',\n",
       " '80',\n",
       " '850',\n",
       " '90',\n",
       " '920',\n",
       " '940',\n",
       " '960',\n",
       " 'ALMERA_CLASSIC',\n",
       " 'ALMERA_TINO',\n",
       " 'A_KLASSE',\n",
       " 'Allroad',\n",
       " 'BLUEBIRD_SYLPHY',\n",
       " 'B_KLASSE',\n",
       " 'CAMRY_SOLARA',\n",
       " 'CARINA_E',\n",
       " 'CARINA_ED',\n",
       " 'CLA_KLASSE',\n",
       " 'CLC_KLASSE',\n",
       " 'CLK_KLASSE',\n",
       " 'CLS_KLASSE',\n",
       " 'CL_KLASSE',\n",
       " 'COROLLA_II',\n",
       " 'COROLLA_LEVIN',\n",
       " 'COROLLA_RUMION',\n",
       " 'COROLLA_SPACIO',\n",
       " 'COROLLA_VERSO',\n",
       " 'CROWN_MAJESTA',\n",
       " 'CR_V',\n",
       " 'CR_X',\n",
       " 'CR_Z',\n",
       " 'C_HR',\n",
       " 'C_KLASSE',\n",
       " 'Civic_Ferio',\n",
       " 'Civic_Type_R',\n",
       " 'DAYZ_ROOX',\n",
       " 'DELICA_D2',\n",
       " 'DELICA_D_5',\n",
       " 'ECLIPSE_CROSS',\n",
       " 'EK_WAGON',\n",
       " 'E_KLASSE',\n",
       " 'E_TRON',\n",
       " 'FAIRLADY_Z',\n",
       " 'FJ_CRUISER',\n",
       " 'FR_V',\n",
       " 'GLA_CLASS',\n",
       " 'GLB_KLASSE',\n",
       " 'GLE_KLASSE',\n",
       " 'GLE_KLASSE_COUPE',\n",
       " 'GLK_KLASSE',\n",
       " 'GLS_KLASSE',\n",
       " 'GL_KLASSE',\n",
       " 'GOLF_GTI',\n",
       " 'GOLF_PLUS',\n",
       " 'GOLF_R',\n",
       " 'GOLF_R32',\n",
       " 'GRAND_HIACE',\n",
       " 'GT_R',\n",
       " 'G_KLASSE',\n",
       " 'HILUX_SURF',\n",
       " 'HR_V',\n",
       " 'JUKE_NISMO',\n",
       " 'LANCER_EVOLUTION',\n",
       " 'LANCER_RALLIART',\n",
       " 'LITE_ACE',\n",
       " 'MARK_X',\n",
       " 'MARK_X_ZIO',\n",
       " 'MONTERO_SPORT',\n",
       " 'MR_S',\n",
       " 'M_KLASSE',\n",
       " 'N_BOX',\n",
       " 'N_WGN',\n",
       " 'Octavia_RS',\n",
       " 'PAJERO_IO',\n",
       " 'PAJERO_MINI',\n",
       " 'PAJERO_PININ',\n",
       " 'PASSAT_CC',\n",
       " 'PRIUSPLUS',\n",
       " 'PRIUS_ALPHA',\n",
       " 'QASHQAI_PLUS_2',\n",
       " 'RAV_4',\n",
       " 'RNESSA',\n",
       " 'RS3',\n",
       " 'RS4',\n",
       " 'RS5',\n",
       " 'RS6',\n",
       " 'RSQ3',\n",
       " 'R_KLASSE',\n",
       " 'SCEPTER_SEDAN',\n",
       " 'SLC_KLASSE',\n",
       " 'SLK_KLASSE',\n",
       " 'SLK_KLASSE_AMG',\n",
       " 'SLR_KLASSE',\n",
       " 'SL_KLASSE',\n",
       " 'SPACE_GEAR',\n",
       " 'SPACE_RUNNER',\n",
       " 'SPACE_STAR',\n",
       " 'SPRINTER_CARIB',\n",
       " 'SPRINTER_MARINO',\n",
       " 'SPRINTER_TRUENO',\n",
       " 'S_CLASS_MAYBACH',\n",
       " 'S_KLASSE',\n",
       " 'TERRANO_REGULUS',\n",
       " 'TTRS',\n",
       " 'TYPE_1',\n",
       " 'TYPE_2',\n",
       " 'V40_CC',\n",
       " 'V_KLASSE',\n",
       " 'WILL_CYPHA',\n",
       " 'X3_M',\n",
       " 'X_KLASSE',\n",
       " 'X_TRAIL',\n",
       " 'a1',\n",
       " 'a2',\n",
       " 'a3',\n",
       " 'a4',\n",
       " 'a5',\n",
       " 'a6',\n",
       " 'a7',\n",
       " 'a8',\n",
       " 'accord',\n",
       " 'acty',\n",
       " 'ad',\n",
       " 'airtrek',\n",
       " 'airwave',\n",
       " 'allex',\n",
       " 'allion',\n",
       " 'almera',\n",
       " 'alphard',\n",
       " 'altezza',\n",
       " 'altima',\n",
       " 'amarok',\n",
       " 'aqua',\n",
       " 'aristo',\n",
       " 'armada',\n",
       " 'arteon',\n",
       " 'ascot',\n",
       " 'aspire',\n",
       " 'asx',\n",
       " 'auris',\n",
       " 'avalon',\n",
       " 'avancier',\n",
       " 'avenir',\n",
       " 'avensis',\n",
       " 'aygo',\n",
       " 'bassara',\n",
       " 'bb',\n",
       " 'beat',\n",
       " 'beetle',\n",
       " 'belta',\n",
       " 'bluebird',\n",
       " 'bora',\n",
       " 'brevis',\n",
       " 'c30',\n",
       " 'c70',\n",
       " 'cabriolet',\n",
       " 'caddy',\n",
       " 'caldina',\n",
       " 'california',\n",
       " 'cami',\n",
       " 'camry',\n",
       " 'capa',\n",
       " 'caravan',\n",
       " 'caravelle',\n",
       " 'carina',\n",
       " 'carisma',\n",
       " 'cavalier',\n",
       " 'cedric',\n",
       " 'cefiro',\n",
       " 'celica',\n",
       " 'challenger',\n",
       " 'chariot',\n",
       " 'chaser',\n",
       " 'cima',\n",
       " 'citan',\n",
       " 'city',\n",
       " 'civic',\n",
       " 'colt',\n",
       " 'concerto',\n",
       " 'corolla',\n",
       " 'corona',\n",
       " 'corrado',\n",
       " 'corsa',\n",
       " 'coupe',\n",
       " 'cresta',\n",
       " 'crossroad',\n",
       " 'crosstour',\n",
       " 'crown',\n",
       " 'ct',\n",
       " 'cube',\n",
       " 'curren',\n",
       " 'cynos',\n",
       " 'datsun',\n",
       " 'dayz',\n",
       " 'delica',\n",
       " 'diamante',\n",
       " 'dingo',\n",
       " 'dion',\n",
       " 'domani',\n",
       " 'dualis',\n",
       " 'duet',\n",
       " 'echo',\n",
       " 'eclipse',\n",
       " 'edix',\n",
       " 'ek',\n",
       " 'element',\n",
       " 'elgrand',\n",
       " 'elysion',\n",
       " 'emeraude',\n",
       " 'endeavor',\n",
       " 'eos',\n",
       " 'eqc',\n",
       " 'eqs',\n",
       " 'eqv',\n",
       " 'es',\n",
       " 'esquire',\n",
       " 'estima',\n",
       " 'eterna',\n",
       " 'eurovan',\n",
       " 'ex',\n",
       " 'expert',\n",
       " 'fabia',\n",
       " 'favorit',\n",
       " 'felicia',\n",
       " 'fit',\n",
       " 'forman',\n",
       " 'fortuner',\n",
       " 'fox',\n",
       " 'freed',\n",
       " 'fto',\n",
       " 'fuga',\n",
       " 'funcargo',\n",
       " 'fx',\n",
       " 'g',\n",
       " 'gaia',\n",
       " 'galant',\n",
       " 'glc',\n",
       " 'gloria',\n",
       " 'golf',\n",
       " 'grace',\n",
       " 'grandis',\n",
       " 'granvia',\n",
       " 'gs',\n",
       " 'gt86',\n",
       " 'gx',\n",
       " 'harrier',\n",
       " 'highlander',\n",
       " 'hilux',\n",
       " 'homy',\n",
       " 'hs',\n",
       " 'i',\n",
       " 'i3',\n",
       " 'i8',\n",
       " 'insight',\n",
       " 'inspire',\n",
       " 'integra',\n",
       " 'ipsum',\n",
       " 'iq',\n",
       " 'is',\n",
       " 'isis',\n",
       " 'ist',\n",
       " 'jade',\n",
       " 'jazz',\n",
       " 'jetta',\n",
       " 'juke',\n",
       " 'jx',\n",
       " 'karmann-ghia',\n",
       " 'karoq',\n",
       " 'kix',\n",
       " 'kluger',\n",
       " 'kodiaq',\n",
       " 'l200',\n",
       " 'l400',\n",
       " 'lafesta',\n",
       " 'lancer',\n",
       " 'langley',\n",
       " 'largo',\n",
       " 'laurel',\n",
       " 'leaf',\n",
       " 'legend',\n",
       " 'legnum',\n",
       " 'libero',\n",
       " 'liberty',\n",
       " 'life',\n",
       " 'logo',\n",
       " 'ls',\n",
       " 'lucino',\n",
       " 'lupo',\n",
       " 'lx',\n",
       " 'm',\n",
       " 'm2',\n",
       " 'm3',\n",
       " 'm4',\n",
       " 'm5',\n",
       " 'm6',\n",
       " 'm8',\n",
       " 'march',\n",
       " 'matrix',\n",
       " 'maxima',\n",
       " 'mdx',\n",
       " 'metris',\n",
       " 'micra',\n",
       " 'minica',\n",
       " 'minicab',\n",
       " 'mirage',\n",
       " 'mistral',\n",
       " 'mobilio',\n",
       " 'moco',\n",
       " 'montero',\n",
       " 'multivan',\n",
       " 'murano',\n",
       " 'nadia',\n",
       " 'navara',\n",
       " 'new',\n",
       " 'noah',\n",
       " 'note',\n",
       " 'np300',\n",
       " 'nv100',\n",
       " 'nv200',\n",
       " 'nv350',\n",
       " 'nx',\n",
       " 'octavia',\n",
       " 'odyssey',\n",
       " 'opa',\n",
       " 'orthia',\n",
       " 'otti',\n",
       " 'outlander',\n",
       " 'pajero',\n",
       " 'partner',\n",
       " 'passat',\n",
       " 'passo',\n",
       " 'passport',\n",
       " 'pathfinder',\n",
       " 'patrol',\n",
       " 'phaeton',\n",
       " 'picnic',\n",
       " 'pilot',\n",
       " 'pixis',\n",
       " 'pixo',\n",
       " 'platz',\n",
       " 'pointer',\n",
       " 'polo',\n",
       " 'porte',\n",
       " 'prairie',\n",
       " 'prelude',\n",
       " 'premio',\n",
       " 'presage',\n",
       " 'presea',\n",
       " 'president',\n",
       " 'previa',\n",
       " 'primera',\n",
       " 'prius',\n",
       " 'probox',\n",
       " 'progres',\n",
       " 'pronard',\n",
       " 'pulsar',\n",
       " 'q',\n",
       " 'q2',\n",
       " 'q30',\n",
       " 'q5',\n",
       " 'q50',\n",
       " 'q60',\n",
       " 'q7',\n",
       " 'q70',\n",
       " 'q8',\n",
       " 'qashqai',\n",
       " 'quest',\n",
       " 'qx30',\n",
       " 'qx4',\n",
       " 'qx50',\n",
       " 'qx56',\n",
       " 'qx60',\n",
       " 'qx70',\n",
       " 'qx80',\n",
       " 'r8',\n",
       " 'ractis',\n",
       " 'rafaga',\n",
       " 'raize',\n",
       " 'rapid',\n",
       " 'rasheen',\n",
       " 'raum',\n",
       " 'rc',\n",
       " 'regius',\n",
       " 'regiusace',\n",
       " 'ridgeline',\n",
       " 'rogue',\n",
       " 'roomster',\n",
       " 'roomy',\n",
       " 'rush',\n",
       " 'rvr',\n",
       " 'rx',\n",
       " 's-mx',\n",
       " 's2',\n",
       " 's2000',\n",
       " 's3',\n",
       " 's4',\n",
       " 's40',\n",
       " 's5',\n",
       " 's6',\n",
       " 's60',\n",
       " 's660',\n",
       " 's7',\n",
       " 's70',\n",
       " 's8',\n",
       " 's80',\n",
       " 's90',\n",
       " 'saber',\n",
       " 'safari',\n",
       " 'sai',\n",
       " 'santana',\n",
       " 'sc',\n",
       " 'scirocco',\n",
       " 'sentra',\n",
       " 'sequoia',\n",
       " 'serena',\n",
       " 'sharan',\n",
       " 'shuttle',\n",
       " 'sienna',\n",
       " 'sienta',\n",
       " 'sigma',\n",
       " 'silvia',\n",
       " 'skyline',\n",
       " 'soarer',\n",
       " 'spade',\n",
       " 'sparky',\n",
       " 'sprinter',\n",
       " 'sq5',\n",
       " 'sq7',\n",
       " 'sq8',\n",
       " 'stagea',\n",
       " 'starlet',\n",
       " 'stepwgn',\n",
       " 'stream',\n",
       " 'succeed',\n",
       " 'sunny',\n",
       " 'superb',\n",
       " 'supra',\n",
       " 't-roc',\n",
       " 'tacoma',\n",
       " 'tank',\n",
       " 'taos',\n",
       " 'teana',\n",
       " 'teramont',\n",
       " 'tercel',\n",
       " 'terrano',\n",
       " 'tharu',\n",
       " 'tiguan',\n",
       " 'tiida',\n",
       " 'titan',\n",
       " 'toppo',\n",
       " 'torneo',\n",
       " 'touareg',\n",
       " 'touran',\n",
       " 'transporter',\n",
       " 'tt',\n",
       " 'tts',\n",
       " 'tundra',\n",
       " 'urvan',\n",
       " 'ux',\n",
       " 'v40',\n",
       " 'v50',\n",
       " 'v60',\n",
       " 'v70',\n",
       " 'v8',\n",
       " 'v90',\n",
       " 'vamos',\n",
       " 'vaneo',\n",
       " 'vanette',\n",
       " 'vellfire',\n",
       " 'vento',\n",
       " 'venza',\n",
       " 'verossa',\n",
       " 'vezel',\n",
       " 'viano',\n",
       " 'vigor',\n",
       " 'vista',\n",
       " 'vito',\n",
       " 'vitz',\n",
       " 'voltz',\n",
       " 'voxy',\n",
       " 'w108',\n",
       " 'w111',\n",
       " 'w114',\n",
       " 'w115',\n",
       " 'w123',\n",
       " 'w124',\n",
       " 'w128',\n",
       " 'w136',\n",
       " 'w142',\n",
       " 'w186',\n",
       " 'w189',\n",
       " 'will',\n",
       " 'windom',\n",
       " 'wingroad',\n",
       " 'wish',\n",
       " 'x1',\n",
       " 'x2',\n",
       " 'x3',\n",
       " 'x4',\n",
       " 'x5',\n",
       " 'x6',\n",
       " 'x7',\n",
       " 'xc40',\n",
       " 'xc60',\n",
       " 'xc70',\n",
       " 'xc90',\n",
       " 'xterra',\n",
       " 'yaris',\n",
       " 'yeti',\n",
       " 'z1',\n",
       " 'z3',\n",
       " 'z4',\n",
       " 'zest']"
      ]
     },
     "execution_count": 38,
     "metadata": {},
     "output_type": "execute_result"
    }
   ],
   "source": [
    "sorted(train.model_name.unique())"
   ]
  },
  {
   "cell_type": "code",
   "execution_count": 39,
   "metadata": {},
   "outputs": [],
   "source": [
    "#приведём данные к одному виду\n",
    "data['model_name'] = data['model_name'].apply(lambda s: str(s).lower())"
   ]
  },
  {
   "cell_type": "code",
   "execution_count": 40,
   "metadata": {},
   "outputs": [
    {
     "data": {
      "text/plain": [
       "1er                5031\n",
       "octavia            4374\n",
       "polo               3262\n",
       "camry              2668\n",
       "e_klasse           2458\n",
       "                   ... \n",
       "yaris_verso           1\n",
       "sai                   1\n",
       "180sx                 1\n",
       "eterna                1\n",
       "master_ace_surf       1\n",
       "Name: model_name, Length: 626, dtype: int64"
      ]
     },
     "execution_count": 40,
     "metadata": {},
     "output_type": "execute_result"
    }
   ],
   "source": [
    "data.model_name.value_counts()"
   ]
  },
  {
   "cell_type": "markdown",
   "metadata": {},
   "source": [
    "Категориальный признак 626 значений"
   ]
  },
  {
   "cell_type": "markdown",
   "metadata": {},
   "source": [
    "### bodyType\n",
    "\n",
    "Тип кузова"
   ]
  },
  {
   "cell_type": "code",
   "execution_count": 41,
   "metadata": {},
   "outputs": [
    {
     "data": {
      "text/plain": [
       "внедорожник 5 дв.          42162\n",
       "седан                      39934\n",
       "лифтбек                     7699\n",
       "хэтчбек 5 дв.               6874\n",
       "универсал 5 дв.             3964\n",
       "минивэн                     3258\n",
       "купе                        2347\n",
       "компактвэн                  1832\n",
       "хэтчбек 3 дв.               1229\n",
       "пикап двойная кабина        1036\n",
       "купе-хардтоп                 419\n",
       "внедорожник 3 дв.            377\n",
       "фургон                       322\n",
       "кабриолет                    279\n",
       "родстер                      270\n",
       "седан-хардтоп                 88\n",
       "микровэн                      44\n",
       "седан 2 дв.                   23\n",
       "пикап одинарная кабина        21\n",
       "пикап полуторная кабина       16\n",
       "лимузин                       11\n",
       "внедорожник открытый           5\n",
       "тарга                          4\n",
       "фастбек                        1\n",
       "Name: bodyType, dtype: int64"
      ]
     },
     "execution_count": 41,
     "metadata": {},
     "output_type": "execute_result"
    }
   ],
   "source": [
    "data.bodyType.value_counts()"
   ]
  },
  {
   "cell_type": "markdown",
   "metadata": {},
   "source": [
    "Сократим количество признаков"
   ]
  },
  {
   "cell_type": "code",
   "execution_count": 42,
   "metadata": {},
   "outputs": [],
   "source": [
    "data['bodyType'] = data['bodyType'].apply(lambda s: str(s).split(' ')[0])\n",
    "#группируем типы кузова\n",
    "data['bodyType'] = data['bodyType'].apply(lambda s: get_types(s))"
   ]
  },
  {
   "cell_type": "code",
   "execution_count": 43,
   "metadata": {},
   "outputs": [
    {
     "data": {
      "text/plain": [
       "suv        42544\n",
       "sedan      40045\n",
       "hatch      15802\n",
       "van         5134\n",
       "family      3964\n",
       "gt          3320\n",
       "truck       1395\n",
       "premium       11\n",
       "Name: bodyType, dtype: int64"
      ]
     },
     "execution_count": 43,
     "metadata": {},
     "output_type": "execute_result"
    }
   ],
   "source": [
    "data.bodyType.value_counts()"
   ]
  },
  {
   "cell_type": "markdown",
   "metadata": {},
   "source": [
    "На выходе мы получили 7 уникальных значений"
   ]
  },
  {
   "cell_type": "markdown",
   "metadata": {},
   "source": [
    "### engineDisplacement\n",
    "\n",
    "Объём двигателя"
   ]
  },
  {
   "cell_type": "code",
   "execution_count": 44,
   "metadata": {},
   "outputs": [
    {
     "data": {
      "text/plain": [
       "2.0        16330\n",
       "3.0         8000\n",
       "2.0 LTR     7391\n",
       "1.6         7252\n",
       "1.6 LTR     4973\n",
       "           ...  \n",
       "3.9 LTR        1\n",
       "6.8            1\n",
       "6.3            1\n",
       "5.3 LTR        1\n",
       "5.8            1\n",
       "Name: engineDisplacement, Length: 160, dtype: int64"
      ]
     },
     "execution_count": 44,
     "metadata": {},
     "output_type": "execute_result"
    }
   ],
   "source": [
    "data.engineDisplacement.value_counts()"
   ]
  },
  {
   "cell_type": "markdown",
   "metadata": {},
   "source": [
    "Необходимо убрать LTR"
   ]
  },
  {
   "cell_type": "code",
   "execution_count": 45,
   "metadata": {},
   "outputs": [],
   "source": [
    "data['engineDisplacement'] = data['engineDisplacement'].apply(lambda s: str(s).replace(' LTR', ''))"
   ]
  },
  {
   "cell_type": "code",
   "execution_count": 46,
   "metadata": {},
   "outputs": [],
   "source": [
    "data['engineDisplacement'] = data['engineDisplacement'].apply(lambda s: str(s).replace('', 'EV'))"
   ]
  },
  {
   "cell_type": "code",
   "execution_count": 47,
   "metadata": {},
   "outputs": [
    {
     "data": {
      "text/html": [
       "<div>\n",
       "<style scoped>\n",
       "    .dataframe tbody tr th:only-of-type {\n",
       "        vertical-align: middle;\n",
       "    }\n",
       "\n",
       "    .dataframe tbody tr th {\n",
       "        vertical-align: top;\n",
       "    }\n",
       "\n",
       "    .dataframe thead th {\n",
       "        text-align: right;\n",
       "    }\n",
       "</style>\n",
       "<table border=\"1\" class=\"dataframe\">\n",
       "  <thead>\n",
       "    <tr style=\"text-align: right;\">\n",
       "      <th></th>\n",
       "      <th>color</th>\n",
       "      <th>car_price</th>\n",
       "      <th>mileage</th>\n",
       "      <th>brand</th>\n",
       "      <th>model_name</th>\n",
       "      <th>bodyType</th>\n",
       "      <th>engineDisplacement</th>\n",
       "      <th>enginePower</th>\n",
       "      <th>fuelType</th>\n",
       "      <th>sell_id</th>\n",
       "      <th>vehicleTransmission</th>\n",
       "      <th>Владельцы</th>\n",
       "      <th>ПТС</th>\n",
       "      <th>Привод</th>\n",
       "      <th>Руль</th>\n",
       "      <th>Состояние</th>\n",
       "      <th>sample</th>\n",
       "      <th>car_age</th>\n",
       "      <th>car_class</th>\n",
       "    </tr>\n",
       "  </thead>\n",
       "  <tbody>\n",
       "    <tr>\n",
       "      <th>77468</th>\n",
       "      <td>dark</td>\n",
       "      <td>2950000</td>\n",
       "      <td>19000.0</td>\n",
       "      <td>bmw</td>\n",
       "      <td>i3</td>\n",
       "      <td>hatch</td>\n",
       "      <td>EV</td>\n",
       "      <td>184</td>\n",
       "      <td>электро</td>\n",
       "      <td>1.106052e+09</td>\n",
       "      <td>автоматическая</td>\n",
       "      <td>2владельца</td>\n",
       "      <td>Оригинал</td>\n",
       "      <td>задний</td>\n",
       "      <td>Левый</td>\n",
       "      <td>Не требует ремонта</td>\n",
       "      <td>1</td>\n",
       "      <td>3</td>\n",
       "      <td>used</td>\n",
       "    </tr>\n",
       "    <tr>\n",
       "      <th>77469</th>\n",
       "      <td>white</td>\n",
       "      <td>2260000</td>\n",
       "      <td>20000.0</td>\n",
       "      <td>bmw</td>\n",
       "      <td>i3</td>\n",
       "      <td>hatch</td>\n",
       "      <td>EV</td>\n",
       "      <td>184</td>\n",
       "      <td>электро</td>\n",
       "      <td>1.106013e+09</td>\n",
       "      <td>автоматическая</td>\n",
       "      <td>3 или более</td>\n",
       "      <td>Оригинал</td>\n",
       "      <td>задний</td>\n",
       "      <td>Левый</td>\n",
       "      <td>Не требует ремонта</td>\n",
       "      <td>1</td>\n",
       "      <td>3</td>\n",
       "      <td>used</td>\n",
       "    </tr>\n",
       "    <tr>\n",
       "      <th>77472</th>\n",
       "      <td>dark</td>\n",
       "      <td>3110000</td>\n",
       "      <td>27000.0</td>\n",
       "      <td>bmw</td>\n",
       "      <td>i3</td>\n",
       "      <td>hatch</td>\n",
       "      <td>EV</td>\n",
       "      <td>184</td>\n",
       "      <td>электро</td>\n",
       "      <td>1.106051e+09</td>\n",
       "      <td>автоматическая</td>\n",
       "      <td>3 или более</td>\n",
       "      <td>Оригинал</td>\n",
       "      <td>задний</td>\n",
       "      <td>Левый</td>\n",
       "      <td>Не требует ремонта</td>\n",
       "      <td>1</td>\n",
       "      <td>2</td>\n",
       "      <td>used</td>\n",
       "    </tr>\n",
       "    <tr>\n",
       "      <th>77474</th>\n",
       "      <td>white</td>\n",
       "      <td>1680000</td>\n",
       "      <td>82000.0</td>\n",
       "      <td>bmw</td>\n",
       "      <td>i3</td>\n",
       "      <td>hatch</td>\n",
       "      <td>EV</td>\n",
       "      <td>184</td>\n",
       "      <td>электро</td>\n",
       "      <td>1.105018e+09</td>\n",
       "      <td>автоматическая</td>\n",
       "      <td>1владелец</td>\n",
       "      <td>Оригинал</td>\n",
       "      <td>задний</td>\n",
       "      <td>Левый</td>\n",
       "      <td>Не требует ремонта</td>\n",
       "      <td>1</td>\n",
       "      <td>7</td>\n",
       "      <td>used</td>\n",
       "    </tr>\n",
       "    <tr>\n",
       "      <th>77475</th>\n",
       "      <td>dark</td>\n",
       "      <td>1540000</td>\n",
       "      <td>71000.0</td>\n",
       "      <td>bmw</td>\n",
       "      <td>i3</td>\n",
       "      <td>hatch</td>\n",
       "      <td>EV</td>\n",
       "      <td>184</td>\n",
       "      <td>электро</td>\n",
       "      <td>1.106021e+09</td>\n",
       "      <td>автоматическая</td>\n",
       "      <td>1владелец</td>\n",
       "      <td>Оригинал</td>\n",
       "      <td>задний</td>\n",
       "      <td>Левый</td>\n",
       "      <td>Не требует ремонта</td>\n",
       "      <td>1</td>\n",
       "      <td>7</td>\n",
       "      <td>used</td>\n",
       "    </tr>\n",
       "    <tr>\n",
       "      <th>...</th>\n",
       "      <td>...</td>\n",
       "      <td>...</td>\n",
       "      <td>...</td>\n",
       "      <td>...</td>\n",
       "      <td>...</td>\n",
       "      <td>...</td>\n",
       "      <td>...</td>\n",
       "      <td>...</td>\n",
       "      <td>...</td>\n",
       "      <td>...</td>\n",
       "      <td>...</td>\n",
       "      <td>...</td>\n",
       "      <td>...</td>\n",
       "      <td>...</td>\n",
       "      <td>...</td>\n",
       "      <td>...</td>\n",
       "      <td>...</td>\n",
       "      <td>...</td>\n",
       "      <td>...</td>\n",
       "    </tr>\n",
       "    <tr>\n",
       "      <th>32668</th>\n",
       "      <td>black</td>\n",
       "      <td>0</td>\n",
       "      <td>100.0</td>\n",
       "      <td>nissan</td>\n",
       "      <td>leaf</td>\n",
       "      <td>hatch</td>\n",
       "      <td>EV</td>\n",
       "      <td>150 N12</td>\n",
       "      <td>электро</td>\n",
       "      <td>1.101206e+09</td>\n",
       "      <td>автоматическая</td>\n",
       "      <td>1 владелец</td>\n",
       "      <td>Оригинал</td>\n",
       "      <td>передний</td>\n",
       "      <td>Левый</td>\n",
       "      <td>Не требует ремонта</td>\n",
       "      <td>0</td>\n",
       "      <td>3</td>\n",
       "      <td>used</td>\n",
       "    </tr>\n",
       "    <tr>\n",
       "      <th>32700</th>\n",
       "      <td>bright</td>\n",
       "      <td>0</td>\n",
       "      <td>29500.0</td>\n",
       "      <td>nissan</td>\n",
       "      <td>leaf</td>\n",
       "      <td>hatch</td>\n",
       "      <td>EV</td>\n",
       "      <td>109 N12</td>\n",
       "      <td>электро</td>\n",
       "      <td>1.101341e+09</td>\n",
       "      <td>автоматическая</td>\n",
       "      <td>1 владелец</td>\n",
       "      <td>Оригинал</td>\n",
       "      <td>передний</td>\n",
       "      <td>Правый</td>\n",
       "      <td>Не требует ремонта</td>\n",
       "      <td>0</td>\n",
       "      <td>10</td>\n",
       "      <td>used</td>\n",
       "    </tr>\n",
       "    <tr>\n",
       "      <th>32798</th>\n",
       "      <td>black</td>\n",
       "      <td>0</td>\n",
       "      <td>50000.0</td>\n",
       "      <td>nissan</td>\n",
       "      <td>leaf</td>\n",
       "      <td>hatch</td>\n",
       "      <td>EV</td>\n",
       "      <td>109 N12</td>\n",
       "      <td>электро</td>\n",
       "      <td>1.091614e+09</td>\n",
       "      <td>автоматическая</td>\n",
       "      <td>1 владелец</td>\n",
       "      <td>Оригинал</td>\n",
       "      <td>передний</td>\n",
       "      <td>Правый</td>\n",
       "      <td>Не требует ремонта</td>\n",
       "      <td>0</td>\n",
       "      <td>8</td>\n",
       "      <td>used</td>\n",
       "    </tr>\n",
       "    <tr>\n",
       "      <th>34159</th>\n",
       "      <td>white</td>\n",
       "      <td>0</td>\n",
       "      <td>28900.0</td>\n",
       "      <td>mercedes</td>\n",
       "      <td>b_klasse</td>\n",
       "      <td>hatch</td>\n",
       "      <td>EV</td>\n",
       "      <td>179 N12</td>\n",
       "      <td>электро</td>\n",
       "      <td>1.101371e+09</td>\n",
       "      <td>автоматическая</td>\n",
       "      <td>2 владельца</td>\n",
       "      <td>Оригинал</td>\n",
       "      <td>передний</td>\n",
       "      <td>Левый</td>\n",
       "      <td>Не требует ремонта</td>\n",
       "      <td>0</td>\n",
       "      <td>5</td>\n",
       "      <td>used</td>\n",
       "    </tr>\n",
       "    <tr>\n",
       "      <th>34504</th>\n",
       "      <td>black</td>\n",
       "      <td>0</td>\n",
       "      <td>103075.0</td>\n",
       "      <td>nissan</td>\n",
       "      <td>leaf</td>\n",
       "      <td>hatch</td>\n",
       "      <td>EV</td>\n",
       "      <td>109 N12</td>\n",
       "      <td>электро</td>\n",
       "      <td>1.101040e+09</td>\n",
       "      <td>автоматическая</td>\n",
       "      <td>2 владельца</td>\n",
       "      <td>Оригинал</td>\n",
       "      <td>передний</td>\n",
       "      <td>Правый</td>\n",
       "      <td>Не требует ремонта</td>\n",
       "      <td>0</td>\n",
       "      <td>8</td>\n",
       "      <td>used</td>\n",
       "    </tr>\n",
       "  </tbody>\n",
       "</table>\n",
       "<p>106 rows × 19 columns</p>\n",
       "</div>"
      ],
      "text/plain": [
       "        color  car_price   mileage     brand model_name bodyType  \\\n",
       "77468    dark    2950000   19000.0       bmw         i3    hatch   \n",
       "77469   white    2260000   20000.0       bmw         i3    hatch   \n",
       "77472    dark    3110000   27000.0       bmw         i3    hatch   \n",
       "77474   white    1680000   82000.0       bmw         i3    hatch   \n",
       "77475    dark    1540000   71000.0       bmw         i3    hatch   \n",
       "...       ...        ...       ...       ...        ...      ...   \n",
       "32668   black          0     100.0    nissan       leaf    hatch   \n",
       "32700  bright          0   29500.0    nissan       leaf    hatch   \n",
       "32798   black          0   50000.0    nissan       leaf    hatch   \n",
       "34159   white          0   28900.0  mercedes   b_klasse    hatch   \n",
       "34504   black          0  103075.0    nissan       leaf    hatch   \n",
       "\n",
       "      engineDisplacement enginePower fuelType       sell_id  \\\n",
       "77468                 EV         184  электро  1.106052e+09   \n",
       "77469                 EV         184  электро  1.106013e+09   \n",
       "77472                 EV         184  электро  1.106051e+09   \n",
       "77474                 EV         184  электро  1.105018e+09   \n",
       "77475                 EV         184  электро  1.106021e+09   \n",
       "...                  ...         ...      ...           ...   \n",
       "32668                 EV     150 N12  электро  1.101206e+09   \n",
       "32700                 EV     109 N12  электро  1.101341e+09   \n",
       "32798                 EV     109 N12  электро  1.091614e+09   \n",
       "34159                 EV     179 N12  электро  1.101371e+09   \n",
       "34504                 EV     109 N12  электро  1.101040e+09   \n",
       "\n",
       "      vehicleTransmission    Владельцы       ПТС    Привод    Руль  \\\n",
       "77468      автоматическая   2владельца  Оригинал    задний   Левый   \n",
       "77469      автоматическая  3 или более  Оригинал    задний   Левый   \n",
       "77472      автоматическая  3 или более  Оригинал    задний   Левый   \n",
       "77474      автоматическая    1владелец  Оригинал    задний   Левый   \n",
       "77475      автоматическая    1владелец  Оригинал    задний   Левый   \n",
       "...                   ...          ...       ...       ...     ...   \n",
       "32668      автоматическая   1 владелец  Оригинал  передний   Левый   \n",
       "32700      автоматическая   1 владелец  Оригинал  передний  Правый   \n",
       "32798      автоматическая   1 владелец  Оригинал  передний  Правый   \n",
       "34159      автоматическая  2 владельца  Оригинал  передний   Левый   \n",
       "34504      автоматическая  2 владельца  Оригинал  передний  Правый   \n",
       "\n",
       "                Состояние  sample  car_age car_class  \n",
       "77468  Не требует ремонта       1        3      used  \n",
       "77469  Не требует ремонта       1        3      used  \n",
       "77472  Не требует ремонта       1        2      used  \n",
       "77474  Не требует ремонта       1        7      used  \n",
       "77475  Не требует ремонта       1        7      used  \n",
       "...                   ...     ...      ...       ...  \n",
       "32668  Не требует ремонта       0        3      used  \n",
       "32700  Не требует ремонта       0       10      used  \n",
       "32798  Не требует ремонта       0        8      used  \n",
       "34159  Не требует ремонта       0        5      used  \n",
       "34504  Не требует ремонта       0        8      used  \n",
       "\n",
       "[106 rows x 19 columns]"
      ]
     },
     "execution_count": 47,
     "metadata": {},
     "output_type": "execute_result"
    }
   ],
   "source": [
    "data[data['engineDisplacement']=='EV']"
   ]
  },
  {
   "cell_type": "markdown",
   "metadata": {},
   "source": [
    "В этом признаке нулевые значения, что логично, принадлежат электромобилям. Более универсальной характеристикой двигателя является его мощность. Потому на данный момент от объёма двигателя можно отказаться."
   ]
  },
  {
   "cell_type": "code",
   "execution_count": 48,
   "metadata": {},
   "outputs": [],
   "source": [
    "data.drop(['engineDisplacement'], axis=1, inplace=True)"
   ]
  },
  {
   "cell_type": "markdown",
   "metadata": {},
   "source": [
    "### EnginePower\n",
    "\n",
    "Мощность двигателя"
   ]
  },
  {
   "cell_type": "code",
   "execution_count": 49,
   "metadata": {},
   "outputs": [
    {
     "data": {
      "text/plain": [
       "150        5427\n",
       "110        2529\n",
       "105        2454\n",
       "190        2006\n",
       "140        1950\n",
       "           ... \n",
       "321 N12       1\n",
       "42 N12        1\n",
       "431 N12       1\n",
       "261           1\n",
       "34            1\n",
       "Name: enginePower, Length: 673, dtype: int64"
      ]
     },
     "execution_count": 49,
     "metadata": {},
     "output_type": "execute_result"
    }
   ],
   "source": [
    "data.enginePower.value_counts()"
   ]
  },
  {
   "cell_type": "code",
   "execution_count": 50,
   "metadata": {},
   "outputs": [],
   "source": [
    "# Уберём N12\n",
    "data['enginePower'] = data['enginePower'].apply(lambda s: str(s).replace(' N12', ''))"
   ]
  },
  {
   "cell_type": "code",
   "execution_count": 51,
   "metadata": {},
   "outputs": [],
   "source": [
    "#Переведём обратно в integer\n",
    "data['enginePower'] = data['enginePower'].apply(lambda s: int(s))"
   ]
  },
  {
   "cell_type": "code",
   "execution_count": 52,
   "metadata": {},
   "outputs": [
    {
     "data": {
      "text/plain": [
       "<AxesSubplot:>"
      ]
     },
     "execution_count": 52,
     "metadata": {},
     "output_type": "execute_result"
    },
    {
     "data": {
      "image/png": "[encoded data removed]",
      "text/plain": [
       "<Figure size 432x288 with 1 Axes>"
      ]
     },
     "metadata": {
      "needs_background": "light"
     },
     "output_type": "display_data"
    }
   ],
   "source": [
    "#Посмтрим на распределение полученных данных\n",
    "data.enginePower.hist(bins=20)"
   ]
  },
  {
   "cell_type": "code",
   "execution_count": 53,
   "metadata": {},
   "outputs": [],
   "source": [
    "#get_quantile(data, 'enginePower')"
   ]
  },
  {
   "cell_type": "markdown",
   "metadata": {},
   "source": [
    "Распределение имеет правый хвост, большой мощностью обладают дорогие люксовые автомобили. Пока оставим как есть, при необходимости стандартизируем"
   ]
  },
  {
   "cell_type": "code",
   "execution_count": 54,
   "metadata": {},
   "outputs": [],
   "source": [
    "#Посмотрим на мощные автомобили\n",
    "#data.query('enginePower>400 & car_age>5')"
   ]
  },
  {
   "cell_type": "markdown",
   "metadata": {},
   "source": [
    "### fuelType\n",
    "\n",
    "Тип топлива"
   ]
  },
  {
   "cell_type": "code",
   "execution_count": 55,
   "metadata": {},
   "outputs": [
    {
     "data": {
      "text/plain": [
       " Бензин                                50040\n",
       "бензин                                 28601\n",
       " Дизель                                23274\n",
       "дизель                                  5800\n",
       " Гибрид                                 2800\n",
       " Бензин, газобаллонное оборудование      900\n",
       "гибрид                                   223\n",
       " Дизель, газобаллонное оборудование      220\n",
       " Газ                                     211\n",
       "электро                                  116\n",
       " Гибрид, газобаллонное оборудование       19\n",
       "газ                                        7\n",
       " Газ, газобаллонное оборудование           4\n",
       "Name: fuelType, dtype: int64"
      ]
     },
     "execution_count": 55,
     "metadata": {},
     "output_type": "execute_result"
    }
   ],
   "source": [
    "data.fuelType.value_counts()"
   ]
  },
  {
   "cell_type": "code",
   "execution_count": 56,
   "metadata": {},
   "outputs": [],
   "source": [
    "#Приведём к единому регистру\n",
    "data['fuelType'] = data['fuelType'].apply(lambda s: str(s).lower())\n",
    "data['fuelType'] = data['fuelType'].apply(lambda s: str(s).replace(' ', ''))"
   ]
  },
  {
   "cell_type": "code",
   "execution_count": 57,
   "metadata": {},
   "outputs": [],
   "source": [
    "data['fuelType'] = data['fuelType'].apply(lambda s: fuel_type(str(s).split(',')))"
   ]
  },
  {
   "cell_type": "code",
   "execution_count": 58,
   "metadata": {},
   "outputs": [
    {
     "data": {
      "text/plain": [
       "бензин     79541\n",
       "дизель     29294\n",
       "гибрид      3042\n",
       "газ          222\n",
       "электро      116\n",
       "Name: fuelType, dtype: int64"
      ]
     },
     "execution_count": 58,
     "metadata": {},
     "output_type": "execute_result"
    }
   ],
   "source": [
    "#Результат\n",
    "data.fuelType.value_counts()"
   ]
  },
  {
   "cell_type": "markdown",
   "metadata": {},
   "source": [
    "На выходе мы получили категориальный признак. 5 уникальных значений."
   ]
  },
  {
   "cell_type": "markdown",
   "metadata": {},
   "source": [
    "### vehicleTransmission"
   ]
  },
  {
   "cell_type": "code",
   "execution_count": 59,
   "metadata": {},
   "outputs": [
    {
     "data": {
      "text/plain": [
       "автоматическая      55715\n",
       "механическая        33926\n",
       "вариатор            11786\n",
       "роботизированная    10788\n",
       "Name: vehicleTransmission, dtype: int64"
      ]
     },
     "execution_count": 59,
     "metadata": {},
     "output_type": "execute_result"
    }
   ],
   "source": [
    "data.vehicleTransmission.value_counts()"
   ]
  },
  {
   "cell_type": "markdown",
   "metadata": {},
   "source": [
    "### ПТС"
   ]
  },
  {
   "cell_type": "code",
   "execution_count": 60,
   "metadata": {},
   "outputs": [
    {
     "data": {
      "text/plain": [
       "Оригинал    94361\n",
       "Дубликат    17853\n",
       "Name: ПТС, dtype: int64"
      ]
     },
     "execution_count": 60,
     "metadata": {},
     "output_type": "execute_result"
    }
   ],
   "source": [
    "data['ПТС'].value_counts()"
   ]
  },
  {
   "cell_type": "code",
   "execution_count": 61,
   "metadata": {},
   "outputs": [],
   "source": [
    "# Создадим бинарный признак\n",
    "data['pts'] = data['ПТС'].apply(lambda s: 1 if s=='Оригинал' else 0)"
   ]
  },
  {
   "cell_type": "code",
   "execution_count": 62,
   "metadata": {},
   "outputs": [],
   "source": [
    "#И удалим ненужный признак\n",
    "data.drop(['ПТС'], axis=1, inplace=True)"
   ]
  },
  {
   "cell_type": "markdown",
   "metadata": {},
   "source": [
    "\n",
    "### Привод\n",
    "\n",
    "тип привода"
   ]
  },
  {
   "cell_type": "code",
   "execution_count": 63,
   "metadata": {},
   "outputs": [
    {
     "data": {
      "text/plain": [
       "передний    50348\n",
       "полный      47771\n",
       "задний      14096\n",
       "Name: Привод, dtype: int64"
      ]
     },
     "execution_count": 63,
     "metadata": {},
     "output_type": "execute_result"
    }
   ],
   "source": [
    "data['Привод'].value_counts()"
   ]
  },
  {
   "cell_type": "code",
   "execution_count": 64,
   "metadata": {},
   "outputs": [],
   "source": [
    "data['drivetrain'] = data['Привод']\n",
    "data.drop(['Привод'], axis=1, inplace=True)"
   ]
  },
  {
   "cell_type": "markdown",
   "metadata": {},
   "source": [
    "### Руль\n",
    "\n",
    "Расположение водителя в автомобиле"
   ]
  },
  {
   "cell_type": "code",
   "execution_count": 65,
   "metadata": {},
   "outputs": [
    {
     "data": {
      "text/plain": [
       "Левый     104768\n",
       "Правый      7447\n",
       "Name: Руль, dtype: int64"
      ]
     },
     "execution_count": 65,
     "metadata": {},
     "output_type": "execute_result"
    }
   ],
   "source": [
    "data['Руль'].value_counts()"
   ]
  },
  {
   "cell_type": "code",
   "execution_count": 66,
   "metadata": {},
   "outputs": [],
   "source": [
    "# Создадим бинарный признак\n",
    "data['steering_wheel'] = data['Руль'].apply(lambda s: 1 if s=='Левый' else 0)"
   ]
  },
  {
   "cell_type": "markdown",
   "metadata": {},
   "source": [
    "В нашем датасете большинство автомобилей с левым расположением руля"
   ]
  },
  {
   "cell_type": "code",
   "execution_count": 67,
   "metadata": {},
   "outputs": [],
   "source": [
    "\n",
    "data.drop(['Руль'], axis=1, inplace=True)"
   ]
  },
  {
   "cell_type": "markdown",
   "metadata": {},
   "source": [
    "### Состояние"
   ]
  },
  {
   "cell_type": "code",
   "execution_count": 68,
   "metadata": {},
   "outputs": [
    {
     "data": {
      "text/plain": [
       "Не требует ремонта    110861\n",
       "Битый / не на ходу      1354\n",
       "Name: Состояние, dtype: int64"
      ]
     },
     "execution_count": 68,
     "metadata": {},
     "output_type": "execute_result"
    }
   ],
   "source": [
    "data['Состояние'].value_counts()"
   ]
  },
  {
   "cell_type": "markdown",
   "metadata": {},
   "source": [
    "У нас два варианта состояния автомобиля"
   ]
  },
  {
   "cell_type": "code",
   "execution_count": 69,
   "metadata": {},
   "outputs": [],
   "source": [
    "data['conditions'] = data['Состояние'].apply(lambda s: 1 if s=='Не требует ремонта' else 0)\n",
    "data.drop(['Состояние'], axis=1, inplace=True)"
   ]
  },
  {
   "cell_type": "markdown",
   "metadata": {},
   "source": [
    "### Владельцы\n",
    "\n",
    "Количество владельцев. Небольшое количество владельцев у автомобиля либо говорит нам о том, что автомобиль достаточно новый, либо автомобиль долго находился у одного владельца (обычно такие автомобили в хорошем состоянии, что положительно сказывается на цене)"
   ]
  },
  {
   "cell_type": "code",
   "execution_count": 70,
   "metadata": {},
   "outputs": [
    {
     "data": {
      "text/plain": [
       "3 или более    53219\n",
       "1владелец      22231\n",
       "2владельца     18036\n",
       "1 владелец      9459\n",
       "2 владельца     9270\n",
       "Name: Владельцы, dtype: int64"
      ]
     },
     "execution_count": 70,
     "metadata": {},
     "output_type": "execute_result"
    }
   ],
   "source": [
    "data['Владельцы'].value_counts()"
   ]
  },
  {
   "cell_type": "code",
   "execution_count": 71,
   "metadata": {},
   "outputs": [],
   "source": [
    "#Переименуем\n",
    "#Приведём к одному виду, убрав пробелы\n",
    "data['owners'] = data['Владельцы'].apply(lambda s: str(s)[0])"
   ]
  },
  {
   "cell_type": "code",
   "execution_count": 72,
   "metadata": {},
   "outputs": [],
   "source": [
    "data.drop(['Владельцы'], inplace=True, axis=1)"
   ]
  },
  {
   "cell_type": "code",
   "execution_count": 73,
   "metadata": {},
   "outputs": [
    {
     "data": {
      "text/plain": [
       "3    53219\n",
       "1    31690\n",
       "2    27306\n",
       "Name: owners, dtype: int64"
      ]
     },
     "execution_count": 73,
     "metadata": {},
     "output_type": "execute_result"
    }
   ],
   "source": [
    "data.owners.value_counts()"
   ]
  },
  {
   "cell_type": "markdown",
   "metadata": {},
   "source": [
    "### Rating\n",
    "\n",
    "Создадим параметр рейтинг надёжности. Данные основаны на исследовании удовлетворённости клиентов, проведённом американской компанией J.D.Power and Associates. Данный рейтинг показывает среднее количество дефектов, приходящихся на 100 автомобилей бренда "
   ]
  },
  {
   "cell_type": "code",
   "execution_count": 74,
   "metadata": {},
   "outputs": [],
   "source": [
    "#Для начала скопируем столбец brand\n",
    "data['rating'] = data['brand']"
   ]
  },
  {
   "cell_type": "code",
   "execution_count": 75,
   "metadata": {},
   "outputs": [],
   "source": [
    "#И заменим название бренда на его рейтинг\n",
    "data['rating'] = data['rating'].replace(to_replace = rating_list)"
   ]
  },
  {
   "cell_type": "code",
   "execution_count": 76,
   "metadata": {},
   "outputs": [],
   "source": [
    "#Среднее значение по рынку\n",
    "average = 122\n",
    "#Разделим на выше среднего и ниже\n",
    "data['rating'] = data['rating'].apply(lambda s: 'low' if s > average else 'high')"
   ]
  },
  {
   "cell_type": "code",
   "execution_count": 77,
   "metadata": {},
   "outputs": [
    {
     "data": {
      "text/plain": [
       "low     57812\n",
       "high    54403\n",
       "Name: rating, dtype: int64"
      ]
     },
     "execution_count": 77,
     "metadata": {},
     "output_type": "execute_result"
    }
   ],
   "source": [
    "data.rating.value_counts()"
   ]
  },
  {
   "cell_type": "markdown",
   "metadata": {},
   "source": [
    "На выходе мы получили бинарный признак."
   ]
  },
  {
   "cell_type": "markdown",
   "metadata": {},
   "source": [
    "### Expences\n",
    "\n",
    "Расходы на содержание. Данные основаны на исследовании компании YourMechanic. Данные представляют из себя среднюю сумму расходов на обслуживание в год."
   ]
  },
  {
   "cell_type": "code",
   "execution_count": 78,
   "metadata": {},
   "outputs": [],
   "source": [
    "#Для начала скопируем столбец brand\n",
    "data['expences'] = data['brand']"
   ]
  },
  {
   "cell_type": "code",
   "execution_count": 79,
   "metadata": {},
   "outputs": [],
   "source": [
    "#И заменим название бренда на стоимость обслуживания\n",
    "data['expences'] = data['expences'].replace(to_replace = car_expences_list)"
   ]
  },
  {
   "cell_type": "code",
   "execution_count": 80,
   "metadata": {},
   "outputs": [
    {
     "data": {
      "text/plain": [
       "56160     23638\n",
       "39600     14962\n",
       "54720     13626\n",
       "106800    13134\n",
       "77400     13131\n",
       "74400     10113\n",
       "53280      9681\n",
       "51840      4357\n",
       "75000      3830\n",
       "50400      3495\n",
       "55800      2248\n",
       "Name: expences, dtype: int64"
      ]
     },
     "execution_count": 80,
     "metadata": {},
     "output_type": "execute_result"
    }
   ],
   "source": [
    "data.expences.value_counts()"
   ]
  },
  {
   "cell_type": "markdown",
   "metadata": {},
   "source": [
    "### Car_price \n",
    "\n",
    "Наш ключевой признак, обозначающий цену автомобиля"
   ]
  },
  {
   "cell_type": "markdown",
   "metadata": {},
   "source": [
    "![car_price.jpg](car_price.jpg)"
   ]
  },
  {
   "cell_type": "markdown",
   "metadata": {},
   "source": [
    "В результате несложных подсчётов, к октябрю 2021 года средняя цена на подержанные автомобили выросла на 24%. Графика с auto.ru"
   ]
  },
  {
   "cell_type": "code",
   "execution_count": 81,
   "metadata": {},
   "outputs": [],
   "source": [
    "#Коэффициент для изменения цены\n",
    "koef = 0.76\n",
    "#Подгоним цену, насколько это возможно, к октябрю 2020 года\n",
    "#\n",
    "data['car_price'] = data['car_price'].apply(lambda s: round(koef*s, -3))"
   ]
  },
  {
   "cell_type": "markdown",
   "metadata": {},
   "source": [
    "Обычно цену на автомобили назначают кратно 1000, округлим цену"
   ]
  },
  {
   "cell_type": "code",
   "execution_count": 82,
   "metadata": {},
   "outputs": [
    {
     "data": {
      "text/html": [
       "<div>\n",
       "<style scoped>\n",
       "    .dataframe tbody tr th:only-of-type {\n",
       "        vertical-align: middle;\n",
       "    }\n",
       "\n",
       "    .dataframe tbody tr th {\n",
       "        vertical-align: top;\n",
       "    }\n",
       "\n",
       "    .dataframe thead th {\n",
       "        text-align: right;\n",
       "    }\n",
       "</style>\n",
       "<table border=\"1\" class=\"dataframe\">\n",
       "  <thead>\n",
       "    <tr style=\"text-align: right;\">\n",
       "      <th></th>\n",
       "      <th>color</th>\n",
       "      <th>car_price</th>\n",
       "      <th>mileage</th>\n",
       "      <th>brand</th>\n",
       "      <th>model_name</th>\n",
       "      <th>bodyType</th>\n",
       "      <th>enginePower</th>\n",
       "      <th>fuelType</th>\n",
       "      <th>sell_id</th>\n",
       "      <th>vehicleTransmission</th>\n",
       "      <th>sample</th>\n",
       "      <th>car_age</th>\n",
       "      <th>car_class</th>\n",
       "      <th>pts</th>\n",
       "      <th>drivetrain</th>\n",
       "      <th>steering_wheel</th>\n",
       "      <th>conditions</th>\n",
       "      <th>owners</th>\n",
       "      <th>rating</th>\n",
       "      <th>expences</th>\n",
       "    </tr>\n",
       "  </thead>\n",
       "  <tbody>\n",
       "    <tr>\n",
       "      <th>0</th>\n",
       "      <td>dark</td>\n",
       "      <td>1398000.0</td>\n",
       "      <td>30000.0</td>\n",
       "      <td>skoda</td>\n",
       "      <td>octavia</td>\n",
       "      <td>hatch</td>\n",
       "      <td>184</td>\n",
       "      <td>дизель</td>\n",
       "      <td>1.105830e+09</td>\n",
       "      <td>роботизированная</td>\n",
       "      <td>1</td>\n",
       "      <td>3</td>\n",
       "      <td>used</td>\n",
       "      <td>1</td>\n",
       "      <td>полный</td>\n",
       "      <td>1</td>\n",
       "      <td>1</td>\n",
       "      <td>1</td>\n",
       "      <td>low</td>\n",
       "      <td>56160</td>\n",
       "    </tr>\n",
       "    <tr>\n",
       "      <th>1</th>\n",
       "      <td>black</td>\n",
       "      <td>1246000.0</td>\n",
       "      <td>80000.0</td>\n",
       "      <td>skoda</td>\n",
       "      <td>superb</td>\n",
       "      <td>hatch</td>\n",
       "      <td>190</td>\n",
       "      <td>дизель</td>\n",
       "      <td>1.103512e+09</td>\n",
       "      <td>роботизированная</td>\n",
       "      <td>1</td>\n",
       "      <td>4</td>\n",
       "      <td>used</td>\n",
       "      <td>1</td>\n",
       "      <td>полный</td>\n",
       "      <td>1</td>\n",
       "      <td>1</td>\n",
       "      <td>1</td>\n",
       "      <td>low</td>\n",
       "      <td>56160</td>\n",
       "    </tr>\n",
       "    <tr>\n",
       "      <th>2</th>\n",
       "      <td>bright</td>\n",
       "      <td>243000.0</td>\n",
       "      <td>168000.0</td>\n",
       "      <td>skoda</td>\n",
       "      <td>octavia</td>\n",
       "      <td>hatch</td>\n",
       "      <td>115</td>\n",
       "      <td>бензин</td>\n",
       "      <td>1.105757e+09</td>\n",
       "      <td>механическая</td>\n",
       "      <td>1</td>\n",
       "      <td>16</td>\n",
       "      <td>used</td>\n",
       "      <td>1</td>\n",
       "      <td>передний</td>\n",
       "      <td>1</td>\n",
       "      <td>1</td>\n",
       "      <td>3</td>\n",
       "      <td>low</td>\n",
       "      <td>56160</td>\n",
       "    </tr>\n",
       "    <tr>\n",
       "      <th>3</th>\n",
       "      <td>dark</td>\n",
       "      <td>608000.0</td>\n",
       "      <td>170000.0</td>\n",
       "      <td>skoda</td>\n",
       "      <td>octavia</td>\n",
       "      <td>hatch</td>\n",
       "      <td>105</td>\n",
       "      <td>дизель</td>\n",
       "      <td>1.105957e+09</td>\n",
       "      <td>роботизированная</td>\n",
       "      <td>1</td>\n",
       "      <td>9</td>\n",
       "      <td>used</td>\n",
       "      <td>1</td>\n",
       "      <td>передний</td>\n",
       "      <td>1</td>\n",
       "      <td>1</td>\n",
       "      <td>2</td>\n",
       "      <td>low</td>\n",
       "      <td>56160</td>\n",
       "    </tr>\n",
       "    <tr>\n",
       "      <th>4</th>\n",
       "      <td>dark</td>\n",
       "      <td>1193000.0</td>\n",
       "      <td>5000.0</td>\n",
       "      <td>skoda</td>\n",
       "      <td>rapid</td>\n",
       "      <td>hatch</td>\n",
       "      <td>110</td>\n",
       "      <td>бензин</td>\n",
       "      <td>1.105881e+09</td>\n",
       "      <td>автоматическая</td>\n",
       "      <td>1</td>\n",
       "      <td>1</td>\n",
       "      <td>used</td>\n",
       "      <td>1</td>\n",
       "      <td>передний</td>\n",
       "      <td>1</td>\n",
       "      <td>1</td>\n",
       "      <td>1</td>\n",
       "      <td>low</td>\n",
       "      <td>56160</td>\n",
       "    </tr>\n",
       "  </tbody>\n",
       "</table>\n",
       "</div>"
      ],
      "text/plain": [
       "    color  car_price   mileage  brand model_name bodyType  enginePower  \\\n",
       "0    dark  1398000.0   30000.0  skoda    octavia    hatch          184   \n",
       "1   black  1246000.0   80000.0  skoda     superb    hatch          190   \n",
       "2  bright   243000.0  168000.0  skoda    octavia    hatch          115   \n",
       "3    dark   608000.0  170000.0  skoda    octavia    hatch          105   \n",
       "4    dark  1193000.0    5000.0  skoda      rapid    hatch          110   \n",
       "\n",
       "  fuelType       sell_id vehicleTransmission  sample  car_age car_class  pts  \\\n",
       "0   дизель  1.105830e+09    роботизированная       1        3      used    1   \n",
       "1   дизель  1.103512e+09    роботизированная       1        4      used    1   \n",
       "2   бензин  1.105757e+09        механическая       1       16      used    1   \n",
       "3   дизель  1.105957e+09    роботизированная       1        9      used    1   \n",
       "4   бензин  1.105881e+09      автоматическая       1        1      used    1   \n",
       "\n",
       "  drivetrain  steering_wheel  conditions owners rating  expences  \n",
       "0     полный               1           1      1    low     56160  \n",
       "1     полный               1           1      1    low     56160  \n",
       "2   передний               1           1      3    low     56160  \n",
       "3   передний               1           1      2    low     56160  \n",
       "4   передний               1           1      1    low     56160  "
      ]
     },
     "execution_count": 82,
     "metadata": {},
     "output_type": "execute_result"
    }
   ],
   "source": [
    "#Ещё раз посмотрим на данные\n",
    "data.head(5)"
   ]
  },
  {
   "cell_type": "code",
   "execution_count": 83,
   "metadata": {},
   "outputs": [],
   "source": [
    "#Удалим колонку sell_id (id-номер объявления)\n",
    "data.drop(['sell_id'], axis=1, inplace=True)"
   ]
  },
  {
   "cell_type": "code",
   "execution_count": 84,
   "metadata": {},
   "outputs": [],
   "source": [
    "#бинарные переменные\n",
    "bin_cols=['pts','steering_wheel','conditions', 'rating', 'car_class']\n",
    "\n",
    "#категориальные переменные\n",
    "cat_cols=['color', 'brand','bodyType','fuelType', 'vehicleTransmission',\n",
    "         'drivetrain', 'owners']\n",
    "\n",
    "#числовые переменные\n",
    "num_cols=['car_age', 'enginePower', 'mileage', 'expences']\n",
    "\n",
    "#целевая переменная\n",
    "target_cols = ['car_price']"
   ]
  },
  {
   "cell_type": "markdown",
   "metadata": {},
   "source": [
    "### Корреляционный анализ для числовых пременных"
   ]
  },
  {
   "cell_type": "code",
   "execution_count": 85,
   "metadata": {},
   "outputs": [
    {
     "data": {
      "text/plain": [
       "<AxesSubplot:>"
      ]
     },
     "execution_count": 85,
     "metadata": {},
     "output_type": "execute_result"
    },
    {
     "data": {
      "image/png": "[encoded data removed]",
      "text/plain": [
       "<Figure size 720x576 with 2 Axes>"
      ]
     },
     "metadata": {},
     "output_type": "display_data"
    }
   ],
   "source": [
    "sns.set(font_scale=1)\n",
    "plt.subplots(figsize=(10,8))\n",
    "sns.heatmap(data.query('sample==1')[num_cols+target_cols].corr(), annot=True, fmt='.2f')"
   ]
  },
  {
   "cell_type": "markdown",
   "metadata": {},
   "source": [
    "Между возрастом и пробегом автомобиля имеется корреляция, но не критичная. "
   ]
  },
  {
   "cell_type": "code",
   "execution_count": 86,
   "metadata": {},
   "outputs": [],
   "source": [
    "box_data = data[data['sample']==1]"
   ]
  },
  {
   "cell_type": "code",
   "execution_count": 87,
   "metadata": {},
   "outputs": [
    {
     "name": "stdout",
     "output_type": "stream",
     "text": [
      "pts\n"
     ]
    },
    {
     "data": {
      "image/png": "[encoded data removed]",
      "text/plain": [
       "<Figure size 432x288 with 1 Axes>"
      ]
     },
     "metadata": {},
     "output_type": "display_data"
    },
    {
     "data": {
      "image/png": "[encoded data removed]",
      "text/plain": [
       "<Figure size 1008x288 with 1 Axes>"
      ]
     },
     "metadata": {},
     "output_type": "display_data"
    },
    {
     "name": "stdout",
     "output_type": "stream",
     "text": [
      "steering_wheel\n"
     ]
    },
    {
     "data": {
      "image/png": "[encoded data removed]",
      "text/plain": [
       "<Figure size 432x288 with 1 Axes>"
      ]
     },
     "metadata": {},
     "output_type": "display_data"
    },
    {
     "data": {
      "image/png": "[encoded data removed]",
      "text/plain": [
       "<Figure size 1008x288 with 1 Axes>"
      ]
     },
     "metadata": {},
     "output_type": "display_data"
    },
    {
     "name": "stdout",
     "output_type": "stream",
     "text": [
      "conditions\n"
     ]
    },
    {
     "data": {
      "image/png": "[encoded data removed]",
      "text/plain": [
       "<Figure size 432x288 with 1 Axes>"
      ]
     },
     "metadata": {},
     "output_type": "display_data"
    },
    {
     "data": {
      "image/png": "[encoded data removed]",
      "text/plain": [
       "<Figure size 1008x288 with 1 Axes>"
      ]
     },
     "metadata": {},
     "output_type": "display_data"
    },
    {
     "name": "stdout",
     "output_type": "stream",
     "text": [
      "rating\n"
     ]
    },
    {
     "data": {
      "image/png": "[encoded data removed]",
      "text/plain": [
       "<Figure size 432x288 with 1 Axes>"
      ]
     },
     "metadata": {},
     "output_type": "display_data"
    },
    {
     "data": {
      "image/png": "[encoded data removed]",
      "text/plain": [
       "<Figure size 1008x288 with 1 Axes>"
      ]
     },
     "metadata": {},
     "output_type": "display_data"
    },
    {
     "name": "stdout",
     "output_type": "stream",
     "text": [
      "car_class\n"
     ]
    },
    {
     "data": {
      "image/png": "[encoded data removed]",
      "text/plain": [
       "<Figure size 432x288 with 1 Axes>"
      ]
     },
     "metadata": {},
     "output_type": "display_data"
    },
    {
     "data": {
      "image/png": "[encoded data removed]",
      "text/plain": [
       "<Figure size 1008x288 with 1 Axes>"
      ]
     },
     "metadata": {},
     "output_type": "display_data"
    },
    {
     "name": "stdout",
     "output_type": "stream",
     "text": [
      "color\n"
     ]
    },
    {
     "data": {
      "image/png": "[encoded data removed]",
      "text/plain": [
       "<Figure size 432x288 with 1 Axes>"
      ]
     },
     "metadata": {},
     "output_type": "display_data"
    },
    {
     "data": {
      "image/png": "[encoded data removed]",
      "text/plain": [
       "<Figure size 1008x288 with 1 Axes>"
      ]
     },
     "metadata": {},
     "output_type": "display_data"
    },
    {
     "name": "stdout",
     "output_type": "stream",
     "text": [
      "brand\n"
     ]
    },
    {
     "data": {
      "image/png": "[encoded data removed]",
      "text/plain": [
       "<Figure size 432x288 with 1 Axes>"
      ]
     },
     "metadata": {},
     "output_type": "display_data"
    },
    {
     "data": {
      "image/png": "[encoded data removed]",
      "text/plain": [
       "<Figure size 1008x288 with 1 Axes>"
      ]
     },
     "metadata": {},
     "output_type": "display_data"
    },
    {
     "name": "stdout",
     "output_type": "stream",
     "text": [
      "bodyType\n"
     ]
    },
    {
     "data": {
      "image/png": "[encoded data removed]",
      "text/plain": [
       "<Figure size 432x288 with 1 Axes>"
      ]
     },
     "metadata": {},
     "output_type": "display_data"
    },
    {
     "data": {
      "image/png": "[encoded data removed]",
      "text/plain": [
       "<Figure size 1008x288 with 1 Axes>"
      ]
     },
     "metadata": {},
     "output_type": "display_data"
    },
    {
     "name": "stdout",
     "output_type": "stream",
     "text": [
      "fuelType\n"
     ]
    },
    {
     "data": {
      "image/png": "[encoded data removed]",
      "text/plain": [
       "<Figure size 432x288 with 1 Axes>"
      ]
     },
     "metadata": {},
     "output_type": "display_data"
    },
    {
     "data": {
      "image/png": "[encoded data removed]",
      "text/plain": [
       "<Figure size 1008x288 with 1 Axes>"
      ]
     },
     "metadata": {},
     "output_type": "display_data"
    },
    {
     "name": "stdout",
     "output_type": "stream",
     "text": [
      "vehicleTransmission\n"
     ]
    },
    {
     "data": {
      "image/png": "[encoded data removed]",
      "text/plain": [
       "<Figure size 432x288 with 1 Axes>"
      ]
     },
     "metadata": {},
     "output_type": "display_data"
    },
    {
     "data": {
      "image/png": "[encoded data removed]",
      "text/plain": [
       "<Figure size 1008x288 with 1 Axes>"
      ]
     },
     "metadata": {},
     "output_type": "display_data"
    },
    {
     "name": "stdout",
     "output_type": "stream",
     "text": [
      "drivetrain\n"
     ]
    },
    {
     "data": {
      "image/png": "[encoded data removed]",
      "text/plain": [
       "<Figure size 432x288 with 1 Axes>"
      ]
     },
     "metadata": {},
     "output_type": "display_data"
    },
    {
     "data": {
      "image/png": "[encoded data removed]",
      "text/plain": [
       "<Figure size 1008x288 with 1 Axes>"
      ]
     },
     "metadata": {},
     "output_type": "display_data"
    },
    {
     "name": "stdout",
     "output_type": "stream",
     "text": [
      "owners\n"
     ]
    },
    {
     "data": {
      "image/png": "[encoded data removed]",
      "text/plain": [
       "<Figure size 432x288 with 1 Axes>"
      ]
     },
     "metadata": {},
     "output_type": "display_data"
    },
    {
     "data": {
      "image/png": "[encoded data removed]",
      "text/plain": [
       "<Figure size 1008x288 with 1 Axes>"
      ]
     },
     "metadata": {},
     "output_type": "display_data"
    }
   ],
   "source": [
    "for col in bin_cols + cat_cols:\n",
    "    if col not in ['model_name']:\n",
    "        print(col)\n",
    "        box_data[col].value_counts().plot(kind='bar')\n",
    "        get_boxplot(data = box_data[box_data.car_price <= box_data.car_price.quantile(0.95)],\n",
    "                    column=col,\n",
    "                    target_column='car_price')"
   ]
  },
  {
   "cell_type": "markdown",
   "metadata": {},
   "source": [
    "На что стоит обратить внимание:\n",
    "\n",
    "- pts: дубликат птс(значение 0) говорит о том, что либо документы были утеряны, либо у автомобиля проводилось достаточно много регистрационных действий\n",
    "- steering_wheel: автомобилей с левым рулём больше. Всвязи с повышением ввозных пошлин, импорт праворульных автомобилей заметно сократился.\n",
    "- conditions: в нашей выборке битых автомобилей совсем мало, но они есть. Автомобили, требующие ремонта стоят дешевле\n",
    "- brand: производители дорогих автомобилей заметно выделяются\n",
    "- drivetrain: переднеприводных автомобилей больше, но зачастую это предствители масс-маркета и минимальных комплектаций, что непосредственно сказывается на цене\n",
    "- color: Чёрный цвет самый популярный, что сказывается на цене\n",
    "- bodytype Внедорожники и спортивные автомобили (класс gt) ценятся выше других типов кузова\n",
    "- автомобили с высоким рейтингом надёжности ценятся на вторичном рынке\n",
    "\n",
    "Каждый из имеющихся признаков, судя по графике, оказывает влияние на ценобразование"
   ]
  },
  {
   "cell_type": "markdown",
   "metadata": {},
   "source": [
    "## Обработка категориальных переменных"
   ]
  },
  {
   "cell_type": "code",
   "execution_count": 88,
   "metadata": {},
   "outputs": [
    {
     "data": {
      "text/plain": [
       "626"
      ]
     },
     "execution_count": 88,
     "metadata": {},
     "output_type": "execute_result"
    }
   ],
   "source": [
    "data.model_name.nunique()"
   ]
  },
  {
   "cell_type": "markdown",
   "metadata": {},
   "source": [
    "626 уникальных значений названий автомобилей. И в пределах одного бренда разные модели имеют свой набор параметров, влияющих на цену. Если использовать OneHot мы создадим соответственно 626 признаков. Будем использовать двоичное кодирование. Это поможет нам сократить количество признаков."
   ]
  },
  {
   "cell_type": "code",
   "execution_count": 89,
   "metadata": {},
   "outputs": [],
   "source": [
    "#Кодируем бинарные признаки\n",
    "label_encoder = LabelEncoder()\n",
    "\n",
    "for column in bin_cols:\n",
    "    data[column] = label_encoder.fit_transform(data[column])"
   ]
  },
  {
   "cell_type": "code",
   "execution_count": 90,
   "metadata": {},
   "outputs": [
    {
     "data": {
      "text/plain": [
       "<AxesSubplot:>"
      ]
     },
     "execution_count": 90,
     "metadata": {},
     "output_type": "execute_result"
    },
    {
     "data": {
      "image/png": "[encoded data removed]",
      "text/plain": [
       "<Figure size 432x288 with 1 Axes>"
      ]
     },
     "metadata": {},
     "output_type": "display_data"
    }
   ],
   "source": [
    "imp_cat = Series(mutual_info_classif(data[bin_cols],\n",
    "                                     data['car_price'], discrete_features =True),\n",
    "                                     index = bin_cols)\n",
    "imp_cat.sort_values(inplace = True)\n",
    "imp_cat.plot(kind = 'barh')"
   ]
  },
  {
   "cell_type": "markdown",
   "metadata": {},
   "source": []
  },
  {
   "cell_type": "code",
   "execution_count": 91,
   "metadata": {},
   "outputs": [],
   "source": [
    "#Создадим копию датасета\n",
    "df = data.copy()"
   ]
  },
  {
   "cell_type": "markdown",
   "metadata": {},
   "source": [
    "Для кодировки названия автомобилей, будем использовать BinaryEncoders. Он представляет значения признака в виде двоичного кода"
   ]
  },
  {
   "cell_type": "code",
   "execution_count": 92,
   "metadata": {},
   "outputs": [
    {
     "data": {
      "text/html": [
       "<div>\n",
       "<style scoped>\n",
       "    .dataframe tbody tr th:only-of-type {\n",
       "        vertical-align: middle;\n",
       "    }\n",
       "\n",
       "    .dataframe tbody tr th {\n",
       "        vertical-align: top;\n",
       "    }\n",
       "\n",
       "    .dataframe thead th {\n",
       "        text-align: right;\n",
       "    }\n",
       "</style>\n",
       "<table border=\"1\" class=\"dataframe\">\n",
       "  <thead>\n",
       "    <tr style=\"text-align: right;\">\n",
       "      <th></th>\n",
       "      <th>color</th>\n",
       "      <th>car_price</th>\n",
       "      <th>mileage</th>\n",
       "      <th>brand</th>\n",
       "      <th>model_name</th>\n",
       "      <th>bodyType</th>\n",
       "      <th>enginePower</th>\n",
       "      <th>fuelType</th>\n",
       "      <th>vehicleTransmission</th>\n",
       "      <th>sample</th>\n",
       "      <th>...</th>\n",
       "      <th>model_name_0</th>\n",
       "      <th>model_name_1</th>\n",
       "      <th>model_name_2</th>\n",
       "      <th>model_name_3</th>\n",
       "      <th>model_name_4</th>\n",
       "      <th>model_name_5</th>\n",
       "      <th>model_name_6</th>\n",
       "      <th>model_name_7</th>\n",
       "      <th>model_name_8</th>\n",
       "      <th>model_name_9</th>\n",
       "    </tr>\n",
       "  </thead>\n",
       "  <tbody>\n",
       "    <tr>\n",
       "      <th>0</th>\n",
       "      <td>dark</td>\n",
       "      <td>1398000.0</td>\n",
       "      <td>30000.0</td>\n",
       "      <td>skoda</td>\n",
       "      <td>octavia</td>\n",
       "      <td>hatch</td>\n",
       "      <td>184</td>\n",
       "      <td>дизель</td>\n",
       "      <td>роботизированная</td>\n",
       "      <td>1</td>\n",
       "      <td>...</td>\n",
       "      <td>0</td>\n",
       "      <td>0</td>\n",
       "      <td>0</td>\n",
       "      <td>0</td>\n",
       "      <td>0</td>\n",
       "      <td>0</td>\n",
       "      <td>0</td>\n",
       "      <td>0</td>\n",
       "      <td>0</td>\n",
       "      <td>1</td>\n",
       "    </tr>\n",
       "    <tr>\n",
       "      <th>1</th>\n",
       "      <td>black</td>\n",
       "      <td>1246000.0</td>\n",
       "      <td>80000.0</td>\n",
       "      <td>skoda</td>\n",
       "      <td>superb</td>\n",
       "      <td>hatch</td>\n",
       "      <td>190</td>\n",
       "      <td>дизель</td>\n",
       "      <td>роботизированная</td>\n",
       "      <td>1</td>\n",
       "      <td>...</td>\n",
       "      <td>0</td>\n",
       "      <td>0</td>\n",
       "      <td>0</td>\n",
       "      <td>0</td>\n",
       "      <td>0</td>\n",
       "      <td>0</td>\n",
       "      <td>0</td>\n",
       "      <td>0</td>\n",
       "      <td>1</td>\n",
       "      <td>0</td>\n",
       "    </tr>\n",
       "    <tr>\n",
       "      <th>2</th>\n",
       "      <td>bright</td>\n",
       "      <td>243000.0</td>\n",
       "      <td>168000.0</td>\n",
       "      <td>skoda</td>\n",
       "      <td>octavia</td>\n",
       "      <td>hatch</td>\n",
       "      <td>115</td>\n",
       "      <td>бензин</td>\n",
       "      <td>механическая</td>\n",
       "      <td>1</td>\n",
       "      <td>...</td>\n",
       "      <td>0</td>\n",
       "      <td>0</td>\n",
       "      <td>0</td>\n",
       "      <td>0</td>\n",
       "      <td>0</td>\n",
       "      <td>0</td>\n",
       "      <td>0</td>\n",
       "      <td>0</td>\n",
       "      <td>0</td>\n",
       "      <td>1</td>\n",
       "    </tr>\n",
       "    <tr>\n",
       "      <th>3</th>\n",
       "      <td>dark</td>\n",
       "      <td>608000.0</td>\n",
       "      <td>170000.0</td>\n",
       "      <td>skoda</td>\n",
       "      <td>octavia</td>\n",
       "      <td>hatch</td>\n",
       "      <td>105</td>\n",
       "      <td>дизель</td>\n",
       "      <td>роботизированная</td>\n",
       "      <td>1</td>\n",
       "      <td>...</td>\n",
       "      <td>0</td>\n",
       "      <td>0</td>\n",
       "      <td>0</td>\n",
       "      <td>0</td>\n",
       "      <td>0</td>\n",
       "      <td>0</td>\n",
       "      <td>0</td>\n",
       "      <td>0</td>\n",
       "      <td>0</td>\n",
       "      <td>1</td>\n",
       "    </tr>\n",
       "    <tr>\n",
       "      <th>4</th>\n",
       "      <td>dark</td>\n",
       "      <td>1193000.0</td>\n",
       "      <td>5000.0</td>\n",
       "      <td>skoda</td>\n",
       "      <td>rapid</td>\n",
       "      <td>hatch</td>\n",
       "      <td>110</td>\n",
       "      <td>бензин</td>\n",
       "      <td>автоматическая</td>\n",
       "      <td>1</td>\n",
       "      <td>...</td>\n",
       "      <td>0</td>\n",
       "      <td>0</td>\n",
       "      <td>0</td>\n",
       "      <td>0</td>\n",
       "      <td>0</td>\n",
       "      <td>0</td>\n",
       "      <td>0</td>\n",
       "      <td>0</td>\n",
       "      <td>1</td>\n",
       "      <td>1</td>\n",
       "    </tr>\n",
       "    <tr>\n",
       "      <th>...</th>\n",
       "      <td>...</td>\n",
       "      <td>...</td>\n",
       "      <td>...</td>\n",
       "      <td>...</td>\n",
       "      <td>...</td>\n",
       "      <td>...</td>\n",
       "      <td>...</td>\n",
       "      <td>...</td>\n",
       "      <td>...</td>\n",
       "      <td>...</td>\n",
       "      <td>...</td>\n",
       "      <td>...</td>\n",
       "      <td>...</td>\n",
       "      <td>...</td>\n",
       "      <td>...</td>\n",
       "      <td>...</td>\n",
       "      <td>...</td>\n",
       "      <td>...</td>\n",
       "      <td>...</td>\n",
       "      <td>...</td>\n",
       "      <td>...</td>\n",
       "    </tr>\n",
       "    <tr>\n",
       "      <th>34681</th>\n",
       "      <td>dark</td>\n",
       "      <td>0.0</td>\n",
       "      <td>115000.0</td>\n",
       "      <td>bmw</td>\n",
       "      <td>3er</td>\n",
       "      <td>sedan</td>\n",
       "      <td>136</td>\n",
       "      <td>бензин</td>\n",
       "      <td>автоматическая</td>\n",
       "      <td>0</td>\n",
       "      <td>...</td>\n",
       "      <td>1</td>\n",
       "      <td>0</td>\n",
       "      <td>0</td>\n",
       "      <td>0</td>\n",
       "      <td>1</td>\n",
       "      <td>0</td>\n",
       "      <td>1</td>\n",
       "      <td>1</td>\n",
       "      <td>1</td>\n",
       "      <td>0</td>\n",
       "    </tr>\n",
       "    <tr>\n",
       "      <th>34682</th>\n",
       "      <td>black</td>\n",
       "      <td>0.0</td>\n",
       "      <td>98000.0</td>\n",
       "      <td>bmw</td>\n",
       "      <td>5er</td>\n",
       "      <td>sedan</td>\n",
       "      <td>190</td>\n",
       "      <td>дизель</td>\n",
       "      <td>автоматическая</td>\n",
       "      <td>0</td>\n",
       "      <td>...</td>\n",
       "      <td>1</td>\n",
       "      <td>0</td>\n",
       "      <td>0</td>\n",
       "      <td>0</td>\n",
       "      <td>1</td>\n",
       "      <td>0</td>\n",
       "      <td>1</td>\n",
       "      <td>0</td>\n",
       "      <td>1</td>\n",
       "      <td>0</td>\n",
       "    </tr>\n",
       "    <tr>\n",
       "      <th>34683</th>\n",
       "      <td>dark</td>\n",
       "      <td>0.0</td>\n",
       "      <td>360000.0</td>\n",
       "      <td>bmw</td>\n",
       "      <td>5er</td>\n",
       "      <td>sedan</td>\n",
       "      <td>170</td>\n",
       "      <td>бензин</td>\n",
       "      <td>автоматическая</td>\n",
       "      <td>0</td>\n",
       "      <td>...</td>\n",
       "      <td>1</td>\n",
       "      <td>0</td>\n",
       "      <td>0</td>\n",
       "      <td>0</td>\n",
       "      <td>1</td>\n",
       "      <td>0</td>\n",
       "      <td>1</td>\n",
       "      <td>0</td>\n",
       "      <td>1</td>\n",
       "      <td>0</td>\n",
       "    </tr>\n",
       "    <tr>\n",
       "      <th>34684</th>\n",
       "      <td>dark</td>\n",
       "      <td>0.0</td>\n",
       "      <td>90500.0</td>\n",
       "      <td>bmw</td>\n",
       "      <td>x1</td>\n",
       "      <td>suv</td>\n",
       "      <td>184</td>\n",
       "      <td>дизель</td>\n",
       "      <td>автоматическая</td>\n",
       "      <td>0</td>\n",
       "      <td>...</td>\n",
       "      <td>0</td>\n",
       "      <td>0</td>\n",
       "      <td>1</td>\n",
       "      <td>0</td>\n",
       "      <td>0</td>\n",
       "      <td>0</td>\n",
       "      <td>0</td>\n",
       "      <td>1</td>\n",
       "      <td>0</td>\n",
       "      <td>1</td>\n",
       "    </tr>\n",
       "    <tr>\n",
       "      <th>34685</th>\n",
       "      <td>black</td>\n",
       "      <td>0.0</td>\n",
       "      <td>240000.0</td>\n",
       "      <td>bmw</td>\n",
       "      <td>x5</td>\n",
       "      <td>suv</td>\n",
       "      <td>235</td>\n",
       "      <td>дизель</td>\n",
       "      <td>автоматическая</td>\n",
       "      <td>0</td>\n",
       "      <td>...</td>\n",
       "      <td>0</td>\n",
       "      <td>0</td>\n",
       "      <td>1</td>\n",
       "      <td>0</td>\n",
       "      <td>0</td>\n",
       "      <td>0</td>\n",
       "      <td>0</td>\n",
       "      <td>0</td>\n",
       "      <td>1</td>\n",
       "      <td>0</td>\n",
       "    </tr>\n",
       "  </tbody>\n",
       "</table>\n",
       "<p>112215 rows × 29 columns</p>\n",
       "</div>"
      ],
      "text/plain": [
       "        color  car_price   mileage  brand model_name bodyType  enginePower  \\\n",
       "0        dark  1398000.0   30000.0  skoda    octavia    hatch          184   \n",
       "1       black  1246000.0   80000.0  skoda     superb    hatch          190   \n",
       "2      bright   243000.0  168000.0  skoda    octavia    hatch          115   \n",
       "3        dark   608000.0  170000.0  skoda    octavia    hatch          105   \n",
       "4        dark  1193000.0    5000.0  skoda      rapid    hatch          110   \n",
       "...       ...        ...       ...    ...        ...      ...          ...   \n",
       "34681    dark        0.0  115000.0    bmw        3er    sedan          136   \n",
       "34682   black        0.0   98000.0    bmw        5er    sedan          190   \n",
       "34683    dark        0.0  360000.0    bmw        5er    sedan          170   \n",
       "34684    dark        0.0   90500.0    bmw         x1      suv          184   \n",
       "34685   black        0.0  240000.0    bmw         x5      suv          235   \n",
       "\n",
       "      fuelType vehicleTransmission  sample  ...  model_name_0  model_name_1  \\\n",
       "0       дизель    роботизированная       1  ...             0             0   \n",
       "1       дизель    роботизированная       1  ...             0             0   \n",
       "2       бензин        механическая       1  ...             0             0   \n",
       "3       дизель    роботизированная       1  ...             0             0   \n",
       "4       бензин      автоматическая       1  ...             0             0   \n",
       "...        ...                 ...     ...  ...           ...           ...   \n",
       "34681   бензин      автоматическая       0  ...             1             0   \n",
       "34682   дизель      автоматическая       0  ...             1             0   \n",
       "34683   бензин      автоматическая       0  ...             1             0   \n",
       "34684   дизель      автоматическая       0  ...             0             0   \n",
       "34685   дизель      автоматическая       0  ...             0             0   \n",
       "\n",
       "       model_name_2 model_name_3  model_name_4  model_name_5 model_name_6  \\\n",
       "0                 0            0             0             0            0   \n",
       "1                 0            0             0             0            0   \n",
       "2                 0            0             0             0            0   \n",
       "3                 0            0             0             0            0   \n",
       "4                 0            0             0             0            0   \n",
       "...             ...          ...           ...           ...          ...   \n",
       "34681             0            0             1             0            1   \n",
       "34682             0            0             1             0            1   \n",
       "34683             0            0             1             0            1   \n",
       "34684             1            0             0             0            0   \n",
       "34685             1            0             0             0            0   \n",
       "\n",
       "       model_name_7  model_name_8  model_name_9  \n",
       "0                 0             0             1  \n",
       "1                 0             1             0  \n",
       "2                 0             0             1  \n",
       "3                 0             0             1  \n",
       "4                 0             1             1  \n",
       "...             ...           ...           ...  \n",
       "34681             1             1             0  \n",
       "34682             0             1             0  \n",
       "34683             0             1             0  \n",
       "34684             1             0             1  \n",
       "34685             0             1             0  \n",
       "\n",
       "[112215 rows x 29 columns]"
      ]
     },
     "execution_count": 92,
     "metadata": {},
     "output_type": "execute_result"
    }
   ],
   "source": [
    "encoder = ce.BinaryEncoder(cols=['model_name'])\n",
    "df_bin = encoder.fit_transform(df['model_name'])\n",
    "df = pd.concat([df, df_bin], axis = 1)\n",
    "df"
   ]
  },
  {
   "cell_type": "code",
   "execution_count": 93,
   "metadata": {},
   "outputs": [],
   "source": [
    "# Удалим наименование модели\n",
    "df.drop(['model_name'], axis=1, inplace=True)\n"
   ]
  },
  {
   "cell_type": "code",
   "execution_count": 94,
   "metadata": {},
   "outputs": [],
   "source": [
    "#Создадим dummy-переменные для остальных признаков\n",
    "df = pd.get_dummies(df, columns=cat_cols)"
   ]
  },
  {
   "cell_type": "code",
   "execution_count": 95,
   "metadata": {},
   "outputs": [],
   "source": [
    "scaler = MinMaxScaler()\n",
    "for col in ['enginePower', 'car_age', 'expences', 'mileage']:\n",
    "    income_std = scaler.fit_transform(df.loc[:,[col]])\n",
    "    df[col] = income_std"
   ]
  },
  {
   "cell_type": "code",
   "execution_count": 96,
   "metadata": {},
   "outputs": [
    {
     "data": {
      "text/html": [
       "<div>\n",
       "<style scoped>\n",
       "    .dataframe tbody tr th:only-of-type {\n",
       "        vertical-align: middle;\n",
       "    }\n",
       "\n",
       "    .dataframe tbody tr th {\n",
       "        vertical-align: top;\n",
       "    }\n",
       "\n",
       "    .dataframe thead th {\n",
       "        text-align: right;\n",
       "    }\n",
       "</style>\n",
       "<table border=\"1\" class=\"dataframe\">\n",
       "  <thead>\n",
       "    <tr style=\"text-align: right;\">\n",
       "      <th></th>\n",
       "      <th>car_price</th>\n",
       "      <th>mileage</th>\n",
       "      <th>enginePower</th>\n",
       "      <th>sample</th>\n",
       "      <th>car_age</th>\n",
       "      <th>car_class</th>\n",
       "      <th>pts</th>\n",
       "      <th>steering_wheel</th>\n",
       "      <th>conditions</th>\n",
       "      <th>rating</th>\n",
       "      <th>...</th>\n",
       "      <th>vehicleTransmission_автоматическая</th>\n",
       "      <th>vehicleTransmission_вариатор</th>\n",
       "      <th>vehicleTransmission_механическая</th>\n",
       "      <th>vehicleTransmission_роботизированная</th>\n",
       "      <th>drivetrain_задний</th>\n",
       "      <th>drivetrain_передний</th>\n",
       "      <th>drivetrain_полный</th>\n",
       "      <th>owners_1</th>\n",
       "      <th>owners_2</th>\n",
       "      <th>owners_3</th>\n",
       "    </tr>\n",
       "  </thead>\n",
       "  <tbody>\n",
       "    <tr>\n",
       "      <th>0</th>\n",
       "      <td>1398000.0</td>\n",
       "      <td>0.072549</td>\n",
       "      <td>0.189422</td>\n",
       "      <td>1</td>\n",
       "      <td>0.025641</td>\n",
       "      <td>1</td>\n",
       "      <td>1</td>\n",
       "      <td>1</td>\n",
       "      <td>1</td>\n",
       "      <td>1</td>\n",
       "      <td>...</td>\n",
       "      <td>0</td>\n",
       "      <td>0</td>\n",
       "      <td>0</td>\n",
       "      <td>1</td>\n",
       "      <td>0</td>\n",
       "      <td>0</td>\n",
       "      <td>1</td>\n",
       "      <td>1</td>\n",
       "      <td>0</td>\n",
       "      <td>0</td>\n",
       "    </tr>\n",
       "    <tr>\n",
       "      <th>1</th>\n",
       "      <td>1246000.0</td>\n",
       "      <td>0.193468</td>\n",
       "      <td>0.196802</td>\n",
       "      <td>1</td>\n",
       "      <td>0.034188</td>\n",
       "      <td>1</td>\n",
       "      <td>1</td>\n",
       "      <td>1</td>\n",
       "      <td>1</td>\n",
       "      <td>1</td>\n",
       "      <td>...</td>\n",
       "      <td>0</td>\n",
       "      <td>0</td>\n",
       "      <td>0</td>\n",
       "      <td>1</td>\n",
       "      <td>0</td>\n",
       "      <td>0</td>\n",
       "      <td>1</td>\n",
       "      <td>1</td>\n",
       "      <td>0</td>\n",
       "      <td>0</td>\n",
       "    </tr>\n",
       "    <tr>\n",
       "      <th>2</th>\n",
       "      <td>243000.0</td>\n",
       "      <td>0.406286</td>\n",
       "      <td>0.104551</td>\n",
       "      <td>1</td>\n",
       "      <td>0.136752</td>\n",
       "      <td>1</td>\n",
       "      <td>1</td>\n",
       "      <td>1</td>\n",
       "      <td>1</td>\n",
       "      <td>1</td>\n",
       "      <td>...</td>\n",
       "      <td>0</td>\n",
       "      <td>0</td>\n",
       "      <td>1</td>\n",
       "      <td>0</td>\n",
       "      <td>0</td>\n",
       "      <td>1</td>\n",
       "      <td>0</td>\n",
       "      <td>0</td>\n",
       "      <td>0</td>\n",
       "      <td>1</td>\n",
       "    </tr>\n",
       "  </tbody>\n",
       "</table>\n",
       "<p>3 rows × 60 columns</p>\n",
       "</div>"
      ],
      "text/plain": [
       "   car_price   mileage  enginePower  sample   car_age  car_class  pts  \\\n",
       "0  1398000.0  0.072549     0.189422       1  0.025641          1    1   \n",
       "1  1246000.0  0.193468     0.196802       1  0.034188          1    1   \n",
       "2   243000.0  0.406286     0.104551       1  0.136752          1    1   \n",
       "\n",
       "   steering_wheel  conditions  rating  ...  \\\n",
       "0               1           1       1  ...   \n",
       "1               1           1       1  ...   \n",
       "2               1           1       1  ...   \n",
       "\n",
       "   vehicleTransmission_автоматическая  vehicleTransmission_вариатор  \\\n",
       "0                                   0                             0   \n",
       "1                                   0                             0   \n",
       "2                                   0                             0   \n",
       "\n",
       "   vehicleTransmission_механическая  vehicleTransmission_роботизированная  \\\n",
       "0                                 0                                     1   \n",
       "1                                 0                                     1   \n",
       "2                                 1                                     0   \n",
       "\n",
       "   drivetrain_задний  drivetrain_передний  drivetrain_полный  owners_1  \\\n",
       "0                  0                    0                  1         1   \n",
       "1                  0                    0                  1         1   \n",
       "2                  0                    1                  0         0   \n",
       "\n",
       "   owners_2  owners_3  \n",
       "0         0         0  \n",
       "1         0         0  \n",
       "2         0         1  \n",
       "\n",
       "[3 rows x 60 columns]"
      ]
     },
     "metadata": {},
     "output_type": "display_data"
    }
   ],
   "source": [
    "#Проверим результат\n",
    "display(df.head(3))\n"
   ]
  },
  {
   "cell_type": "code",
   "execution_count": 97,
   "metadata": {},
   "outputs": [],
   "source": [
    "#Отделим тренировочную выборку\n",
    "df_train = df[df['sample'] == 1]\n",
    "df_train.drop(['sample'], axis=1, inplace=True)"
   ]
  },
  {
   "cell_type": "code",
   "execution_count": 98,
   "metadata": {},
   "outputs": [],
   "source": [
    "df_train['car_price'] = df_train['car_price'].apply(lambda s: np.log(s))"
   ]
  },
  {
   "cell_type": "code",
   "execution_count": 99,
   "metadata": {},
   "outputs": [],
   "source": [
    "#cols = df_train.columns"
   ]
  },
  {
   "cell_type": "markdown",
   "metadata": {},
   "source": [
    "### Модель 2: RandomForest\n",
    "\n"
   ]
  },
  {
   "cell_type": "code",
   "execution_count": 100,
   "metadata": {},
   "outputs": [],
   "source": [
    "X = df_train.drop(['car_price'], axis = 1)\n",
    "Y = df_train['car_price'].values"
   ]
  },
  {
   "cell_type": "code",
   "execution_count": 101,
   "metadata": {},
   "outputs": [],
   "source": [
    "#Разделим данные для обучения\n",
    "X_train, X_test, Y_train, Y_test = train_test_split(\n",
    "    X, Y, test_size=VAL_SIZE, random_state=RANDOM_SEED, shuffle = True)"
   ]
  },
  {
   "cell_type": "code",
   "execution_count": 102,
   "metadata": {},
   "outputs": [],
   "source": [
    "rtr = RandomForestRegressor(n_estimators=300, n_jobs=2, random_state=RANDOM_SEED)"
   ]
  },
  {
   "cell_type": "code",
   "execution_count": 103,
   "metadata": {},
   "outputs": [
    {
     "data": {
      "text/plain": [
       "RandomForestRegressor(n_estimators=300, n_jobs=2, random_state=42)"
      ]
     },
     "execution_count": 103,
     "metadata": {},
     "output_type": "execute_result"
    }
   ],
   "source": [
    "rtr.fit(X_train, Y_train)"
   ]
  },
  {
   "cell_type": "code",
   "execution_count": 104,
   "metadata": {},
   "outputs": [],
   "source": [
    "predict = rtr.predict(X_test)"
   ]
  },
  {
   "cell_type": "code",
   "execution_count": 105,
   "metadata": {},
   "outputs": [
    {
     "name": "stdout",
     "output_type": "stream",
     "text": [
      "Точность модели по метрике MAPE: 15.80%\n"
     ]
    }
   ],
   "source": [
    "print(f\"Точность модели по метрике MAPE: {(mape(np.exp(Y_test), np.exp(predict))):0.2f}%\")"
   ]
  },
  {
   "cell_type": "code",
   "execution_count": 106,
   "metadata": {},
   "outputs": [
    {
     "data": {
      "text/html": [
       "<div>\n",
       "<style scoped>\n",
       "    .dataframe tbody tr th:only-of-type {\n",
       "        vertical-align: middle;\n",
       "    }\n",
       "\n",
       "    .dataframe tbody tr th {\n",
       "        vertical-align: top;\n",
       "    }\n",
       "\n",
       "    .dataframe thead th {\n",
       "        text-align: right;\n",
       "    }\n",
       "</style>\n",
       "<table border=\"1\" class=\"dataframe\">\n",
       "  <thead>\n",
       "    <tr style=\"text-align: right;\">\n",
       "      <th></th>\n",
       "      <th>mileage</th>\n",
       "      <th>enginePower</th>\n",
       "      <th>car_age</th>\n",
       "      <th>car_class</th>\n",
       "      <th>pts</th>\n",
       "      <th>steering_wheel</th>\n",
       "      <th>conditions</th>\n",
       "      <th>rating</th>\n",
       "      <th>expences</th>\n",
       "      <th>model_name_0</th>\n",
       "      <th>...</th>\n",
       "      <th>vehicleTransmission_автоматическая</th>\n",
       "      <th>vehicleTransmission_вариатор</th>\n",
       "      <th>vehicleTransmission_механическая</th>\n",
       "      <th>vehicleTransmission_роботизированная</th>\n",
       "      <th>drivetrain_задний</th>\n",
       "      <th>drivetrain_передний</th>\n",
       "      <th>drivetrain_полный</th>\n",
       "      <th>owners_1</th>\n",
       "      <th>owners_2</th>\n",
       "      <th>owners_3</th>\n",
       "    </tr>\n",
       "  </thead>\n",
       "  <tbody>\n",
       "    <tr>\n",
       "      <th>5981</th>\n",
       "      <td>0.372429</td>\n",
       "      <td>0.166052</td>\n",
       "      <td>0.179487</td>\n",
       "      <td>1</td>\n",
       "      <td>0</td>\n",
       "      <td>1</td>\n",
       "      <td>1</td>\n",
       "      <td>1</td>\n",
       "      <td>0.517857</td>\n",
       "      <td>0</td>\n",
       "      <td>...</td>\n",
       "      <td>1</td>\n",
       "      <td>0</td>\n",
       "      <td>0</td>\n",
       "      <td>0</td>\n",
       "      <td>0</td>\n",
       "      <td>1</td>\n",
       "      <td>0</td>\n",
       "      <td>0</td>\n",
       "      <td>0</td>\n",
       "      <td>1</td>\n",
       "    </tr>\n",
       "    <tr>\n",
       "      <th>75481</th>\n",
       "      <td>0.026600</td>\n",
       "      <td>0.172202</td>\n",
       "      <td>0.042735</td>\n",
       "      <td>1</td>\n",
       "      <td>1</td>\n",
       "      <td>1</td>\n",
       "      <td>1</td>\n",
       "      <td>1</td>\n",
       "      <td>0.246429</td>\n",
       "      <td>0</td>\n",
       "      <td>...</td>\n",
       "      <td>1</td>\n",
       "      <td>0</td>\n",
       "      <td>0</td>\n",
       "      <td>0</td>\n",
       "      <td>0</td>\n",
       "      <td>1</td>\n",
       "      <td>0</td>\n",
       "      <td>1</td>\n",
       "      <td>0</td>\n",
       "      <td>0</td>\n",
       "    </tr>\n",
       "    <tr>\n",
       "      <th>69693</th>\n",
       "      <td>0.340990</td>\n",
       "      <td>0.138991</td>\n",
       "      <td>0.068376</td>\n",
       "      <td>1</td>\n",
       "      <td>1</td>\n",
       "      <td>1</td>\n",
       "      <td>1</td>\n",
       "      <td>0</td>\n",
       "      <td>1.000000</td>\n",
       "      <td>0</td>\n",
       "      <td>...</td>\n",
       "      <td>0</td>\n",
       "      <td>0</td>\n",
       "      <td>1</td>\n",
       "      <td>0</td>\n",
       "      <td>1</td>\n",
       "      <td>0</td>\n",
       "      <td>0</td>\n",
       "      <td>0</td>\n",
       "      <td>0</td>\n",
       "      <td>1</td>\n",
       "    </tr>\n",
       "    <tr>\n",
       "      <th>10089</th>\n",
       "      <td>0.188632</td>\n",
       "      <td>0.280443</td>\n",
       "      <td>0.034188</td>\n",
       "      <td>1</td>\n",
       "      <td>1</td>\n",
       "      <td>1</td>\n",
       "      <td>1</td>\n",
       "      <td>0</td>\n",
       "      <td>1.000000</td>\n",
       "      <td>0</td>\n",
       "      <td>...</td>\n",
       "      <td>1</td>\n",
       "      <td>0</td>\n",
       "      <td>0</td>\n",
       "      <td>0</td>\n",
       "      <td>0</td>\n",
       "      <td>0</td>\n",
       "      <td>1</td>\n",
       "      <td>0</td>\n",
       "      <td>1</td>\n",
       "      <td>0</td>\n",
       "    </tr>\n",
       "    <tr>\n",
       "      <th>66975</th>\n",
       "      <td>0.447399</td>\n",
       "      <td>0.222632</td>\n",
       "      <td>0.102564</td>\n",
       "      <td>1</td>\n",
       "      <td>1</td>\n",
       "      <td>1</td>\n",
       "      <td>1</td>\n",
       "      <td>1</td>\n",
       "      <td>0.517857</td>\n",
       "      <td>0</td>\n",
       "      <td>...</td>\n",
       "      <td>1</td>\n",
       "      <td>0</td>\n",
       "      <td>0</td>\n",
       "      <td>0</td>\n",
       "      <td>0</td>\n",
       "      <td>0</td>\n",
       "      <td>1</td>\n",
       "      <td>0</td>\n",
       "      <td>0</td>\n",
       "      <td>1</td>\n",
       "    </tr>\n",
       "    <tr>\n",
       "      <th>...</th>\n",
       "      <td>...</td>\n",
       "      <td>...</td>\n",
       "      <td>...</td>\n",
       "      <td>...</td>\n",
       "      <td>...</td>\n",
       "      <td>...</td>\n",
       "      <td>...</td>\n",
       "      <td>...</td>\n",
       "      <td>...</td>\n",
       "      <td>...</td>\n",
       "      <td>...</td>\n",
       "      <td>...</td>\n",
       "      <td>...</td>\n",
       "      <td>...</td>\n",
       "      <td>...</td>\n",
       "      <td>...</td>\n",
       "      <td>...</td>\n",
       "      <td>...</td>\n",
       "      <td>...</td>\n",
       "      <td>...</td>\n",
       "      <td>...</td>\n",
       "    </tr>\n",
       "    <tr>\n",
       "      <th>30878</th>\n",
       "      <td>0.319224</td>\n",
       "      <td>0.269373</td>\n",
       "      <td>0.025641</td>\n",
       "      <td>1</td>\n",
       "      <td>1</td>\n",
       "      <td>1</td>\n",
       "      <td>1</td>\n",
       "      <td>1</td>\n",
       "      <td>0.517857</td>\n",
       "      <td>0</td>\n",
       "      <td>...</td>\n",
       "      <td>1</td>\n",
       "      <td>0</td>\n",
       "      <td>0</td>\n",
       "      <td>0</td>\n",
       "      <td>0</td>\n",
       "      <td>0</td>\n",
       "      <td>1</td>\n",
       "      <td>1</td>\n",
       "      <td>0</td>\n",
       "      <td>0</td>\n",
       "    </tr>\n",
       "    <tr>\n",
       "      <th>75755</th>\n",
       "      <td>0.490930</td>\n",
       "      <td>0.088561</td>\n",
       "      <td>0.102564</td>\n",
       "      <td>1</td>\n",
       "      <td>1</td>\n",
       "      <td>1</td>\n",
       "      <td>1</td>\n",
       "      <td>1</td>\n",
       "      <td>0.246429</td>\n",
       "      <td>0</td>\n",
       "      <td>...</td>\n",
       "      <td>1</td>\n",
       "      <td>0</td>\n",
       "      <td>0</td>\n",
       "      <td>0</td>\n",
       "      <td>0</td>\n",
       "      <td>1</td>\n",
       "      <td>0</td>\n",
       "      <td>0</td>\n",
       "      <td>1</td>\n",
       "      <td>0</td>\n",
       "    </tr>\n",
       "    <tr>\n",
       "      <th>1043</th>\n",
       "      <td>0.643288</td>\n",
       "      <td>0.172202</td>\n",
       "      <td>0.119658</td>\n",
       "      <td>1</td>\n",
       "      <td>1</td>\n",
       "      <td>1</td>\n",
       "      <td>1</td>\n",
       "      <td>1</td>\n",
       "      <td>0.246429</td>\n",
       "      <td>0</td>\n",
       "      <td>...</td>\n",
       "      <td>0</td>\n",
       "      <td>0</td>\n",
       "      <td>1</td>\n",
       "      <td>0</td>\n",
       "      <td>0</td>\n",
       "      <td>1</td>\n",
       "      <td>0</td>\n",
       "      <td>0</td>\n",
       "      <td>0</td>\n",
       "      <td>1</td>\n",
       "    </tr>\n",
       "    <tr>\n",
       "      <th>73643</th>\n",
       "      <td>0.333735</td>\n",
       "      <td>0.073801</td>\n",
       "      <td>0.059829</td>\n",
       "      <td>1</td>\n",
       "      <td>1</td>\n",
       "      <td>1</td>\n",
       "      <td>1</td>\n",
       "      <td>0</td>\n",
       "      <td>0.000000</td>\n",
       "      <td>0</td>\n",
       "      <td>...</td>\n",
       "      <td>0</td>\n",
       "      <td>0</td>\n",
       "      <td>1</td>\n",
       "      <td>0</td>\n",
       "      <td>0</td>\n",
       "      <td>1</td>\n",
       "      <td>0</td>\n",
       "      <td>0</td>\n",
       "      <td>0</td>\n",
       "      <td>1</td>\n",
       "    </tr>\n",
       "    <tr>\n",
       "      <th>16293</th>\n",
       "      <td>0.292622</td>\n",
       "      <td>0.238622</td>\n",
       "      <td>0.085470</td>\n",
       "      <td>1</td>\n",
       "      <td>1</td>\n",
       "      <td>1</td>\n",
       "      <td>1</td>\n",
       "      <td>0</td>\n",
       "      <td>0.562500</td>\n",
       "      <td>0</td>\n",
       "      <td>...</td>\n",
       "      <td>1</td>\n",
       "      <td>0</td>\n",
       "      <td>0</td>\n",
       "      <td>0</td>\n",
       "      <td>0</td>\n",
       "      <td>0</td>\n",
       "      <td>1</td>\n",
       "      <td>0</td>\n",
       "      <td>1</td>\n",
       "      <td>0</td>\n",
       "    </tr>\n",
       "  </tbody>\n",
       "</table>\n",
       "<p>15506 rows × 58 columns</p>\n",
       "</div>"
      ],
      "text/plain": [
       "        mileage  enginePower   car_age  car_class  pts  steering_wheel  \\\n",
       "5981   0.372429     0.166052  0.179487          1    0               1   \n",
       "75481  0.026600     0.172202  0.042735          1    1               1   \n",
       "69693  0.340990     0.138991  0.068376          1    1               1   \n",
       "10089  0.188632     0.280443  0.034188          1    1               1   \n",
       "66975  0.447399     0.222632  0.102564          1    1               1   \n",
       "...         ...          ...       ...        ...  ...             ...   \n",
       "30878  0.319224     0.269373  0.025641          1    1               1   \n",
       "75755  0.490930     0.088561  0.102564          1    1               1   \n",
       "1043   0.643288     0.172202  0.119658          1    1               1   \n",
       "73643  0.333735     0.073801  0.059829          1    1               1   \n",
       "16293  0.292622     0.238622  0.085470          1    1               1   \n",
       "\n",
       "       conditions  rating  expences  model_name_0  ...  \\\n",
       "5981            1       1  0.517857             0  ...   \n",
       "75481           1       1  0.246429             0  ...   \n",
       "69693           1       0  1.000000             0  ...   \n",
       "10089           1       0  1.000000             0  ...   \n",
       "66975           1       1  0.517857             0  ...   \n",
       "...           ...     ...       ...           ...  ...   \n",
       "30878           1       1  0.517857             0  ...   \n",
       "75755           1       1  0.246429             0  ...   \n",
       "1043            1       1  0.246429             0  ...   \n",
       "73643           1       0  0.000000             0  ...   \n",
       "16293           1       0  0.562500             0  ...   \n",
       "\n",
       "       vehicleTransmission_автоматическая  vehicleTransmission_вариатор  \\\n",
       "5981                                    1                             0   \n",
       "75481                                   1                             0   \n",
       "69693                                   0                             0   \n",
       "10089                                   1                             0   \n",
       "66975                                   1                             0   \n",
       "...                                   ...                           ...   \n",
       "30878                                   1                             0   \n",
       "75755                                   1                             0   \n",
       "1043                                    0                             0   \n",
       "73643                                   0                             0   \n",
       "16293                                   1                             0   \n",
       "\n",
       "       vehicleTransmission_механическая  vehicleTransmission_роботизированная  \\\n",
       "5981                                  0                                     0   \n",
       "75481                                 0                                     0   \n",
       "69693                                 1                                     0   \n",
       "10089                                 0                                     0   \n",
       "66975                                 0                                     0   \n",
       "...                                 ...                                   ...   \n",
       "30878                                 0                                     0   \n",
       "75755                                 0                                     0   \n",
       "1043                                  1                                     0   \n",
       "73643                                 1                                     0   \n",
       "16293                                 0                                     0   \n",
       "\n",
       "       drivetrain_задний  drivetrain_передний  drivetrain_полный  owners_1  \\\n",
       "5981                   0                    1                  0         0   \n",
       "75481                  0                    1                  0         1   \n",
       "69693                  1                    0                  0         0   \n",
       "10089                  0                    0                  1         0   \n",
       "66975                  0                    0                  1         0   \n",
       "...                  ...                  ...                ...       ...   \n",
       "30878                  0                    0                  1         1   \n",
       "75755                  0                    1                  0         0   \n",
       "1043                   0                    1                  0         0   \n",
       "73643                  0                    1                  0         0   \n",
       "16293                  0                    0                  1         0   \n",
       "\n",
       "       owners_2  owners_3  \n",
       "5981          0         1  \n",
       "75481         0         0  \n",
       "69693         0         1  \n",
       "10089         1         0  \n",
       "66975         0         1  \n",
       "...         ...       ...  \n",
       "30878         0         0  \n",
       "75755         1         0  \n",
       "1043          0         1  \n",
       "73643         0         1  \n",
       "16293         1         0  \n",
       "\n",
       "[15506 rows x 58 columns]"
      ]
     },
     "execution_count": 106,
     "metadata": {},
     "output_type": "execute_result"
    }
   ],
   "source": [
    "X_test"
   ]
  },
  {
   "cell_type": "markdown",
   "metadata": {},
   "source": [
    "### Модель 3: ExtraTrees\n",
    "\n",
    "В данном классе реализован метаоценщик, использует усреднение для повышения точности прогнозирования"
   ]
  },
  {
   "cell_type": "code",
   "execution_count": null,
   "metadata": {},
   "outputs": [],
   "source": [
    "xtr = ExtraTreesRegressor(n_estimators=300,\n",
    "                         criterion='mse',\n",
    "                         n_jobs=4,\n",
    "                         warm_start=True,\n",
    "                         random_state=RANDOM_SEED)"
   ]
  },
  {
   "cell_type": "code",
   "execution_count": null,
   "metadata": {},
   "outputs": [],
   "source": [
    "xtr.fit(X_train, Y_train)"
   ]
  },
  {
   "cell_type": "code",
   "execution_count": null,
   "metadata": {},
   "outputs": [],
   "source": [
    "xtr_predict = xtr.predict(X_test)"
   ]
  },
  {
   "cell_type": "code",
   "execution_count": null,
   "metadata": {},
   "outputs": [],
   "source": [
    "print(f\"Точность модели по метрике MAPE: {(mape(np.exp(Y_test), np.exp(xtr_predict))):0.2f}%\")"
   ]
  },
  {
   "cell_type": "markdown",
   "metadata": {},
   "source": [
    "### Модель 4: CatBoost\n",
    "Модель, которая хорошо себя чувствует с категориальными признаками, которых у нас в достатке"
   ]
  },
  {
   "cell_type": "code",
   "execution_count": null,
   "metadata": {},
   "outputs": [],
   "source": [
    "cat = CatBoostRegressor(iterations = 5000,\n",
    "                          random_seed = RANDOM_SEED,\n",
    "                          eval_metric='MAPE',\n",
    "                          custom_metric=['R2', 'MAE'],\n",
    "                          silent=True)\n"
   ]
  },
  {
   "cell_type": "code",
   "execution_count": null,
   "metadata": {},
   "outputs": [],
   "source": [
    "cat.fit(X_train, Y_train,\n",
    "         #cat_features=cat_features_ids,\n",
    "         eval_set=(X_test, Y_test),\n",
    "         verbose_eval=0,\n",
    "         use_best_model=True,\n",
    "         #plot=True\n",
    "         )"
   ]
  },
  {
   "cell_type": "code",
   "execution_count": null,
   "metadata": {},
   "outputs": [],
   "source": [
    "# оцениваем точность\n",
    "predict = cat.predict(X_test)\n",
    "print(f\"Точность модели по метрике MAPE: {(mape(np.exp(Y_test), np.exp(predict))):0.2f}%\")"
   ]
  },
  {
   "cell_type": "markdown",
   "metadata": {},
   "source": [
    "### Модель 5: DecisionTree"
   ]
  },
  {
   "cell_type": "code",
   "execution_count": null,
   "metadata": {},
   "outputs": [],
   "source": [
    "dtr = DecisionTreeRegressor(criterion = 'mse',\n",
    "                           random_state = RANDOM_SEED)"
   ]
  },
  {
   "cell_type": "code",
   "execution_count": null,
   "metadata": {},
   "outputs": [],
   "source": [
    "dtr.fit(X_train, Y_train)"
   ]
  },
  {
   "cell_type": "code",
   "execution_count": null,
   "metadata": {},
   "outputs": [],
   "source": [
    "dtr_predict = dtr.predict(X_test)\n",
    "print(f\"Точность модели по метрике MAPE: {(mape(np.exp(Y_test), np.exp(dtr_predict))):0.2f}%\")"
   ]
  },
  {
   "cell_type": "markdown",
   "metadata": {},
   "source": [
    "## Стекинг"
   ]
  },
  {
   "cell_type": "code",
   "execution_count": null,
   "metadata": {},
   "outputs": [],
   "source": [
    "estimators = [\n",
    "    ('rtr', RandomForestRegressor(n_estimators=150,\n",
    "                                  n_jobs=4,\n",
    "                                  warm_start=True,\n",
    "                                  random_state=RANDOM_SEED)),\n",
    "    ('xtr',  ExtraTreesRegressor(n_estimators=150,\n",
    "                         criterion='mse',\n",
    "                         n_jobs=4,\n",
    "                         warm_start=True,\n",
    "                         random_state=RANDOM_SEED))]\n",
    "\n",
    "ste = StackingRegressor(estimators=estimators, final_estimator=LinearRegression(n_jobs=4))"
   ]
  },
  {
   "cell_type": "code",
   "execution_count": null,
   "metadata": {},
   "outputs": [],
   "source": [
    "ste.fit(X_train, Y_train)"
   ]
  },
  {
   "cell_type": "code",
   "execution_count": null,
   "metadata": {},
   "outputs": [],
   "source": [
    "ste_predict = ste.predict(X_test)"
   ]
  },
  {
   "cell_type": "code",
   "execution_count": null,
   "metadata": {},
   "outputs": [],
   "source": [
    "print(f\"Точность модели по метрике MAPE: {(mape(np.exp(Y_test), np.exp(ste_predict))):0.2f}%\")"
   ]
  },
  {
   "cell_type": "code",
   "execution_count": null,
   "metadata": {},
   "outputs": [],
   "source": []
  }
 ],
 "metadata": {
  "kernelspec": {
   "display_name": "Python 3",
   "language": "python",
   "name": "python3"
  },
  "language_info": {
   "codemirror_mode": {
    "name": "ipython",
    "version": 3
   },
   "file_extension": ".py",
   "mimetype": "text/x-python",
   "name": "python",
   "nbconvert_exporter": "python",
   "pygments_lexer": "ipython3",
   "version": "3.8.5"
  }
 },
 "nbformat": 4,
 "nbformat_minor": 4
}
