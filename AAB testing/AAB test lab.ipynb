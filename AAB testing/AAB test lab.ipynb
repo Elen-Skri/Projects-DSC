{
 "cells": [
  {
   "cell_type": "markdown",
   "id": "a879173e",
   "metadata": {
    "toc": true
   },
   "source": [
    "<h1>Table of Contents<span class=\"tocSkip\"></span></h1>\n",
    "<div class=\"toc\"><ul class=\"toc-item\"><li><span><a href=\"#Task-setting\" data-toc-modified-id=\"Task-setting-1\"><span class=\"toc-item-num\">1&nbsp;&nbsp;</span>Task setting</a></span><ul class=\"toc-item\"><li><span><a href=\"#Evaluatuion-criteria\" data-toc-modified-id=\"Evaluatuion-criteria-1.1\"><span class=\"toc-item-num\">1.1&nbsp;&nbsp;</span>Evaluatuion criteria</a></span></li></ul></li><li><span><a href=\"#Imports--&amp;-load\" data-toc-modified-id=\"Imports--&amp;-load-2\"><span class=\"toc-item-num\">2&nbsp;&nbsp;</span>Imports  &amp; load</a></span></li><li><span><a href=\"#EDA\" data-toc-modified-id=\"EDA-3\"><span class=\"toc-item-num\">3&nbsp;&nbsp;</span>EDA</a></span><ul class=\"toc-item\"><li><span><a href=\"#Samples-balance\" data-toc-modified-id=\"Samples-balance-3.1\"><span class=\"toc-item-num\">3.1&nbsp;&nbsp;</span>Samples balance</a></span></li><li><span><a href=\"#Samples-intersection\" data-toc-modified-id=\"Samples-intersection-3.2\"><span class=\"toc-item-num\">3.2&nbsp;&nbsp;</span>Samples intersection</a></span></li><li><span><a href=\"#Actions-logic\" data-toc-modified-id=\"Actions-logic-3.3\"><span class=\"toc-item-num\">3.3&nbsp;&nbsp;</span>Actions logic</a></span><ul class=\"toc-item\"><li><span><a href=\"#Duplicates-check\" data-toc-modified-id=\"Duplicates-check-3.3.1\"><span class=\"toc-item-num\">3.3.1&nbsp;&nbsp;</span>Duplicates check</a></span></li></ul></li><li><span><a href=\"#Distribution-of-actions-in-samples\" data-toc-modified-id=\"Distribution-of-actions-in-samples-3.4\"><span class=\"toc-item-num\">3.4&nbsp;&nbsp;</span>Distribution of actions in samples</a></span></li></ul></li><li><span><a href=\"#Metrics\" data-toc-modified-id=\"Metrics-4\"><span class=\"toc-item-num\">4&nbsp;&nbsp;</span>Metrics</a></span><ul class=\"toc-item\"><li><span><a href=\"#Aggregated-counters\" data-toc-modified-id=\"Aggregated-counters-4.1\"><span class=\"toc-item-num\">4.1&nbsp;&nbsp;</span>Aggregated counters</a></span></li><li><span><a href=\"#CTR\" data-toc-modified-id=\"CTR-4.2\"><span class=\"toc-item-num\">4.2&nbsp;&nbsp;</span>CTR</a></span></li><li><span><a href=\"#PR\" data-toc-modified-id=\"PR-4.3\"><span class=\"toc-item-num\">4.3&nbsp;&nbsp;</span>PR</a></span></li><li><span><a href=\"#GMV\" data-toc-modified-id=\"GMV-4.4\"><span class=\"toc-item-num\">4.4&nbsp;&nbsp;</span>GMV</a></span></li><li><span><a href=\"#metrics-per-user\" data-toc-modified-id=\"metrics-per-user-4.5\"><span class=\"toc-item-num\">4.5&nbsp;&nbsp;</span>metrics per user</a></span></li></ul></li><li><span><a href=\"#Tests\" data-toc-modified-id=\"Tests-5\"><span class=\"toc-item-num\">5&nbsp;&nbsp;</span>Tests</a></span><ul class=\"toc-item\"><li><span><a href=\"#Shapiro-Wilk-test\" data-toc-modified-id=\"Shapiro-Wilk-test-5.1\"><span class=\"toc-item-num\">5.1&nbsp;&nbsp;</span>Shapiro-Wilk test</a></span><ul class=\"toc-item\"><li><span><a href=\"#CTR\" data-toc-modified-id=\"CTR-5.1.1\"><span class=\"toc-item-num\">5.1.1&nbsp;&nbsp;</span>CTR</a></span></li><li><span><a href=\"#PR\" data-toc-modified-id=\"PR-5.1.2\"><span class=\"toc-item-num\">5.1.2&nbsp;&nbsp;</span>PR</a></span></li><li><span><a href=\"#GMV\" data-toc-modified-id=\"GMV-5.1.3\"><span class=\"toc-item-num\">5.1.3&nbsp;&nbsp;</span>GMV</a></span></li></ul></li><li><span><a href=\"#A-to-C-(AA)--metrics-comparision\" data-toc-modified-id=\"A-to-C-(AA)--metrics-comparision-5.2\"><span class=\"toc-item-num\">5.2&nbsp;&nbsp;</span>A to C (AA)  metrics comparision</a></span><ul class=\"toc-item\"><li><span><a href=\"#CTR\" data-toc-modified-id=\"CTR-5.2.1\"><span class=\"toc-item-num\">5.2.1&nbsp;&nbsp;</span>CTR</a></span></li><li><span><a href=\"#PR\" data-toc-modified-id=\"PR-5.2.2\"><span class=\"toc-item-num\">5.2.2&nbsp;&nbsp;</span>PR</a></span></li><li><span><a href=\"#GMV\" data-toc-modified-id=\"GMV-5.2.3\"><span class=\"toc-item-num\">5.2.3&nbsp;&nbsp;</span>GMV</a></span></li></ul></li><li><span><a href=\"#C-and-A-to-B-(AB)-metrics-comparision\" data-toc-modified-id=\"C-and-A-to-B-(AB)-metrics-comparision-5.3\"><span class=\"toc-item-num\">5.3&nbsp;&nbsp;</span>C and A to B (AB) metrics comparision</a></span><ul class=\"toc-item\"><li><span><a href=\"#CTR\" data-toc-modified-id=\"CTR-5.3.1\"><span class=\"toc-item-num\">5.3.1&nbsp;&nbsp;</span>CTR</a></span></li><li><span><a href=\"#PR\" data-toc-modified-id=\"PR-5.3.2\"><span class=\"toc-item-num\">5.3.2&nbsp;&nbsp;</span>PR</a></span></li><li><span><a href=\"#GMV\" data-toc-modified-id=\"GMV-5.3.3\"><span class=\"toc-item-num\">5.3.3&nbsp;&nbsp;</span>GMV</a></span></li></ul></li></ul></li><li><span><a href=\"#Conclusions\" data-toc-modified-id=\"Conclusions-6\"><span class=\"toc-item-num\">6&nbsp;&nbsp;</span>Conclusions</a></span></li></ul></div>"
   ]
  },
  {
   "cell_type": "markdown",
   "id": "1b9236b8",
   "metadata": {},
   "source": [
    "# Task setting "
   ]
  },
  {
   "cell_type": "markdown",
   "id": "952a890b",
   "metadata": {},
   "source": [
    "К вам попали результаты A/A/B-тестирования от одного известного маркетплейса. \n",
    "\n",
    "    - sample_a, sample_c — АА-группы, \n",
    "    - sample_b — отдельная группа. \n",
    "\n",
    "В каждом датасете есть три типа действий пользователей: \n",
    "- 0 — клик, \n",
    "- 1 — просмотр и \n",
    "- 2 — покупка (пользователь просматривает выдачу товаров, кликает на понравившийся товар и совершает покупку).\n",
    "\n",
    "Маркетплейс ориентируется на следующие метрики:\n",
    "\n",
    "- **ctr** (отношение кликов к просмотрам товаров);\n",
    "- **purchase rate** (отношение покупок к просмотрам товаров);\n",
    "- **gmv** (оборот, сумма произведений количества покупок на стоимость покупки), где считаем 1 сессию за 1 точку (1 сессия на 1 пользователя).\n",
    "\n",
    "Данные уже почищены по сессиям, вы можете использовать их в агрегированном виде. Ваша задача — понять, нет ли проблемы с разъезжанием сплитов и улучшает ли алгоритм B работу маркетплейса.\n",
    "\n",
    "Тест Шапиро-Уилка проведите на alpha =0.01."
   ]
  },
  {
   "cell_type": "markdown",
   "id": "fdfdc679",
   "metadata": {},
   "source": [
    "## Evaluatuion criteria\n",
    "\n",
    "    2 балла\tПроведена проверка, что нет ситуаций, когда происходит покупка/клик без действия просмотра. Удалены дубли.\n",
    "    2 балла\tРассчитаны метрики по датасетам, проведено общее сравнение метрик.\n",
    "    3 балла\tПроведён тест равенства долей для A и C групп по всем метрикам. Сделан вывод.\n",
    "    3 балла\tПроведён тест равенства долей для A и B групп по всем метрикам. Сделан вывод"
   ]
  },
  {
   "cell_type": "markdown",
   "id": "636bd1f5",
   "metadata": {},
   "source": [
    "# Imports  & load\n"
   ]
  },
  {
   "cell_type": "code",
   "execution_count": 128,
   "id": "c8438793",
   "metadata": {},
   "outputs": [],
   "source": [
    "import pandas as pd \n",
    "import numpy as np \n",
    "\n",
    "#features works\n",
    "from sklearn.preprocessing import OneHotEncoder\n",
    "\n",
    "#visuals\n",
    "import seaborn as sns\n",
    "import matplotlib.pyplot  as plt\n",
    "%matplotlib inline\n",
    "\n",
    "#stat\n",
    "from scipy.stats import shapiro\n",
    "from statsmodels.stats.proportion import proportions_ztest\n",
    "from statsmodels.stats.weightstats import ztest\n",
    "from scipy.stats import mannwhitneyu\n",
    "\n"
   ]
  },
  {
   "cell_type": "code",
   "execution_count": 3,
   "id": "9d2bd9c4",
   "metadata": {},
   "outputs": [
    {
     "data": {
      "text/html": [
       "<div>\n",
       "<style scoped>\n",
       "    .dataframe tbody tr th:only-of-type {\n",
       "        vertical-align: middle;\n",
       "    }\n",
       "\n",
       "    .dataframe tbody tr th {\n",
       "        vertical-align: top;\n",
       "    }\n",
       "\n",
       "    .dataframe thead th {\n",
       "        text-align: right;\n",
       "    }\n",
       "</style>\n",
       "<table border=\"1\" class=\"dataframe\">\n",
       "  <thead>\n",
       "    <tr style=\"text-align: right;\">\n",
       "      <th></th>\n",
       "      <th>user_id</th>\n",
       "      <th>item_id</th>\n",
       "      <th>action_id</th>\n",
       "    </tr>\n",
       "  </thead>\n",
       "  <tbody>\n",
       "    <tr>\n",
       "      <th>0</th>\n",
       "      <td>84636</td>\n",
       "      <td>360</td>\n",
       "      <td>1</td>\n",
       "    </tr>\n",
       "    <tr>\n",
       "      <th>1</th>\n",
       "      <td>21217</td>\n",
       "      <td>9635</td>\n",
       "      <td>1</td>\n",
       "    </tr>\n",
       "    <tr>\n",
       "      <th>2</th>\n",
       "      <td>13445</td>\n",
       "      <td>8590</td>\n",
       "      <td>1</td>\n",
       "    </tr>\n",
       "    <tr>\n",
       "      <th>3</th>\n",
       "      <td>38450</td>\n",
       "      <td>5585</td>\n",
       "      <td>1</td>\n",
       "    </tr>\n",
       "    <tr>\n",
       "      <th>4</th>\n",
       "      <td>14160</td>\n",
       "      <td>2383</td>\n",
       "      <td>0</td>\n",
       "    </tr>\n",
       "  </tbody>\n",
       "</table>\n",
       "</div>"
      ],
      "text/plain": [
       "   user_id  item_id  action_id\n",
       "0    84636      360          1\n",
       "1    21217     9635          1\n",
       "2    13445     8590          1\n",
       "3    38450     5585          1\n",
       "4    14160     2383          0"
      ]
     },
     "execution_count": 3,
     "metadata": {},
     "output_type": "execute_result"
    }
   ],
   "source": [
    "data_a = pd.read_csv('sample_a.csv') \n",
    "data_a.head() "
   ]
  },
  {
   "cell_type": "code",
   "execution_count": 4,
   "id": "9f2e2b77",
   "metadata": {},
   "outputs": [],
   "source": [
    "data_b = pd.read_csv('sample_b.csv')\n",
    "data_c = pd.read_csv('sample_c.csv')"
   ]
  },
  {
   "cell_type": "code",
   "execution_count": 5,
   "id": "c3575fbf",
   "metadata": {},
   "outputs": [
    {
     "data": {
      "text/html": [
       "<div>\n",
       "<style scoped>\n",
       "    .dataframe tbody tr th:only-of-type {\n",
       "        vertical-align: middle;\n",
       "    }\n",
       "\n",
       "    .dataframe tbody tr th {\n",
       "        vertical-align: top;\n",
       "    }\n",
       "\n",
       "    .dataframe thead th {\n",
       "        text-align: right;\n",
       "    }\n",
       "</style>\n",
       "<table border=\"1\" class=\"dataframe\">\n",
       "  <thead>\n",
       "    <tr style=\"text-align: right;\">\n",
       "      <th></th>\n",
       "      <th>item_id</th>\n",
       "      <th>item_price</th>\n",
       "    </tr>\n",
       "  </thead>\n",
       "  <tbody>\n",
       "    <tr>\n",
       "      <th>0</th>\n",
       "      <td>338</td>\n",
       "      <td>1501</td>\n",
       "    </tr>\n",
       "    <tr>\n",
       "      <th>1</th>\n",
       "      <td>74</td>\n",
       "      <td>647</td>\n",
       "    </tr>\n",
       "    <tr>\n",
       "      <th>2</th>\n",
       "      <td>7696</td>\n",
       "      <td>825</td>\n",
       "    </tr>\n",
       "    <tr>\n",
       "      <th>3</th>\n",
       "      <td>866</td>\n",
       "      <td>875</td>\n",
       "    </tr>\n",
       "    <tr>\n",
       "      <th>4</th>\n",
       "      <td>5876</td>\n",
       "      <td>804</td>\n",
       "    </tr>\n",
       "  </tbody>\n",
       "</table>\n",
       "</div>"
      ],
      "text/plain": [
       "   item_id  item_price\n",
       "0      338        1501\n",
       "1       74         647\n",
       "2     7696         825\n",
       "3      866         875\n",
       "4     5876         804"
      ]
     },
     "execution_count": 5,
     "metadata": {},
     "output_type": "execute_result"
    }
   ],
   "source": [
    "prices = pd.read_csv('item_prices.csv')\n",
    "prices.head()"
   ]
  },
  {
   "cell_type": "markdown",
   "id": "7b7bc329",
   "metadata": {},
   "source": [
    "# EDA"
   ]
  },
  {
   "cell_type": "markdown",
   "id": "d7d07ebc",
   "metadata": {},
   "source": [
    "Соберем данные воедино, присвоив каждому sample свою метку"
   ]
  },
  {
   "cell_type": "code",
   "execution_count": 6,
   "id": "ed81ea5e",
   "metadata": {},
   "outputs": [],
   "source": [
    "# flag for sample\n",
    "\n",
    "data_a['sample'] = 'a' #AA\n",
    "data_b['sample'] = 'b' #B\n",
    "data_c['sample'] = 'c'#AA"
   ]
  },
  {
   "cell_type": "code",
   "execution_count": 7,
   "id": "e01f8fd7",
   "metadata": {},
   "outputs": [],
   "source": [
    "data = pd.concat([data_a, data_b, data_c], axis = 0)"
   ]
  },
  {
   "cell_type": "markdown",
   "id": "c43a5ca0",
   "metadata": {},
   "source": [
    "Присоединим данные по ценам"
   ]
  },
  {
   "cell_type": "code",
   "execution_count": 8,
   "id": "d49c1080",
   "metadata": {},
   "outputs": [
    {
     "data": {
      "text/html": [
       "<div>\n",
       "<style scoped>\n",
       "    .dataframe tbody tr th:only-of-type {\n",
       "        vertical-align: middle;\n",
       "    }\n",
       "\n",
       "    .dataframe tbody tr th {\n",
       "        vertical-align: top;\n",
       "    }\n",
       "\n",
       "    .dataframe thead th {\n",
       "        text-align: right;\n",
       "    }\n",
       "</style>\n",
       "<table border=\"1\" class=\"dataframe\">\n",
       "  <thead>\n",
       "    <tr style=\"text-align: right;\">\n",
       "      <th></th>\n",
       "      <th>user_id</th>\n",
       "      <th>item_id</th>\n",
       "      <th>action_id</th>\n",
       "      <th>sample</th>\n",
       "      <th>item_price</th>\n",
       "    </tr>\n",
       "  </thead>\n",
       "  <tbody>\n",
       "    <tr>\n",
       "      <th>0</th>\n",
       "      <td>84636</td>\n",
       "      <td>360</td>\n",
       "      <td>1</td>\n",
       "      <td>a</td>\n",
       "      <td>1896</td>\n",
       "    </tr>\n",
       "    <tr>\n",
       "      <th>1</th>\n",
       "      <td>21217</td>\n",
       "      <td>9635</td>\n",
       "      <td>1</td>\n",
       "      <td>a</td>\n",
       "      <td>1699</td>\n",
       "    </tr>\n",
       "    <tr>\n",
       "      <th>2</th>\n",
       "      <td>13445</td>\n",
       "      <td>8590</td>\n",
       "      <td>1</td>\n",
       "      <td>a</td>\n",
       "      <td>846</td>\n",
       "    </tr>\n",
       "    <tr>\n",
       "      <th>3</th>\n",
       "      <td>38450</td>\n",
       "      <td>5585</td>\n",
       "      <td>1</td>\n",
       "      <td>a</td>\n",
       "      <td>1556</td>\n",
       "    </tr>\n",
       "    <tr>\n",
       "      <th>4</th>\n",
       "      <td>14160</td>\n",
       "      <td>2383</td>\n",
       "      <td>0</td>\n",
       "      <td>a</td>\n",
       "      <td>1956</td>\n",
       "    </tr>\n",
       "  </tbody>\n",
       "</table>\n",
       "</div>"
      ],
      "text/plain": [
       "   user_id  item_id  action_id sample  item_price\n",
       "0    84636      360          1      a        1896\n",
       "1    21217     9635          1      a        1699\n",
       "2    13445     8590          1      a         846\n",
       "3    38450     5585          1      a        1556\n",
       "4    14160     2383          0      a        1956"
      ]
     },
     "execution_count": 8,
     "metadata": {},
     "output_type": "execute_result"
    }
   ],
   "source": [
    "data = data.merge(prices, how='left', on='item_id')\n",
    "data.head()"
   ]
  },
  {
   "cell_type": "markdown",
   "id": "d102ca5e",
   "metadata": {},
   "source": [
    "Проверим на пропуски"
   ]
  },
  {
   "cell_type": "code",
   "execution_count": 9,
   "id": "c4901e19",
   "metadata": {},
   "outputs": [
    {
     "data": {
      "text/plain": [
       "<AxesSubplot:>"
      ]
     },
     "execution_count": 9,
     "metadata": {},
     "output_type": "execute_result"
    },
    {
     "data": {
      "image/png": "[encoded data removed]",
      "text/plain": [
       "<Figure size 640x480 with 2 Axes>"
      ]
     },
     "metadata": {},
     "output_type": "display_data"
    }
   ],
   "source": [
    "sns.heatmap(data.isna())"
   ]
  },
  {
   "cell_type": "markdown",
   "id": "2a959c2d",
   "metadata": {},
   "source": [
    "<span class=\"girk\">Данные полностью без пропусков, что очень радует.</span>"
   ]
  },
  {
   "cell_type": "markdown",
   "id": "5e51f5f3",
   "metadata": {},
   "source": [
    "Сразу посмотрим на баланс и взаимную неперсекаемость семплов по пользователям."
   ]
  },
  {
   "cell_type": "markdown",
   "id": "4368e657",
   "metadata": {},
   "source": [
    "## Samples balance"
   ]
  },
  {
   "cell_type": "code",
   "execution_count": 10,
   "id": "ad831bdf",
   "metadata": {},
   "outputs": [
    {
     "data": {
      "image/png": "[encoded data removed]",
      "text/plain": [
       "<Figure size 500x500 with 1 Axes>"
      ]
     },
     "metadata": {},
     "output_type": "display_data"
    }
   ],
   "source": [
    "sns.set_theme(style=\"whitegrid\")\n",
    "sns.catplot(data=data, x='sample', kind='count', palette=\"ch:.15\", margin_titles=True)\n",
    "plt.ticklabel_format(style='plain', axis='y')"
   ]
  },
  {
   "cell_type": "code",
   "execution_count": 11,
   "id": "d5e77e3c",
   "metadata": {},
   "outputs": [
    {
     "data": {
      "text/plain": [
       "996"
      ]
     },
     "execution_count": 11,
     "metadata": {},
     "output_type": "execute_result"
    }
   ],
   "source": [
    "len(set(data_a.user_id))"
   ]
  },
  {
   "cell_type": "code",
   "execution_count": 12,
   "id": "5b87359a",
   "metadata": {},
   "outputs": [
    {
     "data": {
      "text/plain": [
       "996"
      ]
     },
     "execution_count": 12,
     "metadata": {},
     "output_type": "execute_result"
    }
   ],
   "source": [
    "len(set(data_b.user_id))"
   ]
  },
  {
   "cell_type": "code",
   "execution_count": 13,
   "id": "fdea80aa",
   "metadata": {},
   "outputs": [
    {
     "data": {
      "text/plain": [
       "994"
      ]
     },
     "execution_count": 13,
     "metadata": {},
     "output_type": "execute_result"
    }
   ],
   "source": [
    "len(set(data_c.user_id) )"
   ]
  },
  {
   "cell_type": "markdown",
   "id": "b2291a54",
   "metadata": {},
   "source": [
    "<div class=\"girk\">\n",
    "Выборки сбалансированы по количеству пользователей.</div><i class=\"fa fa-lightbulb-o \"></i>"
   ]
  },
  {
   "cell_type": "markdown",
   "id": "a57f267e",
   "metadata": {},
   "source": [
    "## Samples intersection"
   ]
  },
  {
   "cell_type": "code",
   "execution_count": 14,
   "id": "73e6ee12",
   "metadata": {},
   "outputs": [
    {
     "name": "stdout",
     "output_type": "stream",
     "text": [
      "Matching users in control groups:0\n"
     ]
    }
   ],
   "source": [
    "# intersection check \n",
    "intersections_aa = set(data_a.user_id).intersection(set(data_c.user_id))\n",
    "print(f\"Matching users in control groups:{len(intersections_aa)}\")"
   ]
  },
  {
   "cell_type": "code",
   "execution_count": 15,
   "id": "e92276a2",
   "metadata": {},
   "outputs": [
    {
     "name": "stdout",
     "output_type": "stream",
     "text": [
      "Matching users in a to b group:0\n"
     ]
    }
   ],
   "source": [
    "intersections_ab = set(data_a.user_id).intersection(set(data_b.user_id))\n",
    "print(f\"Matching users in a to b group:{len(intersections_ab)}\")"
   ]
  },
  {
   "cell_type": "code",
   "execution_count": 16,
   "id": "62cd15c7",
   "metadata": {},
   "outputs": [
    {
     "name": "stdout",
     "output_type": "stream",
     "text": [
      "Matching users in b group to c group:0\n"
     ]
    }
   ],
   "source": [
    "intersections_bc= set(data_c.user_id).intersection(set(data_b.user_id))\n",
    "print(f\"Matching users in b group to c group:{len(intersections_bc)}\")"
   ]
  },
  {
   "cell_type": "markdown",
   "id": "324b81fe",
   "metadata": {},
   "source": [
    "<div class=\"girk\">\n",
    "Пользователей, попавших в две выборки, нет. </div><i class=\"fa fa-lightbulb-o \"></i>"
   ]
  },
  {
   "cell_type": "markdown",
   "id": "8c91cfec",
   "metadata": {},
   "source": [
    "## Actions logic"
   ]
  },
  {
   "cell_type": "markdown",
   "id": "0390d86a",
   "metadata": {},
   "source": [
    "Развернем и группируем данные по пользователям и товарам. Если все получится правильно, то: \n",
    "   - для каждого пользователя \n",
    "        - для каждого товара\n",
    " \n",
    " будут суммированы просмотры, клики и покупки. Это поможет увидеть ошибочные ситуации, когда просмотр не зафиксирован, но есть клик или покупка."
   ]
  },
  {
   "cell_type": "code",
   "execution_count": 17,
   "id": "c00dec12",
   "metadata": {},
   "outputs": [],
   "source": [
    "encoder = OneHotEncoder()"
   ]
  },
  {
   "cell_type": "code",
   "execution_count": 18,
   "id": "a2b83d76",
   "metadata": {},
   "outputs": [],
   "source": [
    "dummies = pd.get_dummies(data.action_id)"
   ]
  },
  {
   "cell_type": "code",
   "execution_count": 19,
   "id": "38786328",
   "metadata": {},
   "outputs": [
    {
     "data": {
      "text/html": [
       "<div>\n",
       "<style scoped>\n",
       "    .dataframe tbody tr th:only-of-type {\n",
       "        vertical-align: middle;\n",
       "    }\n",
       "\n",
       "    .dataframe tbody tr th {\n",
       "        vertical-align: top;\n",
       "    }\n",
       "\n",
       "    .dataframe thead th {\n",
       "        text-align: right;\n",
       "    }\n",
       "</style>\n",
       "<table border=\"1\" class=\"dataframe\">\n",
       "  <thead>\n",
       "    <tr style=\"text-align: right;\">\n",
       "      <th></th>\n",
       "      <th>click</th>\n",
       "      <th>view</th>\n",
       "      <th>purchase</th>\n",
       "    </tr>\n",
       "  </thead>\n",
       "  <tbody>\n",
       "    <tr>\n",
       "      <th>0</th>\n",
       "      <td>0</td>\n",
       "      <td>1</td>\n",
       "      <td>0</td>\n",
       "    </tr>\n",
       "    <tr>\n",
       "      <th>1</th>\n",
       "      <td>0</td>\n",
       "      <td>1</td>\n",
       "      <td>0</td>\n",
       "    </tr>\n",
       "    <tr>\n",
       "      <th>2</th>\n",
       "      <td>0</td>\n",
       "      <td>1</td>\n",
       "      <td>0</td>\n",
       "    </tr>\n",
       "    <tr>\n",
       "      <th>3</th>\n",
       "      <td>0</td>\n",
       "      <td>1</td>\n",
       "      <td>0</td>\n",
       "    </tr>\n",
       "    <tr>\n",
       "      <th>4</th>\n",
       "      <td>1</td>\n",
       "      <td>0</td>\n",
       "      <td>0</td>\n",
       "    </tr>\n",
       "  </tbody>\n",
       "</table>\n",
       "</div>"
      ],
      "text/plain": [
       "   click  view  purchase\n",
       "0      0     1         0\n",
       "1      0     1         0\n",
       "2      0     1         0\n",
       "3      0     1         0\n",
       "4      1     0         0"
      ]
     },
     "execution_count": 19,
     "metadata": {},
     "output_type": "execute_result"
    }
   ],
   "source": [
    "dummies= dummies.rename(columns={0:'click', 1:'view', 2:'purchase'})\n",
    "dummies.head()"
   ]
  },
  {
   "cell_type": "code",
   "execution_count": 20,
   "id": "91da5d92",
   "metadata": {},
   "outputs": [],
   "source": [
    "data = pd.concat([data, dummies], axis=1)"
   ]
  },
  {
   "cell_type": "raw",
   "id": "04355e2a",
   "metadata": {},
   "source": [
    "data.drop(columns='action_id', axis=1, inplace=True)\n",
    "data.head()"
   ]
  },
  {
   "cell_type": "markdown",
   "id": "14db7fdc",
   "metadata": {},
   "source": [
    "### Duplicates check "
   ]
  },
  {
   "cell_type": "code",
   "execution_count": 21,
   "id": "b9990b4a",
   "metadata": {},
   "outputs": [
    {
     "data": {
      "text/html": [
       "<div>\n",
       "<style scoped>\n",
       "    .dataframe tbody tr th:only-of-type {\n",
       "        vertical-align: middle;\n",
       "    }\n",
       "\n",
       "    .dataframe tbody tr th {\n",
       "        vertical-align: top;\n",
       "    }\n",
       "\n",
       "    .dataframe thead th {\n",
       "        text-align: right;\n",
       "    }\n",
       "</style>\n",
       "<table border=\"1\" class=\"dataframe\">\n",
       "  <thead>\n",
       "    <tr style=\"text-align: right;\">\n",
       "      <th></th>\n",
       "      <th>user_id</th>\n",
       "      <th>item_id</th>\n",
       "      <th>action_id</th>\n",
       "      <th>sample</th>\n",
       "      <th>item_price</th>\n",
       "      <th>click</th>\n",
       "      <th>view</th>\n",
       "      <th>purchase</th>\n",
       "    </tr>\n",
       "  </thead>\n",
       "  <tbody>\n",
       "  </tbody>\n",
       "</table>\n",
       "</div>"
      ],
      "text/plain": [
       "Empty DataFrame\n",
       "Columns: [user_id, item_id, action_id, sample, item_price, click, view, purchase]\n",
       "Index: []"
      ]
     },
     "execution_count": 21,
     "metadata": {},
     "output_type": "execute_result"
    }
   ],
   "source": [
    "data[data.duplicated()]"
   ]
  },
  {
   "cell_type": "raw",
   "id": "82261bc5",
   "metadata": {},
   "source": [
    "df[df.duplicated()]"
   ]
  },
  {
   "cell_type": "markdown",
   "id": "b023d73d",
   "metadata": {},
   "source": [
    "<span class=\"girk\">\n",
    "    Дублированных наблюдений нет.\n",
    "</span> "
   ]
  },
  {
   "cell_type": "markdown",
   "id": "a349ed61",
   "metadata": {},
   "source": [
    "Проверим, что нет click  или purchase при отсутствии view"
   ]
  },
  {
   "cell_type": "code",
   "execution_count": 22,
   "id": "845c7b11",
   "metadata": {},
   "outputs": [],
   "source": [
    "df = pd.pivot_table(data, \n",
    "              index=[\"sample\", 'user_id', 'item_id'],\n",
    "                   aggfunc='count')"
   ]
  },
  {
   "cell_type": "code",
   "execution_count": 23,
   "id": "8ca1a783",
   "metadata": {},
   "outputs": [
    {
     "data": {
      "text/html": [
       "<div>\n",
       "<style scoped>\n",
       "    .dataframe tbody tr th:only-of-type {\n",
       "        vertical-align: middle;\n",
       "    }\n",
       "\n",
       "    .dataframe tbody tr th {\n",
       "        vertical-align: top;\n",
       "    }\n",
       "\n",
       "    .dataframe thead th {\n",
       "        text-align: right;\n",
       "    }\n",
       "</style>\n",
       "<table border=\"1\" class=\"dataframe\">\n",
       "  <thead>\n",
       "    <tr style=\"text-align: right;\">\n",
       "      <th></th>\n",
       "      <th></th>\n",
       "      <th></th>\n",
       "      <th>action_id</th>\n",
       "      <th>click</th>\n",
       "      <th>item_price</th>\n",
       "      <th>purchase</th>\n",
       "      <th>view</th>\n",
       "    </tr>\n",
       "    <tr>\n",
       "      <th>sample</th>\n",
       "      <th>user_id</th>\n",
       "      <th>item_id</th>\n",
       "      <th></th>\n",
       "      <th></th>\n",
       "      <th></th>\n",
       "      <th></th>\n",
       "      <th></th>\n",
       "    </tr>\n",
       "  </thead>\n",
       "  <tbody>\n",
       "    <tr>\n",
       "      <th rowspan=\"5\" valign=\"top\">a</th>\n",
       "      <th rowspan=\"5\" valign=\"top\">241</th>\n",
       "      <th>21</th>\n",
       "      <td>1</td>\n",
       "      <td>1</td>\n",
       "      <td>1</td>\n",
       "      <td>1</td>\n",
       "      <td>1</td>\n",
       "    </tr>\n",
       "    <tr>\n",
       "      <th>36</th>\n",
       "      <td>1</td>\n",
       "      <td>1</td>\n",
       "      <td>1</td>\n",
       "      <td>1</td>\n",
       "      <td>1</td>\n",
       "    </tr>\n",
       "    <tr>\n",
       "      <th>39</th>\n",
       "      <td>1</td>\n",
       "      <td>1</td>\n",
       "      <td>1</td>\n",
       "      <td>1</td>\n",
       "      <td>1</td>\n",
       "    </tr>\n",
       "    <tr>\n",
       "      <th>50</th>\n",
       "      <td>1</td>\n",
       "      <td>1</td>\n",
       "      <td>1</td>\n",
       "      <td>1</td>\n",
       "      <td>1</td>\n",
       "    </tr>\n",
       "    <tr>\n",
       "      <th>64</th>\n",
       "      <td>1</td>\n",
       "      <td>1</td>\n",
       "      <td>1</td>\n",
       "      <td>1</td>\n",
       "      <td>1</td>\n",
       "    </tr>\n",
       "  </tbody>\n",
       "</table>\n",
       "</div>"
      ],
      "text/plain": [
       "                        action_id  click  item_price  purchase  view\n",
       "sample user_id item_id                                              \n",
       "a      241     21               1      1           1         1     1\n",
       "               36               1      1           1         1     1\n",
       "               39               1      1           1         1     1\n",
       "               50               1      1           1         1     1\n",
       "               64               1      1           1         1     1"
      ]
     },
     "execution_count": 23,
     "metadata": {},
     "output_type": "execute_result"
    }
   ],
   "source": [
    "df.head()"
   ]
  },
  {
   "cell_type": "code",
   "execution_count": 24,
   "id": "bc743aa6",
   "metadata": {},
   "outputs": [],
   "source": [
    "# Преобразуем индекс в признаки для удобства\n",
    "df.reset_index(level=['sample','user_id','item_id'], inplace=True)"
   ]
  },
  {
   "cell_type": "code",
   "execution_count": 204,
   "id": "6972f58d",
   "metadata": {},
   "outputs": [
    {
     "data": {
      "text/plain": [
       "0"
      ]
     },
     "execution_count": 204,
     "metadata": {},
     "output_type": "execute_result"
    }
   ],
   "source": [
    "len(df[df.view<df.click])"
   ]
  },
  {
   "cell_type": "code",
   "execution_count": 205,
   "id": "1b090b71",
   "metadata": {},
   "outputs": [
    {
     "data": {
      "text/plain": [
       "0"
      ]
     },
     "execution_count": 205,
     "metadata": {},
     "output_type": "execute_result"
    }
   ],
   "source": [
    "len(df[df.view<df.purchase])"
   ]
  },
  {
   "cell_type": "markdown",
   "id": "6f62ab82",
   "metadata": {},
   "source": [
    "Ситуаций, когда просмотров меньше, чем покупок или кликов, нет. "
   ]
  },
  {
   "cell_type": "markdown",
   "id": "e45d6baa",
   "metadata": {},
   "source": [
    "## Distribution of actions in samples"
   ]
  },
  {
   "cell_type": "code",
   "execution_count": 27,
   "id": "15de97e0",
   "metadata": {},
   "outputs": [
    {
     "data": {
      "image/png": "[encoded data removed]",
      "text/plain": [
       "<Figure size 665.972x600 with 1 Axes>"
      ]
     },
     "metadata": {},
     "output_type": "display_data"
    }
   ],
   "source": [
    "ticks=['click', 'view', 'purchase']\n",
    "g = sns.catplot(\n",
    "    data=data, kind=\"count\",\n",
    "    x='action_id', hue='sample', palette=\"ch:.15\", alpha=.6, height=6\n",
    ")\n",
    "g.set_xticklabels(ticks)\n",
    "plt.ticklabel_format(style='plain', axis='y')"
   ]
  },
  {
   "cell_type": "markdown",
   "id": "ea51f412",
   "metadata": {},
   "source": [
    "    По сводным суммарным  показателям уже можно увидеть, что у нас корректное разбиение на АА группы - показатели всех типов действий очень близки друг к другу. \n",
    "  \n",
    "    Treatment - группа b демострирует относительно более высокий уровень покупок."
   ]
  },
  {
   "cell_type": "markdown",
   "id": "c3c557b4",
   "metadata": {},
   "source": [
    "# Metrics \n"
   ]
  },
  {
   "cell_type": "markdown",
   "id": "877fdb59",
   "metadata": {},
   "source": [
    "Маркетплейс ориентируется на следующие метрики:\n",
    "\n",
    "    ctr (отношение кликов к просмотрам товаров);\n",
    "    purchase rate (отношение покупок к просмотрам товаров);\n",
    "    gmv (оборот, сумма произведений количества покупок на стоимость покупки), где считаем 1 сессию за 1 точку (1 сессия на 1 пользователя).\n"
   ]
  },
  {
   "cell_type": "markdown",
   "id": "046ccf8c",
   "metadata": {},
   "source": [
    "На АА выборках наши метрики должны быть предельно похожими в том случае, если сэмплирование проведено корректно. \n",
    "На выборках АВ метрики должны быть разными, в том случае, если воздействие treatment  имело какой-то эффект на свой сэмпл."
   ]
  },
  {
   "cell_type": "markdown",
   "id": "6dd42da5",
   "metadata": {},
   "source": [
    "Для удобного рассчета $GMV$ как валового объема транзакций, рассчитаем $merchandise$: цена*количество покупок"
   ]
  },
  {
   "cell_type": "code",
   "execution_count": 28,
   "id": "678613ab",
   "metadata": {},
   "outputs": [
    {
     "data": {
      "text/html": [
       "<div>\n",
       "<style scoped>\n",
       "    .dataframe tbody tr th:only-of-type {\n",
       "        vertical-align: middle;\n",
       "    }\n",
       "\n",
       "    .dataframe tbody tr th {\n",
       "        vertical-align: top;\n",
       "    }\n",
       "\n",
       "    .dataframe thead th {\n",
       "        text-align: right;\n",
       "    }\n",
       "</style>\n",
       "<table border=\"1\" class=\"dataframe\">\n",
       "  <thead>\n",
       "    <tr style=\"text-align: right;\">\n",
       "      <th></th>\n",
       "      <th>user_id</th>\n",
       "      <th>item_id</th>\n",
       "      <th>action_id</th>\n",
       "      <th>sample</th>\n",
       "      <th>item_price</th>\n",
       "      <th>click</th>\n",
       "      <th>view</th>\n",
       "      <th>purchase</th>\n",
       "      <th>merchandise</th>\n",
       "    </tr>\n",
       "  </thead>\n",
       "  <tbody>\n",
       "    <tr>\n",
       "      <th>0</th>\n",
       "      <td>84636</td>\n",
       "      <td>360</td>\n",
       "      <td>1</td>\n",
       "      <td>a</td>\n",
       "      <td>1896</td>\n",
       "      <td>0</td>\n",
       "      <td>1</td>\n",
       "      <td>0</td>\n",
       "      <td>0</td>\n",
       "    </tr>\n",
       "    <tr>\n",
       "      <th>1</th>\n",
       "      <td>21217</td>\n",
       "      <td>9635</td>\n",
       "      <td>1</td>\n",
       "      <td>a</td>\n",
       "      <td>1699</td>\n",
       "      <td>0</td>\n",
       "      <td>1</td>\n",
       "      <td>0</td>\n",
       "      <td>0</td>\n",
       "    </tr>\n",
       "    <tr>\n",
       "      <th>2</th>\n",
       "      <td>13445</td>\n",
       "      <td>8590</td>\n",
       "      <td>1</td>\n",
       "      <td>a</td>\n",
       "      <td>846</td>\n",
       "      <td>0</td>\n",
       "      <td>1</td>\n",
       "      <td>0</td>\n",
       "      <td>0</td>\n",
       "    </tr>\n",
       "    <tr>\n",
       "      <th>3</th>\n",
       "      <td>38450</td>\n",
       "      <td>5585</td>\n",
       "      <td>1</td>\n",
       "      <td>a</td>\n",
       "      <td>1556</td>\n",
       "      <td>0</td>\n",
       "      <td>1</td>\n",
       "      <td>0</td>\n",
       "      <td>0</td>\n",
       "    </tr>\n",
       "    <tr>\n",
       "      <th>4</th>\n",
       "      <td>14160</td>\n",
       "      <td>2383</td>\n",
       "      <td>0</td>\n",
       "      <td>a</td>\n",
       "      <td>1956</td>\n",
       "      <td>1</td>\n",
       "      <td>0</td>\n",
       "      <td>0</td>\n",
       "      <td>0</td>\n",
       "    </tr>\n",
       "  </tbody>\n",
       "</table>\n",
       "</div>"
      ],
      "text/plain": [
       "   user_id  item_id  action_id sample  item_price  click  view  purchase  \\\n",
       "0    84636      360          1      a        1896      0     1         0   \n",
       "1    21217     9635          1      a        1699      0     1         0   \n",
       "2    13445     8590          1      a         846      0     1         0   \n",
       "3    38450     5585          1      a        1556      0     1         0   \n",
       "4    14160     2383          0      a        1956      1     0         0   \n",
       "\n",
       "   merchandise  \n",
       "0            0  \n",
       "1            0  \n",
       "2            0  \n",
       "3            0  \n",
       "4            0  "
      ]
     },
     "execution_count": 28,
     "metadata": {},
     "output_type": "execute_result"
    }
   ],
   "source": [
    "data['merchandise'] = data['item_price'] * data['purchase']\n",
    "data.head()"
   ]
  },
  {
   "cell_type": "markdown",
   "id": "e9407790",
   "metadata": {},
   "source": [
    "## Aggregated counters  "
   ]
  },
  {
   "cell_type": "markdown",
   "id": "64c646a2",
   "metadata": {},
   "source": [
    "выведем сводные показатели-счетчики по семплам: клики, просмотры, покупки и валовый объем транзакций."
   ]
  },
  {
   "cell_type": "code",
   "execution_count": 30,
   "id": "43b6f581",
   "metadata": {},
   "outputs": [
    {
     "data": {
      "text/html": [
       "<div>\n",
       "<style scoped>\n",
       "    .dataframe tbody tr th:only-of-type {\n",
       "        vertical-align: middle;\n",
       "    }\n",
       "\n",
       "    .dataframe tbody tr th {\n",
       "        vertical-align: top;\n",
       "    }\n",
       "\n",
       "    .dataframe thead th {\n",
       "        text-align: right;\n",
       "    }\n",
       "</style>\n",
       "<table border=\"1\" class=\"dataframe\">\n",
       "  <thead>\n",
       "    <tr style=\"text-align: right;\">\n",
       "      <th></th>\n",
       "      <th>sample</th>\n",
       "      <th>action</th>\n",
       "      <th>total</th>\n",
       "    </tr>\n",
       "  </thead>\n",
       "  <tbody>\n",
       "    <tr>\n",
       "      <th>0</th>\n",
       "      <td>a</td>\n",
       "      <td>click</td>\n",
       "      <td>199253</td>\n",
       "    </tr>\n",
       "    <tr>\n",
       "      <th>1</th>\n",
       "      <td>a</td>\n",
       "      <td>view</td>\n",
       "      <td>995950</td>\n",
       "    </tr>\n",
       "    <tr>\n",
       "      <th>2</th>\n",
       "      <td>a</td>\n",
       "      <td>purchase</td>\n",
       "      <td>49748</td>\n",
       "    </tr>\n",
       "    <tr>\n",
       "      <th>3</th>\n",
       "      <td>a</td>\n",
       "      <td>merchandise</td>\n",
       "      <td>53060177</td>\n",
       "    </tr>\n",
       "    <tr>\n",
       "      <th>4</th>\n",
       "      <td>b</td>\n",
       "      <td>click</td>\n",
       "      <td>159294</td>\n",
       "    </tr>\n",
       "    <tr>\n",
       "      <th>5</th>\n",
       "      <td>b</td>\n",
       "      <td>view</td>\n",
       "      <td>995961</td>\n",
       "    </tr>\n",
       "    <tr>\n",
       "      <th>6</th>\n",
       "      <td>b</td>\n",
       "      <td>purchase</td>\n",
       "      <td>99472</td>\n",
       "    </tr>\n",
       "    <tr>\n",
       "      <th>7</th>\n",
       "      <td>b</td>\n",
       "      <td>merchandise</td>\n",
       "      <td>106047378</td>\n",
       "    </tr>\n",
       "    <tr>\n",
       "      <th>8</th>\n",
       "      <td>c</td>\n",
       "      <td>click</td>\n",
       "      <td>208682</td>\n",
       "    </tr>\n",
       "    <tr>\n",
       "      <th>9</th>\n",
       "      <td>c</td>\n",
       "      <td>view</td>\n",
       "      <td>993951</td>\n",
       "    </tr>\n",
       "    <tr>\n",
       "      <th>10</th>\n",
       "      <td>c</td>\n",
       "      <td>purchase</td>\n",
       "      <td>59689</td>\n",
       "    </tr>\n",
       "    <tr>\n",
       "      <th>11</th>\n",
       "      <td>c</td>\n",
       "      <td>merchandise</td>\n",
       "      <td>63614910</td>\n",
       "    </tr>\n",
       "  </tbody>\n",
       "</table>\n",
       "</div>"
      ],
      "text/plain": [
       "   sample       action      total\n",
       "0       a        click     199253\n",
       "1       a         view     995950\n",
       "2       a     purchase      49748\n",
       "3       a  merchandise   53060177\n",
       "4       b        click     159294\n",
       "5       b         view     995961\n",
       "6       b     purchase      99472\n",
       "7       b  merchandise  106047378\n",
       "8       c        click     208682\n",
       "9       c         view     993951\n",
       "10      c     purchase      59689\n",
       "11      c  merchandise   63614910"
      ]
     },
     "execution_count": 30,
     "metadata": {},
     "output_type": "execute_result"
    }
   ],
   "source": [
    "counters_data = []\n",
    "for sample in ['a','b','c']:\n",
    "    frag=data[data['sample'] == sample]\n",
    "    for col in ['click', 'view','purchase', 'merchandise']:\n",
    "        counter=round(frag[col].sum())\n",
    "        counters_data.append([sample, col, counter])\n",
    "        \n",
    "counters = pd.DataFrame(counters_data).rename(columns={0:'sample', 1: 'action', 2: \"total\"})\n",
    "counters"
   ]
  },
  {
   "cell_type": "markdown",
   "id": "110fd76f",
   "metadata": {},
   "source": [
    "## CTR\n",
    "отношение кликов к просмотрам товаров. \n"
   ]
  },
  {
   "cell_type": "code",
   "execution_count": 32,
   "id": "43a9ce29",
   "metadata": {},
   "outputs": [
    {
     "data": {
      "text/plain": [
       "0.2"
      ]
     },
     "execution_count": 32,
     "metadata": {},
     "output_type": "execute_result"
    }
   ],
   "source": [
    "ctr_a = round(counters['total'][0] / counters['total'][1], 3)\n",
    "ctr_a"
   ]
  },
  {
   "cell_type": "code",
   "execution_count": 33,
   "id": "bc9c45ea",
   "metadata": {},
   "outputs": [
    {
     "data": {
      "text/plain": [
       "0.16"
      ]
     },
     "execution_count": 33,
     "metadata": {},
     "output_type": "execute_result"
    }
   ],
   "source": [
    "ctr_b = round(counters['total'][4] / counters['total'][5], 3)\n",
    "ctr_b"
   ]
  },
  {
   "cell_type": "code",
   "execution_count": 36,
   "id": "a143dad1",
   "metadata": {},
   "outputs": [
    {
     "data": {
      "text/plain": [
       "0.21"
      ]
     },
     "execution_count": 36,
     "metadata": {},
     "output_type": "execute_result"
    }
   ],
   "source": [
    "ctr_c = round(counters['total'][8] / counters['total'][9], 3)\n",
    "ctr_c"
   ]
  },
  {
   "cell_type": "markdown",
   "id": "51dcdb91",
   "metadata": {},
   "source": [
    "<div class=\"girk\">\n",
    "Замечаем снижение CTR в treatment группе b -  на каждую покупку нужно меньше кликов.</div><i class=\"fa fa-lightbulb-o \"></i>"
   ]
  },
  {
   "cell_type": "markdown",
   "id": "a3f9cf6a",
   "metadata": {},
   "source": [
    "## PR \n",
    "$purchase$ $rate$  -   отношение количества покупок к просмотрам товаров.\n"
   ]
  },
  {
   "cell_type": "code",
   "execution_count": 37,
   "id": "162f337f",
   "metadata": {},
   "outputs": [
    {
     "data": {
      "text/plain": [
       "0.05"
      ]
     },
     "execution_count": 37,
     "metadata": {},
     "output_type": "execute_result"
    }
   ],
   "source": [
    "#A sample \n",
    "pr_a = round(counters['total'][2] / counters['total'][1], 3) \n",
    "pr_a"
   ]
  },
  {
   "cell_type": "code",
   "execution_count": 38,
   "id": "431fd78e",
   "metadata": {},
   "outputs": [
    {
     "data": {
      "text/plain": [
       "0.1"
      ]
     },
     "execution_count": 38,
     "metadata": {},
     "output_type": "execute_result"
    }
   ],
   "source": [
    "#B sample \n",
    "pr_b = round(counters['total'][6] / counters['total'][5], 3) \n",
    "pr_b"
   ]
  },
  {
   "cell_type": "code",
   "execution_count": 39,
   "id": "a43028d4",
   "metadata": {},
   "outputs": [
    {
     "data": {
      "text/plain": [
       "0.06"
      ]
     },
     "execution_count": 39,
     "metadata": {},
     "output_type": "execute_result"
    }
   ],
   "source": [
    "#C sample \n",
    "pr_c = round(counters['total'][10] / counters['total'][9], 3) \n",
    "pr_c"
   ]
  },
  {
   "cell_type": "markdown",
   "id": "aa18ee9e",
   "metadata": {},
   "source": [
    "<div class=\"girk\">\n",
    "Частота покупок относительно просмотров выше всего в B семпле.</div><i class=\"fa fa-lightbulb-o \"></i>"
   ]
  },
  {
   "cell_type": "markdown",
   "id": "ce278887",
   "metadata": {},
   "source": [
    "## GMV \n",
    "gross merchandise value \n",
    "Сумма произведений стоимости покупок на количество покупок."
   ]
  },
  {
   "cell_type": "code",
   "execution_count": 41,
   "id": "52158505",
   "metadata": {},
   "outputs": [
    {
     "data": {
      "text/plain": [
       "53060177"
      ]
     },
     "execution_count": 41,
     "metadata": {},
     "output_type": "execute_result"
    }
   ],
   "source": [
    "gmv_a = int(counters[(counters['sample'] == 'a') & (counters['action'] == 'merchandise')]['total'])\n",
    "gmv_a"
   ]
  },
  {
   "cell_type": "code",
   "execution_count": 43,
   "id": "f4e08a67",
   "metadata": {},
   "outputs": [
    {
     "data": {
      "text/plain": [
       "106047378"
      ]
     },
     "execution_count": 43,
     "metadata": {},
     "output_type": "execute_result"
    }
   ],
   "source": [
    "gmv_b = int(counters[(counters['sample'] == 'b') & (counters['action'] == 'merchandise')]['total'])\n",
    "gmv_b"
   ]
  },
  {
   "cell_type": "code",
   "execution_count": 44,
   "id": "6b8065b5",
   "metadata": {},
   "outputs": [
    {
     "data": {
      "text/plain": [
       "63614910"
      ]
     },
     "execution_count": 44,
     "metadata": {},
     "output_type": "execute_result"
    }
   ],
   "source": [
    "gmv_c = int(counters[(counters['sample'] == 'c') & (counters['action'] == 'merchandise')]['total'])\n",
    "gmv_c"
   ]
  },
  {
   "cell_type": "code",
   "execution_count": 45,
   "id": "cc9fcbd0",
   "metadata": {},
   "outputs": [],
   "source": [
    "sample_metrics = {'sample': ['sample_a', 'sample_b', 'sample_c'],\n",
    "              'sample_ctr': [ctr_a, ctr_b, ctr_c],\n",
    "              'sample_purchase_rate': [pr_a, pr_b, pr_c],\n",
    "              'sample_gmv': [gmv_a, gmv_b, gmv_c]}"
   ]
  },
  {
   "cell_type": "code",
   "execution_count": 46,
   "id": "9145663a",
   "metadata": {},
   "outputs": [
    {
     "data": {
      "text/html": [
       "<div>\n",
       "<style scoped>\n",
       "    .dataframe tbody tr th:only-of-type {\n",
       "        vertical-align: middle;\n",
       "    }\n",
       "\n",
       "    .dataframe tbody tr th {\n",
       "        vertical-align: top;\n",
       "    }\n",
       "\n",
       "    .dataframe thead th {\n",
       "        text-align: right;\n",
       "    }\n",
       "</style>\n",
       "<table border=\"1\" class=\"dataframe\">\n",
       "  <thead>\n",
       "    <tr style=\"text-align: right;\">\n",
       "      <th></th>\n",
       "      <th>sample</th>\n",
       "      <th>sample_ctr</th>\n",
       "      <th>sample_purchase_rate</th>\n",
       "      <th>sample_gmv</th>\n",
       "    </tr>\n",
       "  </thead>\n",
       "  <tbody>\n",
       "    <tr>\n",
       "      <th>0</th>\n",
       "      <td>sample_a</td>\n",
       "      <td>0.20</td>\n",
       "      <td>0.05</td>\n",
       "      <td>53060177</td>\n",
       "    </tr>\n",
       "    <tr>\n",
       "      <th>1</th>\n",
       "      <td>sample_b</td>\n",
       "      <td>0.16</td>\n",
       "      <td>0.10</td>\n",
       "      <td>106047378</td>\n",
       "    </tr>\n",
       "    <tr>\n",
       "      <th>2</th>\n",
       "      <td>sample_c</td>\n",
       "      <td>0.21</td>\n",
       "      <td>0.06</td>\n",
       "      <td>63614910</td>\n",
       "    </tr>\n",
       "  </tbody>\n",
       "</table>\n",
       "</div>"
      ],
      "text/plain": [
       "     sample  sample_ctr  sample_purchase_rate  sample_gmv\n",
       "0  sample_a        0.20                  0.05    53060177\n",
       "1  sample_b        0.16                  0.10   106047378\n",
       "2  sample_c        0.21                  0.06    63614910"
      ]
     },
     "metadata": {},
     "output_type": "display_data"
    }
   ],
   "source": [
    "sample_metrics = pd.DataFrame(sample_metrics)\n",
    "display(sample_metrics)"
   ]
  },
  {
   "cell_type": "markdown",
   "id": "4c05cf0e",
   "metadata": {},
   "source": [
    "<div class=\"girk\">\n",
    "Ритм покупок выше в b - группе: покупатель чаще совершает покупку после просмотра.</div><i class=\"fa fa-lightbulb-o \"></i>"
   ]
  },
  {
   "cell_type": "markdown",
   "id": "179c04de",
   "metadata": {},
   "source": [
    "Все показатели могут иметь свое значение по случайности, так что мы проведем тесты, чтобы получить более объективную уверенность в полученных результатах."
   ]
  },
  {
   "cell_type": "markdown",
   "id": "46bf56f4",
   "metadata": {},
   "source": [
    "Для проведения теста перегруппируем данные: нам нужны не менее 30 значений критерия на каждый семпл; \n",
    "рассчитаем метрики маркет-плейса для каждого пользователя, совершившего более 30 покупок. \n"
   ]
  },
  {
   "cell_type": "code",
   "execution_count": 206,
   "id": "f454fb3c",
   "metadata": {},
   "outputs": [
    {
     "data": {
      "text/html": [
       "<div>\n",
       "<style scoped>\n",
       "    .dataframe tbody tr th:only-of-type {\n",
       "        vertical-align: middle;\n",
       "    }\n",
       "\n",
       "    .dataframe tbody tr th {\n",
       "        vertical-align: top;\n",
       "    }\n",
       "\n",
       "    .dataframe thead th {\n",
       "        text-align: right;\n",
       "    }\n",
       "</style>\n",
       "<table border=\"1\" class=\"dataframe\">\n",
       "  <thead>\n",
       "    <tr style=\"text-align: right;\">\n",
       "      <th></th>\n",
       "      <th></th>\n",
       "      <th>click</th>\n",
       "      <th>merchandise</th>\n",
       "      <th>purchase</th>\n",
       "      <th>view</th>\n",
       "    </tr>\n",
       "    <tr>\n",
       "      <th>sample</th>\n",
       "      <th>user_id</th>\n",
       "      <th></th>\n",
       "      <th></th>\n",
       "      <th></th>\n",
       "      <th></th>\n",
       "    </tr>\n",
       "  </thead>\n",
       "  <tbody>\n",
       "    <tr>\n",
       "      <th rowspan=\"5\" valign=\"top\">a</th>\n",
       "      <th>241</th>\n",
       "      <td>186</td>\n",
       "      <td>48232</td>\n",
       "      <td>48</td>\n",
       "      <td>1000.0</td>\n",
       "    </tr>\n",
       "    <tr>\n",
       "      <th>253</th>\n",
       "      <td>201</td>\n",
       "      <td>38676</td>\n",
       "      <td>37</td>\n",
       "      <td>1000.0</td>\n",
       "    </tr>\n",
       "    <tr>\n",
       "      <th>362</th>\n",
       "      <td>186</td>\n",
       "      <td>61392</td>\n",
       "      <td>52</td>\n",
       "      <td>1000.0</td>\n",
       "    </tr>\n",
       "    <tr>\n",
       "      <th>378</th>\n",
       "      <td>206</td>\n",
       "      <td>60223</td>\n",
       "      <td>53</td>\n",
       "      <td>1000.0</td>\n",
       "    </tr>\n",
       "    <tr>\n",
       "      <th>475</th>\n",
       "      <td>209</td>\n",
       "      <td>53476</td>\n",
       "      <td>54</td>\n",
       "      <td>1000.0</td>\n",
       "    </tr>\n",
       "  </tbody>\n",
       "</table>\n",
       "</div>"
      ],
      "text/plain": [
       "                click  merchandise  purchase    view\n",
       "sample user_id                                      \n",
       "a      241        186        48232        48  1000.0\n",
       "       253        201        38676        37  1000.0\n",
       "       362        186        61392        52  1000.0\n",
       "       378        206        60223        53  1000.0\n",
       "       475        209        53476        54  1000.0"
      ]
     },
     "execution_count": 206,
     "metadata": {},
     "output_type": "execute_result"
    }
   ],
   "source": [
    "data_users = pd.pivot_table(\n",
    "    data,\n",
    "    index=['sample', 'user_id'],\n",
    "    values=['click', 'view', 'purchase', 'merchandise'],\n",
    "    aggfunc=np.sum)\n",
    "data_users.head()"
   ]
  },
  {
   "cell_type": "code",
   "execution_count": 208,
   "id": "e8b01053",
   "metadata": {},
   "outputs": [],
   "source": [
    "users_30 = data_users  #[data_users['purchase'] >= 30].copy() Отказ от ограничения >= 30 покупок, тк стало больше ненормальмально распределенных признаков."
   ]
  },
  {
   "cell_type": "markdown",
   "id": "2860c9ce",
   "metadata": {},
   "source": [
    "## metrics per user"
   ]
  },
  {
   "cell_type": "code",
   "execution_count": 209,
   "id": "a7a7dfc2",
   "metadata": {},
   "outputs": [],
   "source": [
    "# individual ctr  \n",
    "users_30['ind_ctr'] = users_30['click'] / users_30['view']\n",
    "\n",
    "# individual purchase rate \n",
    "users_30['ind_pr'] = users_30['purchase'] / users_30['view']\n",
    "\n",
    "\n",
    "# individual gmv\n",
    "users_30.rename(columns={'merchandise':'ind_gmv'}, inplace=True)"
   ]
  },
  {
   "cell_type": "code",
   "execution_count": 210,
   "id": "82aa630c",
   "metadata": {},
   "outputs": [],
   "source": [
    "users_30.reset_index(inplace=True)"
   ]
  },
  {
   "cell_type": "code",
   "execution_count": 211,
   "id": "05b667eb",
   "metadata": {},
   "outputs": [],
   "source": [
    "# splitting users by samples\n",
    "a_users = users_30[users_30['sample'] == 'a']\n",
    "b_users = users_30[users_30['sample'] == 'b']\n",
    "c_users = users_30[users_30['sample'] == 'c']"
   ]
  },
  {
   "cell_type": "markdown",
   "id": "d3d0deae",
   "metadata": {},
   "source": [
    "# Tests"
   ]
  },
  {
   "cell_type": "markdown",
   "id": "c9d00078",
   "metadata": {},
   "source": [
    "## Shapiro-Wilk test\n",
    "Тест Шапиро-Уилка является тестом на нормальность, создает специальную статистику $w$ вместе с соответствующим значением $p$-value, и если  $p$-значение < $alfa$  , то имеется достаточно доказательств, чтобы сказать, что выборка не происходит из популяции с нормальным распределением. \n",
    "\n",
    "\n",
    "Размер выборки для теста должен быть в пределах от 3 до 5000 наблюдений. \n",
    "Тестируемая нулевая гипотеза: данные происходят из нормального распределения. "
   ]
  },
  {
   "cell_type": "markdown",
   "id": "cab799d2",
   "metadata": {},
   "source": [
    "По условиям кейса, уровень $alpha$ = 0,01"
   ]
  },
  {
   "cell_type": "code",
   "execution_count": 212,
   "id": "3117d89f",
   "metadata": {},
   "outputs": [],
   "source": [
    "alpha = 0.01"
   ]
  },
  {
   "cell_type": "markdown",
   "id": "27506283",
   "metadata": {},
   "source": [
    "### CTR"
   ]
  },
  {
   "cell_type": "code",
   "execution_count": 213,
   "id": "f6e1d3ec",
   "metadata": {},
   "outputs": [
    {
     "name": "stdout",
     "output_type": "stream",
     "text": [
      "P-val is: 0.0045115752145648 Nah, distribution is not norm\n"
     ]
    }
   ],
   "source": [
    "a_ctr_p = shapiro(a_users.ind_ctr).pvalue\n",
    "if a_ctr_p>alpha:\n",
    "    print('P-val is:', a_ctr_p, 'Norm')\n",
    "else:\n",
    "    print('P-val is:', a_ctr_p,\"Nah, distribution is not norm\")"
   ]
  },
  {
   "cell_type": "code",
   "execution_count": 214,
   "id": "ef646e13",
   "metadata": {},
   "outputs": [
    {
     "name": "stdout",
     "output_type": "stream",
     "text": [
      "P-val is: 0.1297021508216858 Norm\n"
     ]
    }
   ],
   "source": [
    "c_ctr_p = shapiro(c_users.ind_ctr).pvalue\n",
    "if c_ctr_p>alpha:\n",
    "    print('P-val is:', c_ctr_p, 'Norm')\n",
    "else:\n",
    "    print('P-val is:', c_ctr_p,\"Nah, not norm\")"
   ]
  },
  {
   "cell_type": "code",
   "execution_count": 215,
   "id": "218af59b",
   "metadata": {},
   "outputs": [
    {
     "name": "stdout",
     "output_type": "stream",
     "text": [
      "P-val is: 0.7080935835838318 Norm\n"
     ]
    }
   ],
   "source": [
    "b_ctr_p = shapiro(b_users.ind_ctr).pvalue\n",
    "if b_ctr_p>alpha: \n",
    "    print('P-val is:', b_ctr_p, \"Norm\")\n",
    "else: \n",
    "    print('P-val is:', b_ctr_p, 'Nah, not norm')\n",
    "    "
   ]
  },
  {
   "cell_type": "markdown",
   "id": "2dc0788a",
   "metadata": {},
   "source": [
    "### PR"
   ]
  },
  {
   "cell_type": "code",
   "execution_count": 216,
   "id": "57d0e42d",
   "metadata": {},
   "outputs": [
    {
     "name": "stdout",
     "output_type": "stream",
     "text": [
      "P-val is: 0.011094128713011742 Norm\n"
     ]
    }
   ],
   "source": [
    "a_pr_p = shapiro(a_users.ind_pr).pvalue\n",
    "if a_pr_p > alpha:\n",
    "    print('P-val is:', a_pr_p, 'Norm')\n",
    "else:\n",
    "    print('P-val is:', a_pr_p,\"Nah, not norm\")"
   ]
  },
  {
   "cell_type": "code",
   "execution_count": 217,
   "id": "4d1f6843",
   "metadata": {},
   "outputs": [
    {
     "name": "stdout",
     "output_type": "stream",
     "text": [
      "P-val is: 0.2770662307739258 Norm\n"
     ]
    }
   ],
   "source": [
    "b_pr_p = shapiro(b_users.ind_pr).pvalue\n",
    "if b_pr_p>alpha:\n",
    "    print('P-val is:', b_pr_p, 'Norm')\n",
    "else:\n",
    "    print('P-val is:', b_pr_p,\"Nah, not norm\")"
   ]
  },
  {
   "cell_type": "code",
   "execution_count": 218,
   "id": "c25eb884",
   "metadata": {},
   "outputs": [
    {
     "name": "stdout",
     "output_type": "stream",
     "text": [
      "P-val is: 0.08633130043745041 Norm\n"
     ]
    }
   ],
   "source": [
    "c_pr_p = shapiro(c_users.ind_pr).pvalue\n",
    "if c_pr_p>alpha:\n",
    "    print('P-val is:', c_pr_p, 'Norm')\n",
    "else:\n",
    "    print('P-val is:',c_pr_p,\"Nah, not norm\")"
   ]
  },
  {
   "cell_type": "markdown",
   "id": "2855de7e",
   "metadata": {},
   "source": [
    "### GMV"
   ]
  },
  {
   "cell_type": "code",
   "execution_count": 219,
   "id": "79183eec",
   "metadata": {},
   "outputs": [
    {
     "name": "stdout",
     "output_type": "stream",
     "text": [
      "P-val is: 0.12522967159748077 Norm\n"
     ]
    }
   ],
   "source": [
    "a_gmv_p = shapiro(a_users.ind_gmv).pvalue\n",
    "if a_gmv_p>alpha:\n",
    "    print('P-val is:', a_gmv_p, 'Norm')\n",
    "else:\n",
    "    print('P-val is:',a_gmv_p,\"Nah, not norm\")"
   ]
  },
  {
   "cell_type": "code",
   "execution_count": 220,
   "id": "c1bf4400",
   "metadata": {},
   "outputs": [
    {
     "name": "stdout",
     "output_type": "stream",
     "text": [
      "P-val is: 0.8461393713951111 Norm\n"
     ]
    }
   ],
   "source": [
    "b_gmv_p = shapiro(b_users.ind_gmv).pvalue\n",
    "if b_gmv_p > alpha:\n",
    "    print('P-val is:', b_gmv_p, 'Norm')\n",
    "else: \n",
    "    print('P-val is:', b_gmv_p, 'Nah, not norm')"
   ]
  },
  {
   "cell_type": "code",
   "execution_count": 221,
   "id": "3e4d42e2",
   "metadata": {},
   "outputs": [
    {
     "name": "stdout",
     "output_type": "stream",
     "text": [
      "p-val is: 0.019807321950793266 Norm\n"
     ]
    }
   ],
   "source": [
    "c_gmv_p = shapiro(c_users.ind_gmv).pvalue\n",
    "if c_gmv_p > alpha:\n",
    "    print(\"p-val is:\", c_gmv_p, \"Norm\")\n",
    "else: \n",
    "    print('P-val is:', c_gmv_p, 'Nah, distribution is not norm')"
   ]
  },
  {
   "cell_type": "markdown",
   "id": "4a49a2e7",
   "metadata": {},
   "source": [
    "По результатам проведения теста Шапиро-Уилка можно сказать, что при заданном пороге уверенности alpha, распределение  $ctr$ на семпле А не соответствует нормальному, что не позволяет проводить с ним дальнейшие параметрические тесты, но можно попробовать оценить равенство на основании статистики Манна Уитни. "
   ]
  },
  {
   "cell_type": "markdown",
   "id": "c66138d2",
   "metadata": {},
   "source": [
    " Для уверенности в том, что схожесть или различие в показателях CTR, PR не случайны, проведем Z тесты на равенство пропорций для метрик $CTR$ & $PR$ итест на равенство средних для  $GMV$. "
   ]
  },
  {
   "cell_type": "markdown",
   "id": "78289b48",
   "metadata": {},
   "source": [
    "## A to C (AA)  metrics comparision "
   ]
  },
  {
   "cell_type": "markdown",
   "id": "84bd921c",
   "metadata": {},
   "source": [
    "По условиям задания нужно выполнить тестирование равенства долей для всех метрик, но нужно  иметь в виду, что тест Шапиро-Уилка показал ненормальность распределения для CTR-метрики на А-семпле. \n"
   ]
  },
  {
   "cell_type": "code",
   "execution_count": 222,
   "id": "14c4e01e",
   "metadata": {},
   "outputs": [],
   "source": [
    "H0 = 'Статистически значимых различий в показателе в тестируемых семплах нет.'\n",
    "H1 = 'В тестируемых семплах есть статистически значимые различия показателя.'\n",
    "\n",
    "#alpha оставим без изменений"
   ]
  },
  {
   "cell_type": "code",
   "execution_count": 223,
   "id": "875f04bb",
   "metadata": {},
   "outputs": [],
   "source": [
    "clicks = np.array([a_users.click.sum(), c_users.click.sum()])\n",
    "views  = np.array([a_users.view.sum(), c_users.view.sum()])"
   ]
  },
  {
   "cell_type": "markdown",
   "id": "6f888bb1",
   "metadata": {},
   "source": [
    "### CTR"
   ]
  },
  {
   "cell_type": "code",
   "execution_count": 224,
   "id": "b730201f",
   "metadata": {},
   "outputs": [
    {
     "name": "stdout",
     "output_type": "stream",
     "text": [
      "288893.0 3.2211233503804085e-58\n",
      "В тестируемых семплах есть статистически значимые различия показателя.\n"
     ]
    }
   ],
   "source": [
    "#perform the Mann-Whitney U test\n",
    "u_stat_ac_ctr, p_val_u = mannwhitneyu (a_users.ind_ctr, c_users.ind_ctr, alternative='two-sided')\n",
    "\n",
    "print(u_stat_ac_ctr, p_val_u)\n",
    " \n",
    "if p_val_u > alpha: \n",
    "    print(H0)\n",
    "else: \n",
    "    print(H1)"
   ]
  },
  {
   "cell_type": "markdown",
   "id": "b520f34d",
   "metadata": {},
   "source": [
    "<div class=\"burk\">\n",
    "Тест Манна Уитней показал, что по CTR семплы А и С нельзя считать одинаковыми. Значит, нужно бы заново корректно провести сплит.</div><i class=\"fa fa-lightbulb-o \"></i>"
   ]
  },
  {
   "cell_type": "markdown",
   "id": "db288e9f",
   "metadata": {},
   "source": [
    "### PR "
   ]
  },
  {
   "cell_type": "code",
   "execution_count": 225,
   "id": "cc522894",
   "metadata": {},
   "outputs": [],
   "source": [
    "purchases = np.array([a_users.purchase.sum(), c_users.purchase.sum()])"
   ]
  },
  {
   "cell_type": "code",
   "execution_count": 226,
   "id": "0edd92b6",
   "metadata": {},
   "outputs": [
    {
     "name": "stdout",
     "output_type": "stream",
     "text": [
      "AC pr Z-stat: -31.254166497662226 p-val: 1.959683539900351e-214\n",
      "В тестируемых семплах есть статистически значимые различия показателя.\n"
     ]
    }
   ],
   "source": [
    "pr_z_stat, p_val_ac_pr = proportions_ztest(count=purchases, nobs = views)\n",
    "\n",
    "print('AC pr Z-stat:', pr_z_stat, 'p-val:', p_val_ac_pr)\n",
    "\n",
    "if p_val_ac_pr > alpha: \n",
    "    print(H0)\n",
    "else: \n",
    "    print(H1)"
   ]
  },
  {
   "cell_type": "markdown",
   "id": "9f279bfd",
   "metadata": {},
   "source": [
    "### GMV "
   ]
  },
  {
   "cell_type": "code",
   "execution_count": 227,
   "id": "53228e4f",
   "metadata": {},
   "outputs": [
    {
     "name": "stdout",
     "output_type": "stream",
     "text": [
      "-26.343262881035727 6.130828320647611e-153\n",
      "В тестируемых семплах есть статистически значимые различия показателя.\n"
     ]
    }
   ],
   "source": [
    "a_users_gmv = a_users.ind_gmv\n",
    "c_users_gmv = c_users.ind_gmv\n",
    "\n",
    "gmv_z_stat, p_val_ac_gmv = ztest(a_users_gmv, c_users_gmv, value=0)\n",
    "print(gmv_z_stat, p_val_ac_gmv)\n",
    "\n",
    "if p_val_ac_gmv > alpha: \n",
    "    print(H0)\n",
    "else: \n",
    "    print(H1)"
   ]
  },
  {
   "cell_type": "markdown",
   "id": "b1e23bd9",
   "metadata": {},
   "source": [
    "##  C and A to B (AB) metrics comparision "
   ]
  },
  {
   "cell_type": "markdown",
   "id": "80dfdd17",
   "metadata": {},
   "source": [
    "### CTR"
   ]
  },
  {
   "cell_type": "code",
   "execution_count": 228,
   "id": "b597192a",
   "metadata": {},
   "outputs": [],
   "source": [
    "clicks = np.array([c_users.click.sum(), b_users.click.sum()])\n",
    "views = np.array([c_users.view.sum(), b_users.view.sum()])"
   ]
  },
  {
   "cell_type": "code",
   "execution_count": 229,
   "id": "2eaf0b04",
   "metadata": {},
   "outputs": [
    {
     "name": "stdout",
     "output_type": "stream",
     "text": [
      "90.85905705169377 0.0\n",
      "В тестируемых семплах есть статистически значимые различия показателя.\n"
     ]
    }
   ],
   "source": [
    "#C to B \n",
    "z_stat_ctr_cb, p_val_cb_ctr = proportions_ztest(count=clicks, nobs = views)\n",
    "\n",
    "print(z_stat, p_val_cb_ctr)\n",
    "\n",
    "if p_val_cb_ctr>alpha: \n",
    "    print(H0)\n",
    "else: \n",
    "    print(H1)"
   ]
  },
  {
   "cell_type": "code",
   "execution_count": 234,
   "id": "0b0552aa",
   "metadata": {},
   "outputs": [
    {
     "name": "stdout",
     "output_type": "stream",
     "text": [
      "73.6981454318309 0.0\n",
      "В тестируемых семплах есть статистически значимые различия показателя.\n"
     ]
    }
   ],
   "source": [
    "# A to B \n",
    "clicks_ab = np.array([a_users.click.sum(), b_users.click.sum()])\n",
    "views_ab = np.array([a_users.view.sum(), b_users.view.sum()])\n",
    " \n",
    "z_stat_ctr_ab, p_val_ab_ctr = proportions_ztest(count=clicks_ab, nobs = views_ab)\n",
    "\n",
    "print(z_stat_ctr_ab, p_val_ab_ctr)\n",
    "\n",
    "if p_val_ab_ctr>alpha: \n",
    "    print(H0)\n",
    "else: \n",
    "    print(H1)"
   ]
  },
  {
   "cell_type": "markdown",
   "id": "38ae7f67",
   "metadata": {},
   "source": [
    "### PR"
   ]
  },
  {
   "cell_type": "code",
   "execution_count": 235,
   "id": "3fc73510",
   "metadata": {},
   "outputs": [],
   "source": [
    "purchases = np.array([c_users.purchase.sum(), b_users.purchase.sum()])\n",
    "purchases_ab = np.array([a_users.purchase.sum(), b_users.purchase.sum()])"
   ]
  },
  {
   "cell_type": "code",
   "execution_count": 236,
   "id": "097ba743",
   "metadata": {},
   "outputs": [
    {
     "name": "stdout",
     "output_type": "stream",
     "text": [
      "-103.54356821939825 0.0\n",
      "В тестируемых семплах есть статистически значимые различия показателя.\n"
     ]
    }
   ],
   "source": [
    "#C to B\n",
    "pr_cb, p_val_cb_pr = proportions_ztest(count=purchases, nobs=views)\n",
    "print(z_stat_pr_cb, p_val_cb_pr)\n",
    "\n",
    "\n",
    "if p_val_cb_pr >alpha: \n",
    "    print(H0)\n",
    "else: \n",
    "    print(H1)"
   ]
  },
  {
   "cell_type": "code",
   "execution_count": 238,
   "id": "d1471de7",
   "metadata": {},
   "outputs": [
    {
     "name": "stdout",
     "output_type": "stream",
     "text": [
      "-133.83017635492186 0.0\n",
      "В тестируемых семплах есть статистически значимые различия показателя.\n"
     ]
    }
   ],
   "source": [
    "#A to B\n",
    "pr_ab, p_val_ab_pr = proportions_ztest(count=purchases_ab, nobs=views_ab)\n",
    "print(pr_ab, p_val_ab_pr)\n",
    "\n",
    "\n",
    "if p_val_ab_pr >alpha: \n",
    "    print(H0)\n",
    "else: \n",
    "    print(H1)"
   ]
  },
  {
   "cell_type": "markdown",
   "id": "ed6ae4d9",
   "metadata": {},
   "source": [
    "### GMV"
   ]
  },
  {
   "cell_type": "code",
   "execution_count": 240,
   "id": "d0a876ab",
   "metadata": {},
   "outputs": [],
   "source": [
    "b_users_gmv = b_users.ind_gmv\n",
    "a_users_gmv = a_users.ind_gmv"
   ]
  },
  {
   "cell_type": "code",
   "execution_count": 239,
   "id": "0492dec1",
   "metadata": {},
   "outputs": [
    {
     "name": "stdout",
     "output_type": "stream",
     "text": [
      "-88.02901135355879 0.0\n",
      "В тестируемых семплах есть статистически значимые различия показателя.\n"
     ]
    }
   ],
   "source": [
    "#c to B\n",
    "z_stat_cb_gmv, p_val_cb_gmv = ztest(c_users_gmv, b_users_gmv, value=0)\n",
    "\n",
    "print(z_stat_cb_gmv, p_val_cb_gmv)\n",
    "\n",
    "if p_val_cb_gmv > alpha:\n",
    "    print(H0)\n",
    "else:\n",
    "    print(H1)\n"
   ]
  },
  {
   "cell_type": "code",
   "execution_count": 241,
   "id": "a3a0b3d2",
   "metadata": {},
   "outputs": [
    {
     "name": "stdout",
     "output_type": "stream",
     "text": [
      "-114.86277994704874 0.0\n",
      "В тестируемых семплах есть статистически значимые различия показателя.\n"
     ]
    }
   ],
   "source": [
    "# A to B\n",
    "z_stat_ab_gmv, p_val_ab_gmv = ztest(a_users_gmv, b_users_gmv, value=0)\n",
    "\n",
    "print(z_stat_ab_gmv, p_val_ab_gmv)\n",
    "\n",
    "if p_val_ab_gmv > alpha:\n",
    "    print(H0)\n",
    "else:\n",
    "    print(H1)\n"
   ]
  },
  {
   "cell_type": "markdown",
   "id": "31bcffd0",
   "metadata": {},
   "source": [
    "Результаты тестирования показывают, что вероятность получить такие расхождения в показателях случайным образом ничтожна, а, значит, можно  говорить о том, что алгоритм, примененный к семплу В, оказывает статистически значимый эффект на ключевые метрики маркетплейса. "
   ]
  },
  {
   "cell_type": "markdown",
   "id": "d896df6f",
   "metadata": {},
   "source": [
    "# Conclusions"
   ]
  },
  {
   "cell_type": "markdown",
   "id": "4375f03d",
   "metadata": {},
   "source": [
    ">Сплит данных требует коррекции - семплы А и С, которые должны бы быть идентичны, на самом деле - разные;\n",
    "на основе такого разбиения провести корректное ААВ тестирование нельзя.\n",
    "\n",
    ">Алгоритм, примененный к В-семплу представляет интерес для маркетплейса - бизнес-метрики этого семпла показали рост, но для корректных выводов нужно провести корректное тестирование."
   ]
  },
  {
   "cell_type": "markdown",
   "id": "71aea7e3",
   "metadata": {},
   "source": [
    "Спасибо, что уделили время этому проекту :)  "
   ]
  }
 ],
 "metadata": {
  "kernelspec": {
   "display_name": "Python 3 (ipykernel)",
   "language": "python",
   "name": "python3"
  },
  "language_info": {
   "codemirror_mode": {
    "name": "ipython",
    "version": 3
   },
   "file_extension": ".py",
   "mimetype": "text/x-python",
   "name": "python",
   "nbconvert_exporter": "python",
   "pygments_lexer": "ipython3",
   "version": "3.9.13"
  },
  "toc": {
   "base_numbering": 1,
   "nav_menu": {},
   "number_sections": true,
   "sideBar": true,
   "skip_h1_title": false,
   "title_cell": "Table of Contents",
   "title_sidebar": "Contents",
   "toc_cell": true,
   "toc_position": {
    "height": "calc(100% - 180px)",
    "left": "10px",
    "top": "150px",
    "width": "285px"
   },
   "toc_section_display": false,
   "toc_window_display": true
  },
  "varInspector": {
   "cols": {
    "lenName": 16,
    "lenType": 16,
    "lenVar": 40
   },
   "kernels_config": {
    "python": {
     "delete_cmd_postfix": "",
     "delete_cmd_prefix": "del ",
     "library": "var_list.py",
     "varRefreshCmd": "print(var_dic_list())"
    },
    "r": {
     "delete_cmd_postfix": ") ",
     "delete_cmd_prefix": "rm(",
     "library": "var_list.r",
     "varRefreshCmd": "cat(var_dic_list()) "
    }
   },
   "types_to_exclude": [
    "module",
    "function",
    "builtin_function_or_method",
    "instance",
    "_Feature"
   ],
   "window_display": false
  }
 },
 "nbformat": 4,
 "nbformat_minor": 5
}
